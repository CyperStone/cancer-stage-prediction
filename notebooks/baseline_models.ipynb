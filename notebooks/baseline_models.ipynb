{
 "cells": [
  {
   "cell_type": "markdown",
   "source": [
    "# Baseline models training\n",
    "\n",
    "Notebook contains training and validation of XGBoost models without any previous experiments on data.  We check 4 different prediction cases:\n",
    "- All cancer types together, multiclass classification (stages: I, II, III, IV)\n",
    "- All cancer types together, binary classification (stages: I-III vs IV)\n",
    "- Only the most numerous types of cancer (each one separately), multiclass classification (stages: I, II, III, IV)\n",
    "- Only the most numerous types of cancer (each one separately), binary classification (stages: I-III vs IV)\n",
    "\n",
    "Outcomes can be treated as baseline results."
   ],
   "metadata": {
    "collapsed": false
   }
  },
  {
   "cell_type": "code",
   "execution_count": 21,
   "metadata": {
    "collapsed": true,
    "ExecuteTime": {
     "start_time": "2023-04-11T15:04:38.510256Z",
     "end_time": "2023-04-11T15:04:38.525879Z"
    }
   },
   "outputs": [],
   "source": [
    "import os\n",
    "import optuna\n",
    "import numpy as np\n",
    "import pandas as pd\n",
    "import plotly.figure_factory as ff\n",
    "from functools import partial\n",
    "from xgboost.sklearn import XGBClassifier\n",
    "from sklearn.metrics import f1_score, accuracy_score, classification_report, confusion_matrix\n",
    "from sklearn.model_selection import StratifiedKFold\n",
    "\n",
    "import warnings\n",
    "warnings.filterwarnings('ignore')"
   ]
  },
  {
   "cell_type": "markdown",
   "source": [
    "Define random seed to allow reproducibility"
   ],
   "metadata": {
    "collapsed": false
   }
  },
  {
   "cell_type": "code",
   "execution_count": 2,
   "outputs": [],
   "source": [
    "random_state = 42\n",
    "np.random.seed(random_state)"
   ],
   "metadata": {
    "collapsed": false,
    "ExecuteTime": {
     "start_time": "2023-04-11T13:31:14.281585Z",
     "end_time": "2023-04-11T13:31:14.297102Z"
    }
   }
  },
  {
   "cell_type": "markdown",
   "source": [
    "Load training data"
   ],
   "metadata": {
    "collapsed": false
   }
  },
  {
   "cell_type": "code",
   "execution_count": 3,
   "outputs": [
    {
     "name": "stdout",
     "output_type": "stream",
     "text": [
      "<class 'pandas.core.frame.DataFrame'>\n",
      "RangeIndex: 1009 entries, 0 to 1008\n",
      "Columns: 4398 entries, ID to ENSG00000272168\n",
      "dtypes: float64(4394), object(4)\n",
      "memory usage: 33.9+ MB\n"
     ]
    }
   ],
   "source": [
    "data_path = '../data/cleaned'\n",
    "\n",
    "train = pd.read_csv(os.path.join(data_path, 'train.csv'), sep=';')\n",
    "train.info()"
   ],
   "metadata": {
    "collapsed": false,
    "ExecuteTime": {
     "start_time": "2023-04-11T13:31:15.077641Z",
     "end_time": "2023-04-11T13:31:16.029229Z"
    }
   }
  },
  {
   "cell_type": "markdown",
   "source": [
    "### All cancer types together, multiclass classification (stages: I, II, III, IV)"
   ],
   "metadata": {
    "collapsed": false
   }
  },
  {
   "cell_type": "markdown",
   "source": [
    "Extract cancer types and stages to perform cross validation in a stratified way\n",
    "\n",
    "Remove unnecessary columns: ID, Group, Sex and Age"
   ],
   "metadata": {
    "collapsed": false
   }
  },
  {
   "cell_type": "code",
   "execution_count": 52,
   "outputs": [],
   "source": [
    "X_train = train.copy(deep=True)\n",
    "\n",
    "stratification_groups = X_train.apply(lambda row: f\"{row['Group'].replace(' ', '_')}_{row['Stage']}\", axis=1)\n",
    "X_train = X_train.loc[:, ~X_train.columns.isin(['ID', 'Sex', 'Age', 'Group'])]"
   ],
   "metadata": {
    "collapsed": false,
    "ExecuteTime": {
     "start_time": "2023-04-11T16:49:59.566735Z",
     "end_time": "2023-04-11T16:49:59.735091Z"
    }
   }
  },
  {
   "cell_type": "markdown",
   "source": [
    "Encode labels"
   ],
   "metadata": {
    "collapsed": false
   }
  },
  {
   "cell_type": "code",
   "execution_count": 53,
   "outputs": [
    {
     "data": {
      "text/plain": "Stage\n3    397\n0    389\n2    122\n1    101\nName: count, dtype: int64"
     },
     "execution_count": 53,
     "metadata": {},
     "output_type": "execute_result"
    }
   ],
   "source": [
    "labels_encoding = {\n",
    "    'I': 0,\n",
    "    'II': 1,\n",
    "    'III': 2,\n",
    "    'IV': 3\n",
    "}\n",
    "X_train.loc[:, 'Stage'] = X_train['Stage'].map(labels_encoding)\n",
    "\n",
    "X_train['Stage'].value_counts()"
   ],
   "metadata": {
    "collapsed": false,
    "ExecuteTime": {
     "start_time": "2023-04-11T16:50:00.058574Z",
     "end_time": "2023-04-11T16:50:00.074199Z"
    }
   }
  },
  {
   "cell_type": "markdown",
   "source": [
    "Define functions for cross-validation in a stratified way: one for hyperparameters optimization (returns only mean score) and a second for validation of the model with best params (returns predictions)"
   ],
   "metadata": {
    "collapsed": false
   }
  },
  {
   "cell_type": "code",
   "execution_count": 54,
   "outputs": [],
   "source": [
    "def stratified_cross_val_score(\n",
    "        estimator,\n",
    "        df,\n",
    "        stratification_groups,\n",
    "        label_col,\n",
    "        scoring,\n",
    "        n_splits=5\n",
    "):\n",
    "    scores = np.zeros(n_splits)\n",
    "    skf = StratifiedKFold(n_splits=n_splits)\n",
    "\n",
    "    for i, (train_index, test_index) in enumerate(skf.split(df, stratification_groups)):\n",
    "        y = df.loc[:, label_col]\n",
    "        X = df.drop(columns=[label_col])\n",
    "\n",
    "        estimator.fit(X=X.iloc[train_index], y=y.iloc[train_index], verbose=False)\n",
    "\n",
    "        y_true = y.iloc[test_index]\n",
    "        y_pred = estimator.predict(X.iloc[test_index])\n",
    "        scores[i] = scoring(list(y_true), y_pred)\n",
    "\n",
    "    return scores\n",
    "\n",
    "\n",
    "def stratified_cross_val_predict(\n",
    "        estimator,\n",
    "        df,\n",
    "        stratification_groups,\n",
    "        label_col,\n",
    "        n_splits=5\n",
    "):\n",
    "    y_pred = np.zeros(len(df))\n",
    "    skf = StratifiedKFold(n_splits=n_splits)\n",
    "\n",
    "    for train_index, test_index in skf.split(df, stratification_groups):\n",
    "        y = df.loc[:, label_col]\n",
    "        X = df.drop(columns=[label_col])\n",
    "\n",
    "        estimator.fit(X=X.iloc[train_index], y=y.iloc[train_index], verbose=False)\n",
    "        y_pred[test_index] = estimator.predict(X.iloc[test_index])\n",
    "\n",
    "    return y_pred"
   ],
   "metadata": {
    "collapsed": false,
    "ExecuteTime": {
     "start_time": "2023-04-11T16:50:01.492777Z",
     "end_time": "2023-04-11T16:50:01.508469Z"
    }
   }
  },
  {
   "cell_type": "markdown",
   "source": [
    "Define objective function for hyperparameters optimization using Optuna"
   ],
   "metadata": {
    "collapsed": false
   }
  },
  {
   "cell_type": "code",
   "execution_count": 55,
   "outputs": [],
   "source": [
    "def objective(trial: optuna.Trial, X_train, stratification_groups, xgb_config, scoring):\n",
    "    params = {\n",
    "        'n_estimators': trial.suggest_int('n_estimators', 20, 150),\n",
    "        'max_depth': trial.suggest_int('max_depth', 2, 8),\n",
    "        'learning_rate': trial.suggest_float('learning_rate', 0.001, 0.3),\n",
    "        'subsample': trial.suggest_float('subsample', 0.6, 1.0),\n",
    "        'colsample_bytree': trial.suggest_float('colsample_bytree', 0.6, 1.0),\n",
    "        'gamma': trial.suggest_float('gamma', 0.0, 1.0),\n",
    "        **xgb_config\n",
    "    }\n",
    "\n",
    "    xgb = XGBClassifier(**params)\n",
    "\n",
    "    scores = stratified_cross_val_score(\n",
    "        estimator=xgb,\n",
    "        df=X_train,\n",
    "        stratification_groups=stratification_groups,\n",
    "        label_col='Stage',\n",
    "        scoring=scoring,\n",
    "        n_splits=4\n",
    "    )\n",
    "\n",
    "    return scores.mean()"
   ],
   "metadata": {
    "collapsed": false,
    "ExecuteTime": {
     "start_time": "2023-04-11T16:50:02.551621Z",
     "end_time": "2023-04-11T16:50:02.567257Z"
    }
   }
  },
  {
   "cell_type": "markdown",
   "source": [
    "Since the classes are pretty imbalanced we use the weighted-average F1 metric for optimization"
   ],
   "metadata": {
    "collapsed": false
   }
  },
  {
   "cell_type": "code",
   "execution_count": 56,
   "outputs": [
    {
     "name": "stderr",
     "output_type": "stream",
     "text": [
      "\u001B[32m[I 2023-04-11 16:50:03,478]\u001B[0m A new study created in memory with name: no-name-4c9ce7c7-350f-4d28-8b7b-f2aab9627747\u001B[0m\n",
      "\u001B[32m[I 2023-04-11 16:51:27,459]\u001B[0m Trial 0 finished with value: 0.5483591780676107 and parameters: {'n_estimators': 123, 'max_depth': 8, 'learning_rate': 0.06245555730523676, 'subsample': 0.716466204223274, 'colsample_bytree': 0.6472562756915899, 'gamma': 0.8692166924491291}. Best is trial 0 with value: 0.5483591780676107.\u001B[0m\n",
      "\u001B[32m[I 2023-04-11 16:51:43,945]\u001B[0m Trial 1 finished with value: 0.5593143482728364 and parameters: {'n_estimators': 27, 'max_depth': 4, 'learning_rate': 0.25987235890312715, 'subsample': 0.862399229350953, 'colsample_bytree': 0.6608163451663462, 'gamma': 0.7580556974045628}. Best is trial 1 with value: 0.5593143482728364.\u001B[0m\n",
      "\u001B[32m[I 2023-04-11 16:52:29,639]\u001B[0m Trial 2 finished with value: 0.5492532482133116 and parameters: {'n_estimators': 126, 'max_depth': 3, 'learning_rate': 0.2601377334003289, 'subsample': 0.6061721702084488, 'colsample_bytree': 0.8478754493534363, 'gamma': 0.03090786106952892}. Best is trial 1 with value: 0.5593143482728364.\u001B[0m\n",
      "\u001B[32m[I 2023-04-11 16:54:06,851]\u001B[0m Trial 3 finished with value: 0.5524160909721454 and parameters: {'n_estimators': 143, 'max_depth': 4, 'learning_rate': 0.03999521173201266, 'subsample': 0.7371451624659244, 'colsample_bytree': 0.9915110720968161, 'gamma': 0.889516956880315}. Best is trial 1 with value: 0.5593143482728364.\u001B[0m\n",
      "\u001B[32m[I 2023-04-11 16:54:43,319]\u001B[0m Trial 4 finished with value: 0.5643463040740205 and parameters: {'n_estimators': 67, 'max_depth': 4, 'learning_rate': 0.20797763873557495, 'subsample': 0.857221987649238, 'colsample_bytree': 0.7403544618437571, 'gamma': 0.12037399361879086}. Best is trial 4 with value: 0.5643463040740205.\u001B[0m\n",
      "\u001B[32m[I 2023-04-11 16:55:35,754]\u001B[0m Trial 5 finished with value: 0.5462326473674681 and parameters: {'n_estimators': 87, 'max_depth': 4, 'learning_rate': 0.15672676168708008, 'subsample': 0.717870167925267, 'colsample_bytree': 0.9085172316550426, 'gamma': 0.4969666461492349}. Best is trial 4 with value: 0.5643463040740205.\u001B[0m\n",
      "\u001B[32m[I 2023-04-11 16:56:10,607]\u001B[0m Trial 6 finished with value: 0.5575493009695653 and parameters: {'n_estimators': 48, 'max_depth': 6, 'learning_rate': 0.24220332715037865, 'subsample': 0.8237339010920182, 'colsample_bytree': 0.7684477656452698, 'gamma': 0.35256994831375255}. Best is trial 4 with value: 0.5643463040740205.\u001B[0m\n",
      "\u001B[32m[I 2023-04-11 16:57:28,856]\u001B[0m Trial 7 finished with value: 0.5561117342641997 and parameters: {'n_estimators': 129, 'max_depth': 4, 'learning_rate': 0.06600199231323804, 'subsample': 0.922318401509359, 'colsample_bytree': 0.7500032170139952, 'gamma': 0.5027647668538873}. Best is trial 4 with value: 0.5643463040740205.\u001B[0m\n",
      "\u001B[32m[I 2023-04-11 16:58:18,731]\u001B[0m Trial 8 finished with value: 0.5456797200034977 and parameters: {'n_estimators': 99, 'max_depth': 5, 'learning_rate': 0.10662705057717417, 'subsample': 0.7279918687453607, 'colsample_bytree': 0.6089642154498437, 'gamma': 0.3563473516774158}. Best is trial 4 with value: 0.5643463040740205.\u001B[0m\n",
      "\u001B[32m[I 2023-04-11 16:59:07,329]\u001B[0m Trial 9 finished with value: 0.5373502735170711 and parameters: {'n_estimators': 59, 'max_depth': 7, 'learning_rate': 0.08669758837979027, 'subsample': 0.7617619925650667, 'colsample_bytree': 0.7729297679141023, 'gamma': 0.25009532444672045}. Best is trial 4 with value: 0.5643463040740205.\u001B[0m\n",
      "\u001B[32m[I 2023-04-11 16:59:29,328]\u001B[0m Trial 10 finished with value: 0.5506934231930956 and parameters: {'n_estimators': 61, 'max_depth': 2, 'learning_rate': 0.20801045962879564, 'subsample': 0.9984123727047733, 'colsample_bytree': 0.7008367762715765, 'gamma': 9.710660795875237e-05}. Best is trial 4 with value: 0.5643463040740205.\u001B[0m\n",
      "\u001B[32m[I 2023-04-11 16:59:43,771]\u001B[0m Trial 11 finished with value: 0.5605400774519993 and parameters: {'n_estimators': 42, 'max_depth': 2, 'learning_rate': 0.2975894484114304, 'subsample': 0.8679609027188341, 'colsample_bytree': 0.681667870656942, 'gamma': 0.7069961432909873}. Best is trial 4 with value: 0.5643463040740205.\u001B[0m\n",
      "\u001B[32m[I 2023-04-11 16:59:52,703]\u001B[0m Trial 12 finished with value: 0.5473579393145813 and parameters: {'n_estimators': 23, 'max_depth': 2, 'learning_rate': 0.2991010420509314, 'subsample': 0.8810853234198986, 'colsample_bytree': 0.7039219523487705, 'gamma': 0.6696521503971297}. Best is trial 4 with value: 0.5643463040740205.\u001B[0m\n",
      "\u001B[32m[I 2023-04-11 17:00:10,344]\u001B[0m Trial 13 finished with value: 0.5426446806819331 and parameters: {'n_estimators': 44, 'max_depth': 2, 'learning_rate': 0.1885716272302221, 'subsample': 0.9223125249900681, 'colsample_bytree': 0.704603030648195, 'gamma': 0.688420487382939}. Best is trial 4 with value: 0.5643463040740205.\u001B[0m\n",
      "\u001B[32m[I 2023-04-11 17:00:49,683]\u001B[0m Trial 14 finished with value: 0.5371738043774471 and parameters: {'n_estimators': 77, 'max_depth': 3, 'learning_rate': 0.2934563560102703, 'subsample': 0.8187847990806993, 'colsample_bytree': 0.8029785163295923, 'gamma': 0.9581649137445747}. Best is trial 4 with value: 0.5643463040740205.\u001B[0m\n",
      "\u001B[32m[I 2023-04-11 17:01:29,438]\u001B[0m Trial 15 finished with value: 0.5562164986898439 and parameters: {'n_estimators': 77, 'max_depth': 6, 'learning_rate': 0.21335128631634936, 'subsample': 0.7953354008762697, 'colsample_bytree': 0.6103289003808071, 'gamma': 0.17509819649550817}. Best is trial 4 with value: 0.5643463040740205.\u001B[0m\n",
      "\u001B[32m[I 2023-04-11 17:01:49,060]\u001B[0m Trial 16 finished with value: 0.547578508669913 and parameters: {'n_estimators': 40, 'max_depth': 3, 'learning_rate': 0.14557675646317816, 'subsample': 0.8782157185935983, 'colsample_bytree': 0.7270088997952164, 'gamma': 0.5769746607474843}. Best is trial 4 with value: 0.5643463040740205.\u001B[0m\n",
      "\u001B[32m[I 2023-04-11 17:02:41,720]\u001B[0m Trial 17 finished with value: 0.5585661700422316 and parameters: {'n_estimators': 99, 'max_depth': 5, 'learning_rate': 0.2364959548057324, 'subsample': 0.9530541362166174, 'colsample_bytree': 0.6624152274464397, 'gamma': 0.13862002685788244}. Best is trial 4 with value: 0.5643463040740205.\u001B[0m\n",
      "\u001B[32m[I 2023-04-11 17:03:11,719]\u001B[0m Trial 18 finished with value: 0.5545178004921317 and parameters: {'n_estimators': 63, 'max_depth': 3, 'learning_rate': 0.28193221563454013, 'subsample': 0.8489960037954851, 'colsample_bytree': 0.7283787406152868, 'gamma': 0.3990029389246178}. Best is trial 4 with value: 0.5643463040740205.\u001B[0m\n",
      "\u001B[32m[I 2023-04-11 17:03:46,325]\u001B[0m Trial 19 finished with value: 0.5669882779364093 and parameters: {'n_estimators': 35, 'max_depth': 6, 'learning_rate': 0.189512933511105, 'subsample': 0.920394141659355, 'colsample_bytree': 0.8092901715816372, 'gamma': 0.7501678640331448}. Best is trial 19 with value: 0.5669882779364093.\u001B[0m\n",
      "\u001B[32m[I 2023-04-11 17:04:18,366]\u001B[0m Trial 20 finished with value: 0.5458451636566533 and parameters: {'n_estimators': 31, 'max_depth': 6, 'learning_rate': 0.16907806611136122, 'subsample': 0.9967563105756084, 'colsample_bytree': 0.8105377833678366, 'gamma': 0.781893221985213}. Best is trial 19 with value: 0.5669882779364093.\u001B[0m\n",
      "\u001B[32m[I 2023-04-11 17:05:03,297]\u001B[0m Trial 21 finished with value: 0.5463088461924207 and parameters: {'n_estimators': 53, 'max_depth': 5, 'learning_rate': 0.2179957697862283, 'subsample': 0.9094229710138325, 'colsample_bytree': 0.8295123629988692, 'gamma': 0.6404530630396594}. Best is trial 19 with value: 0.5669882779364093.\u001B[0m\n",
      "\u001B[32m[I 2023-04-11 17:05:41,241]\u001B[0m Trial 22 finished with value: 0.5460753006895199 and parameters: {'n_estimators': 37, 'max_depth': 7, 'learning_rate': 0.18698847823277548, 'subsample': 0.8926153607878134, 'colsample_bytree': 0.7785365754098781, 'gamma': 0.7838782450485853}. Best is trial 19 with value: 0.5669882779364093.\u001B[0m\n",
      "\u001B[32m[I 2023-04-11 17:06:53,390]\u001B[0m Trial 23 finished with value: 0.5515703164848761 and parameters: {'n_estimators': 68, 'max_depth': 7, 'learning_rate': 0.1341918363056717, 'subsample': 0.9499365752674328, 'colsample_bytree': 0.8615402403579179, 'gamma': 0.6007494235658384}. Best is trial 19 with value: 0.5669882779364093.\u001B[0m\n",
      "\u001B[32m[I 2023-04-11 17:07:19,152]\u001B[0m Trial 24 finished with value: 0.5503524169622793 and parameters: {'n_estimators': 35, 'max_depth': 5, 'learning_rate': 0.2652229509048139, 'subsample': 0.8725135466128495, 'colsample_bytree': 0.7463688254639603, 'gamma': 0.51717085533312}. Best is trial 19 with value: 0.5669882779364093.\u001B[0m\n",
      "\u001B[32m[I 2023-04-11 17:08:00,433]\u001B[0m Trial 25 finished with value: 0.5580870735623131 and parameters: {'n_estimators': 50, 'max_depth': 8, 'learning_rate': 0.23123299701367106, 'subsample': 0.8445677180494546, 'colsample_bytree': 0.6946760888837273, 'gamma': 0.7434675528061488}. Best is trial 19 with value: 0.5669882779364093.\u001B[0m\n",
      "\u001B[32m[I 2023-04-11 17:09:06,415]\u001B[0m Trial 26 finished with value: 0.5437045216492311 and parameters: {'n_estimators': 74, 'max_depth': 6, 'learning_rate': 0.19118987171882468, 'subsample': 0.9097914260095524, 'colsample_bytree': 0.7787273983574053, 'gamma': 0.8482132597734724}. Best is trial 19 with value: 0.5669882779364093.\u001B[0m\n",
      "\u001B[32m[I 2023-04-11 17:09:19,006]\u001B[0m Trial 27 finished with value: 0.5288720019384356 and parameters: {'n_estimators': 20, 'max_depth': 3, 'learning_rate': 0.12519631484640628, 'subsample': 0.949460676029832, 'colsample_bytree': 0.7444078214044061, 'gamma': 0.7233060242686866}. Best is trial 19 with value: 0.5669882779364093.\u001B[0m\n",
      "\u001B[32m[I 2023-04-11 17:09:51,025]\u001B[0m Trial 28 finished with value: 0.5482482622692274 and parameters: {'n_estimators': 92, 'max_depth': 2, 'learning_rate': 0.16616874775867416, 'subsample': 0.840968395275479, 'colsample_bytree': 0.6799616254994468, 'gamma': 0.619845163154157}. Best is trial 19 with value: 0.5669882779364093.\u001B[0m\n",
      "\u001B[32m[I 2023-04-11 17:10:36,788]\u001B[0m Trial 29 finished with value: 0.53555937648074 and parameters: {'n_estimators': 50, 'max_depth': 8, 'learning_rate': 0.0013112677836645825, 'subsample': 0.7921805307799445, 'colsample_bytree': 0.6392946649802759, 'gamma': 0.838665187009355}. Best is trial 19 with value: 0.5669882779364093.\u001B[0m\n",
      "\u001B[32m[I 2023-04-11 17:11:43,818]\u001B[0m Trial 30 finished with value: 0.5489586899424799 and parameters: {'n_estimators': 108, 'max_depth': 5, 'learning_rate': 0.28225546062660634, 'subsample': 0.8623834500679263, 'colsample_bytree': 0.6477421715057885, 'gamma': 0.6796342918618758}. Best is trial 19 with value: 0.5669882779364093.\u001B[0m\n",
      "\u001B[32m[I 2023-04-11 17:12:02,502]\u001B[0m Trial 31 finished with value: 0.5478902649109955 and parameters: {'n_estimators': 30, 'max_depth': 4, 'learning_rate': 0.25721388456684574, 'subsample': 0.8680977711020607, 'colsample_bytree': 0.6550919751151879, 'gamma': 0.7679141068521317}. Best is trial 19 with value: 0.5669882779364093.\u001B[0m\n",
      "\u001B[32m[I 2023-04-11 17:12:17,864]\u001B[0m Trial 32 finished with value: 0.5566069451234905 and parameters: {'n_estimators': 24, 'max_depth': 4, 'learning_rate': 0.25529705342317655, 'subsample': 0.8216309753054389, 'colsample_bytree': 0.6703187569495824, 'gamma': 0.9837336906417508}. Best is trial 19 with value: 0.5669882779364093.\u001B[0m\n",
      "\u001B[32m[I 2023-04-11 17:12:40,362]\u001B[0m Trial 33 finished with value: 0.5528635288385845 and parameters: {'n_estimators': 41, 'max_depth': 4, 'learning_rate': 0.2696433294764129, 'subsample': 0.849725162951083, 'colsample_bytree': 0.636471887817884, 'gamma': 0.8969467772762549}. Best is trial 19 with value: 0.5669882779364093.\u001B[0m\n",
      "\u001B[32m[I 2023-04-11 17:12:53,658]\u001B[0m Trial 34 finished with value: 0.5611768560903306 and parameters: {'n_estimators': 27, 'max_depth': 3, 'learning_rate': 0.24504605867500034, 'subsample': 0.8907336629135695, 'colsample_bytree': 0.6789400816120374, 'gamma': 0.8190982512198699}. Best is trial 19 with value: 0.5669882779364093.\u001B[0m\n",
      "\u001B[32m[I 2023-04-11 17:13:07,792]\u001B[0m Trial 35 finished with value: 0.5547473083666914 and parameters: {'n_estimators': 29, 'max_depth': 3, 'learning_rate': 0.2440944926429366, 'subsample': 0.8949901775471981, 'colsample_bytree': 0.6785991681179178, 'gamma': 0.8190631002484589}. Best is trial 19 with value: 0.5669882779364093.\u001B[0m\n",
      "\u001B[32m[I 2023-04-11 17:13:25,943]\u001B[0m Trial 36 finished with value: 0.5464148733229516 and parameters: {'n_estimators': 58, 'max_depth': 2, 'learning_rate': 0.20641690229103515, 'subsample': 0.675514277948547, 'colsample_bytree': 0.7285532485781357, 'gamma': 0.9213167397111488}. Best is trial 19 with value: 0.5669882779364093.\u001B[0m\n",
      "\u001B[32m[I 2023-04-11 17:13:57,903]\u001B[0m Trial 37 finished with value: 0.5535537248292461 and parameters: {'n_estimators': 68, 'max_depth': 3, 'learning_rate': 0.22408003667743773, 'subsample': 0.8928417380905193, 'colsample_bytree': 0.7193400626358275, 'gamma': 0.7182290973660137}. Best is trial 19 with value: 0.5669882779364093.\u001B[0m\n",
      "\u001B[32m[I 2023-04-11 17:14:26,117]\u001B[0m Trial 38 finished with value: 0.5461765484817032 and parameters: {'n_estimators': 44, 'max_depth': 4, 'learning_rate': 0.24322827621860463, 'subsample': 0.9375192136720872, 'colsample_bytree': 0.6849325036926384, 'gamma': 0.8613243653876029}. Best is trial 19 with value: 0.5669882779364093.\u001B[0m\n",
      "\u001B[32m[I 2023-04-11 17:14:39,788]\u001B[0m Trial 39 finished with value: 0.5491647490015373 and parameters: {'n_estimators': 35, 'max_depth': 2, 'learning_rate': 0.22824268048614527, 'subsample': 0.8597263570611983, 'colsample_bytree': 0.7604689363254444, 'gamma': 0.5639933634972154}. Best is trial 19 with value: 0.5669882779364093.\u001B[0m\n",
      "\u001B[32m[I 2023-04-11 17:15:06,600]\u001B[0m Trial 40 finished with value: 0.5523695987082414 and parameters: {'n_estimators': 54, 'max_depth': 3, 'learning_rate': 0.2810977984144797, 'subsample': 0.9058877626198725, 'colsample_bytree': 0.709214474265538, 'gamma': 0.8124916497047512}. Best is trial 19 with value: 0.5669882779364093.\u001B[0m\n",
      "\u001B[32m[I 2023-04-11 17:15:21,393]\u001B[0m Trial 41 finished with value: 0.5642647704992232 and parameters: {'n_estimators': 25, 'max_depth': 4, 'learning_rate': 0.25045060287667137, 'subsample': 0.8806043021895723, 'colsample_bytree': 0.6265772281260821, 'gamma': 0.7610426501527573}. Best is trial 19 with value: 0.5669882779364093.\u001B[0m\n",
      "\u001B[32m[I 2023-04-11 17:15:33,143]\u001B[0m Trial 42 finished with value: 0.5512794694269665 and parameters: {'n_estimators': 20, 'max_depth': 4, 'learning_rate': 0.2508986942129735, 'subsample': 0.8817594459811173, 'colsample_bytree': 0.6010493696297591, 'gamma': 0.7326306861241483}. Best is trial 19 with value: 0.5669882779364093.\u001B[0m\n",
      "\u001B[32m[I 2023-04-11 17:15:57,461]\u001B[0m Trial 43 finished with value: 0.5392288562658486 and parameters: {'n_estimators': 29, 'max_depth': 6, 'learning_rate': 0.23540513293236887, 'subsample': 0.9234688503049983, 'colsample_bytree': 0.6274475263787145, 'gamma': 0.6610371635224571}. Best is trial 19 with value: 0.5669882779364093.\u001B[0m\n",
      "\u001B[32m[I 2023-04-11 17:17:14,493]\u001B[0m Trial 44 finished with value: 0.5546037567805178 and parameters: {'n_estimators': 144, 'max_depth': 4, 'learning_rate': 0.27000870305508723, 'subsample': 0.8358888601228922, 'colsample_bytree': 0.6707464591972326, 'gamma': 0.9023194985032305}. Best is trial 19 with value: 0.5669882779364093.\u001B[0m\n",
      "\u001B[32m[I 2023-04-11 17:17:24,530]\u001B[0m Trial 45 finished with value: 0.5499203190858826 and parameters: {'n_estimators': 26, 'max_depth': 2, 'learning_rate': 0.29521450838032925, 'subsample': 0.8781567949586262, 'colsample_bytree': 0.6569730701156133, 'gamma': 0.797516003495125}. Best is trial 19 with value: 0.5669882779364093.\u001B[0m\n",
      "\u001B[32m[I 2023-04-11 17:17:44,771]\u001B[0m Trial 46 finished with value: 0.5547394672502657 and parameters: {'n_estimators': 46, 'max_depth': 3, 'learning_rate': 0.20350822529178345, 'subsample': 0.8227342521999176, 'colsample_bytree': 0.6300051807643288, 'gamma': 0.7020327524849098}. Best is trial 19 with value: 0.5669882779364093.\u001B[0m\n",
      "\u001B[32m[I 2023-04-11 17:18:11,525]\u001B[0m Trial 47 finished with value: 0.5546287178910654 and parameters: {'n_estimators': 35, 'max_depth': 5, 'learning_rate': 0.2233360251357573, 'subsample': 0.8585976234358623, 'colsample_bytree': 0.6929125383505342, 'gamma': 0.8706696118313036}. Best is trial 19 with value: 0.5669882779364093.\u001B[0m\n",
      "\u001B[32m[I 2023-04-11 17:19:09,034]\u001B[0m Trial 48 finished with value: 0.5595592314395805 and parameters: {'n_estimators': 119, 'max_depth': 4, 'learning_rate': 0.24898256682882233, 'subsample': 0.8138827744615856, 'colsample_bytree': 0.6248111211535763, 'gamma': 0.7513462018050561}. Best is trial 19 with value: 0.5669882779364093.\u001B[0m\n",
      "\u001B[32m[I 2023-04-11 17:20:15,219]\u001B[0m Trial 49 finished with value: 0.5452443377187617 and parameters: {'n_estimators': 84, 'max_depth': 7, 'learning_rate': 0.26127921315398506, 'subsample': 0.8921179598265677, 'colsample_bytree': 0.7095594179650175, 'gamma': 0.6494395876885726}. Best is trial 19 with value: 0.5669882779364093.\u001B[0m\n",
      "\u001B[32m[I 2023-04-11 17:20:33,936]\u001B[0m Trial 50 finished with value: 0.5435861329882327 and parameters: {'n_estimators': 40, 'max_depth': 3, 'learning_rate': 0.21838976445175357, 'subsample': 0.9261144062744548, 'colsample_bytree': 0.6518450951296818, 'gamma': 0.4462884881831009}. Best is trial 19 with value: 0.5669882779364093.\u001B[0m\n",
      "\u001B[32m[I 2023-04-11 17:21:29,886]\u001B[0m Trial 51 finished with value: 0.5564815532848046 and parameters: {'n_estimators': 115, 'max_depth': 4, 'learning_rate': 0.24274502757199887, 'subsample': 0.781989661208527, 'colsample_bytree': 0.6181984426380903, 'gamma': 0.7525672525644009}. Best is trial 19 with value: 0.5669882779364093.\u001B[0m\n",
      "\u001B[32m[I 2023-04-11 17:22:37,675]\u001B[0m Trial 52 finished with value: 0.5624710354754203 and parameters: {'n_estimators': 135, 'max_depth': 4, 'learning_rate': 0.2502197968683814, 'subsample': 0.809843975752313, 'colsample_bytree': 0.6190160190169981, 'gamma': 0.7014290755844116}. Best is trial 19 with value: 0.5669882779364093.\u001B[0m\n",
      "\u001B[32m[I 2023-04-11 17:23:55,648]\u001B[0m Trial 53 finished with value: 0.5498176288252541 and parameters: {'n_estimators': 133, 'max_depth': 5, 'learning_rate': 0.1995981577019685, 'subsample': 0.8624798100870308, 'colsample_bytree': 0.6122876457927613, 'gamma': 0.8223481762777164}. Best is trial 19 with value: 0.5669882779364093.\u001B[0m\n",
      "\u001B[32m[I 2023-04-11 17:24:38,174]\u001B[0m Trial 54 finished with value: 0.5469189569140016 and parameters: {'n_estimators': 84, 'max_depth': 4, 'learning_rate': 0.23308768522079962, 'subsample': 0.8425773965533782, 'colsample_bytree': 0.6455063250952684, 'gamma': 0.6869563723640659}. Best is trial 19 with value: 0.5669882779364093.\u001B[0m\n",
      "\u001B[32m[I 2023-04-11 17:25:34,109]\u001B[0m Trial 55 finished with value: 0.5598527179964092 and parameters: {'n_estimators': 137, 'max_depth': 3, 'learning_rate': 0.2122904333453765, 'subsample': 0.8367685354647343, 'colsample_bytree': 0.6660593972015972, 'gamma': 0.6210395167675486}. Best is trial 19 with value: 0.5669882779364093.\u001B[0m\n",
      "\u001B[32m[I 2023-04-11 17:25:44,910]\u001B[0m Trial 56 finished with value: 0.5528473982716281 and parameters: {'n_estimators': 33, 'max_depth': 2, 'learning_rate': 0.27427940578396376, 'subsample': 0.8737641407234639, 'colsample_bytree': 0.6042300096869588, 'gamma': 0.2564533303972638}. Best is trial 19 with value: 0.5669882779364093.\u001B[0m\n",
      "\u001B[32m[I 2023-04-11 17:27:19,751]\u001B[0m Trial 57 finished with value: 0.559357444378154 and parameters: {'n_estimators': 149, 'max_depth': 5, 'learning_rate': 0.2885140003018313, 'subsample': 0.9132878851272147, 'colsample_bytree': 0.688983189237262, 'gamma': 0.785176226755154}. Best is trial 19 with value: 0.5669882779364093.\u001B[0m\n",
      "\u001B[32m[I 2023-04-11 17:27:51,423]\u001B[0m Trial 58 finished with value: 0.5599376542551298 and parameters: {'n_estimators': 65, 'max_depth': 6, 'learning_rate': 0.299271805918572, 'subsample': 0.8306584582271986, 'colsample_bytree': 0.6370361615510838, 'gamma': 0.06776616510557143}. Best is trial 19 with value: 0.5669882779364093.\u001B[0m\n",
      "\u001B[32m[I 2023-04-11 17:28:02,962]\u001B[0m Trial 59 finished with value: 0.5556035868496477 and parameters: {'n_estimators': 25, 'max_depth': 3, 'learning_rate': 0.2589188706236895, 'subsample': 0.8041052773372163, 'colsample_bytree': 0.6642754354826186, 'gamma': 0.562343926949517}. Best is trial 19 with value: 0.5669882779364093.\u001B[0m\n",
      "\u001B[32m[I 2023-04-11 17:28:36,593]\u001B[0m Trial 60 finished with value: 0.5436628837638857 and parameters: {'n_estimators': 56, 'max_depth': 5, 'learning_rate': 0.18002036190465903, 'subsample': 0.8552408039558603, 'colsample_bytree': 0.6224471289844538, 'gamma': 0.7214074342453761}. Best is trial 19 with value: 0.5669882779364093.\u001B[0m\n",
      "\u001B[32m[I 2023-04-11 17:29:09,092]\u001B[0m Trial 61 finished with value: 0.556586781336605 and parameters: {'n_estimators': 67, 'max_depth': 6, 'learning_rate': 0.29546529495045815, 'subsample': 0.8347162259877431, 'colsample_bytree': 0.6388707621767236, 'gamma': 0.06294268225826283}. Best is trial 19 with value: 0.5669882779364093.\u001B[0m\n",
      "\u001B[32m[I 2023-04-11 17:29:41,171]\u001B[0m Trial 62 finished with value: 0.5595897724463819 and parameters: {'n_estimators': 63, 'max_depth': 7, 'learning_rate': 0.27856441052612346, 'subsample': 0.8287797191193442, 'colsample_bytree': 0.6428457722452485, 'gamma': 0.01758949445710338}. Best is trial 19 with value: 0.5669882779364093.\u001B[0m\n",
      "\u001B[32m[I 2023-04-11 17:30:23,866]\u001B[0m Trial 63 finished with value: 0.5600280130604982 and parameters: {'n_estimators': 92, 'max_depth': 5, 'learning_rate': 0.2861914936534561, 'subsample': 0.8839121244525859, 'colsample_bytree': 0.6769745897442434, 'gamma': 0.07130073785716551}. Best is trial 19 with value: 0.5669882779364093.\u001B[0m\n",
      "\u001B[32m[I 2023-04-11 17:31:28,547]\u001B[0m Trial 64 finished with value: 0.5718387477579409 and parameters: {'n_estimators': 103, 'max_depth': 5, 'learning_rate': 0.26686724091860003, 'subsample': 0.8881051334216005, 'colsample_bytree': 0.6929166374083956, 'gamma': 0.6923309108798829}. Best is trial 64 with value: 0.5718387477579409.\u001B[0m\n",
      "\u001B[32m[I 2023-04-11 17:32:27,209]\u001B[0m Trial 65 finished with value: 0.5607166421834576 and parameters: {'n_estimators': 107, 'max_depth': 4, 'learning_rate': 0.2725786652389914, 'subsample': 0.9025754206934493, 'colsample_bytree': 0.6936104421539373, 'gamma': 0.694533673371079}. Best is trial 64 with value: 0.5718387477579409.\u001B[0m\n",
      "\u001B[32m[I 2023-04-11 17:33:25,405]\u001B[0m Trial 66 finished with value: 0.5627844307974872 and parameters: {'n_estimators': 105, 'max_depth': 4, 'learning_rate': 0.26682668849749963, 'subsample': 0.9016528086143961, 'colsample_bytree': 0.7052202732185892, 'gamma': 0.6627020067444392}. Best is trial 64 with value: 0.5718387477579409.\u001B[0m\n",
      "\u001B[32m[I 2023-04-11 17:34:43,285]\u001B[0m Trial 67 finished with value: 0.5615986020663009 and parameters: {'n_estimators': 124, 'max_depth': 4, 'learning_rate': 0.26562313460015796, 'subsample': 0.9362241489153426, 'colsample_bytree': 0.7919485642580086, 'gamma': 0.7749815696533429}. Best is trial 64 with value: 0.5718387477579409.\u001B[0m\n",
      "\u001B[32m[I 2023-04-11 17:35:59,698]\u001B[0m Trial 68 finished with value: 0.5524732197926308 and parameters: {'n_estimators': 121, 'max_depth': 4, 'learning_rate': 0.2643322973930043, 'subsample': 0.9626996037719017, 'colsample_bytree': 0.7908510099318466, 'gamma': 0.6569529466552112}. Best is trial 64 with value: 0.5718387477579409.\u001B[0m\n",
      "\u001B[32m[I 2023-04-11 17:37:15,445]\u001B[0m Trial 69 finished with value: 0.5593782331944319 and parameters: {'n_estimators': 126, 'max_depth': 4, 'learning_rate': 0.25296918035600413, 'subsample': 0.9372896329409907, 'colsample_bytree': 0.7568829965878023, 'gamma': 0.7534778083333913}. Best is trial 64 with value: 0.5718387477579409.\u001B[0m\n",
      "\u001B[32m[I 2023-04-11 17:38:28,177]\u001B[0m Trial 70 finished with value: 0.5502428387329794 and parameters: {'n_estimators': 106, 'max_depth': 5, 'learning_rate': 0.23917219290489367, 'subsample': 0.9038601753217436, 'colsample_bytree': 0.7471719417218403, 'gamma': 0.778280003568123}. Best is trial 64 with value: 0.5718387477579409.\u001B[0m\n",
      "\u001B[32m[I 2023-04-11 17:39:32,664]\u001B[0m Trial 71 finished with value: 0.5586128949891214 and parameters: {'n_estimators': 115, 'max_depth': 4, 'learning_rate': 0.26370470155823433, 'subsample': 0.8861811020597762, 'colsample_bytree': 0.7171524584527255, 'gamma': 0.7984427881429729}. Best is trial 64 with value: 0.5718387477579409.\u001B[0m\n",
      "\u001B[32m[I 2023-04-11 17:40:38,923]\u001B[0m Trial 72 finished with value: 0.5530866749874617 and parameters: {'n_estimators': 102, 'max_depth': 5, 'learning_rate': 0.25357385946640837, 'subsample': 0.9161365514330856, 'colsample_bytree': 0.7010590325465258, 'gamma': 0.7063170298931253}. Best is trial 64 with value: 0.5718387477579409.\u001B[0m\n",
      "\u001B[32m[I 2023-04-11 17:41:53,610]\u001B[0m Trial 73 finished with value: 0.5610930900858735 and parameters: {'n_estimators': 132, 'max_depth': 4, 'learning_rate': 0.22829586982621936, 'subsample': 0.8734272515891274, 'colsample_bytree': 0.7345401056804541, 'gamma': 0.8378682138241801}. Best is trial 64 with value: 0.5718387477579409.\u001B[0m\n",
      "\u001B[32m[I 2023-04-11 17:42:42,058]\u001B[0m Trial 74 finished with value: 0.5655923567985293 and parameters: {'n_estimators': 93, 'max_depth': 3, 'learning_rate': 0.24516402995949835, 'subsample': 0.8959042507204331, 'colsample_bytree': 0.8187030377855788, 'gamma': 0.6743935570010561}. Best is trial 64 with value: 0.5718387477579409.\u001B[0m\n",
      "\u001B[32m[I 2023-04-11 17:43:42,885]\u001B[0m Trial 75 finished with value: 0.5515582029770426 and parameters: {'n_estimators': 94, 'max_depth': 4, 'learning_rate': 0.23672196120962355, 'subsample': 0.8501133391527345, 'colsample_bytree': 0.8118604676714105, 'gamma': 0.6813300446420452}. Best is trial 64 with value: 0.5718387477579409.\u001B[0m\n",
      "\u001B[32m[I 2023-04-11 17:44:42,365]\u001B[0m Trial 76 finished with value: 0.5476786778904843 and parameters: {'n_estimators': 97, 'max_depth': 4, 'learning_rate': 0.2740726546513737, 'subsample': 0.9000526894841264, 'colsample_bytree': 0.7724790274504324, 'gamma': 0.6176129187245236}. Best is trial 64 with value: 0.5718387477579409.\u001B[0m\n",
      "\u001B[32m[I 2023-04-11 17:46:49,618]\u001B[0m Trial 77 finished with value: 0.5576649442848438 and parameters: {'n_estimators': 89, 'max_depth': 5, 'learning_rate': 0.26565965422935683, 'subsample': 0.8680603698103279, 'colsample_bytree': 0.8316505925663885, 'gamma': 0.7378497087521689}. Best is trial 64 with value: 0.5718387477579409.\u001B[0m\n",
      "\u001B[32m[I 2023-04-11 17:48:17,155]\u001B[0m Trial 78 finished with value: 0.5467556461086611 and parameters: {'n_estimators': 111, 'max_depth': 5, 'learning_rate': 0.254343715633139, 'subsample': 0.9173297853752651, 'colsample_bytree': 0.7856007314322958, 'gamma': 0.6395522989382183}. Best is trial 64 with value: 0.5718387477579409.\u001B[0m\n",
      "\u001B[32m[I 2023-04-11 17:49:19,772]\u001B[0m Trial 79 finished with value: 0.5583252949198472 and parameters: {'n_estimators': 74, 'max_depth': 6, 'learning_rate': 0.21738910666405392, 'subsample': 0.9007277065193382, 'colsample_bytree': 0.7657983047272223, 'gamma': 0.7176712821554382}. Best is trial 64 with value: 0.5718387477579409.\u001B[0m\n",
      "\u001B[32m[I 2023-04-11 17:50:00,104]\u001B[0m Trial 80 finished with value: 0.5526715587334057 and parameters: {'n_estimators': 80, 'max_depth': 3, 'learning_rate': 0.24728428316612003, 'subsample': 0.9306666363962747, 'colsample_bytree': 0.7390647858978988, 'gamma': 0.7694973017892335}. Best is trial 64 with value: 0.5718387477579409.\u001B[0m\n",
      "\u001B[32m[I 2023-04-11 17:50:56,626]\u001B[0m Trial 81 finished with value: 0.5618192501152351 and parameters: {'n_estimators': 99, 'max_depth': 3, 'learning_rate': 0.23890695198141385, 'subsample': 0.8902669144893228, 'colsample_bytree': 0.722725993600248, 'gamma': 0.6735791195791023}. Best is trial 64 with value: 0.5718387477579409.\u001B[0m\n",
      "\u001B[32m[I 2023-04-11 17:51:50,309]\u001B[0m Trial 82 finished with value: 0.5562174199355658 and parameters: {'n_estimators': 99, 'max_depth': 3, 'learning_rate': 0.23078513651914312, 'subsample': 0.8842555923108376, 'colsample_bytree': 0.7564785865297062, 'gamma': 0.5956022143944829}. Best is trial 64 with value: 0.5718387477579409.\u001B[0m\n",
      "\u001B[32m[I 2023-04-11 17:52:58,466]\u001B[0m Trial 83 finished with value: 0.5587342099883057 and parameters: {'n_estimators': 104, 'max_depth': 4, 'learning_rate': 0.24034651091968456, 'subsample': 0.9112194110435035, 'colsample_bytree': 0.7992851391879922, 'gamma': 0.6695440190665775}. Best is trial 64 with value: 0.5718387477579409.\u001B[0m\n",
      "\u001B[32m[I 2023-04-11 17:53:52,453]\u001B[0m Trial 84 finished with value: 0.5543624597552156 and parameters: {'n_estimators': 113, 'max_depth': 3, 'learning_rate': 0.2595350516865359, 'subsample': 0.8950652720172663, 'colsample_bytree': 0.7255608807476689, 'gamma': 0.7385295708148353}. Best is trial 64 with value: 0.5718387477579409.\u001B[0m\n",
      "\u001B[32m[I 2023-04-11 17:55:11,627]\u001B[0m Trial 85 finished with value: 0.5516748688748888 and parameters: {'n_estimators': 138, 'max_depth': 4, 'learning_rate': 0.24815858985811728, 'subsample': 0.869539697880778, 'colsample_bytree': 0.7171446864870673, 'gamma': 0.6765325624116574}. Best is trial 64 with value: 0.5718387477579409.\u001B[0m\n",
      "\u001B[32m[I 2023-04-11 17:56:04,288]\u001B[0m Trial 86 finished with value: 0.5564921179704523 and parameters: {'n_estimators': 88, 'max_depth': 4, 'learning_rate': 0.22221068158723334, 'subsample': 0.8810785569166721, 'colsample_bytree': 0.7383491117540519, 'gamma': 0.7033235474493067}. Best is trial 64 with value: 0.5718387477579409.\u001B[0m\n",
      "\u001B[32m[I 2023-04-11 17:57:00,104]\u001B[0m Trial 87 finished with value: 0.5654264442296404 and parameters: {'n_estimators': 96, 'max_depth': 3, 'learning_rate': 0.19868888154329484, 'subsample': 0.923834163989548, 'colsample_bytree': 0.7062366262210475, 'gamma': 0.6354211356544059}. Best is trial 64 with value: 0.5718387477579409.\u001B[0m\n",
      "\u001B[32m[I 2023-04-11 17:57:47,080]\u001B[0m Trial 88 finished with value: 0.54602849155144 and parameters: {'n_estimators': 96, 'max_depth': 3, 'learning_rate': 0.19355254468955835, 'subsample': 0.9169299875474451, 'colsample_bytree': 0.70759900452504, 'gamma': 0.6354879650342654}. Best is trial 64 with value: 0.5718387477579409.\u001B[0m\n",
      "\u001B[32m[I 2023-04-11 17:58:31,349]\u001B[0m Trial 89 finished with value: 0.5639702248895827 and parameters: {'n_estimators': 100, 'max_depth': 3, 'learning_rate': 0.21023590195817096, 'subsample': 0.8525314709313259, 'colsample_bytree': 0.7008024152486114, 'gamma': 0.5872293767469186}. Best is trial 64 with value: 0.5718387477579409.\u001B[0m\n",
      "\u001B[32m[I 2023-04-11 17:59:17,922]\u001B[0m Trial 90 finished with value: 0.5544458937793868 and parameters: {'n_estimators': 102, 'max_depth': 3, 'learning_rate': 0.2107483454017032, 'subsample': 0.8551169166617802, 'colsample_bytree': 0.6989602541581252, 'gamma': 0.5875797617319619}. Best is trial 64 with value: 0.5718387477579409.\u001B[0m\n",
      "\u001B[32m[I 2023-04-11 18:00:07,662]\u001B[0m Trial 91 finished with value: 0.556187986578169 and parameters: {'n_estimators': 90, 'max_depth': 3, 'learning_rate': 0.2017786923411266, 'subsample': 0.8893231970538453, 'colsample_bytree': 0.6866308283367389, 'gamma': 0.6513425321919879}. Best is trial 64 with value: 0.5718387477579409.\u001B[0m\n",
      "\u001B[32m[I 2023-04-11 18:01:04,360]\u001B[0m Trial 92 finished with value: 0.5580958370765697 and parameters: {'n_estimators': 110, 'max_depth': 3, 'learning_rate': 0.21079120488039088, 'subsample': 0.8631640436829575, 'colsample_bytree': 0.7140030519251304, 'gamma': 0.5489560246449962}. Best is trial 64 with value: 0.5718387477579409.\u001B[0m\n",
      "\u001B[32m[I 2023-04-11 18:01:54,039]\u001B[0m Trial 93 finished with value: 0.5601403642401482 and parameters: {'n_estimators': 101, 'max_depth': 3, 'learning_rate': 0.22480489818928823, 'subsample': 0.8466338036144027, 'colsample_bytree': 0.7238636911916125, 'gamma': 0.632499813969237}. Best is trial 64 with value: 0.5718387477579409.\u001B[0m\n",
      "\u001B[32m[I 2023-04-11 18:02:21,875]\u001B[0m Trial 94 finished with value: 0.5612316616357675 and parameters: {'n_estimators': 81, 'max_depth': 2, 'learning_rate': 0.1961060950511736, 'subsample': 0.8746616641144709, 'colsample_bytree': 0.7058650923043845, 'gamma': 0.5929667523612758}. Best is trial 64 with value: 0.5718387477579409.\u001B[0m\n",
      "\u001B[32m[I 2023-04-11 18:03:04,959]\u001B[0m Trial 95 finished with value: 0.55726673296192 and parameters: {'n_estimators': 97, 'max_depth': 3, 'learning_rate': 0.18531553656052885, 'subsample': 0.9069704825847485, 'colsample_bytree': 0.6588568018778155, 'gamma': 0.6099726656113469}. Best is trial 64 with value: 0.5718387477579409.\u001B[0m\n",
      "\u001B[32m[I 2023-04-11 18:03:44,560]\u001B[0m Trial 96 finished with value: 0.5638019609299174 and parameters: {'n_estimators': 86, 'max_depth': 3, 'learning_rate': 0.21676432387505662, 'subsample': 0.8968768953248988, 'colsample_bytree': 0.6967826592100249, 'gamma': 0.6625248091537278}. Best is trial 64 with value: 0.5718387477579409.\u001B[0m\n",
      "\u001B[32m[I 2023-04-11 18:04:08,803]\u001B[0m Trial 97 finished with value: 0.5586446311117148 and parameters: {'n_estimators': 71, 'max_depth': 2, 'learning_rate': 0.21531033636843377, 'subsample': 0.9248005991055517, 'colsample_bytree': 0.6736425234769726, 'gamma': 0.6213526118450005}. Best is trial 64 with value: 0.5718387477579409.\u001B[0m\n",
      "\u001B[32m[I 2023-04-11 18:04:49,628]\u001B[0m Trial 98 finished with value: 0.5656489315405681 and parameters: {'n_estimators': 86, 'max_depth': 3, 'learning_rate': 0.2093168889759105, 'subsample': 0.9003458838535976, 'colsample_bytree': 0.6825511838411584, 'gamma': 0.6557544705989086}. Best is trial 64 with value: 0.5718387477579409.\u001B[0m\n",
      "\u001B[32m[I 2023-04-11 18:05:28,986]\u001B[0m Trial 99 finished with value: 0.5441277840620603 and parameters: {'n_estimators': 86, 'max_depth': 3, 'learning_rate': 0.2064454079232797, 'subsample': 0.8970998405181595, 'colsample_bytree': 0.6876575726085835, 'gamma': 0.569804900554821}. Best is trial 64 with value: 0.5718387477579409.\u001B[0m\n"
     ]
    }
   ],
   "source": [
    "xgb_config = {\n",
    "    'objective': 'multi:softmax',\n",
    "    'random_state': random_state,\n",
    "    'num_class': 4,\n",
    "}\n",
    "\n",
    "scoring_func = partial(f1_score, average='weighted')\n",
    "objective_func = partial(\n",
    "    objective,\n",
    "    X_train=X_train,\n",
    "    stratification_groups=stratification_groups,\n",
    "    xgb_config=xgb_config,\n",
    "    scoring=scoring_func\n",
    ")\n",
    "\n",
    "study = optuna.create_study(direction='maximize')\n",
    "study.optimize(objective_func, n_trials=100)"
   ],
   "metadata": {
    "collapsed": false,
    "ExecuteTime": {
     "start_time": "2023-04-11T16:50:03.478193Z",
     "end_time": "2023-04-11T18:05:29.006251Z"
    }
   }
  },
  {
   "cell_type": "markdown",
   "source": [
    "Extract the best of the found hyperparameters and perform cross validation on the whole training set"
   ],
   "metadata": {
    "collapsed": false
   }
  },
  {
   "cell_type": "code",
   "execution_count": 57,
   "outputs": [],
   "source": [
    "best_params = {\n",
    "    **study.best_params,\n",
    "    **xgb_config\n",
    "}\n",
    "\n",
    "best_xgb = XGBClassifier(**best_params)\n",
    "y_pred = stratified_cross_val_predict(\n",
    "    estimator=best_xgb,\n",
    "    df=X_train,\n",
    "    stratification_groups=stratification_groups,\n",
    "    label_col='Stage',\n",
    "    n_splits=5\n",
    ")\n",
    "y_true = list(X_train['Stage'].values)"
   ],
   "metadata": {
    "collapsed": false,
    "ExecuteTime": {
     "start_time": "2023-04-11T18:05:54.711252Z",
     "end_time": "2023-04-11T18:07:22.387813Z"
    }
   }
  },
  {
   "cell_type": "markdown",
   "source": [
    "Define function for plotting confusion matrix"
   ],
   "metadata": {
    "collapsed": false
   }
  },
  {
   "cell_type": "code",
   "execution_count": 58,
   "outputs": [],
   "source": [
    "def plot_confusion_matrix(cm, labels, title_dict):\n",
    "    cm = cm[::-1]\n",
    "    fig = ff.create_annotated_heatmap(z=cm, x=labels, y=labels[::-1], colorscale='ice', reversescale=True)\n",
    "    fig.update_layout(yaxis_title='True label', xaxis_title='Predicted label',\n",
    "                      yaxis=dict(tickfont=dict(size=10)), xaxis=dict(tickfont=dict(size=10)),\n",
    "                      title=title_dict, paper_bgcolor='rgba(0,0,0,0)')\n",
    "    fig.show()"
   ],
   "metadata": {
    "collapsed": false,
    "ExecuteTime": {
     "start_time": "2023-04-11T18:08:12.608488Z",
     "end_time": "2023-04-11T18:08:12.623482Z"
    }
   }
  },
  {
   "cell_type": "code",
   "execution_count": 59,
   "outputs": [
    {
     "name": "stdout",
     "output_type": "stream",
     "text": [
      "              precision    recall  f1-score   support\n",
      "\n",
      "           I       0.65      0.78      0.71       389\n",
      "          II       0.31      0.04      0.07       101\n",
      "         III       0.25      0.04      0.07       122\n",
      "          IV       0.61      0.79      0.69       397\n",
      "\n",
      "    accuracy                           0.62      1009\n",
      "   macro avg       0.46      0.41      0.39      1009\n",
      "weighted avg       0.55      0.62      0.56      1009\n",
      "\n"
     ]
    }
   ],
   "source": [
    "labels = list(labels_encoding.keys())\n",
    "\n",
    "report = classification_report(y_true, y_pred.astype(int), target_names=labels)\n",
    "print(report)"
   ],
   "metadata": {
    "collapsed": false,
    "ExecuteTime": {
     "start_time": "2023-04-11T18:08:13.933839Z",
     "end_time": "2023-04-11T18:08:13.961842Z"
    }
   }
  },
  {
   "cell_type": "code",
   "execution_count": 60,
   "outputs": [
    {
     "data": {
      "application/vnd.plotly.v1+json": {
       "data": [
        {
         "colorscale": [
          [
           0.0,
           "rgb(3, 5, 18)"
          ],
          [
           0.09090909090909091,
           "rgb(25, 25, 51)"
          ],
          [
           0.18181818181818182,
           "rgb(44, 42, 87)"
          ],
          [
           0.2727272727272727,
           "rgb(58, 60, 125)"
          ],
          [
           0.36363636363636365,
           "rgb(62, 83, 160)"
          ],
          [
           0.45454545454545453,
           "rgb(62, 109, 178)"
          ],
          [
           0.5454545454545454,
           "rgb(72, 134, 187)"
          ],
          [
           0.6363636363636364,
           "rgb(89, 159, 196)"
          ],
          [
           0.7272727272727273,
           "rgb(114, 184, 205)"
          ],
          [
           0.8181818181818182,
           "rgb(149, 207, 216)"
          ],
          [
           0.9090909090909091,
           "rgb(192, 229, 232)"
          ],
          [
           1.0,
           "rgb(234, 252, 253)"
          ]
         ],
         "reversescale": true,
         "showscale": false,
         "x": [
          "I",
          "II",
          "III",
          "IV"
         ],
         "y": [
          "IV",
          "III",
          "II",
          "I"
         ],
         "z": [
          [
           76,
           3,
           5,
           313
          ],
          [
           44,
           3,
           5,
           70
          ],
          [
           43,
           4,
           3,
           51
          ],
          [
           304,
           3,
           7,
           75
          ]
         ],
         "type": "heatmap"
        }
       ],
       "layout": {
        "annotations": [
         {
          "font": {
           "color": "#000000"
          },
          "showarrow": false,
          "text": "76",
          "x": "I",
          "xref": "x",
          "y": "IV",
          "yref": "y"
         },
         {
          "font": {
           "color": "#000000"
          },
          "showarrow": false,
          "text": "3",
          "x": "II",
          "xref": "x",
          "y": "IV",
          "yref": "y"
         },
         {
          "font": {
           "color": "#000000"
          },
          "showarrow": false,
          "text": "5",
          "x": "III",
          "xref": "x",
          "y": "IV",
          "yref": "y"
         },
         {
          "font": {
           "color": "#FFFFFF"
          },
          "showarrow": false,
          "text": "313",
          "x": "IV",
          "xref": "x",
          "y": "IV",
          "yref": "y"
         },
         {
          "font": {
           "color": "#000000"
          },
          "showarrow": false,
          "text": "44",
          "x": "I",
          "xref": "x",
          "y": "III",
          "yref": "y"
         },
         {
          "font": {
           "color": "#000000"
          },
          "showarrow": false,
          "text": "3",
          "x": "II",
          "xref": "x",
          "y": "III",
          "yref": "y"
         },
         {
          "font": {
           "color": "#000000"
          },
          "showarrow": false,
          "text": "5",
          "x": "III",
          "xref": "x",
          "y": "III",
          "yref": "y"
         },
         {
          "font": {
           "color": "#000000"
          },
          "showarrow": false,
          "text": "70",
          "x": "IV",
          "xref": "x",
          "y": "III",
          "yref": "y"
         },
         {
          "font": {
           "color": "#000000"
          },
          "showarrow": false,
          "text": "43",
          "x": "I",
          "xref": "x",
          "y": "II",
          "yref": "y"
         },
         {
          "font": {
           "color": "#000000"
          },
          "showarrow": false,
          "text": "4",
          "x": "II",
          "xref": "x",
          "y": "II",
          "yref": "y"
         },
         {
          "font": {
           "color": "#000000"
          },
          "showarrow": false,
          "text": "3",
          "x": "III",
          "xref": "x",
          "y": "II",
          "yref": "y"
         },
         {
          "font": {
           "color": "#000000"
          },
          "showarrow": false,
          "text": "51",
          "x": "IV",
          "xref": "x",
          "y": "II",
          "yref": "y"
         },
         {
          "font": {
           "color": "#FFFFFF"
          },
          "showarrow": false,
          "text": "304",
          "x": "I",
          "xref": "x",
          "y": "I",
          "yref": "y"
         },
         {
          "font": {
           "color": "#000000"
          },
          "showarrow": false,
          "text": "3",
          "x": "II",
          "xref": "x",
          "y": "I",
          "yref": "y"
         },
         {
          "font": {
           "color": "#000000"
          },
          "showarrow": false,
          "text": "7",
          "x": "III",
          "xref": "x",
          "y": "I",
          "yref": "y"
         },
         {
          "font": {
           "color": "#000000"
          },
          "showarrow": false,
          "text": "75",
          "x": "IV",
          "xref": "x",
          "y": "I",
          "yref": "y"
         }
        ],
        "xaxis": {
         "dtick": 1,
         "gridcolor": "rgb(0, 0, 0)",
         "side": "top",
         "ticks": "",
         "tickfont": {
          "size": 10
         },
         "title": {
          "text": "Predicted label"
         }
        },
        "yaxis": {
         "dtick": 1,
         "ticks": "",
         "ticksuffix": "  ",
         "tickfont": {
          "size": 10
         },
         "title": {
          "text": "True label"
         }
        },
        "template": {
         "data": {
          "histogram2dcontour": [
           {
            "type": "histogram2dcontour",
            "colorbar": {
             "outlinewidth": 0,
             "ticks": ""
            },
            "colorscale": [
             [
              0.0,
              "#0d0887"
             ],
             [
              0.1111111111111111,
              "#46039f"
             ],
             [
              0.2222222222222222,
              "#7201a8"
             ],
             [
              0.3333333333333333,
              "#9c179e"
             ],
             [
              0.4444444444444444,
              "#bd3786"
             ],
             [
              0.5555555555555556,
              "#d8576b"
             ],
             [
              0.6666666666666666,
              "#ed7953"
             ],
             [
              0.7777777777777778,
              "#fb9f3a"
             ],
             [
              0.8888888888888888,
              "#fdca26"
             ],
             [
              1.0,
              "#f0f921"
             ]
            ]
           }
          ],
          "choropleth": [
           {
            "type": "choropleth",
            "colorbar": {
             "outlinewidth": 0,
             "ticks": ""
            }
           }
          ],
          "histogram2d": [
           {
            "type": "histogram2d",
            "colorbar": {
             "outlinewidth": 0,
             "ticks": ""
            },
            "colorscale": [
             [
              0.0,
              "#0d0887"
             ],
             [
              0.1111111111111111,
              "#46039f"
             ],
             [
              0.2222222222222222,
              "#7201a8"
             ],
             [
              0.3333333333333333,
              "#9c179e"
             ],
             [
              0.4444444444444444,
              "#bd3786"
             ],
             [
              0.5555555555555556,
              "#d8576b"
             ],
             [
              0.6666666666666666,
              "#ed7953"
             ],
             [
              0.7777777777777778,
              "#fb9f3a"
             ],
             [
              0.8888888888888888,
              "#fdca26"
             ],
             [
              1.0,
              "#f0f921"
             ]
            ]
           }
          ],
          "heatmap": [
           {
            "type": "heatmap",
            "colorbar": {
             "outlinewidth": 0,
             "ticks": ""
            },
            "colorscale": [
             [
              0.0,
              "#0d0887"
             ],
             [
              0.1111111111111111,
              "#46039f"
             ],
             [
              0.2222222222222222,
              "#7201a8"
             ],
             [
              0.3333333333333333,
              "#9c179e"
             ],
             [
              0.4444444444444444,
              "#bd3786"
             ],
             [
              0.5555555555555556,
              "#d8576b"
             ],
             [
              0.6666666666666666,
              "#ed7953"
             ],
             [
              0.7777777777777778,
              "#fb9f3a"
             ],
             [
              0.8888888888888888,
              "#fdca26"
             ],
             [
              1.0,
              "#f0f921"
             ]
            ]
           }
          ],
          "heatmapgl": [
           {
            "type": "heatmapgl",
            "colorbar": {
             "outlinewidth": 0,
             "ticks": ""
            },
            "colorscale": [
             [
              0.0,
              "#0d0887"
             ],
             [
              0.1111111111111111,
              "#46039f"
             ],
             [
              0.2222222222222222,
              "#7201a8"
             ],
             [
              0.3333333333333333,
              "#9c179e"
             ],
             [
              0.4444444444444444,
              "#bd3786"
             ],
             [
              0.5555555555555556,
              "#d8576b"
             ],
             [
              0.6666666666666666,
              "#ed7953"
             ],
             [
              0.7777777777777778,
              "#fb9f3a"
             ],
             [
              0.8888888888888888,
              "#fdca26"
             ],
             [
              1.0,
              "#f0f921"
             ]
            ]
           }
          ],
          "contourcarpet": [
           {
            "type": "contourcarpet",
            "colorbar": {
             "outlinewidth": 0,
             "ticks": ""
            }
           }
          ],
          "contour": [
           {
            "type": "contour",
            "colorbar": {
             "outlinewidth": 0,
             "ticks": ""
            },
            "colorscale": [
             [
              0.0,
              "#0d0887"
             ],
             [
              0.1111111111111111,
              "#46039f"
             ],
             [
              0.2222222222222222,
              "#7201a8"
             ],
             [
              0.3333333333333333,
              "#9c179e"
             ],
             [
              0.4444444444444444,
              "#bd3786"
             ],
             [
              0.5555555555555556,
              "#d8576b"
             ],
             [
              0.6666666666666666,
              "#ed7953"
             ],
             [
              0.7777777777777778,
              "#fb9f3a"
             ],
             [
              0.8888888888888888,
              "#fdca26"
             ],
             [
              1.0,
              "#f0f921"
             ]
            ]
           }
          ],
          "surface": [
           {
            "type": "surface",
            "colorbar": {
             "outlinewidth": 0,
             "ticks": ""
            },
            "colorscale": [
             [
              0.0,
              "#0d0887"
             ],
             [
              0.1111111111111111,
              "#46039f"
             ],
             [
              0.2222222222222222,
              "#7201a8"
             ],
             [
              0.3333333333333333,
              "#9c179e"
             ],
             [
              0.4444444444444444,
              "#bd3786"
             ],
             [
              0.5555555555555556,
              "#d8576b"
             ],
             [
              0.6666666666666666,
              "#ed7953"
             ],
             [
              0.7777777777777778,
              "#fb9f3a"
             ],
             [
              0.8888888888888888,
              "#fdca26"
             ],
             [
              1.0,
              "#f0f921"
             ]
            ]
           }
          ],
          "mesh3d": [
           {
            "type": "mesh3d",
            "colorbar": {
             "outlinewidth": 0,
             "ticks": ""
            }
           }
          ],
          "scatter": [
           {
            "marker": {
             "line": {
              "color": "#283442"
             }
            },
            "type": "scatter"
           }
          ],
          "parcoords": [
           {
            "type": "parcoords",
            "line": {
             "colorbar": {
              "outlinewidth": 0,
              "ticks": ""
             }
            }
           }
          ],
          "scatterpolargl": [
           {
            "type": "scatterpolargl",
            "marker": {
             "colorbar": {
              "outlinewidth": 0,
              "ticks": ""
             }
            }
           }
          ],
          "bar": [
           {
            "error_x": {
             "color": "#f2f5fa"
            },
            "error_y": {
             "color": "#f2f5fa"
            },
            "marker": {
             "line": {
              "color": "rgb(17,17,17)",
              "width": 0.5
             },
             "pattern": {
              "fillmode": "overlay",
              "size": 10,
              "solidity": 0.2
             }
            },
            "type": "bar"
           }
          ],
          "scattergeo": [
           {
            "type": "scattergeo",
            "marker": {
             "colorbar": {
              "outlinewidth": 0,
              "ticks": ""
             }
            }
           }
          ],
          "scatterpolar": [
           {
            "type": "scatterpolar",
            "marker": {
             "colorbar": {
              "outlinewidth": 0,
              "ticks": ""
             }
            }
           }
          ],
          "histogram": [
           {
            "marker": {
             "pattern": {
              "fillmode": "overlay",
              "size": 10,
              "solidity": 0.2
             }
            },
            "type": "histogram"
           }
          ],
          "scattergl": [
           {
            "marker": {
             "line": {
              "color": "#283442"
             }
            },
            "type": "scattergl"
           }
          ],
          "scatter3d": [
           {
            "type": "scatter3d",
            "line": {
             "colorbar": {
              "outlinewidth": 0,
              "ticks": ""
             }
            },
            "marker": {
             "colorbar": {
              "outlinewidth": 0,
              "ticks": ""
             }
            }
           }
          ],
          "scattermapbox": [
           {
            "type": "scattermapbox",
            "marker": {
             "colorbar": {
              "outlinewidth": 0,
              "ticks": ""
             }
            }
           }
          ],
          "scatterternary": [
           {
            "type": "scatterternary",
            "marker": {
             "colorbar": {
              "outlinewidth": 0,
              "ticks": ""
             }
            }
           }
          ],
          "scattercarpet": [
           {
            "type": "scattercarpet",
            "marker": {
             "colorbar": {
              "outlinewidth": 0,
              "ticks": ""
             }
            }
           }
          ],
          "carpet": [
           {
            "aaxis": {
             "endlinecolor": "#A2B1C6",
             "gridcolor": "#506784",
             "linecolor": "#506784",
             "minorgridcolor": "#506784",
             "startlinecolor": "#A2B1C6"
            },
            "baxis": {
             "endlinecolor": "#A2B1C6",
             "gridcolor": "#506784",
             "linecolor": "#506784",
             "minorgridcolor": "#506784",
             "startlinecolor": "#A2B1C6"
            },
            "type": "carpet"
           }
          ],
          "table": [
           {
            "cells": {
             "fill": {
              "color": "#506784"
             },
             "line": {
              "color": "rgb(17,17,17)"
             }
            },
            "header": {
             "fill": {
              "color": "#2a3f5f"
             },
             "line": {
              "color": "rgb(17,17,17)"
             }
            },
            "type": "table"
           }
          ],
          "barpolar": [
           {
            "marker": {
             "line": {
              "color": "rgb(17,17,17)",
              "width": 0.5
             },
             "pattern": {
              "fillmode": "overlay",
              "size": 10,
              "solidity": 0.2
             }
            },
            "type": "barpolar"
           }
          ],
          "pie": [
           {
            "automargin": true,
            "type": "pie"
           }
          ]
         },
         "layout": {
          "autotypenumbers": "strict",
          "colorway": [
           "#636efa",
           "#EF553B",
           "#00cc96",
           "#ab63fa",
           "#FFA15A",
           "#19d3f3",
           "#FF6692",
           "#B6E880",
           "#FF97FF",
           "#FECB52"
          ],
          "font": {
           "color": "#f2f5fa"
          },
          "hovermode": "closest",
          "hoverlabel": {
           "align": "left"
          },
          "paper_bgcolor": "rgb(17,17,17)",
          "plot_bgcolor": "rgb(17,17,17)",
          "polar": {
           "bgcolor": "rgb(17,17,17)",
           "angularaxis": {
            "gridcolor": "#506784",
            "linecolor": "#506784",
            "ticks": ""
           },
           "radialaxis": {
            "gridcolor": "#506784",
            "linecolor": "#506784",
            "ticks": ""
           }
          },
          "ternary": {
           "bgcolor": "rgb(17,17,17)",
           "aaxis": {
            "gridcolor": "#506784",
            "linecolor": "#506784",
            "ticks": ""
           },
           "baxis": {
            "gridcolor": "#506784",
            "linecolor": "#506784",
            "ticks": ""
           },
           "caxis": {
            "gridcolor": "#506784",
            "linecolor": "#506784",
            "ticks": ""
           }
          },
          "coloraxis": {
           "colorbar": {
            "outlinewidth": 0,
            "ticks": ""
           }
          },
          "colorscale": {
           "sequential": [
            [
             0.0,
             "#0d0887"
            ],
            [
             0.1111111111111111,
             "#46039f"
            ],
            [
             0.2222222222222222,
             "#7201a8"
            ],
            [
             0.3333333333333333,
             "#9c179e"
            ],
            [
             0.4444444444444444,
             "#bd3786"
            ],
            [
             0.5555555555555556,
             "#d8576b"
            ],
            [
             0.6666666666666666,
             "#ed7953"
            ],
            [
             0.7777777777777778,
             "#fb9f3a"
            ],
            [
             0.8888888888888888,
             "#fdca26"
            ],
            [
             1.0,
             "#f0f921"
            ]
           ],
           "sequentialminus": [
            [
             0.0,
             "#0d0887"
            ],
            [
             0.1111111111111111,
             "#46039f"
            ],
            [
             0.2222222222222222,
             "#7201a8"
            ],
            [
             0.3333333333333333,
             "#9c179e"
            ],
            [
             0.4444444444444444,
             "#bd3786"
            ],
            [
             0.5555555555555556,
             "#d8576b"
            ],
            [
             0.6666666666666666,
             "#ed7953"
            ],
            [
             0.7777777777777778,
             "#fb9f3a"
            ],
            [
             0.8888888888888888,
             "#fdca26"
            ],
            [
             1.0,
             "#f0f921"
            ]
           ],
           "diverging": [
            [
             0,
             "#8e0152"
            ],
            [
             0.1,
             "#c51b7d"
            ],
            [
             0.2,
             "#de77ae"
            ],
            [
             0.3,
             "#f1b6da"
            ],
            [
             0.4,
             "#fde0ef"
            ],
            [
             0.5,
             "#f7f7f7"
            ],
            [
             0.6,
             "#e6f5d0"
            ],
            [
             0.7,
             "#b8e186"
            ],
            [
             0.8,
             "#7fbc41"
            ],
            [
             0.9,
             "#4d9221"
            ],
            [
             1,
             "#276419"
            ]
           ]
          },
          "xaxis": {
           "gridcolor": "#283442",
           "linecolor": "#506784",
           "ticks": "",
           "title": {
            "standoff": 15
           },
           "zerolinecolor": "#283442",
           "automargin": true,
           "zerolinewidth": 2
          },
          "yaxis": {
           "gridcolor": "#283442",
           "linecolor": "#506784",
           "ticks": "",
           "title": {
            "standoff": 15
           },
           "zerolinecolor": "#283442",
           "automargin": true,
           "zerolinewidth": 2
          },
          "scene": {
           "xaxis": {
            "backgroundcolor": "rgb(17,17,17)",
            "gridcolor": "#506784",
            "linecolor": "#506784",
            "showbackground": true,
            "ticks": "",
            "zerolinecolor": "#C8D4E3",
            "gridwidth": 2
           },
           "yaxis": {
            "backgroundcolor": "rgb(17,17,17)",
            "gridcolor": "#506784",
            "linecolor": "#506784",
            "showbackground": true,
            "ticks": "",
            "zerolinecolor": "#C8D4E3",
            "gridwidth": 2
           },
           "zaxis": {
            "backgroundcolor": "rgb(17,17,17)",
            "gridcolor": "#506784",
            "linecolor": "#506784",
            "showbackground": true,
            "ticks": "",
            "zerolinecolor": "#C8D4E3",
            "gridwidth": 2
           }
          },
          "shapedefaults": {
           "line": {
            "color": "#f2f5fa"
           }
          },
          "annotationdefaults": {
           "arrowcolor": "#f2f5fa",
           "arrowhead": 0,
           "arrowwidth": 1
          },
          "geo": {
           "bgcolor": "rgb(17,17,17)",
           "landcolor": "rgb(17,17,17)",
           "subunitcolor": "#506784",
           "showland": true,
           "showlakes": true,
           "lakecolor": "rgb(17,17,17)"
          },
          "title": {
           "x": 0.05
          },
          "updatemenudefaults": {
           "bgcolor": "#506784",
           "borderwidth": 0
          },
          "sliderdefaults": {
           "bgcolor": "#C8D4E3",
           "borderwidth": 1,
           "bordercolor": "rgb(17,17,17)",
           "tickwidth": 0
          },
          "mapbox": {
           "style": "dark"
          }
         }
        },
        "title": {
         "text": "Accuracy = 62.04, Weighted F1 = 0.56",
         "x": 0.5,
         "y": 0.05
        },
        "paper_bgcolor": "rgba(0,0,0,0)"
       },
       "config": {
        "plotlyServerURL": "https://plot.ly"
       }
      },
      "text/html": "<div>                            <div id=\"e2147352-501b-4b82-b46f-8e0b0eced887\" class=\"plotly-graph-div\" style=\"height:525px; width:100%;\"></div>            <script type=\"text/javascript\">                require([\"plotly\"], function(Plotly) {                    window.PLOTLYENV=window.PLOTLYENV || {};                                    if (document.getElementById(\"e2147352-501b-4b82-b46f-8e0b0eced887\")) {                    Plotly.newPlot(                        \"e2147352-501b-4b82-b46f-8e0b0eced887\",                        [{\"colorscale\":[[0.0,\"rgb(3, 5, 18)\"],[0.09090909090909091,\"rgb(25, 25, 51)\"],[0.18181818181818182,\"rgb(44, 42, 87)\"],[0.2727272727272727,\"rgb(58, 60, 125)\"],[0.36363636363636365,\"rgb(62, 83, 160)\"],[0.45454545454545453,\"rgb(62, 109, 178)\"],[0.5454545454545454,\"rgb(72, 134, 187)\"],[0.6363636363636364,\"rgb(89, 159, 196)\"],[0.7272727272727273,\"rgb(114, 184, 205)\"],[0.8181818181818182,\"rgb(149, 207, 216)\"],[0.9090909090909091,\"rgb(192, 229, 232)\"],[1.0,\"rgb(234, 252, 253)\"]],\"reversescale\":true,\"showscale\":false,\"x\":[\"I\",\"II\",\"III\",\"IV\"],\"y\":[\"IV\",\"III\",\"II\",\"I\"],\"z\":[[76,3,5,313],[44,3,5,70],[43,4,3,51],[304,3,7,75]],\"type\":\"heatmap\"}],                        {\"annotations\":[{\"font\":{\"color\":\"#000000\"},\"showarrow\":false,\"text\":\"76\",\"x\":\"I\",\"xref\":\"x\",\"y\":\"IV\",\"yref\":\"y\"},{\"font\":{\"color\":\"#000000\"},\"showarrow\":false,\"text\":\"3\",\"x\":\"II\",\"xref\":\"x\",\"y\":\"IV\",\"yref\":\"y\"},{\"font\":{\"color\":\"#000000\"},\"showarrow\":false,\"text\":\"5\",\"x\":\"III\",\"xref\":\"x\",\"y\":\"IV\",\"yref\":\"y\"},{\"font\":{\"color\":\"#FFFFFF\"},\"showarrow\":false,\"text\":\"313\",\"x\":\"IV\",\"xref\":\"x\",\"y\":\"IV\",\"yref\":\"y\"},{\"font\":{\"color\":\"#000000\"},\"showarrow\":false,\"text\":\"44\",\"x\":\"I\",\"xref\":\"x\",\"y\":\"III\",\"yref\":\"y\"},{\"font\":{\"color\":\"#000000\"},\"showarrow\":false,\"text\":\"3\",\"x\":\"II\",\"xref\":\"x\",\"y\":\"III\",\"yref\":\"y\"},{\"font\":{\"color\":\"#000000\"},\"showarrow\":false,\"text\":\"5\",\"x\":\"III\",\"xref\":\"x\",\"y\":\"III\",\"yref\":\"y\"},{\"font\":{\"color\":\"#000000\"},\"showarrow\":false,\"text\":\"70\",\"x\":\"IV\",\"xref\":\"x\",\"y\":\"III\",\"yref\":\"y\"},{\"font\":{\"color\":\"#000000\"},\"showarrow\":false,\"text\":\"43\",\"x\":\"I\",\"xref\":\"x\",\"y\":\"II\",\"yref\":\"y\"},{\"font\":{\"color\":\"#000000\"},\"showarrow\":false,\"text\":\"4\",\"x\":\"II\",\"xref\":\"x\",\"y\":\"II\",\"yref\":\"y\"},{\"font\":{\"color\":\"#000000\"},\"showarrow\":false,\"text\":\"3\",\"x\":\"III\",\"xref\":\"x\",\"y\":\"II\",\"yref\":\"y\"},{\"font\":{\"color\":\"#000000\"},\"showarrow\":false,\"text\":\"51\",\"x\":\"IV\",\"xref\":\"x\",\"y\":\"II\",\"yref\":\"y\"},{\"font\":{\"color\":\"#FFFFFF\"},\"showarrow\":false,\"text\":\"304\",\"x\":\"I\",\"xref\":\"x\",\"y\":\"I\",\"yref\":\"y\"},{\"font\":{\"color\":\"#000000\"},\"showarrow\":false,\"text\":\"3\",\"x\":\"II\",\"xref\":\"x\",\"y\":\"I\",\"yref\":\"y\"},{\"font\":{\"color\":\"#000000\"},\"showarrow\":false,\"text\":\"7\",\"x\":\"III\",\"xref\":\"x\",\"y\":\"I\",\"yref\":\"y\"},{\"font\":{\"color\":\"#000000\"},\"showarrow\":false,\"text\":\"75\",\"x\":\"IV\",\"xref\":\"x\",\"y\":\"I\",\"yref\":\"y\"}],\"xaxis\":{\"dtick\":1,\"gridcolor\":\"rgb(0, 0, 0)\",\"side\":\"top\",\"ticks\":\"\",\"tickfont\":{\"size\":10},\"title\":{\"text\":\"Predicted label\"}},\"yaxis\":{\"dtick\":1,\"ticks\":\"\",\"ticksuffix\":\"  \",\"tickfont\":{\"size\":10},\"title\":{\"text\":\"True label\"}},\"template\":{\"data\":{\"histogram2dcontour\":[{\"type\":\"histogram2dcontour\",\"colorbar\":{\"outlinewidth\":0,\"ticks\":\"\"},\"colorscale\":[[0.0,\"#0d0887\"],[0.1111111111111111,\"#46039f\"],[0.2222222222222222,\"#7201a8\"],[0.3333333333333333,\"#9c179e\"],[0.4444444444444444,\"#bd3786\"],[0.5555555555555556,\"#d8576b\"],[0.6666666666666666,\"#ed7953\"],[0.7777777777777778,\"#fb9f3a\"],[0.8888888888888888,\"#fdca26\"],[1.0,\"#f0f921\"]]}],\"choropleth\":[{\"type\":\"choropleth\",\"colorbar\":{\"outlinewidth\":0,\"ticks\":\"\"}}],\"histogram2d\":[{\"type\":\"histogram2d\",\"colorbar\":{\"outlinewidth\":0,\"ticks\":\"\"},\"colorscale\":[[0.0,\"#0d0887\"],[0.1111111111111111,\"#46039f\"],[0.2222222222222222,\"#7201a8\"],[0.3333333333333333,\"#9c179e\"],[0.4444444444444444,\"#bd3786\"],[0.5555555555555556,\"#d8576b\"],[0.6666666666666666,\"#ed7953\"],[0.7777777777777778,\"#fb9f3a\"],[0.8888888888888888,\"#fdca26\"],[1.0,\"#f0f921\"]]}],\"heatmap\":[{\"type\":\"heatmap\",\"colorbar\":{\"outlinewidth\":0,\"ticks\":\"\"},\"colorscale\":[[0.0,\"#0d0887\"],[0.1111111111111111,\"#46039f\"],[0.2222222222222222,\"#7201a8\"],[0.3333333333333333,\"#9c179e\"],[0.4444444444444444,\"#bd3786\"],[0.5555555555555556,\"#d8576b\"],[0.6666666666666666,\"#ed7953\"],[0.7777777777777778,\"#fb9f3a\"],[0.8888888888888888,\"#fdca26\"],[1.0,\"#f0f921\"]]}],\"heatmapgl\":[{\"type\":\"heatmapgl\",\"colorbar\":{\"outlinewidth\":0,\"ticks\":\"\"},\"colorscale\":[[0.0,\"#0d0887\"],[0.1111111111111111,\"#46039f\"],[0.2222222222222222,\"#7201a8\"],[0.3333333333333333,\"#9c179e\"],[0.4444444444444444,\"#bd3786\"],[0.5555555555555556,\"#d8576b\"],[0.6666666666666666,\"#ed7953\"],[0.7777777777777778,\"#fb9f3a\"],[0.8888888888888888,\"#fdca26\"],[1.0,\"#f0f921\"]]}],\"contourcarpet\":[{\"type\":\"contourcarpet\",\"colorbar\":{\"outlinewidth\":0,\"ticks\":\"\"}}],\"contour\":[{\"type\":\"contour\",\"colorbar\":{\"outlinewidth\":0,\"ticks\":\"\"},\"colorscale\":[[0.0,\"#0d0887\"],[0.1111111111111111,\"#46039f\"],[0.2222222222222222,\"#7201a8\"],[0.3333333333333333,\"#9c179e\"],[0.4444444444444444,\"#bd3786\"],[0.5555555555555556,\"#d8576b\"],[0.6666666666666666,\"#ed7953\"],[0.7777777777777778,\"#fb9f3a\"],[0.8888888888888888,\"#fdca26\"],[1.0,\"#f0f921\"]]}],\"surface\":[{\"type\":\"surface\",\"colorbar\":{\"outlinewidth\":0,\"ticks\":\"\"},\"colorscale\":[[0.0,\"#0d0887\"],[0.1111111111111111,\"#46039f\"],[0.2222222222222222,\"#7201a8\"],[0.3333333333333333,\"#9c179e\"],[0.4444444444444444,\"#bd3786\"],[0.5555555555555556,\"#d8576b\"],[0.6666666666666666,\"#ed7953\"],[0.7777777777777778,\"#fb9f3a\"],[0.8888888888888888,\"#fdca26\"],[1.0,\"#f0f921\"]]}],\"mesh3d\":[{\"type\":\"mesh3d\",\"colorbar\":{\"outlinewidth\":0,\"ticks\":\"\"}}],\"scatter\":[{\"marker\":{\"line\":{\"color\":\"#283442\"}},\"type\":\"scatter\"}],\"parcoords\":[{\"type\":\"parcoords\",\"line\":{\"colorbar\":{\"outlinewidth\":0,\"ticks\":\"\"}}}],\"scatterpolargl\":[{\"type\":\"scatterpolargl\",\"marker\":{\"colorbar\":{\"outlinewidth\":0,\"ticks\":\"\"}}}],\"bar\":[{\"error_x\":{\"color\":\"#f2f5fa\"},\"error_y\":{\"color\":\"#f2f5fa\"},\"marker\":{\"line\":{\"color\":\"rgb(17,17,17)\",\"width\":0.5},\"pattern\":{\"fillmode\":\"overlay\",\"size\":10,\"solidity\":0.2}},\"type\":\"bar\"}],\"scattergeo\":[{\"type\":\"scattergeo\",\"marker\":{\"colorbar\":{\"outlinewidth\":0,\"ticks\":\"\"}}}],\"scatterpolar\":[{\"type\":\"scatterpolar\",\"marker\":{\"colorbar\":{\"outlinewidth\":0,\"ticks\":\"\"}}}],\"histogram\":[{\"marker\":{\"pattern\":{\"fillmode\":\"overlay\",\"size\":10,\"solidity\":0.2}},\"type\":\"histogram\"}],\"scattergl\":[{\"marker\":{\"line\":{\"color\":\"#283442\"}},\"type\":\"scattergl\"}],\"scatter3d\":[{\"type\":\"scatter3d\",\"line\":{\"colorbar\":{\"outlinewidth\":0,\"ticks\":\"\"}},\"marker\":{\"colorbar\":{\"outlinewidth\":0,\"ticks\":\"\"}}}],\"scattermapbox\":[{\"type\":\"scattermapbox\",\"marker\":{\"colorbar\":{\"outlinewidth\":0,\"ticks\":\"\"}}}],\"scatterternary\":[{\"type\":\"scatterternary\",\"marker\":{\"colorbar\":{\"outlinewidth\":0,\"ticks\":\"\"}}}],\"scattercarpet\":[{\"type\":\"scattercarpet\",\"marker\":{\"colorbar\":{\"outlinewidth\":0,\"ticks\":\"\"}}}],\"carpet\":[{\"aaxis\":{\"endlinecolor\":\"#A2B1C6\",\"gridcolor\":\"#506784\",\"linecolor\":\"#506784\",\"minorgridcolor\":\"#506784\",\"startlinecolor\":\"#A2B1C6\"},\"baxis\":{\"endlinecolor\":\"#A2B1C6\",\"gridcolor\":\"#506784\",\"linecolor\":\"#506784\",\"minorgridcolor\":\"#506784\",\"startlinecolor\":\"#A2B1C6\"},\"type\":\"carpet\"}],\"table\":[{\"cells\":{\"fill\":{\"color\":\"#506784\"},\"line\":{\"color\":\"rgb(17,17,17)\"}},\"header\":{\"fill\":{\"color\":\"#2a3f5f\"},\"line\":{\"color\":\"rgb(17,17,17)\"}},\"type\":\"table\"}],\"barpolar\":[{\"marker\":{\"line\":{\"color\":\"rgb(17,17,17)\",\"width\":0.5},\"pattern\":{\"fillmode\":\"overlay\",\"size\":10,\"solidity\":0.2}},\"type\":\"barpolar\"}],\"pie\":[{\"automargin\":true,\"type\":\"pie\"}]},\"layout\":{\"autotypenumbers\":\"strict\",\"colorway\":[\"#636efa\",\"#EF553B\",\"#00cc96\",\"#ab63fa\",\"#FFA15A\",\"#19d3f3\",\"#FF6692\",\"#B6E880\",\"#FF97FF\",\"#FECB52\"],\"font\":{\"color\":\"#f2f5fa\"},\"hovermode\":\"closest\",\"hoverlabel\":{\"align\":\"left\"},\"paper_bgcolor\":\"rgb(17,17,17)\",\"plot_bgcolor\":\"rgb(17,17,17)\",\"polar\":{\"bgcolor\":\"rgb(17,17,17)\",\"angularaxis\":{\"gridcolor\":\"#506784\",\"linecolor\":\"#506784\",\"ticks\":\"\"},\"radialaxis\":{\"gridcolor\":\"#506784\",\"linecolor\":\"#506784\",\"ticks\":\"\"}},\"ternary\":{\"bgcolor\":\"rgb(17,17,17)\",\"aaxis\":{\"gridcolor\":\"#506784\",\"linecolor\":\"#506784\",\"ticks\":\"\"},\"baxis\":{\"gridcolor\":\"#506784\",\"linecolor\":\"#506784\",\"ticks\":\"\"},\"caxis\":{\"gridcolor\":\"#506784\",\"linecolor\":\"#506784\",\"ticks\":\"\"}},\"coloraxis\":{\"colorbar\":{\"outlinewidth\":0,\"ticks\":\"\"}},\"colorscale\":{\"sequential\":[[0.0,\"#0d0887\"],[0.1111111111111111,\"#46039f\"],[0.2222222222222222,\"#7201a8\"],[0.3333333333333333,\"#9c179e\"],[0.4444444444444444,\"#bd3786\"],[0.5555555555555556,\"#d8576b\"],[0.6666666666666666,\"#ed7953\"],[0.7777777777777778,\"#fb9f3a\"],[0.8888888888888888,\"#fdca26\"],[1.0,\"#f0f921\"]],\"sequentialminus\":[[0.0,\"#0d0887\"],[0.1111111111111111,\"#46039f\"],[0.2222222222222222,\"#7201a8\"],[0.3333333333333333,\"#9c179e\"],[0.4444444444444444,\"#bd3786\"],[0.5555555555555556,\"#d8576b\"],[0.6666666666666666,\"#ed7953\"],[0.7777777777777778,\"#fb9f3a\"],[0.8888888888888888,\"#fdca26\"],[1.0,\"#f0f921\"]],\"diverging\":[[0,\"#8e0152\"],[0.1,\"#c51b7d\"],[0.2,\"#de77ae\"],[0.3,\"#f1b6da\"],[0.4,\"#fde0ef\"],[0.5,\"#f7f7f7\"],[0.6,\"#e6f5d0\"],[0.7,\"#b8e186\"],[0.8,\"#7fbc41\"],[0.9,\"#4d9221\"],[1,\"#276419\"]]},\"xaxis\":{\"gridcolor\":\"#283442\",\"linecolor\":\"#506784\",\"ticks\":\"\",\"title\":{\"standoff\":15},\"zerolinecolor\":\"#283442\",\"automargin\":true,\"zerolinewidth\":2},\"yaxis\":{\"gridcolor\":\"#283442\",\"linecolor\":\"#506784\",\"ticks\":\"\",\"title\":{\"standoff\":15},\"zerolinecolor\":\"#283442\",\"automargin\":true,\"zerolinewidth\":2},\"scene\":{\"xaxis\":{\"backgroundcolor\":\"rgb(17,17,17)\",\"gridcolor\":\"#506784\",\"linecolor\":\"#506784\",\"showbackground\":true,\"ticks\":\"\",\"zerolinecolor\":\"#C8D4E3\",\"gridwidth\":2},\"yaxis\":{\"backgroundcolor\":\"rgb(17,17,17)\",\"gridcolor\":\"#506784\",\"linecolor\":\"#506784\",\"showbackground\":true,\"ticks\":\"\",\"zerolinecolor\":\"#C8D4E3\",\"gridwidth\":2},\"zaxis\":{\"backgroundcolor\":\"rgb(17,17,17)\",\"gridcolor\":\"#506784\",\"linecolor\":\"#506784\",\"showbackground\":true,\"ticks\":\"\",\"zerolinecolor\":\"#C8D4E3\",\"gridwidth\":2}},\"shapedefaults\":{\"line\":{\"color\":\"#f2f5fa\"}},\"annotationdefaults\":{\"arrowcolor\":\"#f2f5fa\",\"arrowhead\":0,\"arrowwidth\":1},\"geo\":{\"bgcolor\":\"rgb(17,17,17)\",\"landcolor\":\"rgb(17,17,17)\",\"subunitcolor\":\"#506784\",\"showland\":true,\"showlakes\":true,\"lakecolor\":\"rgb(17,17,17)\"},\"title\":{\"x\":0.05},\"updatemenudefaults\":{\"bgcolor\":\"#506784\",\"borderwidth\":0},\"sliderdefaults\":{\"bgcolor\":\"#C8D4E3\",\"borderwidth\":1,\"bordercolor\":\"rgb(17,17,17)\",\"tickwidth\":0},\"mapbox\":{\"style\":\"dark\"}}},\"title\":{\"text\":\"Accuracy = 62.04, Weighted F1 = 0.56\",\"x\":0.5,\"y\":0.05},\"paper_bgcolor\":\"rgba(0,0,0,0)\"},                        {\"responsive\": true}                    ).then(function(){\n                            \nvar gd = document.getElementById('e2147352-501b-4b82-b46f-8e0b0eced887');\nvar x = new MutationObserver(function (mutations, observer) {{\n        var display = window.getComputedStyle(gd).display;\n        if (!display || display === 'none') {{\n            console.log([gd, 'removed!']);\n            Plotly.purge(gd);\n            observer.disconnect();\n        }}\n}});\n\n// Listen for the removal of the full notebook cells\nvar notebookContainer = gd.closest('#notebook-container');\nif (notebookContainer) {{\n    x.observe(notebookContainer, {childList: true});\n}}\n\n// Listen for the clearing of the current output cell\nvar outputEl = gd.closest('.output');\nif (outputEl) {{\n    x.observe(outputEl, {childList: true});\n}}\n\n                        })                };                });            </script>        </div>"
     },
     "metadata": {},
     "output_type": "display_data"
    }
   ],
   "source": [
    "accuracy = accuracy_score(y_true, y_pred.astype(int))\n",
    "f1 = f1_score(y_true, y_pred.astype(int), average='weighted')\n",
    "cm = confusion_matrix(y_true, y_pred.astype(int))\n",
    "\n",
    "title_dict = {\n",
    "    'text': f'Accuracy = {accuracy*100:.2f}, Weighted F1 = {f1:.2f}',\n",
    "    'x': 0.5,\n",
    "    'y': 0.05\n",
    "}\n",
    "\n",
    "plot_confusion_matrix(cm, labels, title_dict)"
   ],
   "metadata": {
    "collapsed": false,
    "ExecuteTime": {
     "start_time": "2023-04-11T18:08:21.655174Z",
     "end_time": "2023-04-11T18:08:21.707705Z"
    }
   }
  },
  {
   "cell_type": "markdown",
   "source": [
    "## All cancer types together, binary classification (stages: I-III vs IV)"
   ],
   "metadata": {
    "collapsed": false
   }
  },
  {
   "cell_type": "markdown",
   "source": [
    "Map first three stages to one mutual class \"I-III\""
   ],
   "metadata": {
    "collapsed": false
   }
  },
  {
   "cell_type": "code",
   "execution_count": 27,
   "outputs": [],
   "source": [
    "X_train = train.copy(deep=True)\n",
    "\n",
    "mapping = {\n",
    "    'I': 'I-III',\n",
    "    'II': 'I-III',\n",
    "    'III': 'I-III',\n",
    "    'IV': 'IV'\n",
    "}\n",
    "X_train.loc[:, 'Stage'] = X_train['Stage'].map(mapping)"
   ],
   "metadata": {
    "collapsed": false,
    "ExecuteTime": {
     "start_time": "2023-04-11T15:07:26.176293Z",
     "end_time": "2023-04-11T15:07:26.208648Z"
    }
   }
  },
  {
   "cell_type": "code",
   "execution_count": 28,
   "outputs": [],
   "source": [
    "stratification_groups = X_train.apply(lambda row: f\"{row['Group'].replace(' ', '_')}_{row['Stage']}\", axis=1)\n",
    "X_train = X_train.loc[:, ~train.columns.isin(['ID', 'Sex', 'Age', 'Group'])]"
   ],
   "metadata": {
    "collapsed": false,
    "ExecuteTime": {
     "start_time": "2023-04-11T15:07:27.328141Z",
     "end_time": "2023-04-11T15:07:27.479469Z"
    }
   }
  },
  {
   "cell_type": "markdown",
   "source": [
    "Encode labels"
   ],
   "metadata": {
    "collapsed": false
   }
  },
  {
   "cell_type": "code",
   "execution_count": 29,
   "outputs": [
    {
     "data": {
      "text/plain": "Stage\n0    612\n1    397\nName: count, dtype: int64"
     },
     "execution_count": 29,
     "metadata": {},
     "output_type": "execute_result"
    }
   ],
   "source": [
    "labels_encoding = {\n",
    "    'I-III': 0,\n",
    "    'IV': 1\n",
    "}\n",
    "X_train.loc[:, 'Stage'] = X_train['Stage'].map(labels_encoding)\n",
    "\n",
    "X_train['Stage'].value_counts()"
   ],
   "metadata": {
    "collapsed": false,
    "ExecuteTime": {
     "start_time": "2023-04-11T15:07:33.119232Z",
     "end_time": "2023-04-11T15:07:33.149518Z"
    }
   }
  },
  {
   "cell_type": "markdown",
   "source": [
    "Run hyperparameters optimization"
   ],
   "metadata": {
    "collapsed": false
   }
  },
  {
   "cell_type": "code",
   "execution_count": 30,
   "outputs": [
    {
     "name": "stderr",
     "output_type": "stream",
     "text": [
      "\u001B[32m[I 2023-04-11 15:07:47,935]\u001B[0m A new study created in memory with name: no-name-7564e606-7466-4958-be9a-12c056e47667\u001B[0m\n",
      "\u001B[32m[I 2023-04-11 15:07:57,193]\u001B[0m Trial 0 finished with value: 0.6357480737115248 and parameters: {'n_estimators': 38, 'max_depth': 4, 'learning_rate': 0.17803153795692553, 'subsample': 0.6461181194345617, 'colsample_bytree': 0.9776737012625218, 'gamma': 0.34556273385546654}. Best is trial 0 with value: 0.6357480737115248.\u001B[0m\n",
      "\u001B[32m[I 2023-04-11 15:08:47,288]\u001B[0m Trial 1 finished with value: 0.66690789517865 and parameters: {'n_estimators': 150, 'max_depth': 7, 'learning_rate': 0.01970671441550036, 'subsample': 0.8076617186462105, 'colsample_bytree': 0.9694142770399612, 'gamma': 0.12267699270396781}. Best is trial 1 with value: 0.66690789517865.\u001B[0m\n",
      "\u001B[32m[I 2023-04-11 15:08:57,408]\u001B[0m Trial 2 finished with value: 0.6616067637997919 and parameters: {'n_estimators': 35, 'max_depth': 5, 'learning_rate': 0.11229335049027983, 'subsample': 0.7125073940594522, 'colsample_bytree': 0.9063110618062, 'gamma': 0.6640163822245508}. Best is trial 1 with value: 0.66690789517865.\u001B[0m\n",
      "\u001B[32m[I 2023-04-11 15:09:09,925]\u001B[0m Trial 3 finished with value: 0.6565812714225441 and parameters: {'n_estimators': 52, 'max_depth': 5, 'learning_rate': 0.04210969718776128, 'subsample': 0.7382378322603053, 'colsample_bytree': 0.7289013296092778, 'gamma': 0.3472850529133963}. Best is trial 1 with value: 0.66690789517865.\u001B[0m\n",
      "\u001B[32m[I 2023-04-11 15:09:26,551]\u001B[0m Trial 4 finished with value: 0.6345374702922866 and parameters: {'n_estimators': 99, 'max_depth': 2, 'learning_rate': 0.287802054959091, 'subsample': 0.8026014119113424, 'colsample_bytree': 0.8398281557735185, 'gamma': 0.8586675022787352}. Best is trial 1 with value: 0.66690789517865.\u001B[0m\n",
      "\u001B[32m[I 2023-04-11 15:09:51,932]\u001B[0m Trial 5 finished with value: 0.643527180391027 and parameters: {'n_estimators': 116, 'max_depth': 4, 'learning_rate': 0.003906330559682602, 'subsample': 0.6169531580524363, 'colsample_bytree': 0.8811647208448905, 'gamma': 0.6983761391767899}. Best is trial 1 with value: 0.66690789517865.\u001B[0m\n",
      "\u001B[32m[I 2023-04-11 15:10:07,987]\u001B[0m Trial 6 finished with value: 0.6526078916044151 and parameters: {'n_estimators': 49, 'max_depth': 8, 'learning_rate': 0.16624793934806426, 'subsample': 0.9246009933510314, 'colsample_bytree': 0.7858879234227607, 'gamma': 0.8590049566933781}. Best is trial 1 with value: 0.66690789517865.\u001B[0m\n",
      "\u001B[32m[I 2023-04-11 15:10:20,721]\u001B[0m Trial 7 finished with value: 0.6720044672786349 and parameters: {'n_estimators': 44, 'max_depth': 8, 'learning_rate': 0.2631187343492653, 'subsample': 0.9290965292061124, 'colsample_bytree': 0.6157348736807065, 'gamma': 0.8802527552890316}. Best is trial 7 with value: 0.6720044672786349.\u001B[0m\n",
      "\u001B[32m[I 2023-04-11 15:10:37,491]\u001B[0m Trial 8 finished with value: 0.6716133777295756 and parameters: {'n_estimators': 71, 'max_depth': 3, 'learning_rate': 0.27431741499478135, 'subsample': 0.9409446267565085, 'colsample_bytree': 0.8869881152207351, 'gamma': 0.667444007368835}. Best is trial 7 with value: 0.6720044672786349.\u001B[0m\n",
      "\u001B[32m[I 2023-04-11 15:10:48,783]\u001B[0m Trial 9 finished with value: 0.668529843120007 and parameters: {'n_estimators': 32, 'max_depth': 8, 'learning_rate': 0.2308945362863779, 'subsample': 0.9719023305591035, 'colsample_bytree': 0.7590627690811173, 'gamma': 0.2260306285564233}. Best is trial 7 with value: 0.6720044672786349.\u001B[0m\n",
      "\u001B[32m[I 2023-04-11 15:11:07,106]\u001B[0m Trial 10 finished with value: 0.6401516270368729 and parameters: {'n_estimators': 74, 'max_depth': 7, 'learning_rate': 0.21709278421156297, 'subsample': 0.8804408278989739, 'colsample_bytree': 0.6018726601004037, 'gamma': 0.9855832614745117}. Best is trial 7 with value: 0.6720044672786349.\u001B[0m\n",
      "\u001B[32m[I 2023-04-11 15:11:18,728]\u001B[0m Trial 11 finished with value: 0.6622293910976775 and parameters: {'n_estimators': 71, 'max_depth': 2, 'learning_rate': 0.29996377541267294, 'subsample': 0.9977342758588377, 'colsample_bytree': 0.6087467405346358, 'gamma': 0.6153805143513099}. Best is trial 7 with value: 0.6720044672786349.\u001B[0m\n",
      "\u001B[32m[I 2023-04-11 15:11:30,787]\u001B[0m Trial 12 finished with value: 0.6757182743469807 and parameters: {'n_estimators': 63, 'max_depth': 3, 'learning_rate': 0.2520922296015535, 'subsample': 0.8946849028290514, 'colsample_bytree': 0.6902632454241284, 'gamma': 0.5251711994577671}. Best is trial 12 with value: 0.6757182743469807.\u001B[0m\n",
      "\u001B[32m[I 2023-04-11 15:11:50,675]\u001B[0m Trial 13 finished with value: 0.657238147811781 and parameters: {'n_estimators': 97, 'max_depth': 6, 'learning_rate': 0.2438984605357534, 'subsample': 0.8588118087537476, 'colsample_bytree': 0.6692953280722789, 'gamma': 0.49021682282387286}. Best is trial 12 with value: 0.6757182743469807.\u001B[0m\n",
      "\u001B[32m[I 2023-04-11 15:12:02,347]\u001B[0m Trial 14 finished with value: 0.660279175942859 and parameters: {'n_estimators': 59, 'max_depth': 3, 'learning_rate': 0.2553541791127603, 'subsample': 0.8904611030543972, 'colsample_bytree': 0.6743604203430629, 'gamma': 0.48418281885456865}. Best is trial 12 with value: 0.6757182743469807.\u001B[0m\n",
      "\u001B[32m[I 2023-04-11 15:12:10,805]\u001B[0m Trial 15 finished with value: 0.6454482253293798 and parameters: {'n_estimators': 28, 'max_depth': 6, 'learning_rate': 0.18853903293846147, 'subsample': 0.936593513875252, 'colsample_bytree': 0.6823994060139316, 'gamma': 0.03642615092971707}. Best is trial 12 with value: 0.6757182743469807.\u001B[0m\n",
      "\u001B[32m[I 2023-04-11 15:12:27,052]\u001B[0m Trial 16 finished with value: 0.6932980789923285 and parameters: {'n_estimators': 87, 'max_depth': 3, 'learning_rate': 0.21522507291528817, 'subsample': 0.8640532789929798, 'colsample_bytree': 0.7231997325970884, 'gamma': 0.8180139972190644}. Best is trial 16 with value: 0.6932980789923285.\u001B[0m\n",
      "\u001B[32m[I 2023-04-11 15:12:48,681]\u001B[0m Trial 17 finished with value: 0.6769194380269478 and parameters: {'n_estimators': 122, 'max_depth': 3, 'learning_rate': 0.21384324898193424, 'subsample': 0.8353006121222165, 'colsample_bytree': 0.7182837993029381, 'gamma': 0.7709796112439352}. Best is trial 16 with value: 0.6932980789923285.\u001B[0m\n",
      "\u001B[32m[I 2023-04-11 15:13:14,272]\u001B[0m Trial 18 finished with value: 0.6588919082125604 and parameters: {'n_estimators': 129, 'max_depth': 4, 'learning_rate': 0.20719437474000157, 'subsample': 0.8427928998250548, 'colsample_bytree': 0.7470596708017101, 'gamma': 0.7625058217526226}. Best is trial 16 with value: 0.6932980789923285.\u001B[0m\n",
      "\u001B[32m[I 2023-04-11 15:13:33,411]\u001B[0m Trial 19 finished with value: 0.6747671847671847 and parameters: {'n_estimators': 121, 'max_depth': 2, 'learning_rate': 0.14134636093865263, 'subsample': 0.8286990222387172, 'colsample_bytree': 0.8013893430117252, 'gamma': 0.9768887807020772}. Best is trial 16 with value: 0.6932980789923285.\u001B[0m\n",
      "\u001B[32m[I 2023-04-11 15:13:50,264]\u001B[0m Trial 20 finished with value: 0.6625253090847378 and parameters: {'n_estimators': 94, 'max_depth': 3, 'learning_rate': 0.20743498401120772, 'subsample': 0.7689684132837019, 'colsample_bytree': 0.7337997304111211, 'gamma': 0.8008215362526804}. Best is trial 16 with value: 0.6932980789923285.\u001B[0m\n",
      "\u001B[32m[I 2023-04-11 15:14:06,089]\u001B[0m Trial 21 finished with value: 0.6631929155554817 and parameters: {'n_estimators': 85, 'max_depth': 3, 'learning_rate': 0.24306680887629806, 'subsample': 0.8771578607972702, 'colsample_bytree': 0.704299896174651, 'gamma': 0.6012834516551837}. Best is trial 16 with value: 0.6932980789923285.\u001B[0m\n",
      "\u001B[32m[I 2023-04-11 15:14:31,951]\u001B[0m Trial 22 finished with value: 0.6766523956889622 and parameters: {'n_estimators': 141, 'max_depth': 4, 'learning_rate': 0.2290517329810029, 'subsample': 0.8408936082163506, 'colsample_bytree': 0.651636701603406, 'gamma': 0.7760083744621695}. Best is trial 16 with value: 0.6932980789923285.\u001B[0m\n",
      "\u001B[32m[I 2023-04-11 15:14:58,330]\u001B[0m Trial 23 finished with value: 0.6465396826732894 and parameters: {'n_estimators': 143, 'max_depth': 4, 'learning_rate': 0.20955467213574241, 'subsample': 0.8371867592805234, 'colsample_bytree': 0.6500157245505436, 'gamma': 0.756821536695796}. Best is trial 16 with value: 0.6932980789923285.\u001B[0m\n",
      "\u001B[32m[I 2023-04-11 15:15:23,317]\u001B[0m Trial 24 finished with value: 0.6412668015561469 and parameters: {'n_estimators': 131, 'max_depth': 4, 'learning_rate': 0.2298976956037076, 'subsample': 0.8096111029085479, 'colsample_bytree': 0.7105819838155425, 'gamma': 0.9223603672667591}. Best is trial 16 with value: 0.6932980789923285.\u001B[0m\n",
      "\u001B[32m[I 2023-04-11 15:15:40,632]\u001B[0m Trial 25 finished with value: 0.6746016769874549 and parameters: {'n_estimators': 113, 'max_depth': 2, 'learning_rate': 0.1872585265901908, 'subsample': 0.780935467750473, 'colsample_bytree': 0.6391615685386051, 'gamma': 0.7996832914984761}. Best is trial 16 with value: 0.6932980789923285.\u001B[0m\n",
      "\u001B[32m[I 2023-04-11 15:16:07,060]\u001B[0m Trial 26 finished with value: 0.6736722192561178 and parameters: {'n_estimators': 135, 'max_depth': 5, 'learning_rate': 0.28134214574490035, 'subsample': 0.8522461477235236, 'colsample_bytree': 0.6489997576285803, 'gamma': 0.7242640278595374}. Best is trial 16 with value: 0.6932980789923285.\u001B[0m\n",
      "\u001B[32m[I 2023-04-11 15:16:26,703]\u001B[0m Trial 27 finished with value: 0.679308817013735 and parameters: {'n_estimators': 109, 'max_depth': 3, 'learning_rate': 0.15206213924112616, 'subsample': 0.866478709030246, 'colsample_bytree': 0.7199452820570384, 'gamma': 0.8072753200096713}. Best is trial 16 with value: 0.6932980789923285.\u001B[0m\n",
      "\u001B[32m[I 2023-04-11 15:16:46,421]\u001B[0m Trial 28 finished with value: 0.6584392072854296 and parameters: {'n_estimators': 107, 'max_depth': 3, 'learning_rate': 0.13145270692020894, 'subsample': 0.8931260437511321, 'colsample_bytree': 0.7198813074228451, 'gamma': 0.9191269113428038}. Best is trial 16 with value: 0.6932980789923285.\u001B[0m\n",
      "\u001B[32m[I 2023-04-11 15:16:58,969]\u001B[0m Trial 29 finished with value: 0.6838093164017031 and parameters: {'n_estimators': 84, 'max_depth': 2, 'learning_rate': 0.16384854006965427, 'subsample': 0.6900516311901319, 'colsample_bytree': 0.7651873411605239, 'gamma': 0.8311295781756873}. Best is trial 16 with value: 0.6932980789923285.\u001B[0m\n",
      "\u001B[32m[I 2023-04-11 15:17:11,030]\u001B[0m Trial 30 finished with value: 0.6787903903634694 and parameters: {'n_estimators': 82, 'max_depth': 2, 'learning_rate': 0.15829539684993002, 'subsample': 0.6649850385726139, 'colsample_bytree': 0.7574603335096228, 'gamma': 0.8412065790466002}. Best is trial 16 with value: 0.6932980789923285.\u001B[0m\n",
      "\u001B[32m[I 2023-04-11 15:17:23,768]\u001B[0m Trial 31 finished with value: 0.6834979954180986 and parameters: {'n_estimators': 86, 'max_depth': 2, 'learning_rate': 0.1609867675713424, 'subsample': 0.674951045285264, 'colsample_bytree': 0.7656130400310194, 'gamma': 0.8529764341126872}. Best is trial 16 with value: 0.6932980789923285.\u001B[0m\n",
      "\u001B[32m[I 2023-04-11 15:17:38,074]\u001B[0m Trial 32 finished with value: 0.68056779922703 and parameters: {'n_estimators': 92, 'max_depth': 2, 'learning_rate': 0.17411579878650255, 'subsample': 0.6708896577813898, 'colsample_bytree': 0.7637789348601606, 'gamma': 0.9288288021075295}. Best is trial 16 with value: 0.6932980789923285.\u001B[0m\n",
      "\u001B[32m[I 2023-04-11 15:17:52,346]\u001B[0m Trial 33 finished with value: 0.6596307113648402 and parameters: {'n_estimators': 90, 'max_depth': 2, 'learning_rate': 0.17378731565940864, 'subsample': 0.6799920093035825, 'colsample_bytree': 0.7693406341138382, 'gamma': 0.9229068380628946}. Best is trial 16 with value: 0.6932980789923285.\u001B[0m\n",
      "\u001B[32m[I 2023-04-11 15:18:06,341]\u001B[0m Trial 34 finished with value: 0.6665721852639841 and parameters: {'n_estimators': 79, 'max_depth': 2, 'learning_rate': 0.12171993436758911, 'subsample': 0.7013576510975102, 'colsample_bytree': 0.8107580189718586, 'gamma': 0.9833036321322212}. Best is trial 16 with value: 0.6932980789923285.\u001B[0m\n",
      "\u001B[32m[I 2023-04-11 15:18:22,381]\u001B[0m Trial 35 finished with value: 0.6644891020581629 and parameters: {'n_estimators': 101, 'max_depth': 2, 'learning_rate': 0.10346407717516262, 'subsample': 0.6378675492594755, 'colsample_bytree': 0.7771301798796194, 'gamma': 0.9028609762346307}. Best is trial 16 with value: 0.6932980789923285.\u001B[0m\n",
      "\u001B[32m[I 2023-04-11 15:18:36,223]\u001B[0m Trial 36 finished with value: 0.6630755493020756 and parameters: {'n_estimators': 89, 'max_depth': 2, 'learning_rate': 0.18466563950388007, 'subsample': 0.7306331918398081, 'colsample_bytree': 0.7488436299694625, 'gamma': 0.8612802284398674}. Best is trial 16 with value: 0.6932980789923285.\u001B[0m\n",
      "\u001B[32m[I 2023-04-11 15:18:47,874]\u001B[0m Trial 37 finished with value: 0.6952425471073922 and parameters: {'n_estimators': 63, 'max_depth': 2, 'learning_rate': 0.1724779691099535, 'subsample': 0.6095971861990743, 'colsample_bytree': 0.820303761107322, 'gamma': 0.7051147617384677}. Best is trial 37 with value: 0.6952425471073922.\u001B[0m\n",
      "\u001B[32m[I 2023-04-11 15:18:57,885]\u001B[0m Trial 38 finished with value: 0.649762929317077 and parameters: {'n_estimators': 59, 'max_depth': 2, 'learning_rate': 0.14816998328978842, 'subsample': 0.6310669417871193, 'colsample_bytree': 0.8249001251401423, 'gamma': 0.7125267288269169}. Best is trial 37 with value: 0.6952425471073922.\u001B[0m\n",
      "\u001B[32m[I 2023-04-11 15:19:10,057]\u001B[0m Trial 39 finished with value: 0.6633217730050285 and parameters: {'n_estimators': 65, 'max_depth': 3, 'learning_rate': 0.10275634147508748, 'subsample': 0.621507596537384, 'colsample_bytree': 0.7865434545776483, 'gamma': 0.826495049648274}. Best is trial 37 with value: 0.6952425471073922.\u001B[0m\n",
      "\u001B[32m[I 2023-04-11 15:19:17,873]\u001B[0m Trial 40 finished with value: 0.6594527237616737 and parameters: {'n_estimators': 46, 'max_depth': 2, 'learning_rate': 0.16263167751235608, 'subsample': 0.6047206934791671, 'colsample_bytree': 0.8433644770272523, 'gamma': 0.8431974395969217}. Best is trial 37 with value: 0.6952425471073922.\u001B[0m\n",
      "\u001B[32m[I 2023-04-11 15:19:30,271]\u001B[0m Trial 41 finished with value: 0.6627878977143683 and parameters: {'n_estimators': 79, 'max_depth': 2, 'learning_rate': 0.17557946552108322, 'subsample': 0.6536601707547183, 'colsample_bytree': 0.7868340415678874, 'gamma': 0.9031682405745031}. Best is trial 37 with value: 0.6952425471073922.\u001B[0m\n",
      "\u001B[32m[I 2023-04-11 15:19:45,382]\u001B[0m Trial 42 finished with value: 0.6576334471725245 and parameters: {'n_estimators': 105, 'max_depth': 2, 'learning_rate': 0.19666398371451593, 'subsample': 0.6004634112244357, 'colsample_bytree': 0.7376572247656327, 'gamma': 0.7272503015655731}. Best is trial 37 with value: 0.6952425471073922.\u001B[0m\n",
      "\u001B[32m[I 2023-04-11 15:20:01,887]\u001B[0m Trial 43 finished with value: 0.6680222066863408 and parameters: {'n_estimators': 91, 'max_depth': 3, 'learning_rate': 0.16994090709065302, 'subsample': 0.6864168417162114, 'colsample_bytree': 0.7634798997066403, 'gamma': 0.8658415377430423}. Best is trial 37 with value: 0.6952425471073922.\u001B[0m\n",
      "\u001B[32m[I 2023-04-11 15:20:06,156]\u001B[0m Trial 44 finished with value: 0.6295975390014275 and parameters: {'n_estimators': 20, 'max_depth': 2, 'learning_rate': 0.1947356441341567, 'subsample': 0.6479796665091022, 'colsample_bytree': 0.8116529694989334, 'gamma': 0.9529664144682908}. Best is trial 37 with value: 0.6952425471073922.\u001B[0m\n",
      "\u001B[32m[I 2023-04-11 15:20:19,977]\u001B[0m Trial 45 finished with value: 0.657577582448194 and parameters: {'n_estimators': 76, 'max_depth': 3, 'learning_rate': 0.1619773322495068, 'subsample': 0.6676606506907095, 'colsample_bytree': 0.7412921183888243, 'gamma': 0.6757233163051117}. Best is trial 37 with value: 0.6952425471073922.\u001B[0m\n",
      "\u001B[32m[I 2023-04-11 15:20:30,860]\u001B[0m Trial 46 finished with value: 0.6662840097622706 and parameters: {'n_estimators': 69, 'max_depth': 2, 'learning_rate': 0.1387273979773081, 'subsample': 0.7116511355465219, 'colsample_bytree': 0.7771252301654352, 'gamma': 0.8831123453402276}. Best is trial 37 with value: 0.6952425471073922.\u001B[0m\n",
      "\u001B[32m[I 2023-04-11 15:20:44,376]\u001B[0m Trial 47 finished with value: 0.6591918908445116 and parameters: {'n_estimators': 53, 'max_depth': 6, 'learning_rate': 0.17733242006540692, 'subsample': 0.6243949775654288, 'colsample_bytree': 0.8544226327605919, 'gamma': 0.9998633387587188}. Best is trial 37 with value: 0.6952425471073922.\u001B[0m\n",
      "\u001B[32m[I 2023-04-11 15:20:59,095]\u001B[0m Trial 48 finished with value: 0.6559881902423338 and parameters: {'n_estimators': 85, 'max_depth': 3, 'learning_rate': 0.19586882408238854, 'subsample': 0.6423623523820281, 'colsample_bytree': 0.6971244396583803, 'gamma': 0.8077081157231313}. Best is trial 37 with value: 0.6952425471073922.\u001B[0m\n",
      "\u001B[32m[I 2023-04-11 15:21:15,053]\u001B[0m Trial 49 finished with value: 0.6807754959928873 and parameters: {'n_estimators': 100, 'max_depth': 2, 'learning_rate': 0.15097126450289822, 'subsample': 0.7328510555135588, 'colsample_bytree': 0.7987690866106015, 'gamma': 0.9452875009884363}. Best is trial 37 with value: 0.6952425471073922.\u001B[0m\n",
      "\u001B[32m[I 2023-04-11 15:21:33,603]\u001B[0m Trial 50 finished with value: 0.6578217856238661 and parameters: {'n_estimators': 100, 'max_depth': 3, 'learning_rate': 0.151419300304021, 'subsample': 0.7352947640529106, 'colsample_bytree': 0.7930973423823069, 'gamma': 0.9544708739023117}. Best is trial 37 with value: 0.6952425471073922.\u001B[0m\n",
      "\u001B[32m[I 2023-04-11 15:21:47,803]\u001B[0m Trial 51 finished with value: 0.6801354517249274 and parameters: {'n_estimators': 95, 'max_depth': 2, 'learning_rate': 0.17851097480694547, 'subsample': 0.6942135117262583, 'colsample_bytree': 0.7656351378571712, 'gamma': 0.85481421030394}. Best is trial 37 with value: 0.6952425471073922.\u001B[0m\n",
      "\u001B[32m[I 2023-04-11 15:22:00,963]\u001B[0m Trial 52 finished with value: 0.6651376419348897 and parameters: {'n_estimators': 86, 'max_depth': 2, 'learning_rate': 0.16525626523490472, 'subsample': 0.6710973167098434, 'colsample_bytree': 0.8022434570773453, 'gamma': 0.9437525208760853}. Best is trial 37 with value: 0.6952425471073922.\u001B[0m\n",
      "\u001B[32m[I 2023-04-11 15:22:12,458]\u001B[0m Trial 53 finished with value: 0.6756303151039993 and parameters: {'n_estimators': 72, 'max_depth': 2, 'learning_rate': 0.12263767641889861, 'subsample': 0.7132393891461559, 'colsample_bytree': 0.8235920016883044, 'gamma': 0.9088391997221827}. Best is trial 37 with value: 0.6952425471073922.\u001B[0m\n",
      "\u001B[32m[I 2023-04-11 15:22:20,277]\u001B[0m Trial 54 finished with value: 0.6595375665621368 and parameters: {'n_estimators': 40, 'max_depth': 3, 'learning_rate': 0.14398564971922642, 'subsample': 0.6535879554693211, 'colsample_bytree': 0.7539658695945395, 'gamma': 0.8713701049318311}. Best is trial 37 with value: 0.6952425471073922.\u001B[0m\n",
      "\u001B[32m[I 2023-04-11 15:22:41,800]\u001B[0m Trial 55 finished with value: 0.6467986156431813 and parameters: {'n_estimators': 101, 'max_depth': 7, 'learning_rate': 0.20154396136197927, 'subsample': 0.6818387068689471, 'colsample_bytree': 0.7318849518947296, 'gamma': 0.7522056935607075}. Best is trial 37 with value: 0.6952425471073922.\u001B[0m\n",
      "\u001B[32m[I 2023-04-11 15:23:06,182]\u001B[0m Trial 56 finished with value: 0.6509660755194091 and parameters: {'n_estimators': 117, 'max_depth': 5, 'learning_rate': 0.2185466687834943, 'subsample': 0.66045038723143, 'colsample_bytree': 0.7764572575518228, 'gamma': 0.9541091138461466}. Best is trial 37 with value: 0.6952425471073922.\u001B[0m\n",
      "\u001B[32m[I 2023-04-11 15:23:17,033]\u001B[0m Trial 57 finished with value: 0.6680120811937319 and parameters: {'n_estimators': 66, 'max_depth': 2, 'learning_rate': 0.18615594827319398, 'subsample': 0.7479772930132572, 'colsample_bytree': 0.7970814709118653, 'gamma': 0.8225135690870041}. Best is trial 37 with value: 0.6952425471073922.\u001B[0m\n",
      "\u001B[32m[I 2023-04-11 15:23:31,202]\u001B[0m Trial 58 finished with value: 0.667444400259986 and parameters: {'n_estimators': 94, 'max_depth': 2, 'learning_rate': 0.1538527743903392, 'subsample': 0.6357208428516586, 'colsample_bytree': 0.7256516947383375, 'gamma': 0.8979851646927243}. Best is trial 37 with value: 0.6952425471073922.\u001B[0m\n",
      "\u001B[32m[I 2023-04-11 15:23:45,265]\u001B[0m Trial 59 finished with value: 0.6851995716118497 and parameters: {'n_estimators': 79, 'max_depth': 3, 'learning_rate': 0.1678908069556758, 'subsample': 0.6727093827476889, 'colsample_bytree': 0.7495807195083182, 'gamma': 0.778664030267941}. Best is trial 37 with value: 0.6952425471073922.\u001B[0m\n",
      "\u001B[32m[I 2023-04-11 15:23:57,614]\u001B[0m Trial 60 finished with value: 0.6640490199476319 and parameters: {'n_estimators': 59, 'max_depth': 4, 'learning_rate': 0.16588754462425695, 'subsample': 0.702134328276228, 'colsample_bytree': 0.7412087549976197, 'gamma': 0.6850225346505345}. Best is trial 37 with value: 0.6952425471073922.\u001B[0m\n",
      "\u001B[32m[I 2023-04-11 15:24:11,014]\u001B[0m Trial 61 finished with value: 0.6637614778239778 and parameters: {'n_estimators': 77, 'max_depth': 3, 'learning_rate': 0.18205317854681663, 'subsample': 0.6732533214726549, 'colsample_bytree': 0.7552712338420755, 'gamma': 0.7874394798955878}. Best is trial 37 with value: 0.6952425471073922.\u001B[0m\n",
      "\u001B[32m[I 2023-04-11 15:24:24,644]\u001B[0m Trial 62 finished with value: 0.6624682943342348 and parameters: {'n_estimators': 81, 'max_depth': 3, 'learning_rate': 0.15789130809563828, 'subsample': 0.6538862000936455, 'colsample_bytree': 0.7082239409647694, 'gamma': 0.7404800564730205}. Best is trial 37 with value: 0.6952425471073922.\u001B[0m\n",
      "\u001B[32m[I 2023-04-11 15:24:41,689]\u001B[0m Trial 63 finished with value: 0.6921634655740802 and parameters: {'n_estimators': 88, 'max_depth': 4, 'learning_rate': 0.17023079086462156, 'subsample': 0.6881507677858255, 'colsample_bytree': 0.7681290027350359, 'gamma': 0.7783188538057473}. Best is trial 37 with value: 0.6952425471073922.\u001B[0m\n",
      "\u001B[32m[I 2023-04-11 15:24:59,477]\u001B[0m Trial 64 finished with value: 0.6804104351000362 and parameters: {'n_estimators': 88, 'max_depth': 4, 'learning_rate': 0.14217260540834956, 'subsample': 0.6882362876474808, 'colsample_bytree': 0.7817458732419023, 'gamma': 0.7665862360692055}. Best is trial 37 with value: 0.6952425471073922.\u001B[0m\n",
      "\u001B[32m[I 2023-04-11 15:25:14,430]\u001B[0m Trial 65 finished with value: 0.6606425794390186 and parameters: {'n_estimators': 73, 'max_depth': 4, 'learning_rate': 0.13493646077853616, 'subsample': 0.7183782077297797, 'colsample_bytree': 0.7485123909342128, 'gamma': 0.6567709626767549}. Best is trial 37 with value: 0.6952425471073922.\u001B[0m\n",
      "\u001B[32m[I 2023-04-11 15:25:31,739]\u001B[0m Trial 66 finished with value: 0.6725720351809436 and parameters: {'n_estimators': 85, 'max_depth': 4, 'learning_rate': 0.18815191846826623, 'subsample': 0.6926726380930242, 'colsample_bytree': 0.771659466300746, 'gamma': 0.787854520565388}. Best is trial 37 with value: 0.6952425471073922.\u001B[0m\n",
      "\u001B[32m[I 2023-04-11 15:25:47,739]\u001B[0m Trial 67 finished with value: 0.6642340714779846 and parameters: {'n_estimators': 97, 'max_depth': 3, 'learning_rate': 0.20202046776662058, 'subsample': 0.6134479050298272, 'colsample_bytree': 0.7281289777173161, 'gamma': 0.8237098769304287}. Best is trial 37 with value: 0.6952425471073922.\u001B[0m\n",
      "\u001B[32m[I 2023-04-11 15:25:58,379]\u001B[0m Trial 68 finished with value: 0.6530136347750544 and parameters: {'n_estimators': 54, 'max_depth': 3, 'learning_rate': 0.2165338063362999, 'subsample': 0.7482598544096375, 'colsample_bytree': 0.7894184144103563, 'gamma': 0.7554084940299899}. Best is trial 37 with value: 0.6952425471073922.\u001B[0m\n",
      "\u001B[32m[I 2023-04-11 15:26:15,413]\u001B[0m Trial 69 finished with value: 0.6596347657485556 and parameters: {'n_estimators': 83, 'max_depth': 5, 'learning_rate': 0.17018809173019755, 'subsample': 0.703704009539161, 'colsample_bytree': 0.6870735620093572, 'gamma': 0.7044288085166578}. Best is trial 37 with value: 0.6952425471073922.\u001B[0m\n",
      "\u001B[32m[I 2023-04-11 15:26:33,161]\u001B[0m Trial 70 finished with value: 0.6793726459510357 and parameters: {'n_estimators': 106, 'max_depth': 3, 'learning_rate': 0.1509925330336797, 'subsample': 0.6290685520527189, 'colsample_bytree': 0.7134876162460012, 'gamma': 0.8372128795493547}. Best is trial 37 with value: 0.6952425471073922.\u001B[0m\n",
      "\u001B[32m[I 2023-04-11 15:26:47,620]\u001B[0m Trial 71 finished with value: 0.6976835555042608 and parameters: {'n_estimators': 95, 'max_depth': 2, 'learning_rate': 0.17279465589352178, 'subsample': 0.6681095348795502, 'colsample_bytree': 0.7625259541431847, 'gamma': 0.8855313279628716}. Best is trial 71 with value: 0.6976835555042608.\u001B[0m\n",
      "\u001B[32m[I 2023-04-11 15:27:02,908]\u001B[0m Trial 72 finished with value: 0.660842693701722 and parameters: {'n_estimators': 103, 'max_depth': 2, 'learning_rate': 0.15886091534228677, 'subsample': 0.6805297651655254, 'colsample_bytree': 0.7648769550050627, 'gamma': 0.8824750229250625}. Best is trial 71 with value: 0.6976835555042608.\u001B[0m\n",
      "\u001B[32m[I 2023-04-11 15:27:19,065]\u001B[0m Trial 73 finished with value: 0.6704742966378181 and parameters: {'n_estimators': 111, 'max_depth': 2, 'learning_rate': 0.1744963293509002, 'subsample': 0.6435027948342489, 'colsample_bytree': 0.7472693760204561, 'gamma': 0.7926300691440794}. Best is trial 71 with value: 0.6976835555042608.\u001B[0m\n",
      "\u001B[32m[I 2023-04-11 15:27:33,714]\u001B[0m Trial 74 finished with value: 0.6720696980285129 and parameters: {'n_estimators': 98, 'max_depth': 2, 'learning_rate': 0.19138525727195319, 'subsample': 0.6582142673597537, 'colsample_bytree': 0.7781674813928505, 'gamma': 0.8426710331931069}. Best is trial 71 with value: 0.6976835555042608.\u001B[0m\n",
      "\u001B[32m[I 2023-04-11 15:27:47,767]\u001B[0m Trial 75 finished with value: 0.6620189854021389 and parameters: {'n_estimators': 92, 'max_depth': 2, 'learning_rate': 0.18268798270239447, 'subsample': 0.7211894943445617, 'colsample_bytree': 0.8020699246157436, 'gamma': 0.8875174527833163}. Best is trial 71 with value: 0.6976835555042608.\u001B[0m\n",
      "\u001B[32m[I 2023-04-11 15:28:05,784]\u001B[0m Trial 76 finished with value: 0.6611739659238087 and parameters: {'n_estimators': 88, 'max_depth': 5, 'learning_rate': 0.1627278543026427, 'subsample': 0.6954424744054697, 'colsample_bytree': 0.7347908137906571, 'gamma': 0.7314100752122958}. Best is trial 71 with value: 0.6976835555042608.\u001B[0m\n",
      "\u001B[32m[I 2023-04-11 15:28:16,943]\u001B[0m Trial 77 finished with value: 0.6699570493659431 and parameters: {'n_estimators': 76, 'max_depth': 2, 'learning_rate': 0.14727682176561827, 'subsample': 0.6649279960956663, 'colsample_bytree': 0.7570332522622344, 'gamma': 0.8140752488593225}. Best is trial 71 with value: 0.6976835555042608.\u001B[0m\n",
      "\u001B[32m[I 2023-04-11 15:28:30,370]\u001B[0m Trial 78 finished with value: 0.6685661739475639 and parameters: {'n_estimators': 69, 'max_depth': 4, 'learning_rate': 0.16773015136592115, 'subsample': 0.678689780970378, 'colsample_bytree': 0.7223422412062314, 'gamma': 0.8609072243458773}. Best is trial 71 with value: 0.6976835555042608.\u001B[0m\n",
      "\u001B[32m[I 2023-04-11 15:28:41,390]\u001B[0m Trial 79 finished with value: 0.6421004461811618 and parameters: {'n_estimators': 62, 'max_depth': 3, 'learning_rate': 0.2034452854718214, 'subsample': 0.6145094302826202, 'colsample_bytree': 0.7696002333488471, 'gamma': 0.7664959777055719}. Best is trial 71 with value: 0.6976835555042608.\u001B[0m\n",
      "\u001B[32m[I 2023-04-11 15:28:55,209]\u001B[0m Trial 80 finished with value: 0.6652008863702411 and parameters: {'n_estimators': 95, 'max_depth': 2, 'learning_rate': 0.128396328436499, 'subsample': 0.6481922204308147, 'colsample_bytree': 0.7869821149702537, 'gamma': 0.9293313159385401}. Best is trial 71 with value: 0.6976835555042608.\u001B[0m\n",
      "\u001B[32m[I 2023-04-11 15:29:07,014]\u001B[0m Trial 81 finished with value: 0.6752149349570185 and parameters: {'n_estimators': 80, 'max_depth': 2, 'learning_rate': 0.17273175770096047, 'subsample': 0.665507958532584, 'colsample_bytree': 0.7615790885655263, 'gamma': 0.914339790832336}. Best is trial 71 with value: 0.6976835555042608.\u001B[0m\n",
      "\u001B[32m[I 2023-04-11 15:29:20,268]\u001B[0m Trial 82 finished with value: 0.656395723432936 and parameters: {'n_estimators': 92, 'max_depth': 2, 'learning_rate': 0.17808820940827313, 'subsample': 0.6758340806850456, 'colsample_bytree': 0.7416704116919183, 'gamma': 0.9725007855425758}. Best is trial 71 with value: 0.6976835555042608.\u001B[0m\n",
      "\u001B[32m[I 2023-04-11 15:29:32,721]\u001B[0m Trial 83 finished with value: 0.6763859880001346 and parameters: {'n_estimators': 83, 'max_depth': 2, 'learning_rate': 0.1553175900470573, 'subsample': 0.6853446796505076, 'colsample_bytree': 0.7702616960468335, 'gamma': 0.8862050554556412}. Best is trial 71 with value: 0.6976835555042608.\u001B[0m\n",
      "\u001B[32m[I 2023-04-11 15:29:46,817]\u001B[0m Trial 84 finished with value: 0.6787157917052111 and parameters: {'n_estimators': 90, 'max_depth': 2, 'learning_rate': 0.19215104941634864, 'subsample': 0.7029501962313792, 'colsample_bytree': 0.7524454032760716, 'gamma': 0.8395650447549615}. Best is trial 71 with value: 0.6976835555042608.\u001B[0m\n",
      "\u001B[32m[I 2023-04-11 15:30:05,006]\u001B[0m Trial 85 finished with value: 0.6891177769962865 and parameters: {'n_estimators': 103, 'max_depth': 3, 'learning_rate': 0.1455381186064961, 'subsample': 0.6366522268693919, 'colsample_bytree': 0.7921024213276308, 'gamma': 0.8000566347822239}. Best is trial 71 with value: 0.6976835555042608.\u001B[0m\n",
      "\u001B[32m[I 2023-04-11 15:30:23,662]\u001B[0m Trial 86 finished with value: 0.6582552935348582 and parameters: {'n_estimators': 104, 'max_depth': 3, 'learning_rate': 0.1404650080970398, 'subsample': 0.6327462337298986, 'colsample_bytree': 0.7956682666763196, 'gamma': 0.8056832314450079}. Best is trial 71 with value: 0.6976835555042608.\u001B[0m\n",
      "\u001B[32m[I 2023-04-11 15:30:43,112]\u001B[0m Trial 87 finished with value: 0.6499310636272131 and parameters: {'n_estimators': 109, 'max_depth': 3, 'learning_rate': 0.14729375507062, 'subsample': 0.639671009083319, 'colsample_bytree': 0.8155436407959583, 'gamma': 0.7798310611850683}. Best is trial 71 with value: 0.6976835555042608.\u001B[0m\n",
      "\u001B[32m[I 2023-04-11 15:31:10,083]\u001B[0m Trial 88 finished with value: 0.6635748868073992 and parameters: {'n_estimators': 118, 'max_depth': 8, 'learning_rate': 0.13458186262368213, 'subsample': 0.6602301668045435, 'colsample_bytree': 0.8084116637237334, 'gamma': 0.7140519288696854}. Best is trial 71 with value: 0.6976835555042608.\u001B[0m\n",
      "\u001B[32m[I 2023-04-11 15:31:29,630]\u001B[0m Trial 89 finished with value: 0.6518296376958853 and parameters: {'n_estimators': 114, 'max_depth': 3, 'learning_rate': 0.15852766747722247, 'subsample': 0.6190624208328028, 'colsample_bytree': 0.7811601647268377, 'gamma': 0.8616610327951635}. Best is trial 71 with value: 0.6976835555042608.\u001B[0m\n",
      "\u001B[32m[I 2023-04-11 15:31:49,241]\u001B[0m Trial 90 finished with value: 0.6513774042082822 and parameters: {'n_estimators': 99, 'max_depth': 4, 'learning_rate': 0.16543243981329964, 'subsample': 0.6495921603810146, 'colsample_bytree': 0.8256975727717095, 'gamma': 0.7442875762529623}. Best is trial 71 with value: 0.6976835555042608.\u001B[0m\n",
      "\u001B[32m[I 2023-04-11 15:32:02,461]\u001B[0m Trial 91 finished with value: 0.6868954910521542 and parameters: {'n_estimators': 86, 'max_depth': 2, 'learning_rate': 0.18355898253512834, 'subsample': 0.6705651904151345, 'colsample_bytree': 0.7615513200063233, 'gamma': 0.8155925585229133}. Best is trial 71 with value: 0.6976835555042608.\u001B[0m\n",
      "\u001B[32m[I 2023-04-11 15:32:15,983]\u001B[0m Trial 92 finished with value: 0.6748386162975829 and parameters: {'n_estimators': 87, 'max_depth': 2, 'learning_rate': 0.18445249547609327, 'subsample': 0.6625077638107184, 'colsample_bytree': 0.7921197377717608, 'gamma': 0.8114626876837048}. Best is trial 71 with value: 0.6976835555042608.\u001B[0m\n",
      "\u001B[32m[I 2023-04-11 15:32:30,316]\u001B[0m Trial 93 finished with value: 0.657591633895736 and parameters: {'n_estimators': 96, 'max_depth': 2, 'learning_rate': 0.17029063254030727, 'subsample': 0.6718087523513413, 'colsample_bytree': 0.7621460275613348, 'gamma': 0.7804300863775255}. Best is trial 71 with value: 0.6976835555042608.\u001B[0m\n",
      "\u001B[32m[I 2023-04-11 15:32:44,073]\u001B[0m Trial 94 finished with value: 0.6796690029839201 and parameters: {'n_estimators': 77, 'max_depth': 3, 'learning_rate': 0.1782281881032987, 'subsample': 0.6891321766467519, 'colsample_bytree': 0.7430494928574186, 'gamma': 0.842376942533023}. Best is trial 71 with value: 0.6976835555042608.\u001B[0m\n",
      "\u001B[32m[I 2023-04-11 15:32:56,255]\u001B[0m Trial 95 finished with value: 0.6737031727846992 and parameters: {'n_estimators': 82, 'max_depth': 2, 'learning_rate': 0.15448907456956043, 'subsample': 0.6259019302709682, 'colsample_bytree': 0.7317378178724047, 'gamma': 0.8240383733845597}. Best is trial 71 with value: 0.6976835555042608.\u001B[0m\n",
      "\u001B[32m[I 2023-04-11 15:33:11,429]\u001B[0m Trial 96 finished with value: 0.6545539147720425 and parameters: {'n_estimators': 102, 'max_depth': 2, 'learning_rate': 0.19446494467397923, 'subsample': 0.6394094417836564, 'colsample_bytree': 0.7778319504679599, 'gamma': 0.8762241019907369}. Best is trial 71 with value: 0.6976835555042608.\u001B[0m\n",
      "\u001B[32m[I 2023-04-11 15:33:28,157]\u001B[0m Trial 97 finished with value: 0.6778843882744139 and parameters: {'n_estimators': 92, 'max_depth': 3, 'learning_rate': 0.16488986827421437, 'subsample': 0.6755354826813132, 'colsample_bytree': 0.8002444463140175, 'gamma': 0.7987672351255436}. Best is trial 71 with value: 0.6976835555042608.\u001B[0m\n",
      "\u001B[32m[I 2023-04-11 15:33:47,512]\u001B[0m Trial 98 finished with value: 0.6288960062504774 and parameters: {'n_estimators': 86, 'max_depth': 6, 'learning_rate': 0.18164986032443145, 'subsample': 0.6974828045608246, 'colsample_bytree': 0.7491899283215258, 'gamma': 0.8996945182860532}. Best is trial 71 with value: 0.6976835555042608.\u001B[0m\n",
      "\u001B[32m[I 2023-04-11 15:33:58,782]\u001B[0m Trial 99 finished with value: 0.6788660311763897 and parameters: {'n_estimators': 74, 'max_depth': 2, 'learning_rate': 0.14449589548975936, 'subsample': 0.6102155828057495, 'colsample_bytree': 0.7871808614550948, 'gamma': 0.7619498706437919}. Best is trial 71 with value: 0.6976835555042608.\u001B[0m\n"
     ]
    }
   ],
   "source": [
    "xgb_config = {\n",
    "    'objective': 'binary:logistic',\n",
    "    'random_state': random_state\n",
    "}\n",
    "\n",
    "objective_func = partial(\n",
    "    objective,\n",
    "    X_train=X_train,\n",
    "    stratification_groups=stratification_groups,\n",
    "    xgb_config=xgb_config,\n",
    "    scoring=f1_score\n",
    ")\n",
    "\n",
    "study = optuna.create_study(direction='maximize')\n",
    "study.optimize(objective_func, n_trials=100)"
   ],
   "metadata": {
    "collapsed": false,
    "ExecuteTime": {
     "start_time": "2023-04-11T15:07:47.937808Z",
     "end_time": "2023-04-11T15:33:58.796472Z"
    }
   }
  },
  {
   "cell_type": "markdown",
   "source": [
    "Extract the best of the found hyperparameters and perform cross validation on the whole training set"
   ],
   "metadata": {
    "collapsed": false
   }
  },
  {
   "cell_type": "code",
   "execution_count": 31,
   "outputs": [],
   "source": [
    "best_params = {\n",
    "    **study.best_params,\n",
    "    **xgb_config\n",
    "}\n",
    "\n",
    "best_xgb = XGBClassifier(**best_params)\n",
    "y_pred = stratified_cross_val_predict(\n",
    "    estimator=best_xgb,\n",
    "    df=X_train,\n",
    "    stratification_groups=stratification_groups,\n",
    "    label_col='Stage',\n",
    "    n_splits=5\n",
    ")\n",
    "y_true = list(X_train['Stage'].values)"
   ],
   "metadata": {
    "collapsed": false,
    "ExecuteTime": {
     "start_time": "2023-04-11T15:35:31.643926Z",
     "end_time": "2023-04-11T15:35:48.784816Z"
    }
   }
  },
  {
   "cell_type": "code",
   "execution_count": 32,
   "outputs": [
    {
     "name": "stdout",
     "output_type": "stream",
     "text": [
      "              precision    recall  f1-score   support\n",
      "\n",
      "       I-III       0.77      0.84      0.80       612\n",
      "          IV       0.71      0.62      0.66       397\n",
      "\n",
      "    accuracy                           0.75      1009\n",
      "   macro avg       0.74      0.73      0.73      1009\n",
      "weighted avg       0.75      0.75      0.75      1009\n",
      "\n"
     ]
    }
   ],
   "source": [
    "labels = list(labels_encoding.keys())\n",
    "\n",
    "report = classification_report(y_true, y_pred.astype(int), target_names=labels)\n",
    "print(report)"
   ],
   "metadata": {
    "collapsed": false,
    "ExecuteTime": {
     "start_time": "2023-04-11T15:36:03.877362Z",
     "end_time": "2023-04-11T15:36:03.926362Z"
    }
   }
  },
  {
   "cell_type": "code",
   "execution_count": 33,
   "outputs": [
    {
     "data": {
      "application/vnd.plotly.v1+json": {
       "data": [
        {
         "colorscale": [
          [
           0.0,
           "rgb(3, 5, 18)"
          ],
          [
           0.09090909090909091,
           "rgb(25, 25, 51)"
          ],
          [
           0.18181818181818182,
           "rgb(44, 42, 87)"
          ],
          [
           0.2727272727272727,
           "rgb(58, 60, 125)"
          ],
          [
           0.36363636363636365,
           "rgb(62, 83, 160)"
          ],
          [
           0.45454545454545453,
           "rgb(62, 109, 178)"
          ],
          [
           0.5454545454545454,
           "rgb(72, 134, 187)"
          ],
          [
           0.6363636363636364,
           "rgb(89, 159, 196)"
          ],
          [
           0.7272727272727273,
           "rgb(114, 184, 205)"
          ],
          [
           0.8181818181818182,
           "rgb(149, 207, 216)"
          ],
          [
           0.9090909090909091,
           "rgb(192, 229, 232)"
          ],
          [
           1.0,
           "rgb(234, 252, 253)"
          ]
         ],
         "reversescale": true,
         "showscale": false,
         "x": [
          "I-III",
          "IV"
         ],
         "y": [
          "IV",
          "I-III"
         ],
         "z": [
          [
           151,
           246
          ],
          [
           512,
           100
          ]
         ],
         "type": "heatmap"
        }
       ],
       "layout": {
        "annotations": [
         {
          "font": {
           "color": "#000000"
          },
          "showarrow": false,
          "text": "151",
          "x": "I-III",
          "xref": "x",
          "y": "IV",
          "yref": "y"
         },
         {
          "font": {
           "color": "#000000"
          },
          "showarrow": false,
          "text": "246",
          "x": "IV",
          "xref": "x",
          "y": "IV",
          "yref": "y"
         },
         {
          "font": {
           "color": "#FFFFFF"
          },
          "showarrow": false,
          "text": "512",
          "x": "I-III",
          "xref": "x",
          "y": "I-III",
          "yref": "y"
         },
         {
          "font": {
           "color": "#000000"
          },
          "showarrow": false,
          "text": "100",
          "x": "IV",
          "xref": "x",
          "y": "I-III",
          "yref": "y"
         }
        ],
        "xaxis": {
         "dtick": 1,
         "gridcolor": "rgb(0, 0, 0)",
         "side": "top",
         "ticks": "",
         "tickfont": {
          "size": 10
         },
         "title": {
          "text": "Predicted label"
         }
        },
        "yaxis": {
         "dtick": 1,
         "ticks": "",
         "ticksuffix": "  ",
         "tickfont": {
          "size": 10
         },
         "title": {
          "text": "True label"
         }
        },
        "template": {
         "data": {
          "histogram2dcontour": [
           {
            "type": "histogram2dcontour",
            "colorbar": {
             "outlinewidth": 0,
             "ticks": ""
            },
            "colorscale": [
             [
              0.0,
              "#0d0887"
             ],
             [
              0.1111111111111111,
              "#46039f"
             ],
             [
              0.2222222222222222,
              "#7201a8"
             ],
             [
              0.3333333333333333,
              "#9c179e"
             ],
             [
              0.4444444444444444,
              "#bd3786"
             ],
             [
              0.5555555555555556,
              "#d8576b"
             ],
             [
              0.6666666666666666,
              "#ed7953"
             ],
             [
              0.7777777777777778,
              "#fb9f3a"
             ],
             [
              0.8888888888888888,
              "#fdca26"
             ],
             [
              1.0,
              "#f0f921"
             ]
            ]
           }
          ],
          "choropleth": [
           {
            "type": "choropleth",
            "colorbar": {
             "outlinewidth": 0,
             "ticks": ""
            }
           }
          ],
          "histogram2d": [
           {
            "type": "histogram2d",
            "colorbar": {
             "outlinewidth": 0,
             "ticks": ""
            },
            "colorscale": [
             [
              0.0,
              "#0d0887"
             ],
             [
              0.1111111111111111,
              "#46039f"
             ],
             [
              0.2222222222222222,
              "#7201a8"
             ],
             [
              0.3333333333333333,
              "#9c179e"
             ],
             [
              0.4444444444444444,
              "#bd3786"
             ],
             [
              0.5555555555555556,
              "#d8576b"
             ],
             [
              0.6666666666666666,
              "#ed7953"
             ],
             [
              0.7777777777777778,
              "#fb9f3a"
             ],
             [
              0.8888888888888888,
              "#fdca26"
             ],
             [
              1.0,
              "#f0f921"
             ]
            ]
           }
          ],
          "heatmap": [
           {
            "type": "heatmap",
            "colorbar": {
             "outlinewidth": 0,
             "ticks": ""
            },
            "colorscale": [
             [
              0.0,
              "#0d0887"
             ],
             [
              0.1111111111111111,
              "#46039f"
             ],
             [
              0.2222222222222222,
              "#7201a8"
             ],
             [
              0.3333333333333333,
              "#9c179e"
             ],
             [
              0.4444444444444444,
              "#bd3786"
             ],
             [
              0.5555555555555556,
              "#d8576b"
             ],
             [
              0.6666666666666666,
              "#ed7953"
             ],
             [
              0.7777777777777778,
              "#fb9f3a"
             ],
             [
              0.8888888888888888,
              "#fdca26"
             ],
             [
              1.0,
              "#f0f921"
             ]
            ]
           }
          ],
          "heatmapgl": [
           {
            "type": "heatmapgl",
            "colorbar": {
             "outlinewidth": 0,
             "ticks": ""
            },
            "colorscale": [
             [
              0.0,
              "#0d0887"
             ],
             [
              0.1111111111111111,
              "#46039f"
             ],
             [
              0.2222222222222222,
              "#7201a8"
             ],
             [
              0.3333333333333333,
              "#9c179e"
             ],
             [
              0.4444444444444444,
              "#bd3786"
             ],
             [
              0.5555555555555556,
              "#d8576b"
             ],
             [
              0.6666666666666666,
              "#ed7953"
             ],
             [
              0.7777777777777778,
              "#fb9f3a"
             ],
             [
              0.8888888888888888,
              "#fdca26"
             ],
             [
              1.0,
              "#f0f921"
             ]
            ]
           }
          ],
          "contourcarpet": [
           {
            "type": "contourcarpet",
            "colorbar": {
             "outlinewidth": 0,
             "ticks": ""
            }
           }
          ],
          "contour": [
           {
            "type": "contour",
            "colorbar": {
             "outlinewidth": 0,
             "ticks": ""
            },
            "colorscale": [
             [
              0.0,
              "#0d0887"
             ],
             [
              0.1111111111111111,
              "#46039f"
             ],
             [
              0.2222222222222222,
              "#7201a8"
             ],
             [
              0.3333333333333333,
              "#9c179e"
             ],
             [
              0.4444444444444444,
              "#bd3786"
             ],
             [
              0.5555555555555556,
              "#d8576b"
             ],
             [
              0.6666666666666666,
              "#ed7953"
             ],
             [
              0.7777777777777778,
              "#fb9f3a"
             ],
             [
              0.8888888888888888,
              "#fdca26"
             ],
             [
              1.0,
              "#f0f921"
             ]
            ]
           }
          ],
          "surface": [
           {
            "type": "surface",
            "colorbar": {
             "outlinewidth": 0,
             "ticks": ""
            },
            "colorscale": [
             [
              0.0,
              "#0d0887"
             ],
             [
              0.1111111111111111,
              "#46039f"
             ],
             [
              0.2222222222222222,
              "#7201a8"
             ],
             [
              0.3333333333333333,
              "#9c179e"
             ],
             [
              0.4444444444444444,
              "#bd3786"
             ],
             [
              0.5555555555555556,
              "#d8576b"
             ],
             [
              0.6666666666666666,
              "#ed7953"
             ],
             [
              0.7777777777777778,
              "#fb9f3a"
             ],
             [
              0.8888888888888888,
              "#fdca26"
             ],
             [
              1.0,
              "#f0f921"
             ]
            ]
           }
          ],
          "mesh3d": [
           {
            "type": "mesh3d",
            "colorbar": {
             "outlinewidth": 0,
             "ticks": ""
            }
           }
          ],
          "scatter": [
           {
            "marker": {
             "line": {
              "color": "#283442"
             }
            },
            "type": "scatter"
           }
          ],
          "parcoords": [
           {
            "type": "parcoords",
            "line": {
             "colorbar": {
              "outlinewidth": 0,
              "ticks": ""
             }
            }
           }
          ],
          "scatterpolargl": [
           {
            "type": "scatterpolargl",
            "marker": {
             "colorbar": {
              "outlinewidth": 0,
              "ticks": ""
             }
            }
           }
          ],
          "bar": [
           {
            "error_x": {
             "color": "#f2f5fa"
            },
            "error_y": {
             "color": "#f2f5fa"
            },
            "marker": {
             "line": {
              "color": "rgb(17,17,17)",
              "width": 0.5
             },
             "pattern": {
              "fillmode": "overlay",
              "size": 10,
              "solidity": 0.2
             }
            },
            "type": "bar"
           }
          ],
          "scattergeo": [
           {
            "type": "scattergeo",
            "marker": {
             "colorbar": {
              "outlinewidth": 0,
              "ticks": ""
             }
            }
           }
          ],
          "scatterpolar": [
           {
            "type": "scatterpolar",
            "marker": {
             "colorbar": {
              "outlinewidth": 0,
              "ticks": ""
             }
            }
           }
          ],
          "histogram": [
           {
            "marker": {
             "pattern": {
              "fillmode": "overlay",
              "size": 10,
              "solidity": 0.2
             }
            },
            "type": "histogram"
           }
          ],
          "scattergl": [
           {
            "marker": {
             "line": {
              "color": "#283442"
             }
            },
            "type": "scattergl"
           }
          ],
          "scatter3d": [
           {
            "type": "scatter3d",
            "line": {
             "colorbar": {
              "outlinewidth": 0,
              "ticks": ""
             }
            },
            "marker": {
             "colorbar": {
              "outlinewidth": 0,
              "ticks": ""
             }
            }
           }
          ],
          "scattermapbox": [
           {
            "type": "scattermapbox",
            "marker": {
             "colorbar": {
              "outlinewidth": 0,
              "ticks": ""
             }
            }
           }
          ],
          "scatterternary": [
           {
            "type": "scatterternary",
            "marker": {
             "colorbar": {
              "outlinewidth": 0,
              "ticks": ""
             }
            }
           }
          ],
          "scattercarpet": [
           {
            "type": "scattercarpet",
            "marker": {
             "colorbar": {
              "outlinewidth": 0,
              "ticks": ""
             }
            }
           }
          ],
          "carpet": [
           {
            "aaxis": {
             "endlinecolor": "#A2B1C6",
             "gridcolor": "#506784",
             "linecolor": "#506784",
             "minorgridcolor": "#506784",
             "startlinecolor": "#A2B1C6"
            },
            "baxis": {
             "endlinecolor": "#A2B1C6",
             "gridcolor": "#506784",
             "linecolor": "#506784",
             "minorgridcolor": "#506784",
             "startlinecolor": "#A2B1C6"
            },
            "type": "carpet"
           }
          ],
          "table": [
           {
            "cells": {
             "fill": {
              "color": "#506784"
             },
             "line": {
              "color": "rgb(17,17,17)"
             }
            },
            "header": {
             "fill": {
              "color": "#2a3f5f"
             },
             "line": {
              "color": "rgb(17,17,17)"
             }
            },
            "type": "table"
           }
          ],
          "barpolar": [
           {
            "marker": {
             "line": {
              "color": "rgb(17,17,17)",
              "width": 0.5
             },
             "pattern": {
              "fillmode": "overlay",
              "size": 10,
              "solidity": 0.2
             }
            },
            "type": "barpolar"
           }
          ],
          "pie": [
           {
            "automargin": true,
            "type": "pie"
           }
          ]
         },
         "layout": {
          "autotypenumbers": "strict",
          "colorway": [
           "#636efa",
           "#EF553B",
           "#00cc96",
           "#ab63fa",
           "#FFA15A",
           "#19d3f3",
           "#FF6692",
           "#B6E880",
           "#FF97FF",
           "#FECB52"
          ],
          "font": {
           "color": "#f2f5fa"
          },
          "hovermode": "closest",
          "hoverlabel": {
           "align": "left"
          },
          "paper_bgcolor": "rgb(17,17,17)",
          "plot_bgcolor": "rgb(17,17,17)",
          "polar": {
           "bgcolor": "rgb(17,17,17)",
           "angularaxis": {
            "gridcolor": "#506784",
            "linecolor": "#506784",
            "ticks": ""
           },
           "radialaxis": {
            "gridcolor": "#506784",
            "linecolor": "#506784",
            "ticks": ""
           }
          },
          "ternary": {
           "bgcolor": "rgb(17,17,17)",
           "aaxis": {
            "gridcolor": "#506784",
            "linecolor": "#506784",
            "ticks": ""
           },
           "baxis": {
            "gridcolor": "#506784",
            "linecolor": "#506784",
            "ticks": ""
           },
           "caxis": {
            "gridcolor": "#506784",
            "linecolor": "#506784",
            "ticks": ""
           }
          },
          "coloraxis": {
           "colorbar": {
            "outlinewidth": 0,
            "ticks": ""
           }
          },
          "colorscale": {
           "sequential": [
            [
             0.0,
             "#0d0887"
            ],
            [
             0.1111111111111111,
             "#46039f"
            ],
            [
             0.2222222222222222,
             "#7201a8"
            ],
            [
             0.3333333333333333,
             "#9c179e"
            ],
            [
             0.4444444444444444,
             "#bd3786"
            ],
            [
             0.5555555555555556,
             "#d8576b"
            ],
            [
             0.6666666666666666,
             "#ed7953"
            ],
            [
             0.7777777777777778,
             "#fb9f3a"
            ],
            [
             0.8888888888888888,
             "#fdca26"
            ],
            [
             1.0,
             "#f0f921"
            ]
           ],
           "sequentialminus": [
            [
             0.0,
             "#0d0887"
            ],
            [
             0.1111111111111111,
             "#46039f"
            ],
            [
             0.2222222222222222,
             "#7201a8"
            ],
            [
             0.3333333333333333,
             "#9c179e"
            ],
            [
             0.4444444444444444,
             "#bd3786"
            ],
            [
             0.5555555555555556,
             "#d8576b"
            ],
            [
             0.6666666666666666,
             "#ed7953"
            ],
            [
             0.7777777777777778,
             "#fb9f3a"
            ],
            [
             0.8888888888888888,
             "#fdca26"
            ],
            [
             1.0,
             "#f0f921"
            ]
           ],
           "diverging": [
            [
             0,
             "#8e0152"
            ],
            [
             0.1,
             "#c51b7d"
            ],
            [
             0.2,
             "#de77ae"
            ],
            [
             0.3,
             "#f1b6da"
            ],
            [
             0.4,
             "#fde0ef"
            ],
            [
             0.5,
             "#f7f7f7"
            ],
            [
             0.6,
             "#e6f5d0"
            ],
            [
             0.7,
             "#b8e186"
            ],
            [
             0.8,
             "#7fbc41"
            ],
            [
             0.9,
             "#4d9221"
            ],
            [
             1,
             "#276419"
            ]
           ]
          },
          "xaxis": {
           "gridcolor": "#283442",
           "linecolor": "#506784",
           "ticks": "",
           "title": {
            "standoff": 15
           },
           "zerolinecolor": "#283442",
           "automargin": true,
           "zerolinewidth": 2
          },
          "yaxis": {
           "gridcolor": "#283442",
           "linecolor": "#506784",
           "ticks": "",
           "title": {
            "standoff": 15
           },
           "zerolinecolor": "#283442",
           "automargin": true,
           "zerolinewidth": 2
          },
          "scene": {
           "xaxis": {
            "backgroundcolor": "rgb(17,17,17)",
            "gridcolor": "#506784",
            "linecolor": "#506784",
            "showbackground": true,
            "ticks": "",
            "zerolinecolor": "#C8D4E3",
            "gridwidth": 2
           },
           "yaxis": {
            "backgroundcolor": "rgb(17,17,17)",
            "gridcolor": "#506784",
            "linecolor": "#506784",
            "showbackground": true,
            "ticks": "",
            "zerolinecolor": "#C8D4E3",
            "gridwidth": 2
           },
           "zaxis": {
            "backgroundcolor": "rgb(17,17,17)",
            "gridcolor": "#506784",
            "linecolor": "#506784",
            "showbackground": true,
            "ticks": "",
            "zerolinecolor": "#C8D4E3",
            "gridwidth": 2
           }
          },
          "shapedefaults": {
           "line": {
            "color": "#f2f5fa"
           }
          },
          "annotationdefaults": {
           "arrowcolor": "#f2f5fa",
           "arrowhead": 0,
           "arrowwidth": 1
          },
          "geo": {
           "bgcolor": "rgb(17,17,17)",
           "landcolor": "rgb(17,17,17)",
           "subunitcolor": "#506784",
           "showland": true,
           "showlakes": true,
           "lakecolor": "rgb(17,17,17)"
          },
          "title": {
           "x": 0.05
          },
          "updatemenudefaults": {
           "bgcolor": "#506784",
           "borderwidth": 0
          },
          "sliderdefaults": {
           "bgcolor": "#C8D4E3",
           "borderwidth": 1,
           "bordercolor": "rgb(17,17,17)",
           "tickwidth": 0
          },
          "mapbox": {
           "style": "dark"
          }
         }
        },
        "title": {
         "text": "Accuracy = 75.12, F1 = 0.66",
         "x": 0.5,
         "y": 0.05
        },
        "paper_bgcolor": "rgba(0,0,0,0)"
       },
       "config": {
        "plotlyServerURL": "https://plot.ly"
       }
      },
      "text/html": "<div>                            <div id=\"3ee75736-e8b4-4538-a3de-fbeac60273d4\" class=\"plotly-graph-div\" style=\"height:525px; width:100%;\"></div>            <script type=\"text/javascript\">                require([\"plotly\"], function(Plotly) {                    window.PLOTLYENV=window.PLOTLYENV || {};                                    if (document.getElementById(\"3ee75736-e8b4-4538-a3de-fbeac60273d4\")) {                    Plotly.newPlot(                        \"3ee75736-e8b4-4538-a3de-fbeac60273d4\",                        [{\"colorscale\":[[0.0,\"rgb(3, 5, 18)\"],[0.09090909090909091,\"rgb(25, 25, 51)\"],[0.18181818181818182,\"rgb(44, 42, 87)\"],[0.2727272727272727,\"rgb(58, 60, 125)\"],[0.36363636363636365,\"rgb(62, 83, 160)\"],[0.45454545454545453,\"rgb(62, 109, 178)\"],[0.5454545454545454,\"rgb(72, 134, 187)\"],[0.6363636363636364,\"rgb(89, 159, 196)\"],[0.7272727272727273,\"rgb(114, 184, 205)\"],[0.8181818181818182,\"rgb(149, 207, 216)\"],[0.9090909090909091,\"rgb(192, 229, 232)\"],[1.0,\"rgb(234, 252, 253)\"]],\"reversescale\":true,\"showscale\":false,\"x\":[\"I-III\",\"IV\"],\"y\":[\"IV\",\"I-III\"],\"z\":[[151,246],[512,100]],\"type\":\"heatmap\"}],                        {\"annotations\":[{\"font\":{\"color\":\"#000000\"},\"showarrow\":false,\"text\":\"151\",\"x\":\"I-III\",\"xref\":\"x\",\"y\":\"IV\",\"yref\":\"y\"},{\"font\":{\"color\":\"#000000\"},\"showarrow\":false,\"text\":\"246\",\"x\":\"IV\",\"xref\":\"x\",\"y\":\"IV\",\"yref\":\"y\"},{\"font\":{\"color\":\"#FFFFFF\"},\"showarrow\":false,\"text\":\"512\",\"x\":\"I-III\",\"xref\":\"x\",\"y\":\"I-III\",\"yref\":\"y\"},{\"font\":{\"color\":\"#000000\"},\"showarrow\":false,\"text\":\"100\",\"x\":\"IV\",\"xref\":\"x\",\"y\":\"I-III\",\"yref\":\"y\"}],\"xaxis\":{\"dtick\":1,\"gridcolor\":\"rgb(0, 0, 0)\",\"side\":\"top\",\"ticks\":\"\",\"tickfont\":{\"size\":10},\"title\":{\"text\":\"Predicted label\"}},\"yaxis\":{\"dtick\":1,\"ticks\":\"\",\"ticksuffix\":\"  \",\"tickfont\":{\"size\":10},\"title\":{\"text\":\"True label\"}},\"template\":{\"data\":{\"histogram2dcontour\":[{\"type\":\"histogram2dcontour\",\"colorbar\":{\"outlinewidth\":0,\"ticks\":\"\"},\"colorscale\":[[0.0,\"#0d0887\"],[0.1111111111111111,\"#46039f\"],[0.2222222222222222,\"#7201a8\"],[0.3333333333333333,\"#9c179e\"],[0.4444444444444444,\"#bd3786\"],[0.5555555555555556,\"#d8576b\"],[0.6666666666666666,\"#ed7953\"],[0.7777777777777778,\"#fb9f3a\"],[0.8888888888888888,\"#fdca26\"],[1.0,\"#f0f921\"]]}],\"choropleth\":[{\"type\":\"choropleth\",\"colorbar\":{\"outlinewidth\":0,\"ticks\":\"\"}}],\"histogram2d\":[{\"type\":\"histogram2d\",\"colorbar\":{\"outlinewidth\":0,\"ticks\":\"\"},\"colorscale\":[[0.0,\"#0d0887\"],[0.1111111111111111,\"#46039f\"],[0.2222222222222222,\"#7201a8\"],[0.3333333333333333,\"#9c179e\"],[0.4444444444444444,\"#bd3786\"],[0.5555555555555556,\"#d8576b\"],[0.6666666666666666,\"#ed7953\"],[0.7777777777777778,\"#fb9f3a\"],[0.8888888888888888,\"#fdca26\"],[1.0,\"#f0f921\"]]}],\"heatmap\":[{\"type\":\"heatmap\",\"colorbar\":{\"outlinewidth\":0,\"ticks\":\"\"},\"colorscale\":[[0.0,\"#0d0887\"],[0.1111111111111111,\"#46039f\"],[0.2222222222222222,\"#7201a8\"],[0.3333333333333333,\"#9c179e\"],[0.4444444444444444,\"#bd3786\"],[0.5555555555555556,\"#d8576b\"],[0.6666666666666666,\"#ed7953\"],[0.7777777777777778,\"#fb9f3a\"],[0.8888888888888888,\"#fdca26\"],[1.0,\"#f0f921\"]]}],\"heatmapgl\":[{\"type\":\"heatmapgl\",\"colorbar\":{\"outlinewidth\":0,\"ticks\":\"\"},\"colorscale\":[[0.0,\"#0d0887\"],[0.1111111111111111,\"#46039f\"],[0.2222222222222222,\"#7201a8\"],[0.3333333333333333,\"#9c179e\"],[0.4444444444444444,\"#bd3786\"],[0.5555555555555556,\"#d8576b\"],[0.6666666666666666,\"#ed7953\"],[0.7777777777777778,\"#fb9f3a\"],[0.8888888888888888,\"#fdca26\"],[1.0,\"#f0f921\"]]}],\"contourcarpet\":[{\"type\":\"contourcarpet\",\"colorbar\":{\"outlinewidth\":0,\"ticks\":\"\"}}],\"contour\":[{\"type\":\"contour\",\"colorbar\":{\"outlinewidth\":0,\"ticks\":\"\"},\"colorscale\":[[0.0,\"#0d0887\"],[0.1111111111111111,\"#46039f\"],[0.2222222222222222,\"#7201a8\"],[0.3333333333333333,\"#9c179e\"],[0.4444444444444444,\"#bd3786\"],[0.5555555555555556,\"#d8576b\"],[0.6666666666666666,\"#ed7953\"],[0.7777777777777778,\"#fb9f3a\"],[0.8888888888888888,\"#fdca26\"],[1.0,\"#f0f921\"]]}],\"surface\":[{\"type\":\"surface\",\"colorbar\":{\"outlinewidth\":0,\"ticks\":\"\"},\"colorscale\":[[0.0,\"#0d0887\"],[0.1111111111111111,\"#46039f\"],[0.2222222222222222,\"#7201a8\"],[0.3333333333333333,\"#9c179e\"],[0.4444444444444444,\"#bd3786\"],[0.5555555555555556,\"#d8576b\"],[0.6666666666666666,\"#ed7953\"],[0.7777777777777778,\"#fb9f3a\"],[0.8888888888888888,\"#fdca26\"],[1.0,\"#f0f921\"]]}],\"mesh3d\":[{\"type\":\"mesh3d\",\"colorbar\":{\"outlinewidth\":0,\"ticks\":\"\"}}],\"scatter\":[{\"marker\":{\"line\":{\"color\":\"#283442\"}},\"type\":\"scatter\"}],\"parcoords\":[{\"type\":\"parcoords\",\"line\":{\"colorbar\":{\"outlinewidth\":0,\"ticks\":\"\"}}}],\"scatterpolargl\":[{\"type\":\"scatterpolargl\",\"marker\":{\"colorbar\":{\"outlinewidth\":0,\"ticks\":\"\"}}}],\"bar\":[{\"error_x\":{\"color\":\"#f2f5fa\"},\"error_y\":{\"color\":\"#f2f5fa\"},\"marker\":{\"line\":{\"color\":\"rgb(17,17,17)\",\"width\":0.5},\"pattern\":{\"fillmode\":\"overlay\",\"size\":10,\"solidity\":0.2}},\"type\":\"bar\"}],\"scattergeo\":[{\"type\":\"scattergeo\",\"marker\":{\"colorbar\":{\"outlinewidth\":0,\"ticks\":\"\"}}}],\"scatterpolar\":[{\"type\":\"scatterpolar\",\"marker\":{\"colorbar\":{\"outlinewidth\":0,\"ticks\":\"\"}}}],\"histogram\":[{\"marker\":{\"pattern\":{\"fillmode\":\"overlay\",\"size\":10,\"solidity\":0.2}},\"type\":\"histogram\"}],\"scattergl\":[{\"marker\":{\"line\":{\"color\":\"#283442\"}},\"type\":\"scattergl\"}],\"scatter3d\":[{\"type\":\"scatter3d\",\"line\":{\"colorbar\":{\"outlinewidth\":0,\"ticks\":\"\"}},\"marker\":{\"colorbar\":{\"outlinewidth\":0,\"ticks\":\"\"}}}],\"scattermapbox\":[{\"type\":\"scattermapbox\",\"marker\":{\"colorbar\":{\"outlinewidth\":0,\"ticks\":\"\"}}}],\"scatterternary\":[{\"type\":\"scatterternary\",\"marker\":{\"colorbar\":{\"outlinewidth\":0,\"ticks\":\"\"}}}],\"scattercarpet\":[{\"type\":\"scattercarpet\",\"marker\":{\"colorbar\":{\"outlinewidth\":0,\"ticks\":\"\"}}}],\"carpet\":[{\"aaxis\":{\"endlinecolor\":\"#A2B1C6\",\"gridcolor\":\"#506784\",\"linecolor\":\"#506784\",\"minorgridcolor\":\"#506784\",\"startlinecolor\":\"#A2B1C6\"},\"baxis\":{\"endlinecolor\":\"#A2B1C6\",\"gridcolor\":\"#506784\",\"linecolor\":\"#506784\",\"minorgridcolor\":\"#506784\",\"startlinecolor\":\"#A2B1C6\"},\"type\":\"carpet\"}],\"table\":[{\"cells\":{\"fill\":{\"color\":\"#506784\"},\"line\":{\"color\":\"rgb(17,17,17)\"}},\"header\":{\"fill\":{\"color\":\"#2a3f5f\"},\"line\":{\"color\":\"rgb(17,17,17)\"}},\"type\":\"table\"}],\"barpolar\":[{\"marker\":{\"line\":{\"color\":\"rgb(17,17,17)\",\"width\":0.5},\"pattern\":{\"fillmode\":\"overlay\",\"size\":10,\"solidity\":0.2}},\"type\":\"barpolar\"}],\"pie\":[{\"automargin\":true,\"type\":\"pie\"}]},\"layout\":{\"autotypenumbers\":\"strict\",\"colorway\":[\"#636efa\",\"#EF553B\",\"#00cc96\",\"#ab63fa\",\"#FFA15A\",\"#19d3f3\",\"#FF6692\",\"#B6E880\",\"#FF97FF\",\"#FECB52\"],\"font\":{\"color\":\"#f2f5fa\"},\"hovermode\":\"closest\",\"hoverlabel\":{\"align\":\"left\"},\"paper_bgcolor\":\"rgb(17,17,17)\",\"plot_bgcolor\":\"rgb(17,17,17)\",\"polar\":{\"bgcolor\":\"rgb(17,17,17)\",\"angularaxis\":{\"gridcolor\":\"#506784\",\"linecolor\":\"#506784\",\"ticks\":\"\"},\"radialaxis\":{\"gridcolor\":\"#506784\",\"linecolor\":\"#506784\",\"ticks\":\"\"}},\"ternary\":{\"bgcolor\":\"rgb(17,17,17)\",\"aaxis\":{\"gridcolor\":\"#506784\",\"linecolor\":\"#506784\",\"ticks\":\"\"},\"baxis\":{\"gridcolor\":\"#506784\",\"linecolor\":\"#506784\",\"ticks\":\"\"},\"caxis\":{\"gridcolor\":\"#506784\",\"linecolor\":\"#506784\",\"ticks\":\"\"}},\"coloraxis\":{\"colorbar\":{\"outlinewidth\":0,\"ticks\":\"\"}},\"colorscale\":{\"sequential\":[[0.0,\"#0d0887\"],[0.1111111111111111,\"#46039f\"],[0.2222222222222222,\"#7201a8\"],[0.3333333333333333,\"#9c179e\"],[0.4444444444444444,\"#bd3786\"],[0.5555555555555556,\"#d8576b\"],[0.6666666666666666,\"#ed7953\"],[0.7777777777777778,\"#fb9f3a\"],[0.8888888888888888,\"#fdca26\"],[1.0,\"#f0f921\"]],\"sequentialminus\":[[0.0,\"#0d0887\"],[0.1111111111111111,\"#46039f\"],[0.2222222222222222,\"#7201a8\"],[0.3333333333333333,\"#9c179e\"],[0.4444444444444444,\"#bd3786\"],[0.5555555555555556,\"#d8576b\"],[0.6666666666666666,\"#ed7953\"],[0.7777777777777778,\"#fb9f3a\"],[0.8888888888888888,\"#fdca26\"],[1.0,\"#f0f921\"]],\"diverging\":[[0,\"#8e0152\"],[0.1,\"#c51b7d\"],[0.2,\"#de77ae\"],[0.3,\"#f1b6da\"],[0.4,\"#fde0ef\"],[0.5,\"#f7f7f7\"],[0.6,\"#e6f5d0\"],[0.7,\"#b8e186\"],[0.8,\"#7fbc41\"],[0.9,\"#4d9221\"],[1,\"#276419\"]]},\"xaxis\":{\"gridcolor\":\"#283442\",\"linecolor\":\"#506784\",\"ticks\":\"\",\"title\":{\"standoff\":15},\"zerolinecolor\":\"#283442\",\"automargin\":true,\"zerolinewidth\":2},\"yaxis\":{\"gridcolor\":\"#283442\",\"linecolor\":\"#506784\",\"ticks\":\"\",\"title\":{\"standoff\":15},\"zerolinecolor\":\"#283442\",\"automargin\":true,\"zerolinewidth\":2},\"scene\":{\"xaxis\":{\"backgroundcolor\":\"rgb(17,17,17)\",\"gridcolor\":\"#506784\",\"linecolor\":\"#506784\",\"showbackground\":true,\"ticks\":\"\",\"zerolinecolor\":\"#C8D4E3\",\"gridwidth\":2},\"yaxis\":{\"backgroundcolor\":\"rgb(17,17,17)\",\"gridcolor\":\"#506784\",\"linecolor\":\"#506784\",\"showbackground\":true,\"ticks\":\"\",\"zerolinecolor\":\"#C8D4E3\",\"gridwidth\":2},\"zaxis\":{\"backgroundcolor\":\"rgb(17,17,17)\",\"gridcolor\":\"#506784\",\"linecolor\":\"#506784\",\"showbackground\":true,\"ticks\":\"\",\"zerolinecolor\":\"#C8D4E3\",\"gridwidth\":2}},\"shapedefaults\":{\"line\":{\"color\":\"#f2f5fa\"}},\"annotationdefaults\":{\"arrowcolor\":\"#f2f5fa\",\"arrowhead\":0,\"arrowwidth\":1},\"geo\":{\"bgcolor\":\"rgb(17,17,17)\",\"landcolor\":\"rgb(17,17,17)\",\"subunitcolor\":\"#506784\",\"showland\":true,\"showlakes\":true,\"lakecolor\":\"rgb(17,17,17)\"},\"title\":{\"x\":0.05},\"updatemenudefaults\":{\"bgcolor\":\"#506784\",\"borderwidth\":0},\"sliderdefaults\":{\"bgcolor\":\"#C8D4E3\",\"borderwidth\":1,\"bordercolor\":\"rgb(17,17,17)\",\"tickwidth\":0},\"mapbox\":{\"style\":\"dark\"}}},\"title\":{\"text\":\"Accuracy = 75.12, F1 = 0.66\",\"x\":0.5,\"y\":0.05},\"paper_bgcolor\":\"rgba(0,0,0,0)\"},                        {\"responsive\": true}                    ).then(function(){\n                            \nvar gd = document.getElementById('3ee75736-e8b4-4538-a3de-fbeac60273d4');\nvar x = new MutationObserver(function (mutations, observer) {{\n        var display = window.getComputedStyle(gd).display;\n        if (!display || display === 'none') {{\n            console.log([gd, 'removed!']);\n            Plotly.purge(gd);\n            observer.disconnect();\n        }}\n}});\n\n// Listen for the removal of the full notebook cells\nvar notebookContainer = gd.closest('#notebook-container');\nif (notebookContainer) {{\n    x.observe(notebookContainer, {childList: true});\n}}\n\n// Listen for the clearing of the current output cell\nvar outputEl = gd.closest('.output');\nif (outputEl) {{\n    x.observe(outputEl, {childList: true});\n}}\n\n                        })                };                });            </script>        </div>"
     },
     "metadata": {},
     "output_type": "display_data"
    }
   ],
   "source": [
    "accuracy = accuracy_score(y_true, y_pred.astype(int))\n",
    "f1 = f1_score(y_true, y_pred.astype(int))\n",
    "cm = confusion_matrix(y_true, y_pred.astype(int))\n",
    "\n",
    "title_dict = {\n",
    "    'text': f'Accuracy = {accuracy*100:.2f}, F1 = {f1:.2f}',\n",
    "    'x': 0.5,\n",
    "    'y': 0.05\n",
    "}\n",
    "\n",
    "plot_confusion_matrix(cm, labels, title_dict)"
   ],
   "metadata": {
    "collapsed": false,
    "ExecuteTime": {
     "start_time": "2023-04-11T15:36:08.263034Z",
     "end_time": "2023-04-11T15:36:08.315019Z"
    }
   }
  },
  {
   "cell_type": "markdown",
   "source": [
    "## Only the most numerous types of cancer (each one separately), multiclass classification (stages: I, II, III, IV)"
   ],
   "metadata": {
    "collapsed": false
   }
  },
  {
   "cell_type": "code",
   "execution_count": 61,
   "outputs": [],
   "source": [
    "labels_encoding = {\n",
    "    'I': 0,\n",
    "    'II': 1,\n",
    "    'III': 2,\n",
    "    'IV': 3\n",
    "}\n",
    "\n",
    "xgb_config = {\n",
    "    'objective': 'multi:softmax',\n",
    "    'random_state': random_state,\n",
    "    'num_class': 4,\n",
    "}\n",
    "\n",
    "scoring_func = partial(f1_score, average='weighted')"
   ],
   "metadata": {
    "collapsed": false,
    "ExecuteTime": {
     "start_time": "2023-04-11T18:09:25.936984Z",
     "end_time": "2023-04-11T18:09:25.950500Z"
    }
   }
  },
  {
   "cell_type": "markdown",
   "source": [
    "Get only the most numerous cancer types (with more than 100 cases)"
   ],
   "metadata": {
    "collapsed": false
   }
  },
  {
   "cell_type": "code",
   "execution_count": 62,
   "outputs": [
    {
     "data": {
      "text/plain": "['NSCLC', 'Ovarian cancer', 'Glioma']"
     },
     "execution_count": 62,
     "metadata": {},
     "output_type": "execute_result"
    }
   ],
   "source": [
    "cancer_type_counts = train['Group'].value_counts()\n",
    "numerous_cancer_types = cancer_type_counts[cancer_type_counts > 100].index.tolist()\n",
    "numerous_cancer_types"
   ],
   "metadata": {
    "collapsed": false,
    "ExecuteTime": {
     "start_time": "2023-04-11T18:09:28.338336Z",
     "end_time": "2023-04-11T18:09:28.350327Z"
    }
   }
  },
  {
   "cell_type": "markdown",
   "source": [
    "For each cancer type a separate model will be created, optimized and tested"
   ],
   "metadata": {
    "collapsed": false
   }
  },
  {
   "cell_type": "markdown",
   "source": [
    "### NSCLC"
   ],
   "metadata": {
    "collapsed": false
   }
  },
  {
   "cell_type": "code",
   "execution_count": 63,
   "outputs": [
    {
     "data": {
      "text/plain": "Stage\n3    264\n2     37\n0     30\n1     10\nName: count, dtype: int64"
     },
     "execution_count": 63,
     "metadata": {},
     "output_type": "execute_result"
    }
   ],
   "source": [
    "X_train = train.loc[train['Group'] == 'NSCLC']\n",
    "\n",
    "stratification_groups = X_train.loc[:, 'Stage']\n",
    "X_train = X_train.loc[:, ~X_train.columns.isin(['ID', 'Sex', 'Age', 'Group'])]\n",
    "\n",
    "X_train.loc[:, 'Stage'] = X_train['Stage'].map(labels_encoding)\n",
    "X_train['Stage'].value_counts()"
   ],
   "metadata": {
    "collapsed": false,
    "ExecuteTime": {
     "start_time": "2023-04-11T18:09:32.258820Z",
     "end_time": "2023-04-11T18:09:32.305050Z"
    }
   }
  },
  {
   "cell_type": "code",
   "execution_count": 64,
   "outputs": [
    {
     "name": "stderr",
     "output_type": "stream",
     "text": [
      "\u001B[32m[I 2023-04-11 18:09:54,243]\u001B[0m A new study created in memory with name: no-name-4aa05c2d-33f4-48a5-8c7d-4d66df1e6353\u001B[0m\n",
      "\u001B[32m[I 2023-04-11 18:10:11,357]\u001B[0m Trial 0 finished with value: 0.7022934665929529 and parameters: {'n_estimators': 69, 'max_depth': 6, 'learning_rate': 0.19782952909622356, 'subsample': 0.9312130857855134, 'colsample_bytree': 0.7890137455250394, 'gamma': 0.8040736304701734}. Best is trial 0 with value: 0.7022934665929529.\u001B[0m\n",
      "\u001B[32m[I 2023-04-11 18:10:37,470]\u001B[0m Trial 1 finished with value: 0.6992216463610572 and parameters: {'n_estimators': 103, 'max_depth': 7, 'learning_rate': 0.05292700911301404, 'subsample': 0.6347081861755921, 'colsample_bytree': 0.9524198948974147, 'gamma': 0.14277278866286114}. Best is trial 0 with value: 0.7022934665929529.\u001B[0m\n",
      "\u001B[32m[I 2023-04-11 18:11:05,018]\u001B[0m Trial 2 finished with value: 0.7083641224336558 and parameters: {'n_estimators': 147, 'max_depth': 7, 'learning_rate': 0.1717029327114464, 'subsample': 0.7826043723222649, 'colsample_bytree': 0.6596474070778637, 'gamma': 0.7474042399685074}. Best is trial 2 with value: 0.7083641224336558.\u001B[0m\n",
      "\u001B[32m[I 2023-04-11 18:11:19,142]\u001B[0m Trial 3 finished with value: 0.702378231962461 and parameters: {'n_estimators': 54, 'max_depth': 5, 'learning_rate': 0.030319528443633594, 'subsample': 0.6059313067573066, 'colsample_bytree': 0.8669886682846413, 'gamma': 0.482493609739022}. Best is trial 2 with value: 0.7083641224336558.\u001B[0m\n",
      "\u001B[32m[I 2023-04-11 18:11:34,609]\u001B[0m Trial 4 finished with value: 0.6961216811887126 and parameters: {'n_estimators': 77, 'max_depth': 4, 'learning_rate': 0.27629834428168504, 'subsample': 0.797388991710997, 'colsample_bytree': 0.761378453201271, 'gamma': 0.9878578906509607}. Best is trial 2 with value: 0.7083641224336558.\u001B[0m\n",
      "\u001B[32m[I 2023-04-11 18:11:42,838]\u001B[0m Trial 5 finished with value: 0.7058187840679027 and parameters: {'n_estimators': 29, 'max_depth': 6, 'learning_rate': 0.22899854726464255, 'subsample': 0.8139201729635646, 'colsample_bytree': 0.907654763831061, 'gamma': 0.20710524866501534}. Best is trial 2 with value: 0.7083641224336558.\u001B[0m\n",
      "\u001B[32m[I 2023-04-11 18:12:00,478]\u001B[0m Trial 6 finished with value: 0.7084479344335751 and parameters: {'n_estimators': 72, 'max_depth': 7, 'learning_rate': 0.17217964717366444, 'subsample': 0.812541899574253, 'colsample_bytree': 0.9195991127703269, 'gamma': 0.554023925027873}. Best is trial 6 with value: 0.7084479344335751.\u001B[0m\n",
      "\u001B[32m[I 2023-04-11 18:12:23,937]\u001B[0m Trial 7 finished with value: 0.704656824531727 and parameters: {'n_estimators': 148, 'max_depth': 3, 'learning_rate': 0.1573219747768636, 'subsample': 0.838159943536904, 'colsample_bytree': 0.6654948741793192, 'gamma': 0.5181812513233529}. Best is trial 6 with value: 0.7084479344335751.\u001B[0m\n",
      "\u001B[32m[I 2023-04-11 18:12:44,654]\u001B[0m Trial 8 finished with value: 0.7151801645280125 and parameters: {'n_estimators': 138, 'max_depth': 7, 'learning_rate': 0.17955527176388966, 'subsample': 0.6651940917220994, 'colsample_bytree': 0.607129788632265, 'gamma': 0.5485200145091209}. Best is trial 8 with value: 0.7151801645280125.\u001B[0m\n",
      "\u001B[32m[I 2023-04-11 18:12:57,835]\u001B[0m Trial 9 finished with value: 0.6975169483744801 and parameters: {'n_estimators': 59, 'max_depth': 4, 'learning_rate': 0.11506676122770013, 'subsample': 0.7767593176157304, 'colsample_bytree': 0.8007738881041917, 'gamma': 0.14663033825307825}. Best is trial 8 with value: 0.7151801645280125.\u001B[0m\n",
      "\u001B[32m[I 2023-04-11 18:13:17,373]\u001B[0m Trial 10 finished with value: 0.7050386398251096 and parameters: {'n_estimators': 121, 'max_depth': 8, 'learning_rate': 0.09786421848475207, 'subsample': 0.6895183861662803, 'colsample_bytree': 0.6030508183848615, 'gamma': 1.125799965628893e-05}. Best is trial 8 with value: 0.7151801645280125.\u001B[0m\n",
      "\u001B[32m[I 2023-04-11 18:13:37,854]\u001B[0m Trial 11 finished with value: 0.7236432587119198 and parameters: {'n_estimators': 99, 'max_depth': 8, 'learning_rate': 0.20890686546640688, 'subsample': 0.6891218597743258, 'colsample_bytree': 0.9814580095514898, 'gamma': 0.4886855914430264}. Best is trial 11 with value: 0.7236432587119198.\u001B[0m\n",
      "\u001B[32m[I 2023-04-11 18:14:00,131]\u001B[0m Trial 12 finished with value: 0.7037215326653906 and parameters: {'n_estimators': 111, 'max_depth': 8, 'learning_rate': 0.23563739245404475, 'subsample': 0.692421652368067, 'colsample_bytree': 0.9976073426093339, 'gamma': 0.4356903599368761}. Best is trial 11 with value: 0.7236432587119198.\u001B[0m\n",
      "\u001B[32m[I 2023-04-11 18:14:23,202]\u001B[0m Trial 13 finished with value: 0.722061925286007 and parameters: {'n_estimators': 128, 'max_depth': 8, 'learning_rate': 0.2913647820597795, 'subsample': 0.6973788475493454, 'colsample_bytree': 0.9960856070626398, 'gamma': 0.35749052842869194}. Best is trial 11 with value: 0.7236432587119198.\u001B[0m\n",
      "\u001B[32m[I 2023-04-11 18:14:40,902]\u001B[0m Trial 14 finished with value: 0.7118035236577718 and parameters: {'n_estimators': 92, 'max_depth': 8, 'learning_rate': 0.2947786737111558, 'subsample': 0.7228672260356057, 'colsample_bytree': 0.9943616486287553, 'gamma': 0.335435823974615}. Best is trial 11 with value: 0.7236432587119198.\u001B[0m\n",
      "\u001B[32m[I 2023-04-11 18:15:03,159]\u001B[0m Trial 15 finished with value: 0.7073111152417876 and parameters: {'n_estimators': 124, 'max_depth': 6, 'learning_rate': 0.259860012621018, 'subsample': 0.7279280061596407, 'colsample_bytree': 0.9487388773183579, 'gamma': 0.338649092709439}. Best is trial 11 with value: 0.7236432587119198.\u001B[0m\n",
      "\u001B[32m[I 2023-04-11 18:15:17,016]\u001B[0m Trial 16 finished with value: 0.7008793147538532 and parameters: {'n_estimators': 94, 'max_depth': 2, 'learning_rate': 0.2991602058975657, 'subsample': 0.6075634392440824, 'colsample_bytree': 0.9950716935887004, 'gamma': 0.3639353814659454}. Best is trial 11 with value: 0.7236432587119198.\u001B[0m\n",
      "\u001B[32m[I 2023-04-11 18:15:37,285]\u001B[0m Trial 17 finished with value: 0.7154764937864535 and parameters: {'n_estimators': 127, 'max_depth': 8, 'learning_rate': 0.2170553342440142, 'subsample': 0.6521127309210221, 'colsample_bytree': 0.8696818962610317, 'gamma': 0.2309750912531534}. Best is trial 11 with value: 0.7236432587119198.\u001B[0m\n",
      "\u001B[32m[I 2023-04-11 18:15:59,888]\u001B[0m Trial 18 finished with value: 0.7037036876895625 and parameters: {'n_estimators': 110, 'max_depth': 5, 'learning_rate': 0.2561708978382008, 'subsample': 0.7326681420424681, 'colsample_bytree': 0.9519864442585219, 'gamma': 0.6354826326310896}. Best is trial 11 with value: 0.7236432587119198.\u001B[0m\n",
      "\u001B[32m[I 2023-04-11 18:16:06,682]\u001B[0m Trial 19 finished with value: 0.6902507019435521 and parameters: {'n_estimators': 23, 'max_depth': 6, 'learning_rate': 0.20701072198408518, 'subsample': 0.6717369258295217, 'colsample_bytree': 0.8802650314823544, 'gamma': 0.4280894041456449}. Best is trial 11 with value: 0.7236432587119198.\u001B[0m\n",
      "\u001B[32m[I 2023-04-11 18:16:32,808]\u001B[0m Trial 20 finished with value: 0.7126043590622617 and parameters: {'n_estimators': 132, 'max_depth': 8, 'learning_rate': 0.24432550861424843, 'subsample': 0.6386133293255027, 'colsample_bytree': 0.9578707536679183, 'gamma': 0.6502555042347508}. Best is trial 11 with value: 0.7236432587119198.\u001B[0m\n",
      "\u001B[32m[I 2023-04-11 18:16:52,746]\u001B[0m Trial 21 finished with value: 0.706059876811697 and parameters: {'n_estimators': 121, 'max_depth': 8, 'learning_rate': 0.21658221002403405, 'subsample': 0.6484915723447211, 'colsample_bytree': 0.8586096860375521, 'gamma': 0.33077158001640783}. Best is trial 11 with value: 0.7236432587119198.\u001B[0m\n",
      "\u001B[32m[I 2023-04-11 18:17:09,681]\u001B[0m Trial 22 finished with value: 0.6980659725863947 and parameters: {'n_estimators': 101, 'max_depth': 7, 'learning_rate': 0.268422639575355, 'subsample': 0.6989142170828924, 'colsample_bytree': 0.911998952582282, 'gamma': 0.22832618969404336}. Best is trial 11 with value: 0.7236432587119198.\u001B[0m\n",
      "\u001B[32m[I 2023-04-11 18:17:34,348]\u001B[0m Trial 23 finished with value: 0.7035298723791962 and parameters: {'n_estimators': 136, 'max_depth': 8, 'learning_rate': 0.2019986684413448, 'subsample': 0.7423209725442047, 'colsample_bytree': 0.9715422337188016, 'gamma': 0.26584433212212183}. Best is trial 11 with value: 0.7236432587119198.\u001B[0m\n",
      "\u001B[32m[I 2023-04-11 18:17:55,488]\u001B[0m Trial 24 finished with value: 0.7008662350871698 and parameters: {'n_estimators': 114, 'max_depth': 7, 'learning_rate': 0.2355813288232923, 'subsample': 0.6645207832450652, 'colsample_bytree': 0.9269106661140523, 'gamma': 0.4165939505741558}. Best is trial 11 with value: 0.7236432587119198.\u001B[0m\n",
      "\u001B[32m[I 2023-04-11 18:18:10,392]\u001B[0m Trial 25 finished with value: 0.7123678864045656 and parameters: {'n_estimators': 83, 'max_depth': 8, 'learning_rate': 0.2777754607959611, 'subsample': 0.6080379124267202, 'colsample_bytree': 0.998689470434423, 'gamma': 0.2825496767616246}. Best is trial 11 with value: 0.7236432587119198.\u001B[0m\n",
      "\u001B[32m[I 2023-04-11 18:18:34,311]\u001B[0m Trial 26 finished with value: 0.7090467236004538 and parameters: {'n_estimators': 133, 'max_depth': 7, 'learning_rate': 0.22624428408620995, 'subsample': 0.7056148572393892, 'colsample_bytree': 0.8879304754519728, 'gamma': 0.40494891922133186}. Best is trial 11 with value: 0.7236432587119198.\u001B[0m\n",
      "\u001B[32m[I 2023-04-11 18:18:51,637]\u001B[0m Trial 27 finished with value: 0.7008818615925687 and parameters: {'n_estimators': 98, 'max_depth': 8, 'learning_rate': 0.2509975298502957, 'subsample': 0.7577240417223505, 'colsample_bytree': 0.9387686285708347, 'gamma': 0.16945768304363432}. Best is trial 11 with value: 0.7236432587119198.\u001B[0m\n",
      "\u001B[32m[I 2023-04-11 18:19:12,822]\u001B[0m Trial 28 finished with value: 0.7015583720381519 and parameters: {'n_estimators': 124, 'max_depth': 6, 'learning_rate': 0.1906655003701958, 'subsample': 0.6779759832919017, 'colsample_bytree': 0.8479082805589058, 'gamma': 0.2808934515234872}. Best is trial 11 with value: 0.7236432587119198.\u001B[0m\n",
      "\u001B[32m[I 2023-04-11 18:19:40,220]\u001B[0m Trial 29 finished with value: 0.7194546909841761 and parameters: {'n_estimators': 143, 'max_depth': 6, 'learning_rate': 0.21514785444637569, 'subsample': 0.7119180024441025, 'colsample_bytree': 0.9713737482452428, 'gamma': 0.4847732753067978}. Best is trial 11 with value: 0.7236432587119198.\u001B[0m\n",
      "\u001B[32m[I 2023-04-11 18:20:08,781]\u001B[0m Trial 30 finished with value: 0.7084565066700942 and parameters: {'n_estimators': 147, 'max_depth': 4, 'learning_rate': 0.1944597064706986, 'subsample': 0.757797134729365, 'colsample_bytree': 0.9732962402253575, 'gamma': 0.4891948226214548}. Best is trial 11 with value: 0.7236432587119198.\u001B[0m\n",
      "\u001B[32m[I 2023-04-11 18:20:36,733]\u001B[0m Trial 31 finished with value: 0.7034144201940374 and parameters: {'n_estimators': 139, 'max_depth': 6, 'learning_rate': 0.21457059080028176, 'subsample': 0.7109976525818624, 'colsample_bytree': 0.9731077863810339, 'gamma': 0.5910861788674213}. Best is trial 11 with value: 0.7236432587119198.\u001B[0m\n",
      "\u001B[32m[I 2023-04-11 18:20:59,436]\u001B[0m Trial 32 finished with value: 0.7108075378622332 and parameters: {'n_estimators': 128, 'max_depth': 5, 'learning_rate': 0.21112869535631762, 'subsample': 0.6437585222448359, 'colsample_bytree': 0.9334457629576125, 'gamma': 0.4706830501965565}. Best is trial 11 with value: 0.7236432587119198.\u001B[0m\n",
      "\u001B[32m[I 2023-04-11 18:21:21,183]\u001B[0m Trial 33 finished with value: 0.7131439823250398 and parameters: {'n_estimators': 116, 'max_depth': 7, 'learning_rate': 0.24442594884512686, 'subsample': 0.6822661343841087, 'colsample_bytree': 0.9721532261379425, 'gamma': 0.4114802846219916}. Best is trial 11 with value: 0.7236432587119198.\u001B[0m\n",
      "\u001B[32m[I 2023-04-11 18:21:41,531]\u001B[0m Trial 34 finished with value: 0.695733274268034 and parameters: {'n_estimators': 106, 'max_depth': 8, 'learning_rate': 0.14952721028900828, 'subsample': 0.6278921753821571, 'colsample_bytree': 0.8981435061791568, 'gamma': 0.36793534302279585}. Best is trial 11 with value: 0.7236432587119198.\u001B[0m\n",
      "\u001B[32m[I 2023-04-11 18:22:09,211]\u001B[0m Trial 35 finished with value: 0.6958322221415897 and parameters: {'n_estimators': 140, 'max_depth': 7, 'learning_rate': 0.22385478278735874, 'subsample': 0.7098700903980761, 'colsample_bytree': 0.9398894321878211, 'gamma': 0.4807028287669418}. Best is trial 11 with value: 0.7236432587119198.\u001B[0m\n",
      "\u001B[32m[I 2023-04-11 18:22:26,737]\u001B[0m Trial 36 finished with value: 0.6969979898493708 and parameters: {'n_estimators': 87, 'max_depth': 7, 'learning_rate': 0.280421205505226, 'subsample': 0.6567951063491914, 'colsample_bytree': 0.9216459349564181, 'gamma': 0.7065151148638968}. Best is trial 11 with value: 0.7236432587119198.\u001B[0m\n",
      "\u001B[32m[I 2023-04-11 18:22:35,938]\u001B[0m Trial 37 finished with value: 0.7098437735984321 and parameters: {'n_estimators': 41, 'max_depth': 8, 'learning_rate': 0.26420597742451396, 'subsample': 0.6259623754244159, 'colsample_bytree': 0.898652329197698, 'gamma': 0.5576116685483965}. Best is trial 11 with value: 0.7236432587119198.\u001B[0m\n",
      "\u001B[32m[I 2023-04-11 18:23:05,259]\u001B[0m Trial 38 finished with value: 0.703305135427008 and parameters: {'n_estimators': 147, 'max_depth': 6, 'learning_rate': 0.24079055891345136, 'subsample': 0.679401492740495, 'colsample_bytree': 0.9608791262328017, 'gamma': 0.8202624915032688}. Best is trial 11 with value: 0.7236432587119198.\u001B[0m\n",
      "\u001B[32m[I 2023-04-11 18:23:16,578]\u001B[0m Trial 39 finished with value: 0.7082766150372264 and parameters: {'n_estimators': 64, 'max_depth': 5, 'learning_rate': 0.28424100311089173, 'subsample': 0.657066042034653, 'colsample_bytree': 0.9787386138801053, 'gamma': 0.10209007925573316}. Best is trial 11 with value: 0.7236432587119198.\u001B[0m\n",
      "\u001B[32m[I 2023-04-11 18:23:44,266]\u001B[0m Trial 40 finished with value: 0.7020089757925957 and parameters: {'n_estimators': 129, 'max_depth': 3, 'learning_rate': 0.18542726870107884, 'subsample': 0.9955939353172527, 'colsample_bytree': 0.9483992006686642, 'gamma': 0.5199575982666524}. Best is trial 11 with value: 0.7236432587119198.\u001B[0m\n",
      "\u001B[32m[I 2023-04-11 18:24:08,094]\u001B[0m Trial 41 finished with value: 0.6956818190675678 and parameters: {'n_estimators': 140, 'max_depth': 7, 'learning_rate': 0.17575963122559815, 'subsample': 0.6635544807008794, 'colsample_bytree': 0.7364639730789786, 'gamma': 0.5468672825271013}. Best is trial 11 with value: 0.7236432587119198.\u001B[0m\n",
      "\u001B[32m[I 2023-04-11 18:24:32,859]\u001B[0m Trial 42 finished with value: 0.6992216463610572 and parameters: {'n_estimators': 142, 'max_depth': 7, 'learning_rate': 0.19677931597695336, 'subsample': 0.6933200183213978, 'colsample_bytree': 0.8301281921988054, 'gamma': 0.4604836490323077}. Best is trial 11 with value: 0.7236432587119198.\u001B[0m\n",
      "\u001B[32m[I 2023-04-11 18:24:57,319]\u001B[0m Trial 43 finished with value: 0.7025824839887768 and parameters: {'n_estimators': 119, 'max_depth': 8, 'learning_rate': 0.16312520754477483, 'subsample': 0.7186552180455913, 'colsample_bytree': 0.8786687095716426, 'gamma': 0.5187656845599024}. Best is trial 11 with value: 0.7236432587119198.\u001B[0m\n",
      "\u001B[32m[I 2023-04-11 18:25:16,653]\u001B[0m Trial 44 finished with value: 0.7162350047663774 and parameters: {'n_estimators': 127, 'max_depth': 7, 'learning_rate': 0.18155507595602674, 'subsample': 0.6259840239663373, 'colsample_bytree': 0.7544606812761885, 'gamma': 0.38240806483574746}. Best is trial 11 with value: 0.7236432587119198.\u001B[0m\n",
      "\u001B[32m[I 2023-04-11 18:25:40,388]\u001B[0m Trial 45 finished with value: 0.7089724833239955 and parameters: {'n_estimators': 150, 'max_depth': 6, 'learning_rate': 0.22676060768817596, 'subsample': 0.6214129301033228, 'colsample_bytree': 0.9232882677932478, 'gamma': 0.38434292778131707}. Best is trial 11 with value: 0.7236432587119198.\u001B[0m\n",
      "\u001B[32m[I 2023-04-11 18:25:59,685]\u001B[0m Trial 46 finished with value: 0.7253896089488479 and parameters: {'n_estimators': 108, 'max_depth': 7, 'learning_rate': 0.2102040352068375, 'subsample': 0.6402640143520028, 'colsample_bytree': 0.9826603835819714, 'gamma': 0.3179400289889224}. Best is trial 46 with value: 0.7253896089488479.\u001B[0m\n",
      "\u001B[32m[I 2023-04-11 18:26:20,107]\u001B[0m Trial 47 finished with value: 0.6990394451613372 and parameters: {'n_estimators': 108, 'max_depth': 7, 'learning_rate': 0.1501882782193753, 'subsample': 0.6008354113408642, 'colsample_bytree': 0.9856365160182495, 'gamma': 0.3246437149755631}. Best is trial 46 with value: 0.7253896089488479.\u001B[0m\n",
      "\u001B[32m[I 2023-04-11 18:26:39,123]\u001B[0m Trial 48 finished with value: 0.6987959677146092 and parameters: {'n_estimators': 100, 'max_depth': 6, 'learning_rate': 0.1803446598392413, 'subsample': 0.6369563518666872, 'colsample_bytree': 0.986311159201094, 'gamma': 0.38323651037834255}. Best is trial 46 with value: 0.7253896089488479.\u001B[0m\n",
      "\u001B[32m[I 2023-04-11 18:26:54,026]\u001B[0m Trial 49 finished with value: 0.7273041732505787 and parameters: {'n_estimators': 77, 'max_depth': 7, 'learning_rate': 0.2541774856687228, 'subsample': 0.6901778752960515, 'colsample_bytree': 0.9599229703953841, 'gamma': 0.4282967244070671}. Best is trial 49 with value: 0.7273041732505787.\u001B[0m\n",
      "\u001B[32m[I 2023-04-11 18:27:10,322]\u001B[0m Trial 50 finished with value: 0.7062902706992558 and parameters: {'n_estimators': 79, 'max_depth': 6, 'learning_rate': 0.265991211598594, 'subsample': 0.7009972935960913, 'colsample_bytree': 0.9573461105355199, 'gamma': 0.44659897003771704}. Best is trial 49 with value: 0.7273041732505787.\u001B[0m\n",
      "\u001B[32m[I 2023-04-11 18:27:25,367]\u001B[0m Trial 51 finished with value: 0.717631190190802 and parameters: {'n_estimators': 70, 'max_depth': 7, 'learning_rate': 0.2516806899985249, 'subsample': 0.6823377713931326, 'colsample_bytree': 0.9966491702410352, 'gamma': 0.43057870316606817}. Best is trial 49 with value: 0.7273041732505787.\u001B[0m\n",
      "\u001B[32m[I 2023-04-11 18:27:40,390]\u001B[0m Trial 52 finished with value: 0.6980419298419601 and parameters: {'n_estimators': 72, 'max_depth': 7, 'learning_rate': 0.25261843207484325, 'subsample': 0.6854743882241968, 'colsample_bytree': 0.998719144669395, 'gamma': 0.45863592533414654}. Best is trial 49 with value: 0.7273041732505787.\u001B[0m\n",
      "\u001B[32m[I 2023-04-11 18:27:56,872]\u001B[0m Trial 53 finished with value: 0.7128127382420304 and parameters: {'n_estimators': 90, 'max_depth': 8, 'learning_rate': 0.29042150178590653, 'subsample': 0.7325572783163316, 'colsample_bytree': 0.9834381947526579, 'gamma': 0.3103190723916114}. Best is trial 49 with value: 0.7273041732505787.\u001B[0m\n",
      "\u001B[32m[I 2023-04-11 18:28:06,419]\u001B[0m Trial 54 finished with value: 0.7089248068890804 and parameters: {'n_estimators': 46, 'max_depth': 7, 'learning_rate': 0.2992086613396988, 'subsample': 0.6724724487463549, 'colsample_bytree': 0.9613241121346586, 'gamma': 0.34748273711967076}. Best is trial 49 with value: 0.7273041732505787.\u001B[0m\n",
      "\u001B[32m[I 2023-04-11 18:28:18,991]\u001B[0m Trial 55 finished with value: 0.716983116464099 and parameters: {'n_estimators': 59, 'max_depth': 6, 'learning_rate': 0.23576021169866582, 'subsample': 0.6943386846057742, 'colsample_bytree': 0.9993436229427319, 'gamma': 0.4302853577392895}. Best is trial 49 with value: 0.7273041732505787.\u001B[0m\n",
      "\u001B[32m[I 2023-04-11 18:28:33,869]\u001B[0m Trial 56 finished with value: 0.6978575915176463 and parameters: {'n_estimators': 66, 'max_depth': 8, 'learning_rate': 0.27403165070800956, 'subsample': 0.7198636090329028, 'colsample_bytree': 0.947627026645056, 'gamma': 0.48181304578573747}. Best is trial 49 with value: 0.7273041732505787.\u001B[0m\n",
      "\u001B[32m[I 2023-04-11 18:28:47,953]\u001B[0m Trial 57 finished with value: 0.6988300878043714 and parameters: {'n_estimators': 75, 'max_depth': 5, 'learning_rate': 0.2550439241210791, 'subsample': 0.6503980131694918, 'colsample_bytree': 0.966099607751492, 'gamma': 0.40025909357375944}. Best is trial 49 with value: 0.7273041732505787.\u001B[0m\n",
      "\u001B[32m[I 2023-04-11 18:29:03,510]\u001B[0m Trial 58 finished with value: 0.7151687267460916 and parameters: {'n_estimators': 83, 'max_depth': 7, 'learning_rate': 0.2619984113065582, 'subsample': 0.6670866424209224, 'colsample_bytree': 0.9370049177576188, 'gamma': 0.35297655759025015}. Best is trial 49 with value: 0.7273041732505787.\u001B[0m\n",
      "\u001B[32m[I 2023-04-11 18:29:23,028]\u001B[0m Trial 59 finished with value: 0.6984851806286221 and parameters: {'n_estimators': 95, 'max_depth': 8, 'learning_rate': 0.20363834243147577, 'subsample': 0.7398863134767909, 'colsample_bytree': 0.9845456020837148, 'gamma': 0.30140347991138283}. Best is trial 49 with value: 0.7273041732505787.\u001B[0m\n",
      "\u001B[32m[I 2023-04-11 18:29:38,438]\u001B[0m Trial 60 finished with value: 0.6973686253805409 and parameters: {'n_estimators': 79, 'max_depth': 8, 'learning_rate': 0.28701719266422543, 'subsample': 0.6864235341722809, 'colsample_bytree': 0.9128143395932112, 'gamma': 0.4352492224781407}. Best is trial 49 with value: 0.7273041732505787.\u001B[0m\n",
      "\u001B[32m[I 2023-04-11 18:29:51,944]\u001B[0m Trial 61 finished with value: 0.7059408763674204 and parameters: {'n_estimators': 62, 'max_depth': 6, 'learning_rate': 0.23691942111770756, 'subsample': 0.6977845583948569, 'colsample_bytree': 0.9905206407878073, 'gamma': 0.42516536237363284}. Best is trial 49 with value: 0.7273041732505787.\u001B[0m\n",
      "\u001B[32m[I 2023-04-11 18:30:03,290]\u001B[0m Trial 62 finished with value: 0.7002237473802466 and parameters: {'n_estimators': 45, 'max_depth': 6, 'learning_rate': 0.23047460991560328, 'subsample': 0.7106947776466508, 'colsample_bytree': 0.9993827291612497, 'gamma': 0.4389442540302935}. Best is trial 49 with value: 0.7273041732505787.\u001B[0m\n",
      "\u001B[32m[I 2023-04-11 18:30:18,465]\u001B[0m Trial 63 finished with value: 0.710238037284891 and parameters: {'n_estimators': 70, 'max_depth': 5, 'learning_rate': 0.24662492343302433, 'subsample': 0.6738969964794902, 'colsample_bytree': 0.9699705551074912, 'gamma': 0.49583974432206984}. Best is trial 49 with value: 0.7273041732505787.\u001B[0m\n",
      "\u001B[32m[I 2023-04-11 18:30:31,362]\u001B[0m Trial 64 finished with value: 0.7079707012625053 and parameters: {'n_estimators': 55, 'max_depth': 6, 'learning_rate': 0.2204172406522635, 'subsample': 0.692357355183251, 'colsample_bytree': 0.9779608823683783, 'gamma': 0.35714468424968754}. Best is trial 49 with value: 0.7273041732505787.\u001B[0m\n",
      "\u001B[32m[I 2023-04-11 18:30:43,368]\u001B[0m Trial 65 finished with value: 0.7065461503026971 and parameters: {'n_estimators': 59, 'max_depth': 7, 'learning_rate': 0.2712932972037711, 'subsample': 0.6439488546689545, 'colsample_bytree': 0.9526878121088914, 'gamma': 0.25850160537201594}. Best is trial 49 with value: 0.7273041732505787.\u001B[0m\n",
      "\u001B[32m[I 2023-04-11 18:31:06,936]\u001B[0m Trial 66 finished with value: 0.7130774845376522 and parameters: {'n_estimators': 113, 'max_depth': 7, 'learning_rate': 0.21309363659971114, 'subsample': 0.724207636412427, 'colsample_bytree': 0.9994042127651704, 'gamma': 0.40831049012036336}. Best is trial 49 with value: 0.7273041732505787.\u001B[0m\n",
      "\u001B[32m[I 2023-04-11 18:31:26,967]\u001B[0m Trial 67 finished with value: 0.7058967384137916 and parameters: {'n_estimators': 103, 'max_depth': 7, 'learning_rate': 0.23941995016763568, 'subsample': 0.6572757040317881, 'colsample_bytree': 0.9632900683111073, 'gamma': 0.5118547421484172}. Best is trial 49 with value: 0.7273041732505787.\u001B[0m\n",
      "\u001B[32m[I 2023-04-11 18:31:39,615]\u001B[0m Trial 68 finished with value: 0.7183352462167076 and parameters: {'n_estimators': 55, 'max_depth': 8, 'learning_rate': 0.230309680315946, 'subsample': 0.701934898190602, 'colsample_bytree': 0.9825825692783349, 'gamma': 0.32435916304828716}. Best is trial 49 with value: 0.7273041732505787.\u001B[0m\n",
      "\u001B[32m[I 2023-04-11 18:31:48,908]\u001B[0m Trial 69 finished with value: 0.7123886557559975 and parameters: {'n_estimators': 36, 'max_depth': 8, 'learning_rate': 0.2556594233004149, 'subsample': 0.7085509493311202, 'colsample_bytree': 0.9817584131262724, 'gamma': 0.32589706997970946}. Best is trial 49 with value: 0.7273041732505787.\u001B[0m\n",
      "\u001B[32m[I 2023-04-11 18:32:05,043]\u001B[0m Trial 70 finished with value: 0.7081655971128751 and parameters: {'n_estimators': 87, 'max_depth': 8, 'learning_rate': 0.2024315333972088, 'subsample': 0.6791207435596487, 'colsample_bytree': 0.9434630991503561, 'gamma': 0.2843013618451402}. Best is trial 49 with value: 0.7273041732505787.\u001B[0m\n",
      "\u001B[32m[I 2023-04-11 18:32:17,807]\u001B[0m Trial 71 finished with value: 0.7136874313186973 and parameters: {'n_estimators': 54, 'max_depth': 8, 'learning_rate': 0.22768503250291738, 'subsample': 0.7005724181693384, 'colsample_bytree': 0.9721232517477594, 'gamma': 0.4578252887956539}. Best is trial 49 with value: 0.7273041732505787.\u001B[0m\n",
      "\u001B[32m[I 2023-04-11 18:32:30,143]\u001B[0m Trial 72 finished with value: 0.7128784308597289 and parameters: {'n_estimators': 57, 'max_depth': 8, 'learning_rate': 0.24663295232699808, 'subsample': 0.6684153929777472, 'colsample_bytree': 0.9913667741805532, 'gamma': 0.380640597994236}. Best is trial 49 with value: 0.7273041732505787.\u001B[0m\n",
      "\u001B[32m[I 2023-04-11 18:32:41,386]\u001B[0m Trial 73 finished with value: 0.7113683308396765 and parameters: {'n_estimators': 51, 'max_depth': 4, 'learning_rate': 0.23479614348048494, 'subsample': 0.7508506971069102, 'colsample_bytree': 0.9601128478311092, 'gamma': 0.41118872056662625}. Best is trial 49 with value: 0.7273041732505787.\u001B[0m\n",
      "\u001B[32m[I 2023-04-11 18:32:54,932]\u001B[0m Trial 74 finished with value: 0.7239283569348915 and parameters: {'n_estimators': 68, 'max_depth': 7, 'learning_rate': 0.21855824927428943, 'subsample': 0.6862014434801826, 'colsample_bytree': 0.9315282272419126, 'gamma': 0.35275145546372844}. Best is trial 49 with value: 0.7273041732505787.\u001B[0m\n",
      "\u001B[32m[I 2023-04-11 18:33:11,254]\u001B[0m Trial 75 finished with value: 0.7154767853241916 and parameters: {'n_estimators': 77, 'max_depth': 7, 'learning_rate': 0.2185168522738732, 'subsample': 0.719715288532986, 'colsample_bytree': 0.9466874231245165, 'gamma': 0.3314367789781027}. Best is trial 49 with value: 0.7273041732505787.\u001B[0m\n",
      "\u001B[32m[I 2023-04-11 18:33:25,406]\u001B[0m Trial 76 finished with value: 0.7130638404953433 and parameters: {'n_estimators': 67, 'max_depth': 7, 'learning_rate': 0.2078918156963168, 'subsample': 0.6859227146717114, 'colsample_bytree': 0.926209801109887, 'gamma': 0.36536114067245046}. Best is trial 49 with value: 0.7273041732505787.\u001B[0m\n",
      "\u001B[32m[I 2023-04-11 18:33:38,710]\u001B[0m Trial 77 finished with value: 0.7210398805316711 and parameters: {'n_estimators': 74, 'max_depth': 8, 'learning_rate': 0.274229370718679, 'subsample': 0.655900190415211, 'colsample_bytree': 0.9330549677833676, 'gamma': 0.24541786379877759}. Best is trial 49 with value: 0.7273041732505787.\u001B[0m\n",
      "\u001B[32m[I 2023-04-11 18:33:51,435]\u001B[0m Trial 78 finished with value: 0.7102043084903038 and parameters: {'n_estimators': 74, 'max_depth': 8, 'learning_rate': 0.2853065386116084, 'subsample': 0.6488875951012867, 'colsample_bytree': 0.9344281878754778, 'gamma': 0.24346786207831556}. Best is trial 49 with value: 0.7273041732505787.\u001B[0m\n",
      "\u001B[32m[I 2023-04-11 18:34:11,650]\u001B[0m Trial 79 finished with value: 0.7120376140808606 and parameters: {'n_estimators': 136, 'max_depth': 8, 'learning_rate': 0.2771991820132552, 'subsample': 0.6609097902785307, 'colsample_bytree': 0.9560346970265622, 'gamma': 0.20924544796386996}. Best is trial 49 with value: 0.7273041732505787.\u001B[0m\n",
      "\u001B[32m[I 2023-04-11 18:34:28,733]\u001B[0m Trial 80 finished with value: 0.7194105634915171 and parameters: {'n_estimators': 95, 'max_depth': 8, 'learning_rate': 0.19311966790784313, 'subsample': 0.6359320952271622, 'colsample_bytree': 0.9752736244567294, 'gamma': 0.3009966865014913}. Best is trial 49 with value: 0.7273041732505787.\u001B[0m\n",
      "\u001B[32m[I 2023-04-11 18:34:45,835]\u001B[0m Trial 81 finished with value: 0.708281145106519 and parameters: {'n_estimators': 97, 'max_depth': 8, 'learning_rate': 0.18961779075167295, 'subsample': 0.617353790601953, 'colsample_bytree': 0.9733862975286302, 'gamma': 0.2912919981241946}. Best is trial 49 with value: 0.7273041732505787.\u001B[0m\n",
      "\u001B[32m[I 2023-04-11 18:35:01,799]\u001B[0m Trial 82 finished with value: 0.6920629009733023 and parameters: {'n_estimators': 90, 'max_depth': 8, 'learning_rate': 0.2209254714585353, 'subsample': 0.6318822092600378, 'colsample_bytree': 0.9672336625614283, 'gamma': 0.26183467536647814}. Best is trial 49 with value: 0.7273041732505787.\u001B[0m\n",
      "\u001B[32m[I 2023-04-11 18:35:18,120]\u001B[0m Trial 83 finished with value: 0.7210879135380797 and parameters: {'n_estimators': 81, 'max_depth': 8, 'learning_rate': 0.20827084409369676, 'subsample': 0.641037839450978, 'colsample_bytree': 0.981241425648475, 'gamma': 0.29854898439689315}. Best is trial 49 with value: 0.7273041732505787.\u001B[0m\n",
      "\u001B[32m[I 2023-04-11 18:35:33,432]\u001B[0m Trial 84 finished with value: 0.7187695796013903 and parameters: {'n_estimators': 80, 'max_depth': 8, 'learning_rate': 0.1947892107064879, 'subsample': 0.6433242208747072, 'colsample_bytree': 0.9349494774246938, 'gamma': 0.3030316154372754}. Best is trial 49 with value: 0.7273041732505787.\u001B[0m\n",
      "\u001B[32m[I 2023-04-11 18:35:49,948]\u001B[0m Trial 85 finished with value: 0.7149524150603622 and parameters: {'n_estimators': 92, 'max_depth': 8, 'learning_rate': 0.2107960571984062, 'subsample': 0.6342302737930872, 'colsample_bytree': 0.9519512360108117, 'gamma': 0.22425986568681508}. Best is trial 49 with value: 0.7273041732505787.\u001B[0m\n",
      "\u001B[32m[I 2023-04-11 18:36:02,261]\u001B[0m Trial 86 finished with value: 0.7045971688761776 and parameters: {'n_estimators': 86, 'max_depth': 2, 'learning_rate': 0.19904307276829944, 'subsample': 0.6106174522959685, 'colsample_bytree': 0.9172925189118661, 'gamma': 0.2720519837129222}. Best is trial 49 with value: 0.7273041732505787.\u001B[0m\n",
      "\u001B[32m[I 2023-04-11 18:36:18,027]\u001B[0m Trial 87 finished with value: 0.7228928050597364 and parameters: {'n_estimators': 82, 'max_depth': 8, 'learning_rate': 0.2069662374247484, 'subsample': 0.6534019419026508, 'colsample_bytree': 0.9802672315141101, 'gamma': 0.3409286038797069}. Best is trial 49 with value: 0.7273041732505787.\u001B[0m\n",
      "\u001B[32m[I 2023-04-11 18:36:32,338]\u001B[0m Trial 88 finished with value: 0.7229709080704833 and parameters: {'n_estimators': 74, 'max_depth': 8, 'learning_rate': 0.2668770655835581, 'subsample': 0.661889777711878, 'colsample_bytree': 0.9894423376669319, 'gamma': 0.340721733016564}. Best is trial 49 with value: 0.7273041732505787.\u001B[0m\n",
      "\u001B[32m[I 2023-04-11 18:36:46,259]\u001B[0m Trial 89 finished with value: 0.7153828491516346 and parameters: {'n_estimators': 73, 'max_depth': 8, 'learning_rate': 0.26339136040103717, 'subsample': 0.6547626344925185, 'colsample_bytree': 0.9869179914780636, 'gamma': 0.3473403242435896}. Best is trial 49 with value: 0.7273041732505787.\u001B[0m\n",
      "\u001B[32m[I 2023-04-11 18:37:00,495]\u001B[0m Trial 90 finished with value: 0.7114466452997577 and parameters: {'n_estimators': 83, 'max_depth': 8, 'learning_rate': 0.2893122821616403, 'subsample': 0.6662590984555414, 'colsample_bytree': 0.9619245754537037, 'gamma': 0.24652602887315805}. Best is trial 49 with value: 0.7273041732505787.\u001B[0m\n",
      "\u001B[32m[I 2023-04-11 18:37:15,309]\u001B[0m Trial 91 finished with value: 0.7188586034855822 and parameters: {'n_estimators': 77, 'max_depth': 7, 'learning_rate': 0.2711397432594558, 'subsample': 0.6765836656484605, 'colsample_bytree': 0.9889609516673996, 'gamma': 0.3886082596613608}. Best is trial 49 with value: 0.7273041732505787.\u001B[0m\n",
      "\u001B[32m[I 2023-04-11 18:37:31,190]\u001B[0m Trial 92 finished with value: 0.7051391060606854 and parameters: {'n_estimators': 81, 'max_depth': 8, 'learning_rate': 0.208962183205553, 'subsample': 0.65214649650705, 'colsample_bytree': 0.9775729550697894, 'gamma': 0.3579677319659108}. Best is trial 49 with value: 0.7273041732505787.\u001B[0m\n",
      "\u001B[32m[I 2023-04-11 18:37:53,985]\u001B[0m Trial 93 finished with value: 0.6910133304165094 and parameters: {'n_estimators': 143, 'max_depth': 7, 'learning_rate': 0.26052795788454713, 'subsample': 0.6605704916996276, 'colsample_bytree': 0.942240943426883, 'gamma': 0.3182983427221695}. Best is trial 49 with value: 0.7273041732505787.\u001B[0m\n",
      "\u001B[32m[I 2023-04-11 18:38:14,899]\u001B[0m Trial 94 finished with value: 0.6987623602500863 and parameters: {'n_estimators': 117, 'max_depth': 8, 'learning_rate': 0.2823509326382193, 'subsample': 0.641223171944657, 'colsample_bytree': 0.9660043219862658, 'gamma': 0.3908357974847196}. Best is trial 49 with value: 0.7273041732505787.\u001B[0m\n",
      "\u001B[32m[I 2023-04-11 18:38:37,513]\u001B[0m Trial 95 finished with value: 0.7142921724734311 and parameters: {'n_estimators': 131, 'max_depth': 8, 'learning_rate': 0.21685195443230837, 'subsample': 0.6873457319049849, 'colsample_bytree': 0.9281360915938932, 'gamma': 0.28006265681229486}. Best is trial 49 with value: 0.7273041732505787.\u001B[0m\n",
      "\u001B[32m[I 2023-04-11 18:38:51,259]\u001B[0m Trial 96 finished with value: 0.7287648493296334 and parameters: {'n_estimators': 68, 'max_depth': 8, 'learning_rate': 0.2930933882863869, 'subsample': 0.6733022024469699, 'colsample_bytree': 0.9900089289988905, 'gamma': 0.33919972030766554}. Best is trial 96 with value: 0.7287648493296334.\u001B[0m\n",
      "\u001B[32m[I 2023-04-11 18:39:04,158]\u001B[0m Trial 97 finished with value: 0.7213959596455566 and parameters: {'n_estimators': 63, 'max_depth': 8, 'learning_rate': 0.2932128238921684, 'subsample': 0.617870401242115, 'colsample_bytree': 0.9890336467002291, 'gamma': 0.3369080525736641}. Best is trial 96 with value: 0.7287648493296334.\u001B[0m\n",
      "\u001B[32m[I 2023-04-11 18:39:16,728]\u001B[0m Trial 98 finished with value: 0.7060512700042993 and parameters: {'n_estimators': 65, 'max_depth': 8, 'learning_rate': 0.29549810098504414, 'subsample': 0.6225415682342471, 'colsample_bytree': 0.9886691051001599, 'gamma': 0.34295204050625533}. Best is trial 96 with value: 0.7287648493296334.\u001B[0m\n",
      "\u001B[32m[I 2023-04-11 18:39:30,470]\u001B[0m Trial 99 finished with value: 0.7213959596455566 and parameters: {'n_estimators': 69, 'max_depth': 8, 'learning_rate': 0.2928813556940324, 'subsample': 0.6190800833934956, 'colsample_bytree': 0.9780776987375609, 'gamma': 0.36754429404752426}. Best is trial 96 with value: 0.7287648493296334.\u001B[0m\n"
     ]
    }
   ],
   "source": [
    "objective_func = partial(\n",
    "    objective,\n",
    "    X_train=X_train,\n",
    "    stratification_groups=stratification_groups,\n",
    "    xgb_config=xgb_config,\n",
    "    scoring=scoring_func\n",
    ")\n",
    "\n",
    "study = optuna.create_study(direction='maximize')\n",
    "study.optimize(objective_func, n_trials=100)"
   ],
   "metadata": {
    "collapsed": false,
    "ExecuteTime": {
     "start_time": "2023-04-11T18:09:54.245734Z",
     "end_time": "2023-04-11T18:39:30.477752Z"
    }
   }
  },
  {
   "cell_type": "code",
   "execution_count": 68,
   "outputs": [],
   "source": [
    "best_params = {\n",
    "    **study.best_params,\n",
    "    **xgb_config\n",
    "}\n",
    "\n",
    "best_xgb = XGBClassifier(**best_params)\n",
    "y_pred = stratified_cross_val_predict(\n",
    "    estimator=best_xgb,\n",
    "    df=X_train,\n",
    "    stratification_groups=stratification_groups,\n",
    "    label_col='Stage',\n",
    "    n_splits=5\n",
    ")\n",
    "y_true = list(X_train['Stage'].values)"
   ],
   "metadata": {
    "collapsed": false,
    "ExecuteTime": {
     "start_time": "2023-04-11T18:40:06.600649Z",
     "end_time": "2023-04-11T18:40:23.938022Z"
    }
   }
  },
  {
   "cell_type": "code",
   "execution_count": 69,
   "outputs": [
    {
     "name": "stdout",
     "output_type": "stream",
     "text": [
      "              precision    recall  f1-score   support\n",
      "\n",
      "           I       0.67      0.07      0.12        30\n",
      "          II       0.50      0.10      0.17        10\n",
      "         III       0.14      0.03      0.05        37\n",
      "          IV       0.80      0.99      0.88       264\n",
      "\n",
      "    accuracy                           0.78       341\n",
      "   macro avg       0.53      0.30      0.30       341\n",
      "weighted avg       0.71      0.78      0.70       341\n",
      "\n"
     ]
    }
   ],
   "source": [
    "labels = list(labels_encoding.keys())\n",
    "\n",
    "report = classification_report(y_true, y_pred.astype(int), target_names=labels)\n",
    "print(report)"
   ],
   "metadata": {
    "collapsed": false,
    "ExecuteTime": {
     "start_time": "2023-04-11T18:40:39.786619Z",
     "end_time": "2023-04-11T18:40:39.811307Z"
    }
   }
  },
  {
   "cell_type": "code",
   "execution_count": 70,
   "outputs": [
    {
     "data": {
      "application/vnd.plotly.v1+json": {
       "data": [
        {
         "colorscale": [
          [
           0.0,
           "rgb(3, 5, 18)"
          ],
          [
           0.09090909090909091,
           "rgb(25, 25, 51)"
          ],
          [
           0.18181818181818182,
           "rgb(44, 42, 87)"
          ],
          [
           0.2727272727272727,
           "rgb(58, 60, 125)"
          ],
          [
           0.36363636363636365,
           "rgb(62, 83, 160)"
          ],
          [
           0.45454545454545453,
           "rgb(62, 109, 178)"
          ],
          [
           0.5454545454545454,
           "rgb(72, 134, 187)"
          ],
          [
           0.6363636363636364,
           "rgb(89, 159, 196)"
          ],
          [
           0.7272727272727273,
           "rgb(114, 184, 205)"
          ],
          [
           0.8181818181818182,
           "rgb(149, 207, 216)"
          ],
          [
           0.9090909090909091,
           "rgb(192, 229, 232)"
          ],
          [
           1.0,
           "rgb(234, 252, 253)"
          ]
         ],
         "reversescale": true,
         "showscale": false,
         "x": [
          "I",
          "II",
          "III",
          "IV"
         ],
         "y": [
          "IV",
          "III",
          "II",
          "I"
         ],
         "z": [
          [
           0,
           0,
           2,
           262
          ],
          [
           1,
           0,
           1,
           35
          ],
          [
           0,
           1,
           0,
           9
          ],
          [
           2,
           1,
           4,
           23
          ]
         ],
         "type": "heatmap"
        }
       ],
       "layout": {
        "annotations": [
         {
          "font": {
           "color": "#000000"
          },
          "showarrow": false,
          "text": "0",
          "x": "I",
          "xref": "x",
          "y": "IV",
          "yref": "y"
         },
         {
          "font": {
           "color": "#000000"
          },
          "showarrow": false,
          "text": "0",
          "x": "II",
          "xref": "x",
          "y": "IV",
          "yref": "y"
         },
         {
          "font": {
           "color": "#000000"
          },
          "showarrow": false,
          "text": "2",
          "x": "III",
          "xref": "x",
          "y": "IV",
          "yref": "y"
         },
         {
          "font": {
           "color": "#FFFFFF"
          },
          "showarrow": false,
          "text": "262",
          "x": "IV",
          "xref": "x",
          "y": "IV",
          "yref": "y"
         },
         {
          "font": {
           "color": "#000000"
          },
          "showarrow": false,
          "text": "1",
          "x": "I",
          "xref": "x",
          "y": "III",
          "yref": "y"
         },
         {
          "font": {
           "color": "#000000"
          },
          "showarrow": false,
          "text": "0",
          "x": "II",
          "xref": "x",
          "y": "III",
          "yref": "y"
         },
         {
          "font": {
           "color": "#000000"
          },
          "showarrow": false,
          "text": "1",
          "x": "III",
          "xref": "x",
          "y": "III",
          "yref": "y"
         },
         {
          "font": {
           "color": "#000000"
          },
          "showarrow": false,
          "text": "35",
          "x": "IV",
          "xref": "x",
          "y": "III",
          "yref": "y"
         },
         {
          "font": {
           "color": "#000000"
          },
          "showarrow": false,
          "text": "0",
          "x": "I",
          "xref": "x",
          "y": "II",
          "yref": "y"
         },
         {
          "font": {
           "color": "#000000"
          },
          "showarrow": false,
          "text": "1",
          "x": "II",
          "xref": "x",
          "y": "II",
          "yref": "y"
         },
         {
          "font": {
           "color": "#000000"
          },
          "showarrow": false,
          "text": "0",
          "x": "III",
          "xref": "x",
          "y": "II",
          "yref": "y"
         },
         {
          "font": {
           "color": "#000000"
          },
          "showarrow": false,
          "text": "9",
          "x": "IV",
          "xref": "x",
          "y": "II",
          "yref": "y"
         },
         {
          "font": {
           "color": "#000000"
          },
          "showarrow": false,
          "text": "2",
          "x": "I",
          "xref": "x",
          "y": "I",
          "yref": "y"
         },
         {
          "font": {
           "color": "#000000"
          },
          "showarrow": false,
          "text": "1",
          "x": "II",
          "xref": "x",
          "y": "I",
          "yref": "y"
         },
         {
          "font": {
           "color": "#000000"
          },
          "showarrow": false,
          "text": "4",
          "x": "III",
          "xref": "x",
          "y": "I",
          "yref": "y"
         },
         {
          "font": {
           "color": "#000000"
          },
          "showarrow": false,
          "text": "23",
          "x": "IV",
          "xref": "x",
          "y": "I",
          "yref": "y"
         }
        ],
        "xaxis": {
         "dtick": 1,
         "gridcolor": "rgb(0, 0, 0)",
         "side": "top",
         "ticks": "",
         "tickfont": {
          "size": 10
         },
         "title": {
          "text": "Predicted label"
         }
        },
        "yaxis": {
         "dtick": 1,
         "ticks": "",
         "ticksuffix": "  ",
         "tickfont": {
          "size": 10
         },
         "title": {
          "text": "True label"
         }
        },
        "template": {
         "data": {
          "histogram2dcontour": [
           {
            "type": "histogram2dcontour",
            "colorbar": {
             "outlinewidth": 0,
             "ticks": ""
            },
            "colorscale": [
             [
              0.0,
              "#0d0887"
             ],
             [
              0.1111111111111111,
              "#46039f"
             ],
             [
              0.2222222222222222,
              "#7201a8"
             ],
             [
              0.3333333333333333,
              "#9c179e"
             ],
             [
              0.4444444444444444,
              "#bd3786"
             ],
             [
              0.5555555555555556,
              "#d8576b"
             ],
             [
              0.6666666666666666,
              "#ed7953"
             ],
             [
              0.7777777777777778,
              "#fb9f3a"
             ],
             [
              0.8888888888888888,
              "#fdca26"
             ],
             [
              1.0,
              "#f0f921"
             ]
            ]
           }
          ],
          "choropleth": [
           {
            "type": "choropleth",
            "colorbar": {
             "outlinewidth": 0,
             "ticks": ""
            }
           }
          ],
          "histogram2d": [
           {
            "type": "histogram2d",
            "colorbar": {
             "outlinewidth": 0,
             "ticks": ""
            },
            "colorscale": [
             [
              0.0,
              "#0d0887"
             ],
             [
              0.1111111111111111,
              "#46039f"
             ],
             [
              0.2222222222222222,
              "#7201a8"
             ],
             [
              0.3333333333333333,
              "#9c179e"
             ],
             [
              0.4444444444444444,
              "#bd3786"
             ],
             [
              0.5555555555555556,
              "#d8576b"
             ],
             [
              0.6666666666666666,
              "#ed7953"
             ],
             [
              0.7777777777777778,
              "#fb9f3a"
             ],
             [
              0.8888888888888888,
              "#fdca26"
             ],
             [
              1.0,
              "#f0f921"
             ]
            ]
           }
          ],
          "heatmap": [
           {
            "type": "heatmap",
            "colorbar": {
             "outlinewidth": 0,
             "ticks": ""
            },
            "colorscale": [
             [
              0.0,
              "#0d0887"
             ],
             [
              0.1111111111111111,
              "#46039f"
             ],
             [
              0.2222222222222222,
              "#7201a8"
             ],
             [
              0.3333333333333333,
              "#9c179e"
             ],
             [
              0.4444444444444444,
              "#bd3786"
             ],
             [
              0.5555555555555556,
              "#d8576b"
             ],
             [
              0.6666666666666666,
              "#ed7953"
             ],
             [
              0.7777777777777778,
              "#fb9f3a"
             ],
             [
              0.8888888888888888,
              "#fdca26"
             ],
             [
              1.0,
              "#f0f921"
             ]
            ]
           }
          ],
          "heatmapgl": [
           {
            "type": "heatmapgl",
            "colorbar": {
             "outlinewidth": 0,
             "ticks": ""
            },
            "colorscale": [
             [
              0.0,
              "#0d0887"
             ],
             [
              0.1111111111111111,
              "#46039f"
             ],
             [
              0.2222222222222222,
              "#7201a8"
             ],
             [
              0.3333333333333333,
              "#9c179e"
             ],
             [
              0.4444444444444444,
              "#bd3786"
             ],
             [
              0.5555555555555556,
              "#d8576b"
             ],
             [
              0.6666666666666666,
              "#ed7953"
             ],
             [
              0.7777777777777778,
              "#fb9f3a"
             ],
             [
              0.8888888888888888,
              "#fdca26"
             ],
             [
              1.0,
              "#f0f921"
             ]
            ]
           }
          ],
          "contourcarpet": [
           {
            "type": "contourcarpet",
            "colorbar": {
             "outlinewidth": 0,
             "ticks": ""
            }
           }
          ],
          "contour": [
           {
            "type": "contour",
            "colorbar": {
             "outlinewidth": 0,
             "ticks": ""
            },
            "colorscale": [
             [
              0.0,
              "#0d0887"
             ],
             [
              0.1111111111111111,
              "#46039f"
             ],
             [
              0.2222222222222222,
              "#7201a8"
             ],
             [
              0.3333333333333333,
              "#9c179e"
             ],
             [
              0.4444444444444444,
              "#bd3786"
             ],
             [
              0.5555555555555556,
              "#d8576b"
             ],
             [
              0.6666666666666666,
              "#ed7953"
             ],
             [
              0.7777777777777778,
              "#fb9f3a"
             ],
             [
              0.8888888888888888,
              "#fdca26"
             ],
             [
              1.0,
              "#f0f921"
             ]
            ]
           }
          ],
          "surface": [
           {
            "type": "surface",
            "colorbar": {
             "outlinewidth": 0,
             "ticks": ""
            },
            "colorscale": [
             [
              0.0,
              "#0d0887"
             ],
             [
              0.1111111111111111,
              "#46039f"
             ],
             [
              0.2222222222222222,
              "#7201a8"
             ],
             [
              0.3333333333333333,
              "#9c179e"
             ],
             [
              0.4444444444444444,
              "#bd3786"
             ],
             [
              0.5555555555555556,
              "#d8576b"
             ],
             [
              0.6666666666666666,
              "#ed7953"
             ],
             [
              0.7777777777777778,
              "#fb9f3a"
             ],
             [
              0.8888888888888888,
              "#fdca26"
             ],
             [
              1.0,
              "#f0f921"
             ]
            ]
           }
          ],
          "mesh3d": [
           {
            "type": "mesh3d",
            "colorbar": {
             "outlinewidth": 0,
             "ticks": ""
            }
           }
          ],
          "scatter": [
           {
            "marker": {
             "line": {
              "color": "#283442"
             }
            },
            "type": "scatter"
           }
          ],
          "parcoords": [
           {
            "type": "parcoords",
            "line": {
             "colorbar": {
              "outlinewidth": 0,
              "ticks": ""
             }
            }
           }
          ],
          "scatterpolargl": [
           {
            "type": "scatterpolargl",
            "marker": {
             "colorbar": {
              "outlinewidth": 0,
              "ticks": ""
             }
            }
           }
          ],
          "bar": [
           {
            "error_x": {
             "color": "#f2f5fa"
            },
            "error_y": {
             "color": "#f2f5fa"
            },
            "marker": {
             "line": {
              "color": "rgb(17,17,17)",
              "width": 0.5
             },
             "pattern": {
              "fillmode": "overlay",
              "size": 10,
              "solidity": 0.2
             }
            },
            "type": "bar"
           }
          ],
          "scattergeo": [
           {
            "type": "scattergeo",
            "marker": {
             "colorbar": {
              "outlinewidth": 0,
              "ticks": ""
             }
            }
           }
          ],
          "scatterpolar": [
           {
            "type": "scatterpolar",
            "marker": {
             "colorbar": {
              "outlinewidth": 0,
              "ticks": ""
             }
            }
           }
          ],
          "histogram": [
           {
            "marker": {
             "pattern": {
              "fillmode": "overlay",
              "size": 10,
              "solidity": 0.2
             }
            },
            "type": "histogram"
           }
          ],
          "scattergl": [
           {
            "marker": {
             "line": {
              "color": "#283442"
             }
            },
            "type": "scattergl"
           }
          ],
          "scatter3d": [
           {
            "type": "scatter3d",
            "line": {
             "colorbar": {
              "outlinewidth": 0,
              "ticks": ""
             }
            },
            "marker": {
             "colorbar": {
              "outlinewidth": 0,
              "ticks": ""
             }
            }
           }
          ],
          "scattermapbox": [
           {
            "type": "scattermapbox",
            "marker": {
             "colorbar": {
              "outlinewidth": 0,
              "ticks": ""
             }
            }
           }
          ],
          "scatterternary": [
           {
            "type": "scatterternary",
            "marker": {
             "colorbar": {
              "outlinewidth": 0,
              "ticks": ""
             }
            }
           }
          ],
          "scattercarpet": [
           {
            "type": "scattercarpet",
            "marker": {
             "colorbar": {
              "outlinewidth": 0,
              "ticks": ""
             }
            }
           }
          ],
          "carpet": [
           {
            "aaxis": {
             "endlinecolor": "#A2B1C6",
             "gridcolor": "#506784",
             "linecolor": "#506784",
             "minorgridcolor": "#506784",
             "startlinecolor": "#A2B1C6"
            },
            "baxis": {
             "endlinecolor": "#A2B1C6",
             "gridcolor": "#506784",
             "linecolor": "#506784",
             "minorgridcolor": "#506784",
             "startlinecolor": "#A2B1C6"
            },
            "type": "carpet"
           }
          ],
          "table": [
           {
            "cells": {
             "fill": {
              "color": "#506784"
             },
             "line": {
              "color": "rgb(17,17,17)"
             }
            },
            "header": {
             "fill": {
              "color": "#2a3f5f"
             },
             "line": {
              "color": "rgb(17,17,17)"
             }
            },
            "type": "table"
           }
          ],
          "barpolar": [
           {
            "marker": {
             "line": {
              "color": "rgb(17,17,17)",
              "width": 0.5
             },
             "pattern": {
              "fillmode": "overlay",
              "size": 10,
              "solidity": 0.2
             }
            },
            "type": "barpolar"
           }
          ],
          "pie": [
           {
            "automargin": true,
            "type": "pie"
           }
          ]
         },
         "layout": {
          "autotypenumbers": "strict",
          "colorway": [
           "#636efa",
           "#EF553B",
           "#00cc96",
           "#ab63fa",
           "#FFA15A",
           "#19d3f3",
           "#FF6692",
           "#B6E880",
           "#FF97FF",
           "#FECB52"
          ],
          "font": {
           "color": "#f2f5fa"
          },
          "hovermode": "closest",
          "hoverlabel": {
           "align": "left"
          },
          "paper_bgcolor": "rgb(17,17,17)",
          "plot_bgcolor": "rgb(17,17,17)",
          "polar": {
           "bgcolor": "rgb(17,17,17)",
           "angularaxis": {
            "gridcolor": "#506784",
            "linecolor": "#506784",
            "ticks": ""
           },
           "radialaxis": {
            "gridcolor": "#506784",
            "linecolor": "#506784",
            "ticks": ""
           }
          },
          "ternary": {
           "bgcolor": "rgb(17,17,17)",
           "aaxis": {
            "gridcolor": "#506784",
            "linecolor": "#506784",
            "ticks": ""
           },
           "baxis": {
            "gridcolor": "#506784",
            "linecolor": "#506784",
            "ticks": ""
           },
           "caxis": {
            "gridcolor": "#506784",
            "linecolor": "#506784",
            "ticks": ""
           }
          },
          "coloraxis": {
           "colorbar": {
            "outlinewidth": 0,
            "ticks": ""
           }
          },
          "colorscale": {
           "sequential": [
            [
             0.0,
             "#0d0887"
            ],
            [
             0.1111111111111111,
             "#46039f"
            ],
            [
             0.2222222222222222,
             "#7201a8"
            ],
            [
             0.3333333333333333,
             "#9c179e"
            ],
            [
             0.4444444444444444,
             "#bd3786"
            ],
            [
             0.5555555555555556,
             "#d8576b"
            ],
            [
             0.6666666666666666,
             "#ed7953"
            ],
            [
             0.7777777777777778,
             "#fb9f3a"
            ],
            [
             0.8888888888888888,
             "#fdca26"
            ],
            [
             1.0,
             "#f0f921"
            ]
           ],
           "sequentialminus": [
            [
             0.0,
             "#0d0887"
            ],
            [
             0.1111111111111111,
             "#46039f"
            ],
            [
             0.2222222222222222,
             "#7201a8"
            ],
            [
             0.3333333333333333,
             "#9c179e"
            ],
            [
             0.4444444444444444,
             "#bd3786"
            ],
            [
             0.5555555555555556,
             "#d8576b"
            ],
            [
             0.6666666666666666,
             "#ed7953"
            ],
            [
             0.7777777777777778,
             "#fb9f3a"
            ],
            [
             0.8888888888888888,
             "#fdca26"
            ],
            [
             1.0,
             "#f0f921"
            ]
           ],
           "diverging": [
            [
             0,
             "#8e0152"
            ],
            [
             0.1,
             "#c51b7d"
            ],
            [
             0.2,
             "#de77ae"
            ],
            [
             0.3,
             "#f1b6da"
            ],
            [
             0.4,
             "#fde0ef"
            ],
            [
             0.5,
             "#f7f7f7"
            ],
            [
             0.6,
             "#e6f5d0"
            ],
            [
             0.7,
             "#b8e186"
            ],
            [
             0.8,
             "#7fbc41"
            ],
            [
             0.9,
             "#4d9221"
            ],
            [
             1,
             "#276419"
            ]
           ]
          },
          "xaxis": {
           "gridcolor": "#283442",
           "linecolor": "#506784",
           "ticks": "",
           "title": {
            "standoff": 15
           },
           "zerolinecolor": "#283442",
           "automargin": true,
           "zerolinewidth": 2
          },
          "yaxis": {
           "gridcolor": "#283442",
           "linecolor": "#506784",
           "ticks": "",
           "title": {
            "standoff": 15
           },
           "zerolinecolor": "#283442",
           "automargin": true,
           "zerolinewidth": 2
          },
          "scene": {
           "xaxis": {
            "backgroundcolor": "rgb(17,17,17)",
            "gridcolor": "#506784",
            "linecolor": "#506784",
            "showbackground": true,
            "ticks": "",
            "zerolinecolor": "#C8D4E3",
            "gridwidth": 2
           },
           "yaxis": {
            "backgroundcolor": "rgb(17,17,17)",
            "gridcolor": "#506784",
            "linecolor": "#506784",
            "showbackground": true,
            "ticks": "",
            "zerolinecolor": "#C8D4E3",
            "gridwidth": 2
           },
           "zaxis": {
            "backgroundcolor": "rgb(17,17,17)",
            "gridcolor": "#506784",
            "linecolor": "#506784",
            "showbackground": true,
            "ticks": "",
            "zerolinecolor": "#C8D4E3",
            "gridwidth": 2
           }
          },
          "shapedefaults": {
           "line": {
            "color": "#f2f5fa"
           }
          },
          "annotationdefaults": {
           "arrowcolor": "#f2f5fa",
           "arrowhead": 0,
           "arrowwidth": 1
          },
          "geo": {
           "bgcolor": "rgb(17,17,17)",
           "landcolor": "rgb(17,17,17)",
           "subunitcolor": "#506784",
           "showland": true,
           "showlakes": true,
           "lakecolor": "rgb(17,17,17)"
          },
          "title": {
           "x": 0.05
          },
          "updatemenudefaults": {
           "bgcolor": "#506784",
           "borderwidth": 0
          },
          "sliderdefaults": {
           "bgcolor": "#C8D4E3",
           "borderwidth": 1,
           "bordercolor": "rgb(17,17,17)",
           "tickwidth": 0
          },
          "mapbox": {
           "style": "dark"
          }
         }
        },
        "title": {
         "text": "Accuracy = 78.01, Weighted F1 = 0.70",
         "x": 0.5,
         "y": 0.05
        },
        "paper_bgcolor": "rgba(0,0,0,0)"
       },
       "config": {
        "plotlyServerURL": "https://plot.ly"
       }
      },
      "text/html": "<div>                            <div id=\"20e32d05-498b-4baa-828a-c031f8e08e51\" class=\"plotly-graph-div\" style=\"height:525px; width:100%;\"></div>            <script type=\"text/javascript\">                require([\"plotly\"], function(Plotly) {                    window.PLOTLYENV=window.PLOTLYENV || {};                                    if (document.getElementById(\"20e32d05-498b-4baa-828a-c031f8e08e51\")) {                    Plotly.newPlot(                        \"20e32d05-498b-4baa-828a-c031f8e08e51\",                        [{\"colorscale\":[[0.0,\"rgb(3, 5, 18)\"],[0.09090909090909091,\"rgb(25, 25, 51)\"],[0.18181818181818182,\"rgb(44, 42, 87)\"],[0.2727272727272727,\"rgb(58, 60, 125)\"],[0.36363636363636365,\"rgb(62, 83, 160)\"],[0.45454545454545453,\"rgb(62, 109, 178)\"],[0.5454545454545454,\"rgb(72, 134, 187)\"],[0.6363636363636364,\"rgb(89, 159, 196)\"],[0.7272727272727273,\"rgb(114, 184, 205)\"],[0.8181818181818182,\"rgb(149, 207, 216)\"],[0.9090909090909091,\"rgb(192, 229, 232)\"],[1.0,\"rgb(234, 252, 253)\"]],\"reversescale\":true,\"showscale\":false,\"x\":[\"I\",\"II\",\"III\",\"IV\"],\"y\":[\"IV\",\"III\",\"II\",\"I\"],\"z\":[[0,0,2,262],[1,0,1,35],[0,1,0,9],[2,1,4,23]],\"type\":\"heatmap\"}],                        {\"annotations\":[{\"font\":{\"color\":\"#000000\"},\"showarrow\":false,\"text\":\"0\",\"x\":\"I\",\"xref\":\"x\",\"y\":\"IV\",\"yref\":\"y\"},{\"font\":{\"color\":\"#000000\"},\"showarrow\":false,\"text\":\"0\",\"x\":\"II\",\"xref\":\"x\",\"y\":\"IV\",\"yref\":\"y\"},{\"font\":{\"color\":\"#000000\"},\"showarrow\":false,\"text\":\"2\",\"x\":\"III\",\"xref\":\"x\",\"y\":\"IV\",\"yref\":\"y\"},{\"font\":{\"color\":\"#FFFFFF\"},\"showarrow\":false,\"text\":\"262\",\"x\":\"IV\",\"xref\":\"x\",\"y\":\"IV\",\"yref\":\"y\"},{\"font\":{\"color\":\"#000000\"},\"showarrow\":false,\"text\":\"1\",\"x\":\"I\",\"xref\":\"x\",\"y\":\"III\",\"yref\":\"y\"},{\"font\":{\"color\":\"#000000\"},\"showarrow\":false,\"text\":\"0\",\"x\":\"II\",\"xref\":\"x\",\"y\":\"III\",\"yref\":\"y\"},{\"font\":{\"color\":\"#000000\"},\"showarrow\":false,\"text\":\"1\",\"x\":\"III\",\"xref\":\"x\",\"y\":\"III\",\"yref\":\"y\"},{\"font\":{\"color\":\"#000000\"},\"showarrow\":false,\"text\":\"35\",\"x\":\"IV\",\"xref\":\"x\",\"y\":\"III\",\"yref\":\"y\"},{\"font\":{\"color\":\"#000000\"},\"showarrow\":false,\"text\":\"0\",\"x\":\"I\",\"xref\":\"x\",\"y\":\"II\",\"yref\":\"y\"},{\"font\":{\"color\":\"#000000\"},\"showarrow\":false,\"text\":\"1\",\"x\":\"II\",\"xref\":\"x\",\"y\":\"II\",\"yref\":\"y\"},{\"font\":{\"color\":\"#000000\"},\"showarrow\":false,\"text\":\"0\",\"x\":\"III\",\"xref\":\"x\",\"y\":\"II\",\"yref\":\"y\"},{\"font\":{\"color\":\"#000000\"},\"showarrow\":false,\"text\":\"9\",\"x\":\"IV\",\"xref\":\"x\",\"y\":\"II\",\"yref\":\"y\"},{\"font\":{\"color\":\"#000000\"},\"showarrow\":false,\"text\":\"2\",\"x\":\"I\",\"xref\":\"x\",\"y\":\"I\",\"yref\":\"y\"},{\"font\":{\"color\":\"#000000\"},\"showarrow\":false,\"text\":\"1\",\"x\":\"II\",\"xref\":\"x\",\"y\":\"I\",\"yref\":\"y\"},{\"font\":{\"color\":\"#000000\"},\"showarrow\":false,\"text\":\"4\",\"x\":\"III\",\"xref\":\"x\",\"y\":\"I\",\"yref\":\"y\"},{\"font\":{\"color\":\"#000000\"},\"showarrow\":false,\"text\":\"23\",\"x\":\"IV\",\"xref\":\"x\",\"y\":\"I\",\"yref\":\"y\"}],\"xaxis\":{\"dtick\":1,\"gridcolor\":\"rgb(0, 0, 0)\",\"side\":\"top\",\"ticks\":\"\",\"tickfont\":{\"size\":10},\"title\":{\"text\":\"Predicted label\"}},\"yaxis\":{\"dtick\":1,\"ticks\":\"\",\"ticksuffix\":\"  \",\"tickfont\":{\"size\":10},\"title\":{\"text\":\"True label\"}},\"template\":{\"data\":{\"histogram2dcontour\":[{\"type\":\"histogram2dcontour\",\"colorbar\":{\"outlinewidth\":0,\"ticks\":\"\"},\"colorscale\":[[0.0,\"#0d0887\"],[0.1111111111111111,\"#46039f\"],[0.2222222222222222,\"#7201a8\"],[0.3333333333333333,\"#9c179e\"],[0.4444444444444444,\"#bd3786\"],[0.5555555555555556,\"#d8576b\"],[0.6666666666666666,\"#ed7953\"],[0.7777777777777778,\"#fb9f3a\"],[0.8888888888888888,\"#fdca26\"],[1.0,\"#f0f921\"]]}],\"choropleth\":[{\"type\":\"choropleth\",\"colorbar\":{\"outlinewidth\":0,\"ticks\":\"\"}}],\"histogram2d\":[{\"type\":\"histogram2d\",\"colorbar\":{\"outlinewidth\":0,\"ticks\":\"\"},\"colorscale\":[[0.0,\"#0d0887\"],[0.1111111111111111,\"#46039f\"],[0.2222222222222222,\"#7201a8\"],[0.3333333333333333,\"#9c179e\"],[0.4444444444444444,\"#bd3786\"],[0.5555555555555556,\"#d8576b\"],[0.6666666666666666,\"#ed7953\"],[0.7777777777777778,\"#fb9f3a\"],[0.8888888888888888,\"#fdca26\"],[1.0,\"#f0f921\"]]}],\"heatmap\":[{\"type\":\"heatmap\",\"colorbar\":{\"outlinewidth\":0,\"ticks\":\"\"},\"colorscale\":[[0.0,\"#0d0887\"],[0.1111111111111111,\"#46039f\"],[0.2222222222222222,\"#7201a8\"],[0.3333333333333333,\"#9c179e\"],[0.4444444444444444,\"#bd3786\"],[0.5555555555555556,\"#d8576b\"],[0.6666666666666666,\"#ed7953\"],[0.7777777777777778,\"#fb9f3a\"],[0.8888888888888888,\"#fdca26\"],[1.0,\"#f0f921\"]]}],\"heatmapgl\":[{\"type\":\"heatmapgl\",\"colorbar\":{\"outlinewidth\":0,\"ticks\":\"\"},\"colorscale\":[[0.0,\"#0d0887\"],[0.1111111111111111,\"#46039f\"],[0.2222222222222222,\"#7201a8\"],[0.3333333333333333,\"#9c179e\"],[0.4444444444444444,\"#bd3786\"],[0.5555555555555556,\"#d8576b\"],[0.6666666666666666,\"#ed7953\"],[0.7777777777777778,\"#fb9f3a\"],[0.8888888888888888,\"#fdca26\"],[1.0,\"#f0f921\"]]}],\"contourcarpet\":[{\"type\":\"contourcarpet\",\"colorbar\":{\"outlinewidth\":0,\"ticks\":\"\"}}],\"contour\":[{\"type\":\"contour\",\"colorbar\":{\"outlinewidth\":0,\"ticks\":\"\"},\"colorscale\":[[0.0,\"#0d0887\"],[0.1111111111111111,\"#46039f\"],[0.2222222222222222,\"#7201a8\"],[0.3333333333333333,\"#9c179e\"],[0.4444444444444444,\"#bd3786\"],[0.5555555555555556,\"#d8576b\"],[0.6666666666666666,\"#ed7953\"],[0.7777777777777778,\"#fb9f3a\"],[0.8888888888888888,\"#fdca26\"],[1.0,\"#f0f921\"]]}],\"surface\":[{\"type\":\"surface\",\"colorbar\":{\"outlinewidth\":0,\"ticks\":\"\"},\"colorscale\":[[0.0,\"#0d0887\"],[0.1111111111111111,\"#46039f\"],[0.2222222222222222,\"#7201a8\"],[0.3333333333333333,\"#9c179e\"],[0.4444444444444444,\"#bd3786\"],[0.5555555555555556,\"#d8576b\"],[0.6666666666666666,\"#ed7953\"],[0.7777777777777778,\"#fb9f3a\"],[0.8888888888888888,\"#fdca26\"],[1.0,\"#f0f921\"]]}],\"mesh3d\":[{\"type\":\"mesh3d\",\"colorbar\":{\"outlinewidth\":0,\"ticks\":\"\"}}],\"scatter\":[{\"marker\":{\"line\":{\"color\":\"#283442\"}},\"type\":\"scatter\"}],\"parcoords\":[{\"type\":\"parcoords\",\"line\":{\"colorbar\":{\"outlinewidth\":0,\"ticks\":\"\"}}}],\"scatterpolargl\":[{\"type\":\"scatterpolargl\",\"marker\":{\"colorbar\":{\"outlinewidth\":0,\"ticks\":\"\"}}}],\"bar\":[{\"error_x\":{\"color\":\"#f2f5fa\"},\"error_y\":{\"color\":\"#f2f5fa\"},\"marker\":{\"line\":{\"color\":\"rgb(17,17,17)\",\"width\":0.5},\"pattern\":{\"fillmode\":\"overlay\",\"size\":10,\"solidity\":0.2}},\"type\":\"bar\"}],\"scattergeo\":[{\"type\":\"scattergeo\",\"marker\":{\"colorbar\":{\"outlinewidth\":0,\"ticks\":\"\"}}}],\"scatterpolar\":[{\"type\":\"scatterpolar\",\"marker\":{\"colorbar\":{\"outlinewidth\":0,\"ticks\":\"\"}}}],\"histogram\":[{\"marker\":{\"pattern\":{\"fillmode\":\"overlay\",\"size\":10,\"solidity\":0.2}},\"type\":\"histogram\"}],\"scattergl\":[{\"marker\":{\"line\":{\"color\":\"#283442\"}},\"type\":\"scattergl\"}],\"scatter3d\":[{\"type\":\"scatter3d\",\"line\":{\"colorbar\":{\"outlinewidth\":0,\"ticks\":\"\"}},\"marker\":{\"colorbar\":{\"outlinewidth\":0,\"ticks\":\"\"}}}],\"scattermapbox\":[{\"type\":\"scattermapbox\",\"marker\":{\"colorbar\":{\"outlinewidth\":0,\"ticks\":\"\"}}}],\"scatterternary\":[{\"type\":\"scatterternary\",\"marker\":{\"colorbar\":{\"outlinewidth\":0,\"ticks\":\"\"}}}],\"scattercarpet\":[{\"type\":\"scattercarpet\",\"marker\":{\"colorbar\":{\"outlinewidth\":0,\"ticks\":\"\"}}}],\"carpet\":[{\"aaxis\":{\"endlinecolor\":\"#A2B1C6\",\"gridcolor\":\"#506784\",\"linecolor\":\"#506784\",\"minorgridcolor\":\"#506784\",\"startlinecolor\":\"#A2B1C6\"},\"baxis\":{\"endlinecolor\":\"#A2B1C6\",\"gridcolor\":\"#506784\",\"linecolor\":\"#506784\",\"minorgridcolor\":\"#506784\",\"startlinecolor\":\"#A2B1C6\"},\"type\":\"carpet\"}],\"table\":[{\"cells\":{\"fill\":{\"color\":\"#506784\"},\"line\":{\"color\":\"rgb(17,17,17)\"}},\"header\":{\"fill\":{\"color\":\"#2a3f5f\"},\"line\":{\"color\":\"rgb(17,17,17)\"}},\"type\":\"table\"}],\"barpolar\":[{\"marker\":{\"line\":{\"color\":\"rgb(17,17,17)\",\"width\":0.5},\"pattern\":{\"fillmode\":\"overlay\",\"size\":10,\"solidity\":0.2}},\"type\":\"barpolar\"}],\"pie\":[{\"automargin\":true,\"type\":\"pie\"}]},\"layout\":{\"autotypenumbers\":\"strict\",\"colorway\":[\"#636efa\",\"#EF553B\",\"#00cc96\",\"#ab63fa\",\"#FFA15A\",\"#19d3f3\",\"#FF6692\",\"#B6E880\",\"#FF97FF\",\"#FECB52\"],\"font\":{\"color\":\"#f2f5fa\"},\"hovermode\":\"closest\",\"hoverlabel\":{\"align\":\"left\"},\"paper_bgcolor\":\"rgb(17,17,17)\",\"plot_bgcolor\":\"rgb(17,17,17)\",\"polar\":{\"bgcolor\":\"rgb(17,17,17)\",\"angularaxis\":{\"gridcolor\":\"#506784\",\"linecolor\":\"#506784\",\"ticks\":\"\"},\"radialaxis\":{\"gridcolor\":\"#506784\",\"linecolor\":\"#506784\",\"ticks\":\"\"}},\"ternary\":{\"bgcolor\":\"rgb(17,17,17)\",\"aaxis\":{\"gridcolor\":\"#506784\",\"linecolor\":\"#506784\",\"ticks\":\"\"},\"baxis\":{\"gridcolor\":\"#506784\",\"linecolor\":\"#506784\",\"ticks\":\"\"},\"caxis\":{\"gridcolor\":\"#506784\",\"linecolor\":\"#506784\",\"ticks\":\"\"}},\"coloraxis\":{\"colorbar\":{\"outlinewidth\":0,\"ticks\":\"\"}},\"colorscale\":{\"sequential\":[[0.0,\"#0d0887\"],[0.1111111111111111,\"#46039f\"],[0.2222222222222222,\"#7201a8\"],[0.3333333333333333,\"#9c179e\"],[0.4444444444444444,\"#bd3786\"],[0.5555555555555556,\"#d8576b\"],[0.6666666666666666,\"#ed7953\"],[0.7777777777777778,\"#fb9f3a\"],[0.8888888888888888,\"#fdca26\"],[1.0,\"#f0f921\"]],\"sequentialminus\":[[0.0,\"#0d0887\"],[0.1111111111111111,\"#46039f\"],[0.2222222222222222,\"#7201a8\"],[0.3333333333333333,\"#9c179e\"],[0.4444444444444444,\"#bd3786\"],[0.5555555555555556,\"#d8576b\"],[0.6666666666666666,\"#ed7953\"],[0.7777777777777778,\"#fb9f3a\"],[0.8888888888888888,\"#fdca26\"],[1.0,\"#f0f921\"]],\"diverging\":[[0,\"#8e0152\"],[0.1,\"#c51b7d\"],[0.2,\"#de77ae\"],[0.3,\"#f1b6da\"],[0.4,\"#fde0ef\"],[0.5,\"#f7f7f7\"],[0.6,\"#e6f5d0\"],[0.7,\"#b8e186\"],[0.8,\"#7fbc41\"],[0.9,\"#4d9221\"],[1,\"#276419\"]]},\"xaxis\":{\"gridcolor\":\"#283442\",\"linecolor\":\"#506784\",\"ticks\":\"\",\"title\":{\"standoff\":15},\"zerolinecolor\":\"#283442\",\"automargin\":true,\"zerolinewidth\":2},\"yaxis\":{\"gridcolor\":\"#283442\",\"linecolor\":\"#506784\",\"ticks\":\"\",\"title\":{\"standoff\":15},\"zerolinecolor\":\"#283442\",\"automargin\":true,\"zerolinewidth\":2},\"scene\":{\"xaxis\":{\"backgroundcolor\":\"rgb(17,17,17)\",\"gridcolor\":\"#506784\",\"linecolor\":\"#506784\",\"showbackground\":true,\"ticks\":\"\",\"zerolinecolor\":\"#C8D4E3\",\"gridwidth\":2},\"yaxis\":{\"backgroundcolor\":\"rgb(17,17,17)\",\"gridcolor\":\"#506784\",\"linecolor\":\"#506784\",\"showbackground\":true,\"ticks\":\"\",\"zerolinecolor\":\"#C8D4E3\",\"gridwidth\":2},\"zaxis\":{\"backgroundcolor\":\"rgb(17,17,17)\",\"gridcolor\":\"#506784\",\"linecolor\":\"#506784\",\"showbackground\":true,\"ticks\":\"\",\"zerolinecolor\":\"#C8D4E3\",\"gridwidth\":2}},\"shapedefaults\":{\"line\":{\"color\":\"#f2f5fa\"}},\"annotationdefaults\":{\"arrowcolor\":\"#f2f5fa\",\"arrowhead\":0,\"arrowwidth\":1},\"geo\":{\"bgcolor\":\"rgb(17,17,17)\",\"landcolor\":\"rgb(17,17,17)\",\"subunitcolor\":\"#506784\",\"showland\":true,\"showlakes\":true,\"lakecolor\":\"rgb(17,17,17)\"},\"title\":{\"x\":0.05},\"updatemenudefaults\":{\"bgcolor\":\"#506784\",\"borderwidth\":0},\"sliderdefaults\":{\"bgcolor\":\"#C8D4E3\",\"borderwidth\":1,\"bordercolor\":\"rgb(17,17,17)\",\"tickwidth\":0},\"mapbox\":{\"style\":\"dark\"}}},\"title\":{\"text\":\"Accuracy = 78.01, Weighted F1 = 0.70\",\"x\":0.5,\"y\":0.05},\"paper_bgcolor\":\"rgba(0,0,0,0)\"},                        {\"responsive\": true}                    ).then(function(){\n                            \nvar gd = document.getElementById('20e32d05-498b-4baa-828a-c031f8e08e51');\nvar x = new MutationObserver(function (mutations, observer) {{\n        var display = window.getComputedStyle(gd).display;\n        if (!display || display === 'none') {{\n            console.log([gd, 'removed!']);\n            Plotly.purge(gd);\n            observer.disconnect();\n        }}\n}});\n\n// Listen for the removal of the full notebook cells\nvar notebookContainer = gd.closest('#notebook-container');\nif (notebookContainer) {{\n    x.observe(notebookContainer, {childList: true});\n}}\n\n// Listen for the clearing of the current output cell\nvar outputEl = gd.closest('.output');\nif (outputEl) {{\n    x.observe(outputEl, {childList: true});\n}}\n\n                        })                };                });            </script>        </div>"
     },
     "metadata": {},
     "output_type": "display_data"
    }
   ],
   "source": [
    "accuracy = accuracy_score(y_true, y_pred.astype(int))\n",
    "f1 = f1_score(y_true, y_pred.astype(int), average='weighted')\n",
    "cm = confusion_matrix(y_true, y_pred.astype(int))\n",
    "\n",
    "title_dict = {\n",
    "    'text': f'Accuracy = {accuracy*100:.2f}, Weighted F1 = {f1:.2f}',\n",
    "    'x': 0.5,\n",
    "    'y': 0.05\n",
    "}\n",
    "\n",
    "plot_confusion_matrix(cm, labels, title_dict)"
   ],
   "metadata": {
    "collapsed": false,
    "ExecuteTime": {
     "start_time": "2023-04-11T18:40:45.615274Z",
     "end_time": "2023-04-11T18:40:45.659381Z"
    }
   }
  },
  {
   "cell_type": "markdown",
   "source": [
    "### Ovarian cancer"
   ],
   "metadata": {
    "collapsed": false
   }
  },
  {
   "cell_type": "code",
   "execution_count": 71,
   "outputs": [
    {
     "data": {
      "text/plain": "Stage\n2    34\n0    30\n3    28\n1    14\nName: count, dtype: int64"
     },
     "execution_count": 71,
     "metadata": {},
     "output_type": "execute_result"
    }
   ],
   "source": [
    "X_train = train.loc[train['Group'] == 'Ovarian cancer']\n",
    "\n",
    "stratification_groups = X_train.loc[:, 'Stage']\n",
    "X_train = X_train.loc[:, ~X_train.columns.isin(['ID', 'Sex', 'Age', 'Group'])]\n",
    "\n",
    "X_train.loc[:, 'Stage'] = X_train['Stage'].map(labels_encoding)\n",
    "X_train['Stage'].value_counts()"
   ],
   "metadata": {
    "collapsed": false,
    "ExecuteTime": {
     "start_time": "2023-04-11T19:32:56.804983Z",
     "end_time": "2023-04-11T19:32:56.840179Z"
    }
   }
  },
  {
   "cell_type": "code",
   "execution_count": 72,
   "outputs": [
    {
     "name": "stderr",
     "output_type": "stream",
     "text": [
      "\u001B[32m[I 2023-04-11 19:33:13,876]\u001B[0m A new study created in memory with name: no-name-dd2d871b-b449-4407-8e0b-171c1fa0fabf\u001B[0m\n",
      "\u001B[32m[I 2023-04-11 19:33:26,083]\u001B[0m Trial 0 finished with value: 0.4000656020392862 and parameters: {'n_estimators': 120, 'max_depth': 6, 'learning_rate': 0.12430011199909297, 'subsample': 0.9054546974253824, 'colsample_bytree': 0.7272592615897554, 'gamma': 0.2740596458499803}. Best is trial 0 with value: 0.4000656020392862.\u001B[0m\n",
      "\u001B[32m[I 2023-04-11 19:33:37,189]\u001B[0m Trial 1 finished with value: 0.4321775947936939 and parameters: {'n_estimators': 115, 'max_depth': 5, 'learning_rate': 0.23010474836264355, 'subsample': 0.7178095390972489, 'colsample_bytree': 0.6303174875882364, 'gamma': 0.8510478526675063}. Best is trial 1 with value: 0.4321775947936939.\u001B[0m\n",
      "\u001B[32m[I 2023-04-11 19:33:51,636]\u001B[0m Trial 2 finished with value: 0.441376921061899 and parameters: {'n_estimators': 140, 'max_depth': 2, 'learning_rate': 0.014131636184841905, 'subsample': 0.7637332432400548, 'colsample_bytree': 0.8156155557006047, 'gamma': 0.17722199816708883}. Best is trial 2 with value: 0.441376921061899.\u001B[0m\n",
      "\u001B[32m[I 2023-04-11 19:34:01,509]\u001B[0m Trial 3 finished with value: 0.39551114184211345 and parameters: {'n_estimators': 90, 'max_depth': 7, 'learning_rate': 0.18087935194237945, 'subsample': 0.9854764565760262, 'colsample_bytree': 0.957666521961706, 'gamma': 0.2626640717616301}. Best is trial 2 with value: 0.441376921061899.\u001B[0m\n",
      "\u001B[32m[I 2023-04-11 19:34:09,365]\u001B[0m Trial 4 finished with value: 0.3873529357190063 and parameters: {'n_estimators': 69, 'max_depth': 8, 'learning_rate': 0.24480492590711414, 'subsample': 0.8642580031590239, 'colsample_bytree': 0.8064506917466674, 'gamma': 0.8901688392468943}. Best is trial 2 with value: 0.441376921061899.\u001B[0m\n",
      "\u001B[32m[I 2023-04-11 19:34:20,306]\u001B[0m Trial 5 finished with value: 0.43077602842824714 and parameters: {'n_estimators': 109, 'max_depth': 8, 'learning_rate': 0.038649469120210764, 'subsample': 0.6169368388417098, 'colsample_bytree': 0.6816753238694225, 'gamma': 0.7749241574253353}. Best is trial 2 with value: 0.441376921061899.\u001B[0m\n",
      "\u001B[32m[I 2023-04-11 19:34:33,907]\u001B[0m Trial 6 finished with value: 0.44755079757461275 and parameters: {'n_estimators': 118, 'max_depth': 7, 'learning_rate': 0.005406451370489431, 'subsample': 0.7703713069644633, 'colsample_bytree': 0.8377294330483238, 'gamma': 0.7100463440098252}. Best is trial 6 with value: 0.44755079757461275.\u001B[0m\n",
      "\u001B[32m[I 2023-04-11 19:34:44,226]\u001B[0m Trial 7 finished with value: 0.4213756729495467 and parameters: {'n_estimators': 108, 'max_depth': 6, 'learning_rate': 0.24601737445493357, 'subsample': 0.7799005352634147, 'colsample_bytree': 0.9769834621246971, 'gamma': 0.22869954902993617}. Best is trial 6 with value: 0.44755079757461275.\u001B[0m\n",
      "\u001B[32m[I 2023-04-11 19:34:55,666]\u001B[0m Trial 8 finished with value: 0.38706362369701525 and parameters: {'n_estimators': 119, 'max_depth': 5, 'learning_rate': 0.22704569114327072, 'subsample': 0.8526220454780999, 'colsample_bytree': 0.9071103579679531, 'gamma': 0.24899757848348003}. Best is trial 6 with value: 0.44755079757461275.\u001B[0m\n",
      "\u001B[32m[I 2023-04-11 19:35:08,346]\u001B[0m Trial 9 finished with value: 0.38536784184359 and parameters: {'n_estimators': 135, 'max_depth': 2, 'learning_rate': 0.05273482499964593, 'subsample': 0.6714770059376934, 'colsample_bytree': 0.8666467672869325, 'gamma': 0.4420090818502037}. Best is trial 6 with value: 0.44755079757461275.\u001B[0m\n",
      "\u001B[32m[I 2023-04-11 19:35:12,142]\u001B[0m Trial 10 finished with value: 0.4213359672058502 and parameters: {'n_estimators': 27, 'max_depth': 4, 'learning_rate': 0.0913248138273233, 'subsample': 0.7229761596071409, 'colsample_bytree': 0.7336239251431423, 'gamma': 0.6651841338108742}. Best is trial 6 with value: 0.44755079757461275.\u001B[0m\n",
      "\u001B[32m[I 2023-04-11 19:35:26,788]\u001B[0m Trial 11 finished with value: 0.4523285371304741 and parameters: {'n_estimators': 149, 'max_depth': 2, 'learning_rate': 0.006229263394280871, 'subsample': 0.7832640949005999, 'colsample_bytree': 0.826254000097655, 'gamma': 0.09943880840715885}. Best is trial 11 with value: 0.4523285371304741.\u001B[0m\n",
      "\u001B[32m[I 2023-04-11 19:35:42,963]\u001B[0m Trial 12 finished with value: 0.4763812304253481 and parameters: {'n_estimators': 144, 'max_depth': 3, 'learning_rate': 0.0027396879537446846, 'subsample': 0.804822215106407, 'colsample_bytree': 0.864337123969521, 'gamma': 0.030531730419215974}. Best is trial 12 with value: 0.4763812304253481.\u001B[0m\n",
      "\u001B[32m[I 2023-04-11 19:35:57,210]\u001B[0m Trial 13 finished with value: 0.4013394774498608 and parameters: {'n_estimators': 149, 'max_depth': 3, 'learning_rate': 0.07091608746313662, 'subsample': 0.8262758997901353, 'colsample_bytree': 0.8839556448256946, 'gamma': 0.059362991495559}. Best is trial 12 with value: 0.4763812304253481.\u001B[0m\n",
      "\u001B[32m[I 2023-04-11 19:36:04,614]\u001B[0m Trial 14 finished with value: 0.4827554106062878 and parameters: {'n_estimators': 62, 'max_depth': 3, 'learning_rate': 0.002960177129493842, 'subsample': 0.8208470116677931, 'colsample_bytree': 0.7743803313005699, 'gamma': 0.09628820112445687}. Best is trial 14 with value: 0.4827554106062878.\u001B[0m\n",
      "\u001B[32m[I 2023-04-11 19:36:11,101]\u001B[0m Trial 15 finished with value: 0.42328241016850743 and parameters: {'n_estimators': 56, 'max_depth': 3, 'learning_rate': 0.09791217900181505, 'subsample': 0.9015069392051315, 'colsample_bytree': 0.7792330867643142, 'gamma': 0.014992566119393147}. Best is trial 14 with value: 0.4827554106062878.\u001B[0m\n",
      "\u001B[32m[I 2023-04-11 19:36:17,056]\u001B[0m Trial 16 finished with value: 0.4172341063680933 and parameters: {'n_estimators': 43, 'max_depth': 4, 'learning_rate': 0.04651492294796545, 'subsample': 0.8133783427303112, 'colsample_bytree': 0.9199220412762986, 'gamma': 0.0054604672663279355}. Best is trial 14 with value: 0.4827554106062878.\u001B[0m\n",
      "\u001B[32m[I 2023-04-11 19:36:25,478]\u001B[0m Trial 17 finished with value: 0.4240422710633872 and parameters: {'n_estimators': 82, 'max_depth': 3, 'learning_rate': 0.14409492568386267, 'subsample': 0.8350522393631861, 'colsample_bytree': 0.7598552040352635, 'gamma': 0.4264887443027914}. Best is trial 14 with value: 0.4827554106062878.\u001B[0m\n",
      "\u001B[32m[I 2023-04-11 19:36:36,633]\u001B[0m Trial 18 finished with value: 0.42902360399350425 and parameters: {'n_estimators': 90, 'max_depth': 4, 'learning_rate': 0.03265600135565848, 'subsample': 0.8914489202348068, 'colsample_bytree': 0.8551327600053418, 'gamma': 0.12470614891457704}. Best is trial 14 with value: 0.4827554106062878.\u001B[0m\n",
      "\u001B[32m[I 2023-04-11 19:36:43,490]\u001B[0m Trial 19 finished with value: 0.4298930878394243 and parameters: {'n_estimators': 55, 'max_depth': 3, 'learning_rate': 0.07722780978711612, 'subsample': 0.7267653659978893, 'colsample_bytree': 0.9966928212451743, 'gamma': 0.32355941432203694}. Best is trial 14 with value: 0.4827554106062878.\u001B[0m\n",
      "\u001B[32m[I 2023-04-11 19:36:46,790]\u001B[0m Trial 20 finished with value: 0.45026486384845515 and parameters: {'n_estimators': 20, 'max_depth': 4, 'learning_rate': 0.0013304486207584764, 'subsample': 0.7998807175598778, 'colsample_bytree': 0.790396396831094, 'gamma': 0.13941856681167475}. Best is trial 14 with value: 0.4827554106062878.\u001B[0m\n",
      "\u001B[32m[I 2023-04-11 19:37:01,316]\u001B[0m Trial 21 finished with value: 0.4244036375529323 and parameters: {'n_estimators': 149, 'max_depth': 2, 'learning_rate': 0.024915842832842056, 'subsample': 0.7883147066058042, 'colsample_bytree': 0.8340610256106057, 'gamma': 0.11026999197808073}. Best is trial 14 with value: 0.4827554106062878.\u001B[0m\n",
      "\u001B[32m[I 2023-04-11 19:37:14,194]\u001B[0m Trial 22 finished with value: 0.4745195605812221 and parameters: {'n_estimators': 131, 'max_depth': 2, 'learning_rate': 0.0016370509321328326, 'subsample': 0.749653110574019, 'colsample_bytree': 0.8196293854633674, 'gamma': 0.0017177701906045707}. Best is trial 14 with value: 0.4827554106062878.\u001B[0m\n",
      "\u001B[32m[I 2023-04-11 19:37:27,569]\u001B[0m Trial 23 finished with value: 0.40649460067773957 and parameters: {'n_estimators': 129, 'max_depth': 3, 'learning_rate': 0.049330924536223744, 'subsample': 0.7430244467933597, 'colsample_bytree': 0.8836962088398916, 'gamma': 0.048494624823156376}. Best is trial 14 with value: 0.4827554106062878.\u001B[0m\n",
      "\u001B[32m[I 2023-04-11 19:37:37,305]\u001B[0m Trial 24 finished with value: 0.4234330292049636 and parameters: {'n_estimators': 100, 'max_depth': 2, 'learning_rate': 0.027384060752761223, 'subsample': 0.6942600126540512, 'colsample_bytree': 0.7614161093652028, 'gamma': 0.00854748604376836}. Best is trial 14 with value: 0.4827554106062878.\u001B[0m\n",
      "\u001B[32m[I 2023-04-11 19:37:45,508]\u001B[0m Trial 25 finished with value: 0.41546341887428395 and parameters: {'n_estimators': 72, 'max_depth': 3, 'learning_rate': 0.06698674363878204, 'subsample': 0.8138659526215807, 'colsample_bytree': 0.8468112851171483, 'gamma': 0.16920411676712044}. Best is trial 14 with value: 0.4827554106062878.\u001B[0m\n",
      "\u001B[32m[I 2023-04-11 19:37:59,667]\u001B[0m Trial 26 finished with value: 0.42239972649990903 and parameters: {'n_estimators': 131, 'max_depth': 4, 'learning_rate': 0.028073513739517237, 'subsample': 0.7467924472655497, 'colsample_bytree': 0.797679664362352, 'gamma': 0.08357698498067555}. Best is trial 14 with value: 0.4827554106062878.\u001B[0m\n",
      "\u001B[32m[I 2023-04-11 19:38:05,259]\u001B[0m Trial 27 finished with value: 0.4692025070637042 and parameters: {'n_estimators': 47, 'max_depth': 2, 'learning_rate': 0.0062095958162517876, 'subsample': 0.760792797564825, 'colsample_bytree': 0.9347685440213956, 'gamma': 0.17707706352853292}. Best is trial 14 with value: 0.4827554106062878.\u001B[0m\n",
      "\u001B[32m[I 2023-04-11 19:38:13,907]\u001B[0m Trial 28 finished with value: 0.39687724896372456 and parameters: {'n_estimators': 74, 'max_depth': 3, 'learning_rate': 0.0489910135616294, 'subsample': 0.7993188843035534, 'colsample_bytree': 0.8873804190576917, 'gamma': 0.3430520208140544}. Best is trial 14 with value: 0.4827554106062878.\u001B[0m\n",
      "\u001B[32m[I 2023-04-11 19:38:23,533]\u001B[0m Trial 29 finished with value: 0.3723251897486503 and parameters: {'n_estimators': 100, 'max_depth': 5, 'learning_rate': 0.11007878669920408, 'subsample': 0.8549623862954228, 'colsample_bytree': 0.7090867289059931, 'gamma': 0.0015855192641674107}. Best is trial 14 with value: 0.4827554106062878.\u001B[0m\n",
      "\u001B[32m[I 2023-04-11 19:38:35,946]\u001B[0m Trial 30 finished with value: 0.4103449716968809 and parameters: {'n_estimators': 127, 'max_depth': 6, 'learning_rate': 0.11923249119256744, 'subsample': 0.9448349529327992, 'colsample_bytree': 0.8099399503507642, 'gamma': 0.20147306060116543}. Best is trial 14 with value: 0.4827554106062878.\u001B[0m\n",
      "\u001B[32m[I 2023-04-11 19:38:41,051]\u001B[0m Trial 31 finished with value: 0.4492788744459116 and parameters: {'n_estimators': 42, 'max_depth': 2, 'learning_rate': 0.017310520314085358, 'subsample': 0.7591794665056066, 'colsample_bytree': 0.9360056081197198, 'gamma': 0.16045198971162278}. Best is trial 14 with value: 0.4827554106062878.\u001B[0m\n",
      "\u001B[32m[I 2023-04-11 19:38:47,301]\u001B[0m Trial 32 finished with value: 0.48744292424136826 and parameters: {'n_estimators': 53, 'max_depth': 2, 'learning_rate': 0.006726411078477483, 'subsample': 0.836053700065908, 'colsample_bytree': 0.9421320442680939, 'gamma': 0.06819675060301486}. Best is trial 32 with value: 0.48744292424136826.\u001B[0m\n",
      "\u001B[32m[I 2023-04-11 19:38:54,363]\u001B[0m Trial 33 finished with value: 0.42753350645309046 and parameters: {'n_estimators': 63, 'max_depth': 2, 'learning_rate': 0.025072436734539724, 'subsample': 0.8285829083103337, 'colsample_bytree': 0.8635382912256918, 'gamma': 0.07009551422724243}. Best is trial 32 with value: 0.48744292424136826.\u001B[0m\n",
      "\u001B[32m[I 2023-04-11 19:38:59,319]\u001B[0m Trial 34 finished with value: 0.44402964194432404 and parameters: {'n_estimators': 34, 'max_depth': 3, 'learning_rate': 0.0605356841997707, 'subsample': 0.8806679483123184, 'colsample_bytree': 0.9534421504746547, 'gamma': 0.13169659812582155}. Best is trial 32 with value: 0.48744292424136826.\u001B[0m\n",
      "\u001B[32m[I 2023-04-11 19:39:13,439]\u001B[0m Trial 35 finished with value: 0.49246345697087934 and parameters: {'n_estimators': 141, 'max_depth': 2, 'learning_rate': 0.0016442579174169364, 'subsample': 0.8425984558635179, 'colsample_bytree': 0.8185328460260923, 'gamma': 0.06919672378421127}. Best is trial 35 with value: 0.49246345697087934.\u001B[0m\n",
      "\u001B[32m[I 2023-04-11 19:39:23,884]\u001B[0m Trial 36 finished with value: 0.4276275211669882 and parameters: {'n_estimators': 81, 'max_depth': 5, 'learning_rate': 0.0300064395864403, 'subsample': 0.8680426985337667, 'colsample_bytree': 0.9034920952839869, 'gamma': 0.2099205217415942}. Best is trial 35 with value: 0.49246345697087934.\u001B[0m\n",
      "\u001B[32m[I 2023-04-11 19:39:30,240]\u001B[0m Trial 37 finished with value: 0.4489283238046171 and parameters: {'n_estimators': 56, 'max_depth': 3, 'learning_rate': 0.04139695702125981, 'subsample': 0.8436377850750926, 'colsample_bytree': 0.6096718680221975, 'gamma': 0.270471027946776}. Best is trial 35 with value: 0.49246345697087934.\u001B[0m\n",
      "\u001B[32m[I 2023-04-11 19:39:44,506]\u001B[0m Trial 38 finished with value: 0.44325861891022905 and parameters: {'n_estimators': 140, 'max_depth': 2, 'learning_rate': 0.01743875799623405, 'subsample': 0.9271631299135346, 'colsample_bytree': 0.8398136045525186, 'gamma': 0.10196589659804749}. Best is trial 35 with value: 0.49246345697087934.\u001B[0m\n",
      "\u001B[32m[I 2023-04-11 19:40:00,878]\u001B[0m Trial 39 finished with value: 0.45270134336843343 and parameters: {'n_estimators': 140, 'max_depth': 4, 'learning_rate': 0.014249248802864066, 'subsample': 0.8684843616046798, 'colsample_bytree': 0.8024013757572581, 'gamma': 0.06729946485836667}. Best is trial 35 with value: 0.49246345697087934.\u001B[0m\n",
      "\u001B[32m[I 2023-04-11 19:40:07,943]\u001B[0m Trial 40 finished with value: 0.4192355180143278 and parameters: {'n_estimators': 64, 'max_depth': 2, 'learning_rate': 0.03671945203455844, 'subsample': 0.8161568601332887, 'colsample_bytree': 0.8670785764864412, 'gamma': 0.20940430970589008}. Best is trial 35 with value: 0.49246345697087934.\u001B[0m\n",
      "\u001B[32m[I 2023-04-11 19:40:20,360]\u001B[0m Trial 41 finished with value: 0.4590216954930689 and parameters: {'n_estimators': 123, 'max_depth': 2, 'learning_rate': 0.001219100942676028, 'subsample': 0.7928342835845968, 'colsample_bytree': 0.8221595565487447, 'gamma': 0.04730840563367683}. Best is trial 35 with value: 0.49246345697087934.\u001B[0m\n",
      "\u001B[32m[I 2023-04-11 19:40:34,550]\u001B[0m Trial 42 finished with value: 0.4374353010059924 and parameters: {'n_estimators': 142, 'max_depth': 2, 'learning_rate': 0.01580653294100826, 'subsample': 0.8381042566138376, 'colsample_bytree': 0.8202131750278528, 'gamma': 0.11216682430744618}. Best is trial 35 with value: 0.49246345697087934.\u001B[0m\n",
      "\u001B[32m[I 2023-04-11 19:40:46,376]\u001B[0m Trial 43 finished with value: 0.4091265436433598 and parameters: {'n_estimators': 112, 'max_depth': 7, 'learning_rate': 0.05613898993274967, 'subsample': 0.7741884793436111, 'colsample_bytree': 0.7828112793613347, 'gamma': 0.05962104286052395}. Best is trial 35 with value: 0.49246345697087934.\u001B[0m\n",
      "\u001B[32m[I 2023-04-11 19:41:01,489]\u001B[0m Trial 44 finished with value: 0.4253355257463378 and parameters: {'n_estimators': 135, 'max_depth': 3, 'learning_rate': 0.015491730292151226, 'subsample': 0.8103720551662807, 'colsample_bytree': 0.846356421682533, 'gamma': 0.16322692659660562}. Best is trial 35 with value: 0.49246345697087934.\u001B[0m\n",
      "\u001B[32m[I 2023-04-11 19:41:15,119]\u001B[0m Trial 45 finished with value: 0.3935060619324068 and parameters: {'n_estimators': 143, 'max_depth': 2, 'learning_rate': 0.03833967571370755, 'subsample': 0.8335059831378461, 'colsample_bytree': 0.7678699375079693, 'gamma': 0.03465826506756203}. Best is trial 35 with value: 0.49246345697087934.\u001B[0m\n",
      "\u001B[32m[I 2023-04-11 19:41:28,739]\u001B[0m Trial 46 finished with value: 0.46731081338726016 and parameters: {'n_estimators': 123, 'max_depth': 3, 'learning_rate': 0.0032101297758229575, 'subsample': 0.7777171854984843, 'colsample_bytree': 0.8144445302200669, 'gamma': 0.23942100582142498}. Best is trial 35 with value: 0.49246345697087934.\u001B[0m\n",
      "\u001B[32m[I 2023-04-11 19:41:38,365]\u001B[0m Trial 47 finished with value: 0.4151223753949932 and parameters: {'n_estimators': 101, 'max_depth': 2, 'learning_rate': 0.080000500475349, 'subsample': 0.8442015261427905, 'colsample_bytree': 0.742495765630291, 'gamma': 0.09094181080347889}. Best is trial 35 with value: 0.49246345697087934.\u001B[0m\n",
      "\u001B[32m[I 2023-04-11 19:41:51,977]\u001B[0m Trial 48 finished with value: 0.4001021498193444 and parameters: {'n_estimators': 134, 'max_depth': 8, 'learning_rate': 0.06014296248602878, 'subsample': 0.8572058552855121, 'colsample_bytree': 0.7971254147768124, 'gamma': 0.007883138539748091}. Best is trial 35 with value: 0.49246345697087934.\u001B[0m\n",
      "\u001B[32m[I 2023-04-11 19:41:58,128]\u001B[0m Trial 49 finished with value: 0.4549276719965508 and parameters: {'n_estimators': 50, 'max_depth': 3, 'learning_rate': 0.038579111072943206, 'subsample': 0.7972502342893986, 'colsample_bytree': 0.7768710632164129, 'gamma': 0.13976786667379854}. Best is trial 35 with value: 0.49246345697087934.\u001B[0m\n",
      "\u001B[32m[I 2023-04-11 19:42:12,657]\u001B[0m Trial 50 finished with value: 0.4770659907592312 and parameters: {'n_estimators': 146, 'max_depth': 2, 'learning_rate': 0.0023484381398825613, 'subsample': 0.8157747583544683, 'colsample_bytree': 0.8325504102890374, 'gamma': 0.04141985237855894}. Best is trial 35 with value: 0.49246345697087934.\u001B[0m\n",
      "\u001B[32m[I 2023-04-11 19:42:27,130]\u001B[0m Trial 51 finished with value: 0.4557546088089649 and parameters: {'n_estimators': 145, 'max_depth': 2, 'learning_rate': 0.012233835602227008, 'subsample': 0.821634584934142, 'colsample_bytree': 0.8309438335399699, 'gamma': 0.04515519977336249}. Best is trial 35 with value: 0.49246345697087934.\u001B[0m\n",
      "\u001B[32m[I 2023-04-11 19:42:42,145]\u001B[0m Trial 52 finished with value: 0.4643891802689532 and parameters: {'n_estimators': 149, 'max_depth': 2, 'learning_rate': 0.0032908899260597185, 'subsample': 0.8128490179782191, 'colsample_bytree': 0.8537008525502239, 'gamma': 0.08756732227425398}. Best is trial 35 with value: 0.49246345697087934.\u001B[0m\n",
      "\u001B[32m[I 2023-04-11 19:42:57,115]\u001B[0m Trial 53 finished with value: 0.43174567822830634 and parameters: {'n_estimators': 138, 'max_depth': 3, 'learning_rate': 0.01759092886338197, 'subsample': 0.7791100593066886, 'colsample_bytree': 0.817242451067845, 'gamma': 0.03848397207594003}. Best is trial 35 with value: 0.49246345697087934.\u001B[0m\n",
      "\u001B[32m[I 2023-04-11 19:43:08,851]\u001B[0m Trial 54 finished with value: 0.4225593398753013 and parameters: {'n_estimators': 118, 'max_depth': 2, 'learning_rate': 0.025242755736240477, 'subsample': 0.8271356060113227, 'colsample_bytree': 0.7907756638179356, 'gamma': 0.13155338796400678}. Best is trial 35 with value: 0.49246345697087934.\u001B[0m\n",
      "\u001B[32m[I 2023-04-11 19:43:13,705]\u001B[0m Trial 55 finished with value: 0.44792265868563796 and parameters: {'n_estimators': 34, 'max_depth': 4, 'learning_rate': 0.045686753283793784, 'subsample': 0.8013047079997294, 'colsample_bytree': 0.8332617986943056, 'gamma': 0.023853300818096862}. Best is trial 35 with value: 0.49246345697087934.\u001B[0m\n",
      "\u001B[32m[I 2023-04-11 19:43:28,665]\u001B[0m Trial 56 finished with value: 0.5012602024828812 and parameters: {'n_estimators': 146, 'max_depth': 2, 'learning_rate': 0.002292921099235421, 'subsample': 0.8529866319531532, 'colsample_bytree': 0.8732027595519477, 'gamma': 0.002607445107689517}. Best is trial 56 with value: 0.5012602024828812.\u001B[0m\n",
      "\u001B[32m[I 2023-04-11 19:43:44,362]\u001B[0m Trial 57 finished with value: 0.4286881174222075 and parameters: {'n_estimators': 145, 'max_depth': 3, 'learning_rate': 0.031930398778990524, 'subsample': 0.8482495573519712, 'colsample_bytree': 0.871738571252171, 'gamma': 0.07946003709981053}. Best is trial 56 with value: 0.5012602024828812.\u001B[0m\n",
      "\u001B[32m[I 2023-04-11 19:43:54,228]\u001B[0m Trial 58 finished with value: 0.45473752190298455 and parameters: {'n_estimators': 91, 'max_depth': 2, 'learning_rate': 0.014145943422358061, 'subsample': 0.8628319907970501, 'colsample_bytree': 0.904453484404777, 'gamma': 0.11496267471604588}. Best is trial 56 with value: 0.5012602024828812.\u001B[0m\n",
      "\u001B[32m[I 2023-04-11 19:44:11,057]\u001B[0m Trial 59 finished with value: 0.41381257510097713 and parameters: {'n_estimators': 150, 'max_depth': 3, 'learning_rate': 0.024035585982925996, 'subsample': 0.8828063076353564, 'colsample_bytree': 0.8845981954340115, 'gamma': 0.18006316203993356}. Best is trial 56 with value: 0.5012602024828812.\u001B[0m\n",
      "\u001B[32m[I 2023-04-11 19:44:24,302]\u001B[0m Trial 60 finished with value: 0.3837550642289204 and parameters: {'n_estimators': 137, 'max_depth': 2, 'learning_rate': 0.04741504781889906, 'subsample': 0.8426930380609624, 'colsample_bytree': 0.8569046496325146, 'gamma': 0.06583668795917735}. Best is trial 56 with value: 0.5012602024828812.\u001B[0m\n",
      "\u001B[32m[I 2023-04-11 19:44:37,100]\u001B[0m Trial 61 finished with value: 0.47108791086810786 and parameters: {'n_estimators': 130, 'max_depth': 2, 'learning_rate': 0.002119715143798996, 'subsample': 0.7872059914712092, 'colsample_bytree': 0.8071967231551926, 'gamma': 0.013843888276057517}. Best is trial 56 with value: 0.5012602024828812.\u001B[0m\n",
      "\u001B[32m[I 2023-04-11 19:44:43,963]\u001B[0m Trial 62 finished with value: 0.4653554921743776 and parameters: {'n_estimators': 62, 'max_depth': 2, 'learning_rate': 0.009637443347710328, 'subsample': 0.8243996773746484, 'colsample_bytree': 0.8368390830036794, 'gamma': 0.00442344081552536}. Best is trial 56 with value: 0.5012602024828812.\u001B[0m\n",
      "\u001B[32m[I 2023-04-11 19:44:57,418]\u001B[0m Trial 63 finished with value: 0.47138474390151375 and parameters: {'n_estimators': 132, 'max_depth': 2, 'learning_rate': 0.0013121612491749858, 'subsample': 0.8090749407014378, 'colsample_bytree': 0.8720425576584834, 'gamma': 0.056353323554774994}. Best is trial 56 with value: 0.5012602024828812.\u001B[0m\n",
      "\u001B[32m[I 2023-04-11 19:45:11,050]\u001B[0m Trial 64 finished with value: 0.41459674487379494 and parameters: {'n_estimators': 124, 'max_depth': 3, 'learning_rate': 0.022775845841894234, 'subsample': 0.7666491402408162, 'colsample_bytree': 0.8487875009332033, 'gamma': 0.0950379912395807}. Best is trial 56 with value: 0.5012602024828812.\u001B[0m\n",
      "\u001B[32m[I 2023-04-11 19:45:28,235]\u001B[0m Trial 65 finished with value: 0.45532161442471347 and parameters: {'n_estimators': 146, 'max_depth': 6, 'learning_rate': 0.010877954203469984, 'subsample': 0.8332274210826361, 'colsample_bytree': 0.8268151730760022, 'gamma': 0.000791680121798003}. Best is trial 56 with value: 0.5012602024828812.\u001B[0m\n",
      "\u001B[32m[I 2023-04-11 19:45:38,274]\u001B[0m Trial 66 finished with value: 0.3993859542502076 and parameters: {'n_estimators': 78, 'max_depth': 4, 'learning_rate': 0.03765030410616761, 'subsample': 0.8561587792682112, 'colsample_bytree': 0.9185566684117941, 'gamma': 0.14801251930113762}. Best is trial 56 with value: 0.5012602024828812.\u001B[0m\n",
      "\u001B[32m[I 2023-04-11 19:45:52,008]\u001B[0m Trial 67 finished with value: 0.4109119071160298 and parameters: {'n_estimators': 137, 'max_depth': 2, 'learning_rate': 0.025632987331752857, 'subsample': 0.8033089086943369, 'colsample_bytree': 0.8934374990110795, 'gamma': 0.03737675240566325}. Best is trial 56 with value: 0.5012602024828812.\u001B[0m\n",
      "\u001B[32m[I 2023-04-11 19:46:00,191]\u001B[0m Trial 68 finished with value: 0.455686082350169 and parameters: {'n_estimators': 67, 'max_depth': 3, 'learning_rate': 0.009836472296131313, 'subsample': 0.7875993404257378, 'colsample_bytree': 0.8760695519262878, 'gamma': 0.12005190432751793}. Best is trial 56 with value: 0.5012602024828812.\u001B[0m\n",
      "\u001B[32m[I 2023-04-11 19:46:06,162]\u001B[0m Trial 69 finished with value: 0.46105196406855525 and parameters: {'n_estimators': 52, 'max_depth': 2, 'learning_rate': 0.034083212590898596, 'subsample': 0.8228694127124021, 'colsample_bytree': 0.8585833829113722, 'gamma': 0.08021814712895263}. Best is trial 56 with value: 0.5012602024828812.\u001B[0m\n",
      "\u001B[32m[I 2023-04-11 19:46:11,267]\u001B[0m Trial 70 finished with value: 0.484927641635588 and parameters: {'n_estimators': 43, 'max_depth': 2, 'learning_rate': 0.021836342745238702, 'subsample': 0.86671764084232, 'colsample_bytree': 0.8067963809455001, 'gamma': 0.1959014654175845}. Best is trial 56 with value: 0.5012602024828812.\u001B[0m\n",
      "\u001B[32m[I 2023-04-11 19:46:16,346]\u001B[0m Trial 71 finished with value: 0.4579181334837443 and parameters: {'n_estimators': 43, 'max_depth': 2, 'learning_rate': 0.01943050077030394, 'subsample': 0.8734894931855371, 'colsample_bytree': 0.7997428989950092, 'gamma': 0.03649471075551926}. Best is trial 56 with value: 0.5012602024828812.\u001B[0m\n",
      "\u001B[32m[I 2023-04-11 19:46:21,770]\u001B[0m Trial 72 finished with value: 0.4611400633094679 and parameters: {'n_estimators': 46, 'max_depth': 2, 'learning_rate': 0.011794739329356149, 'subsample': 0.851154206607732, 'colsample_bytree': 0.8124490352035433, 'gamma': 0.15411662858878614}. Best is trial 56 with value: 0.5012602024828812.\u001B[0m\n",
      "\u001B[32m[I 2023-04-11 19:46:28,208]\u001B[0m Trial 73 finished with value: 0.47360840627094497 and parameters: {'n_estimators': 56, 'max_depth': 2, 'learning_rate': 0.0018901003630187572, 'subsample': 0.8972758325391614, 'colsample_bytree': 0.8476809351370732, 'gamma': 0.09525852387806318}. Best is trial 56 with value: 0.5012602024828812.\u001B[0m\n",
      "\u001B[32m[I 2023-04-11 19:46:32,334]\u001B[0m Trial 74 finished with value: 0.4814547728942893 and parameters: {'n_estimators': 32, 'max_depth': 2, 'learning_rate': 0.02792194574402976, 'subsample': 0.8376497894625128, 'colsample_bytree': 0.8258153292455555, 'gamma': 0.18813891522935589}. Best is trial 56 with value: 0.5012602024828812.\u001B[0m\n",
      "\u001B[32m[I 2023-04-11 19:46:37,542]\u001B[0m Trial 75 finished with value: 0.47079351183668344 and parameters: {'n_estimators': 38, 'max_depth': 3, 'learning_rate': 0.031365395016359626, 'subsample': 0.8618210764483082, 'colsample_bytree': 0.8401711388689149, 'gamma': 0.17849708296422304}. Best is trial 56 with value: 0.5012602024828812.\u001B[0m\n",
      "\u001B[32m[I 2023-04-11 19:46:42,271]\u001B[0m Trial 76 finished with value: 0.4751631286051575 and parameters: {'n_estimators': 39, 'max_depth': 2, 'learning_rate': 0.0212472161103181, 'subsample': 0.834386308625358, 'colsample_bytree': 0.7849051886087037, 'gamma': 0.2848385874698406}. Best is trial 56 with value: 0.5012602024828812.\u001B[0m\n",
      "\u001B[32m[I 2023-04-11 19:46:46,718]\u001B[0m Trial 77 finished with value: 0.44671836133625975 and parameters: {'n_estimators': 30, 'max_depth': 4, 'learning_rate': 0.05242265331836841, 'subsample': 0.8464429506962518, 'colsample_bytree': 0.8068874909286828, 'gamma': 0.20496216374828746}. Best is trial 56 with value: 0.5012602024828812.\u001B[0m\n",
      "\u001B[32m[I 2023-04-11 19:46:51,445]\u001B[0m Trial 78 finished with value: 0.41917812105952135 and parameters: {'n_estimators': 34, 'max_depth': 3, 'learning_rate': 0.042497296724861376, 'subsample': 0.8172814811343097, 'colsample_bytree': 0.8625870171954005, 'gamma': 0.12083394307023874}. Best is trial 56 with value: 0.5012602024828812.\u001B[0m\n",
      "\u001B[32m[I 2023-04-11 19:46:54,549]\u001B[0m Trial 79 finished with value: 0.4870378131214045 and parameters: {'n_estimators': 21, 'max_depth': 2, 'learning_rate': 0.00960793821421763, 'subsample': 0.8762174996397915, 'colsample_bytree': 0.8259186332513027, 'gamma': 0.2321713004048988}. Best is trial 56 with value: 0.5012602024828812.\u001B[0m\n",
      "\u001B[32m[I 2023-04-11 19:46:57,768]\u001B[0m Trial 80 finished with value: 0.47828054298642536 and parameters: {'n_estimators': 22, 'max_depth': 2, 'learning_rate': 0.009538562813463616, 'subsample': 0.8835708997520201, 'colsample_bytree': 0.8262834625194118, 'gamma': 0.2241180079207854}. Best is trial 56 with value: 0.5012602024828812.\u001B[0m\n",
      "\u001B[32m[I 2023-04-11 19:47:00,914]\u001B[0m Trial 81 finished with value: 0.47229265960709954 and parameters: {'n_estimators': 21, 'max_depth': 2, 'learning_rate': 0.009196262945482862, 'subsample': 0.8789785496377419, 'colsample_bytree': 0.8285926544417366, 'gamma': 0.2335179245726155}. Best is trial 56 with value: 0.5012602024828812.\u001B[0m\n",
      "\u001B[32m[I 2023-04-11 19:47:04,299]\u001B[0m Trial 82 finished with value: 0.4827869864849569 and parameters: {'n_estimators': 24, 'max_depth': 2, 'learning_rate': 0.02037310007387493, 'subsample': 0.8841283162546308, 'colsample_bytree': 0.7935991026274054, 'gamma': 0.2557771681356027}. Best is trial 56 with value: 0.5012602024828812.\u001B[0m\n",
      "\u001B[32m[I 2023-04-11 19:47:07,689]\u001B[0m Trial 83 finished with value: 0.4598893563977843 and parameters: {'n_estimators': 24, 'max_depth': 2, 'learning_rate': 0.02016199012055117, 'subsample': 0.8871195262007932, 'colsample_bytree': 0.7905390769637719, 'gamma': 0.2562592003396909}. Best is trial 56 with value: 0.5012602024828812.\u001B[0m\n",
      "\u001B[32m[I 2023-04-11 19:47:11,471]\u001B[0m Trial 84 finished with value: 0.45015908202182714 and parameters: {'n_estimators': 28, 'max_depth': 2, 'learning_rate': 0.029938162177681412, 'subsample': 0.9093481939756165, 'colsample_bytree': 0.8184173521694371, 'gamma': 0.19480422407047263}. Best is trial 56 with value: 0.5012602024828812.\u001B[0m\n",
      "\u001B[32m[I 2023-04-11 19:47:14,885]\u001B[0m Trial 85 finished with value: 0.47217249960413016 and parameters: {'n_estimators': 25, 'max_depth': 2, 'learning_rate': 0.010987045378535678, 'subsample': 0.8692483651388955, 'colsample_bytree': 0.7724207092892753, 'gamma': 0.2293524273121236}. Best is trial 56 with value: 0.5012602024828812.\u001B[0m\n",
      "\u001B[32m[I 2023-04-11 19:47:18,923]\u001B[0m Trial 86 finished with value: 0.46631645603299476 and parameters: {'n_estimators': 32, 'max_depth': 2, 'learning_rate': 0.03120090255738094, 'subsample': 0.8738232555483619, 'colsample_bytree': 0.7577970440613916, 'gamma': 0.31180307980035404}. Best is trial 56 with value: 0.5012602024828812.\u001B[0m\n",
      "\u001B[32m[I 2023-04-11 19:47:23,470]\u001B[0m Trial 87 finished with value: 0.4717058430014227 and parameters: {'n_estimators': 37, 'max_depth': 2, 'learning_rate': 0.021404949687503953, 'subsample': 0.889077344294225, 'colsample_bytree': 0.7959100631585035, 'gamma': 0.16106352748213185}. Best is trial 56 with value: 0.5012602024828812.\u001B[0m\n",
      "\u001B[32m[I 2023-04-11 19:47:26,844]\u001B[0m Trial 88 finished with value: 0.49069175608553944 and parameters: {'n_estimators': 24, 'max_depth': 2, 'learning_rate': 0.008612143670419651, 'subsample': 0.8639731164439696, 'colsample_bytree': 0.7850016846193008, 'gamma': 0.21622175050283407}. Best is trial 56 with value: 0.5012602024828812.\u001B[0m\n",
      "\u001B[32m[I 2023-04-11 19:47:30,521]\u001B[0m Trial 89 finished with value: 0.4712214170418505 and parameters: {'n_estimators': 28, 'max_depth': 2, 'learning_rate': 0.04201722934065749, 'subsample': 0.8592431781583318, 'colsample_bytree': 0.7804985110343831, 'gamma': 0.2548600875834956}. Best is trial 56 with value: 0.5012602024828812.\u001B[0m\n",
      "\u001B[32m[I 2023-04-11 19:47:34,390]\u001B[0m Trial 90 finished with value: 0.4752127669548484 and parameters: {'n_estimators': 26, 'max_depth': 3, 'learning_rate': 0.017219527831175495, 'subsample': 0.8412074030176991, 'colsample_bytree': 0.8074197123702681, 'gamma': 0.18510788945766612}. Best is trial 56 with value: 0.5012602024828812.\u001B[0m\n",
      "\u001B[32m[I 2023-04-11 19:47:37,478]\u001B[0m Trial 91 finished with value: 0.4996833661694343 and parameters: {'n_estimators': 21, 'max_depth': 2, 'learning_rate': 0.009787644484975957, 'subsample': 0.8761124136095368, 'colsample_bytree': 0.7868782587176649, 'gamma': 0.21557871468237488}. Best is trial 56 with value: 0.5012602024828812.\u001B[0m\n",
      "\u001B[32m[I 2023-04-11 19:47:40,741]\u001B[0m Trial 92 finished with value: 0.4782274733255126 and parameters: {'n_estimators': 23, 'max_depth': 2, 'learning_rate': 0.026519115754679055, 'subsample': 0.8660287159937985, 'colsample_bytree': 0.7866105997524244, 'gamma': 0.2134198340511889}. Best is trial 56 with value: 0.5012602024828812.\u001B[0m\n",
      "\u001B[32m[I 2023-04-11 19:47:44,692]\u001B[0m Trial 93 finished with value: 0.4889977034584878 and parameters: {'n_estimators': 31, 'max_depth': 2, 'learning_rate': 0.007261938504005104, 'subsample': 0.8511998357775673, 'colsample_bytree': 0.7667226598223459, 'gamma': 0.2810670103800446}. Best is trial 56 with value: 0.5012602024828812.\u001B[0m\n",
      "\u001B[32m[I 2023-04-11 19:47:47,648]\u001B[0m Trial 94 finished with value: 0.4879497050936679 and parameters: {'n_estimators': 20, 'max_depth': 2, 'learning_rate': 0.007194753387338811, 'subsample': 0.8569236852004967, 'colsample_bytree': 0.7714201110950248, 'gamma': 0.26710463442059607}. Best is trial 56 with value: 0.5012602024828812.\u001B[0m\n",
      "\u001B[32m[I 2023-04-11 19:47:50,615]\u001B[0m Trial 95 finished with value: 0.48723050828313985 and parameters: {'n_estimators': 20, 'max_depth': 2, 'learning_rate': 0.006940351993361665, 'subsample': 0.853619633408749, 'colsample_bytree': 0.7668847241409601, 'gamma': 0.3027424966176244}. Best is trial 56 with value: 0.5012602024828812.\u001B[0m\n",
      "\u001B[32m[I 2023-04-11 19:47:53,585]\u001B[0m Trial 96 finished with value: 0.48758127837075205 and parameters: {'n_estimators': 20, 'max_depth': 2, 'learning_rate': 0.008482618465713743, 'subsample': 0.8736947652704373, 'colsample_bytree': 0.7632572695715035, 'gamma': 0.2766100587827188}. Best is trial 56 with value: 0.5012602024828812.\u001B[0m\n",
      "\u001B[32m[I 2023-04-11 19:47:57,349]\u001B[0m Trial 97 finished with value: 0.5091913676071481 and parameters: {'n_estimators': 29, 'max_depth': 2, 'learning_rate': 0.007606716090718281, 'subsample': 0.8526781875180649, 'colsample_bytree': 0.7530196051197748, 'gamma': 0.28847257124246306}. Best is trial 97 with value: 0.5091913676071481.\u001B[0m\n",
      "\u001B[32m[I 2023-04-11 19:48:00,301]\u001B[0m Trial 98 finished with value: 0.480646676738008 and parameters: {'n_estimators': 20, 'max_depth': 2, 'learning_rate': 0.006755896553461734, 'subsample': 0.8548056026584367, 'colsample_bytree': 0.7496499262604944, 'gamma': 0.29715240986553526}. Best is trial 97 with value: 0.5091913676071481.\u001B[0m\n",
      "\u001B[32m[I 2023-04-11 19:48:04,094]\u001B[0m Trial 99 finished with value: 0.4733042433464549 and parameters: {'n_estimators': 29, 'max_depth': 2, 'learning_rate': 0.014577029510900823, 'subsample': 0.8513225791748915, 'colsample_bytree': 0.7677728301751853, 'gamma': 0.3356501246579725}. Best is trial 97 with value: 0.5091913676071481.\u001B[0m\n"
     ]
    }
   ],
   "source": [
    "objective_func = partial(\n",
    "    objective,\n",
    "    X_train=X_train,\n",
    "    stratification_groups=stratification_groups,\n",
    "    xgb_config=xgb_config,\n",
    "    scoring=scoring_func\n",
    ")\n",
    "\n",
    "study = optuna.create_study(direction='maximize')\n",
    "study.optimize(objective_func, n_trials=100)"
   ],
   "metadata": {
    "collapsed": false,
    "ExecuteTime": {
     "start_time": "2023-04-11T19:33:13.875840Z",
     "end_time": "2023-04-11T19:48:04.111689Z"
    }
   }
  },
  {
   "cell_type": "code",
   "execution_count": 73,
   "outputs": [],
   "source": [
    "best_params = {\n",
    "    **study.best_params,\n",
    "    **xgb_config\n",
    "}\n",
    "\n",
    "best_xgb = XGBClassifier(**best_params)\n",
    "y_pred = stratified_cross_val_predict(\n",
    "    estimator=best_xgb,\n",
    "    df=X_train,\n",
    "    stratification_groups=stratification_groups,\n",
    "    label_col='Stage',\n",
    "    n_splits=5\n",
    ")\n",
    "y_true = list(X_train['Stage'].values)"
   ],
   "metadata": {
    "collapsed": false,
    "ExecuteTime": {
     "start_time": "2023-04-11T19:48:04.115687Z",
     "end_time": "2023-04-11T19:48:08.842853Z"
    }
   }
  },
  {
   "cell_type": "code",
   "execution_count": 74,
   "outputs": [
    {
     "name": "stdout",
     "output_type": "stream",
     "text": [
      "              precision    recall  f1-score   support\n",
      "\n",
      "           I       0.38      0.50      0.43        30\n",
      "          II       0.00      0.00      0.00        14\n",
      "         III       0.39      0.44      0.42        34\n",
      "          IV       0.85      0.79      0.81        28\n",
      "\n",
      "    accuracy                           0.49       106\n",
      "   macro avg       0.40      0.43      0.42       106\n",
      "weighted avg       0.46      0.49      0.47       106\n",
      "\n"
     ]
    }
   ],
   "source": [
    "labels = list(labels_encoding.keys())\n",
    "\n",
    "report = classification_report(y_true, y_pred.astype(int), target_names=labels)\n",
    "print(report)"
   ],
   "metadata": {
    "collapsed": false,
    "ExecuteTime": {
     "start_time": "2023-04-11T19:48:08.845021Z",
     "end_time": "2023-04-11T19:48:08.873021Z"
    }
   }
  },
  {
   "cell_type": "code",
   "execution_count": 75,
   "outputs": [
    {
     "data": {
      "application/vnd.plotly.v1+json": {
       "data": [
        {
         "colorscale": [
          [
           0.0,
           "rgb(3, 5, 18)"
          ],
          [
           0.09090909090909091,
           "rgb(25, 25, 51)"
          ],
          [
           0.18181818181818182,
           "rgb(44, 42, 87)"
          ],
          [
           0.2727272727272727,
           "rgb(58, 60, 125)"
          ],
          [
           0.36363636363636365,
           "rgb(62, 83, 160)"
          ],
          [
           0.45454545454545453,
           "rgb(62, 109, 178)"
          ],
          [
           0.5454545454545454,
           "rgb(72, 134, 187)"
          ],
          [
           0.6363636363636364,
           "rgb(89, 159, 196)"
          ],
          [
           0.7272727272727273,
           "rgb(114, 184, 205)"
          ],
          [
           0.8181818181818182,
           "rgb(149, 207, 216)"
          ],
          [
           0.9090909090909091,
           "rgb(192, 229, 232)"
          ],
          [
           1.0,
           "rgb(234, 252, 253)"
          ]
         ],
         "reversescale": true,
         "showscale": false,
         "x": [
          "I",
          "II",
          "III",
          "IV"
         ],
         "y": [
          "IV",
          "III",
          "II",
          "I"
         ],
         "z": [
          [
           3,
           0,
           3,
           22
          ],
          [
           15,
           1,
           15,
           3
          ],
          [
           7,
           0,
           6,
           1
          ],
          [
           15,
           1,
           14,
           0
          ]
         ],
         "type": "heatmap"
        }
       ],
       "layout": {
        "annotations": [
         {
          "font": {
           "color": "#000000"
          },
          "showarrow": false,
          "text": "3",
          "x": "I",
          "xref": "x",
          "y": "IV",
          "yref": "y"
         },
         {
          "font": {
           "color": "#000000"
          },
          "showarrow": false,
          "text": "0",
          "x": "II",
          "xref": "x",
          "y": "IV",
          "yref": "y"
         },
         {
          "font": {
           "color": "#000000"
          },
          "showarrow": false,
          "text": "3",
          "x": "III",
          "xref": "x",
          "y": "IV",
          "yref": "y"
         },
         {
          "font": {
           "color": "#FFFFFF"
          },
          "showarrow": false,
          "text": "22",
          "x": "IV",
          "xref": "x",
          "y": "IV",
          "yref": "y"
         },
         {
          "font": {
           "color": "#FFFFFF"
          },
          "showarrow": false,
          "text": "15",
          "x": "I",
          "xref": "x",
          "y": "III",
          "yref": "y"
         },
         {
          "font": {
           "color": "#000000"
          },
          "showarrow": false,
          "text": "1",
          "x": "II",
          "xref": "x",
          "y": "III",
          "yref": "y"
         },
         {
          "font": {
           "color": "#FFFFFF"
          },
          "showarrow": false,
          "text": "15",
          "x": "III",
          "xref": "x",
          "y": "III",
          "yref": "y"
         },
         {
          "font": {
           "color": "#000000"
          },
          "showarrow": false,
          "text": "3",
          "x": "IV",
          "xref": "x",
          "y": "III",
          "yref": "y"
         },
         {
          "font": {
           "color": "#000000"
          },
          "showarrow": false,
          "text": "7",
          "x": "I",
          "xref": "x",
          "y": "II",
          "yref": "y"
         },
         {
          "font": {
           "color": "#000000"
          },
          "showarrow": false,
          "text": "0",
          "x": "II",
          "xref": "x",
          "y": "II",
          "yref": "y"
         },
         {
          "font": {
           "color": "#000000"
          },
          "showarrow": false,
          "text": "6",
          "x": "III",
          "xref": "x",
          "y": "II",
          "yref": "y"
         },
         {
          "font": {
           "color": "#000000"
          },
          "showarrow": false,
          "text": "1",
          "x": "IV",
          "xref": "x",
          "y": "II",
          "yref": "y"
         },
         {
          "font": {
           "color": "#FFFFFF"
          },
          "showarrow": false,
          "text": "15",
          "x": "I",
          "xref": "x",
          "y": "I",
          "yref": "y"
         },
         {
          "font": {
           "color": "#000000"
          },
          "showarrow": false,
          "text": "1",
          "x": "II",
          "xref": "x",
          "y": "I",
          "yref": "y"
         },
         {
          "font": {
           "color": "#FFFFFF"
          },
          "showarrow": false,
          "text": "14",
          "x": "III",
          "xref": "x",
          "y": "I",
          "yref": "y"
         },
         {
          "font": {
           "color": "#000000"
          },
          "showarrow": false,
          "text": "0",
          "x": "IV",
          "xref": "x",
          "y": "I",
          "yref": "y"
         }
        ],
        "xaxis": {
         "dtick": 1,
         "gridcolor": "rgb(0, 0, 0)",
         "side": "top",
         "ticks": "",
         "tickfont": {
          "size": 10
         },
         "title": {
          "text": "Predicted label"
         }
        },
        "yaxis": {
         "dtick": 1,
         "ticks": "",
         "ticksuffix": "  ",
         "tickfont": {
          "size": 10
         },
         "title": {
          "text": "True label"
         }
        },
        "template": {
         "data": {
          "histogram2dcontour": [
           {
            "type": "histogram2dcontour",
            "colorbar": {
             "outlinewidth": 0,
             "ticks": ""
            },
            "colorscale": [
             [
              0.0,
              "#0d0887"
             ],
             [
              0.1111111111111111,
              "#46039f"
             ],
             [
              0.2222222222222222,
              "#7201a8"
             ],
             [
              0.3333333333333333,
              "#9c179e"
             ],
             [
              0.4444444444444444,
              "#bd3786"
             ],
             [
              0.5555555555555556,
              "#d8576b"
             ],
             [
              0.6666666666666666,
              "#ed7953"
             ],
             [
              0.7777777777777778,
              "#fb9f3a"
             ],
             [
              0.8888888888888888,
              "#fdca26"
             ],
             [
              1.0,
              "#f0f921"
             ]
            ]
           }
          ],
          "choropleth": [
           {
            "type": "choropleth",
            "colorbar": {
             "outlinewidth": 0,
             "ticks": ""
            }
           }
          ],
          "histogram2d": [
           {
            "type": "histogram2d",
            "colorbar": {
             "outlinewidth": 0,
             "ticks": ""
            },
            "colorscale": [
             [
              0.0,
              "#0d0887"
             ],
             [
              0.1111111111111111,
              "#46039f"
             ],
             [
              0.2222222222222222,
              "#7201a8"
             ],
             [
              0.3333333333333333,
              "#9c179e"
             ],
             [
              0.4444444444444444,
              "#bd3786"
             ],
             [
              0.5555555555555556,
              "#d8576b"
             ],
             [
              0.6666666666666666,
              "#ed7953"
             ],
             [
              0.7777777777777778,
              "#fb9f3a"
             ],
             [
              0.8888888888888888,
              "#fdca26"
             ],
             [
              1.0,
              "#f0f921"
             ]
            ]
           }
          ],
          "heatmap": [
           {
            "type": "heatmap",
            "colorbar": {
             "outlinewidth": 0,
             "ticks": ""
            },
            "colorscale": [
             [
              0.0,
              "#0d0887"
             ],
             [
              0.1111111111111111,
              "#46039f"
             ],
             [
              0.2222222222222222,
              "#7201a8"
             ],
             [
              0.3333333333333333,
              "#9c179e"
             ],
             [
              0.4444444444444444,
              "#bd3786"
             ],
             [
              0.5555555555555556,
              "#d8576b"
             ],
             [
              0.6666666666666666,
              "#ed7953"
             ],
             [
              0.7777777777777778,
              "#fb9f3a"
             ],
             [
              0.8888888888888888,
              "#fdca26"
             ],
             [
              1.0,
              "#f0f921"
             ]
            ]
           }
          ],
          "heatmapgl": [
           {
            "type": "heatmapgl",
            "colorbar": {
             "outlinewidth": 0,
             "ticks": ""
            },
            "colorscale": [
             [
              0.0,
              "#0d0887"
             ],
             [
              0.1111111111111111,
              "#46039f"
             ],
             [
              0.2222222222222222,
              "#7201a8"
             ],
             [
              0.3333333333333333,
              "#9c179e"
             ],
             [
              0.4444444444444444,
              "#bd3786"
             ],
             [
              0.5555555555555556,
              "#d8576b"
             ],
             [
              0.6666666666666666,
              "#ed7953"
             ],
             [
              0.7777777777777778,
              "#fb9f3a"
             ],
             [
              0.8888888888888888,
              "#fdca26"
             ],
             [
              1.0,
              "#f0f921"
             ]
            ]
           }
          ],
          "contourcarpet": [
           {
            "type": "contourcarpet",
            "colorbar": {
             "outlinewidth": 0,
             "ticks": ""
            }
           }
          ],
          "contour": [
           {
            "type": "contour",
            "colorbar": {
             "outlinewidth": 0,
             "ticks": ""
            },
            "colorscale": [
             [
              0.0,
              "#0d0887"
             ],
             [
              0.1111111111111111,
              "#46039f"
             ],
             [
              0.2222222222222222,
              "#7201a8"
             ],
             [
              0.3333333333333333,
              "#9c179e"
             ],
             [
              0.4444444444444444,
              "#bd3786"
             ],
             [
              0.5555555555555556,
              "#d8576b"
             ],
             [
              0.6666666666666666,
              "#ed7953"
             ],
             [
              0.7777777777777778,
              "#fb9f3a"
             ],
             [
              0.8888888888888888,
              "#fdca26"
             ],
             [
              1.0,
              "#f0f921"
             ]
            ]
           }
          ],
          "surface": [
           {
            "type": "surface",
            "colorbar": {
             "outlinewidth": 0,
             "ticks": ""
            },
            "colorscale": [
             [
              0.0,
              "#0d0887"
             ],
             [
              0.1111111111111111,
              "#46039f"
             ],
             [
              0.2222222222222222,
              "#7201a8"
             ],
             [
              0.3333333333333333,
              "#9c179e"
             ],
             [
              0.4444444444444444,
              "#bd3786"
             ],
             [
              0.5555555555555556,
              "#d8576b"
             ],
             [
              0.6666666666666666,
              "#ed7953"
             ],
             [
              0.7777777777777778,
              "#fb9f3a"
             ],
             [
              0.8888888888888888,
              "#fdca26"
             ],
             [
              1.0,
              "#f0f921"
             ]
            ]
           }
          ],
          "mesh3d": [
           {
            "type": "mesh3d",
            "colorbar": {
             "outlinewidth": 0,
             "ticks": ""
            }
           }
          ],
          "scatter": [
           {
            "marker": {
             "line": {
              "color": "#283442"
             }
            },
            "type": "scatter"
           }
          ],
          "parcoords": [
           {
            "type": "parcoords",
            "line": {
             "colorbar": {
              "outlinewidth": 0,
              "ticks": ""
             }
            }
           }
          ],
          "scatterpolargl": [
           {
            "type": "scatterpolargl",
            "marker": {
             "colorbar": {
              "outlinewidth": 0,
              "ticks": ""
             }
            }
           }
          ],
          "bar": [
           {
            "error_x": {
             "color": "#f2f5fa"
            },
            "error_y": {
             "color": "#f2f5fa"
            },
            "marker": {
             "line": {
              "color": "rgb(17,17,17)",
              "width": 0.5
             },
             "pattern": {
              "fillmode": "overlay",
              "size": 10,
              "solidity": 0.2
             }
            },
            "type": "bar"
           }
          ],
          "scattergeo": [
           {
            "type": "scattergeo",
            "marker": {
             "colorbar": {
              "outlinewidth": 0,
              "ticks": ""
             }
            }
           }
          ],
          "scatterpolar": [
           {
            "type": "scatterpolar",
            "marker": {
             "colorbar": {
              "outlinewidth": 0,
              "ticks": ""
             }
            }
           }
          ],
          "histogram": [
           {
            "marker": {
             "pattern": {
              "fillmode": "overlay",
              "size": 10,
              "solidity": 0.2
             }
            },
            "type": "histogram"
           }
          ],
          "scattergl": [
           {
            "marker": {
             "line": {
              "color": "#283442"
             }
            },
            "type": "scattergl"
           }
          ],
          "scatter3d": [
           {
            "type": "scatter3d",
            "line": {
             "colorbar": {
              "outlinewidth": 0,
              "ticks": ""
             }
            },
            "marker": {
             "colorbar": {
              "outlinewidth": 0,
              "ticks": ""
             }
            }
           }
          ],
          "scattermapbox": [
           {
            "type": "scattermapbox",
            "marker": {
             "colorbar": {
              "outlinewidth": 0,
              "ticks": ""
             }
            }
           }
          ],
          "scatterternary": [
           {
            "type": "scatterternary",
            "marker": {
             "colorbar": {
              "outlinewidth": 0,
              "ticks": ""
             }
            }
           }
          ],
          "scattercarpet": [
           {
            "type": "scattercarpet",
            "marker": {
             "colorbar": {
              "outlinewidth": 0,
              "ticks": ""
             }
            }
           }
          ],
          "carpet": [
           {
            "aaxis": {
             "endlinecolor": "#A2B1C6",
             "gridcolor": "#506784",
             "linecolor": "#506784",
             "minorgridcolor": "#506784",
             "startlinecolor": "#A2B1C6"
            },
            "baxis": {
             "endlinecolor": "#A2B1C6",
             "gridcolor": "#506784",
             "linecolor": "#506784",
             "minorgridcolor": "#506784",
             "startlinecolor": "#A2B1C6"
            },
            "type": "carpet"
           }
          ],
          "table": [
           {
            "cells": {
             "fill": {
              "color": "#506784"
             },
             "line": {
              "color": "rgb(17,17,17)"
             }
            },
            "header": {
             "fill": {
              "color": "#2a3f5f"
             },
             "line": {
              "color": "rgb(17,17,17)"
             }
            },
            "type": "table"
           }
          ],
          "barpolar": [
           {
            "marker": {
             "line": {
              "color": "rgb(17,17,17)",
              "width": 0.5
             },
             "pattern": {
              "fillmode": "overlay",
              "size": 10,
              "solidity": 0.2
             }
            },
            "type": "barpolar"
           }
          ],
          "pie": [
           {
            "automargin": true,
            "type": "pie"
           }
          ]
         },
         "layout": {
          "autotypenumbers": "strict",
          "colorway": [
           "#636efa",
           "#EF553B",
           "#00cc96",
           "#ab63fa",
           "#FFA15A",
           "#19d3f3",
           "#FF6692",
           "#B6E880",
           "#FF97FF",
           "#FECB52"
          ],
          "font": {
           "color": "#f2f5fa"
          },
          "hovermode": "closest",
          "hoverlabel": {
           "align": "left"
          },
          "paper_bgcolor": "rgb(17,17,17)",
          "plot_bgcolor": "rgb(17,17,17)",
          "polar": {
           "bgcolor": "rgb(17,17,17)",
           "angularaxis": {
            "gridcolor": "#506784",
            "linecolor": "#506784",
            "ticks": ""
           },
           "radialaxis": {
            "gridcolor": "#506784",
            "linecolor": "#506784",
            "ticks": ""
           }
          },
          "ternary": {
           "bgcolor": "rgb(17,17,17)",
           "aaxis": {
            "gridcolor": "#506784",
            "linecolor": "#506784",
            "ticks": ""
           },
           "baxis": {
            "gridcolor": "#506784",
            "linecolor": "#506784",
            "ticks": ""
           },
           "caxis": {
            "gridcolor": "#506784",
            "linecolor": "#506784",
            "ticks": ""
           }
          },
          "coloraxis": {
           "colorbar": {
            "outlinewidth": 0,
            "ticks": ""
           }
          },
          "colorscale": {
           "sequential": [
            [
             0.0,
             "#0d0887"
            ],
            [
             0.1111111111111111,
             "#46039f"
            ],
            [
             0.2222222222222222,
             "#7201a8"
            ],
            [
             0.3333333333333333,
             "#9c179e"
            ],
            [
             0.4444444444444444,
             "#bd3786"
            ],
            [
             0.5555555555555556,
             "#d8576b"
            ],
            [
             0.6666666666666666,
             "#ed7953"
            ],
            [
             0.7777777777777778,
             "#fb9f3a"
            ],
            [
             0.8888888888888888,
             "#fdca26"
            ],
            [
             1.0,
             "#f0f921"
            ]
           ],
           "sequentialminus": [
            [
             0.0,
             "#0d0887"
            ],
            [
             0.1111111111111111,
             "#46039f"
            ],
            [
             0.2222222222222222,
             "#7201a8"
            ],
            [
             0.3333333333333333,
             "#9c179e"
            ],
            [
             0.4444444444444444,
             "#bd3786"
            ],
            [
             0.5555555555555556,
             "#d8576b"
            ],
            [
             0.6666666666666666,
             "#ed7953"
            ],
            [
             0.7777777777777778,
             "#fb9f3a"
            ],
            [
             0.8888888888888888,
             "#fdca26"
            ],
            [
             1.0,
             "#f0f921"
            ]
           ],
           "diverging": [
            [
             0,
             "#8e0152"
            ],
            [
             0.1,
             "#c51b7d"
            ],
            [
             0.2,
             "#de77ae"
            ],
            [
             0.3,
             "#f1b6da"
            ],
            [
             0.4,
             "#fde0ef"
            ],
            [
             0.5,
             "#f7f7f7"
            ],
            [
             0.6,
             "#e6f5d0"
            ],
            [
             0.7,
             "#b8e186"
            ],
            [
             0.8,
             "#7fbc41"
            ],
            [
             0.9,
             "#4d9221"
            ],
            [
             1,
             "#276419"
            ]
           ]
          },
          "xaxis": {
           "gridcolor": "#283442",
           "linecolor": "#506784",
           "ticks": "",
           "title": {
            "standoff": 15
           },
           "zerolinecolor": "#283442",
           "automargin": true,
           "zerolinewidth": 2
          },
          "yaxis": {
           "gridcolor": "#283442",
           "linecolor": "#506784",
           "ticks": "",
           "title": {
            "standoff": 15
           },
           "zerolinecolor": "#283442",
           "automargin": true,
           "zerolinewidth": 2
          },
          "scene": {
           "xaxis": {
            "backgroundcolor": "rgb(17,17,17)",
            "gridcolor": "#506784",
            "linecolor": "#506784",
            "showbackground": true,
            "ticks": "",
            "zerolinecolor": "#C8D4E3",
            "gridwidth": 2
           },
           "yaxis": {
            "backgroundcolor": "rgb(17,17,17)",
            "gridcolor": "#506784",
            "linecolor": "#506784",
            "showbackground": true,
            "ticks": "",
            "zerolinecolor": "#C8D4E3",
            "gridwidth": 2
           },
           "zaxis": {
            "backgroundcolor": "rgb(17,17,17)",
            "gridcolor": "#506784",
            "linecolor": "#506784",
            "showbackground": true,
            "ticks": "",
            "zerolinecolor": "#C8D4E3",
            "gridwidth": 2
           }
          },
          "shapedefaults": {
           "line": {
            "color": "#f2f5fa"
           }
          },
          "annotationdefaults": {
           "arrowcolor": "#f2f5fa",
           "arrowhead": 0,
           "arrowwidth": 1
          },
          "geo": {
           "bgcolor": "rgb(17,17,17)",
           "landcolor": "rgb(17,17,17)",
           "subunitcolor": "#506784",
           "showland": true,
           "showlakes": true,
           "lakecolor": "rgb(17,17,17)"
          },
          "title": {
           "x": 0.05
          },
          "updatemenudefaults": {
           "bgcolor": "#506784",
           "borderwidth": 0
          },
          "sliderdefaults": {
           "bgcolor": "#C8D4E3",
           "borderwidth": 1,
           "bordercolor": "rgb(17,17,17)",
           "tickwidth": 0
          },
          "mapbox": {
           "style": "dark"
          }
         }
        },
        "title": {
         "text": "Accuracy = 49.06, Weighted F1 = 0.47",
         "x": 0.5,
         "y": 0.05
        },
        "paper_bgcolor": "rgba(0,0,0,0)"
       },
       "config": {
        "plotlyServerURL": "https://plot.ly"
       }
      },
      "text/html": "<div>                            <div id=\"09094a24-2771-446b-8d27-fce8cd96f223\" class=\"plotly-graph-div\" style=\"height:525px; width:100%;\"></div>            <script type=\"text/javascript\">                require([\"plotly\"], function(Plotly) {                    window.PLOTLYENV=window.PLOTLYENV || {};                                    if (document.getElementById(\"09094a24-2771-446b-8d27-fce8cd96f223\")) {                    Plotly.newPlot(                        \"09094a24-2771-446b-8d27-fce8cd96f223\",                        [{\"colorscale\":[[0.0,\"rgb(3, 5, 18)\"],[0.09090909090909091,\"rgb(25, 25, 51)\"],[0.18181818181818182,\"rgb(44, 42, 87)\"],[0.2727272727272727,\"rgb(58, 60, 125)\"],[0.36363636363636365,\"rgb(62, 83, 160)\"],[0.45454545454545453,\"rgb(62, 109, 178)\"],[0.5454545454545454,\"rgb(72, 134, 187)\"],[0.6363636363636364,\"rgb(89, 159, 196)\"],[0.7272727272727273,\"rgb(114, 184, 205)\"],[0.8181818181818182,\"rgb(149, 207, 216)\"],[0.9090909090909091,\"rgb(192, 229, 232)\"],[1.0,\"rgb(234, 252, 253)\"]],\"reversescale\":true,\"showscale\":false,\"x\":[\"I\",\"II\",\"III\",\"IV\"],\"y\":[\"IV\",\"III\",\"II\",\"I\"],\"z\":[[3,0,3,22],[15,1,15,3],[7,0,6,1],[15,1,14,0]],\"type\":\"heatmap\"}],                        {\"annotations\":[{\"font\":{\"color\":\"#000000\"},\"showarrow\":false,\"text\":\"3\",\"x\":\"I\",\"xref\":\"x\",\"y\":\"IV\",\"yref\":\"y\"},{\"font\":{\"color\":\"#000000\"},\"showarrow\":false,\"text\":\"0\",\"x\":\"II\",\"xref\":\"x\",\"y\":\"IV\",\"yref\":\"y\"},{\"font\":{\"color\":\"#000000\"},\"showarrow\":false,\"text\":\"3\",\"x\":\"III\",\"xref\":\"x\",\"y\":\"IV\",\"yref\":\"y\"},{\"font\":{\"color\":\"#FFFFFF\"},\"showarrow\":false,\"text\":\"22\",\"x\":\"IV\",\"xref\":\"x\",\"y\":\"IV\",\"yref\":\"y\"},{\"font\":{\"color\":\"#FFFFFF\"},\"showarrow\":false,\"text\":\"15\",\"x\":\"I\",\"xref\":\"x\",\"y\":\"III\",\"yref\":\"y\"},{\"font\":{\"color\":\"#000000\"},\"showarrow\":false,\"text\":\"1\",\"x\":\"II\",\"xref\":\"x\",\"y\":\"III\",\"yref\":\"y\"},{\"font\":{\"color\":\"#FFFFFF\"},\"showarrow\":false,\"text\":\"15\",\"x\":\"III\",\"xref\":\"x\",\"y\":\"III\",\"yref\":\"y\"},{\"font\":{\"color\":\"#000000\"},\"showarrow\":false,\"text\":\"3\",\"x\":\"IV\",\"xref\":\"x\",\"y\":\"III\",\"yref\":\"y\"},{\"font\":{\"color\":\"#000000\"},\"showarrow\":false,\"text\":\"7\",\"x\":\"I\",\"xref\":\"x\",\"y\":\"II\",\"yref\":\"y\"},{\"font\":{\"color\":\"#000000\"},\"showarrow\":false,\"text\":\"0\",\"x\":\"II\",\"xref\":\"x\",\"y\":\"II\",\"yref\":\"y\"},{\"font\":{\"color\":\"#000000\"},\"showarrow\":false,\"text\":\"6\",\"x\":\"III\",\"xref\":\"x\",\"y\":\"II\",\"yref\":\"y\"},{\"font\":{\"color\":\"#000000\"},\"showarrow\":false,\"text\":\"1\",\"x\":\"IV\",\"xref\":\"x\",\"y\":\"II\",\"yref\":\"y\"},{\"font\":{\"color\":\"#FFFFFF\"},\"showarrow\":false,\"text\":\"15\",\"x\":\"I\",\"xref\":\"x\",\"y\":\"I\",\"yref\":\"y\"},{\"font\":{\"color\":\"#000000\"},\"showarrow\":false,\"text\":\"1\",\"x\":\"II\",\"xref\":\"x\",\"y\":\"I\",\"yref\":\"y\"},{\"font\":{\"color\":\"#FFFFFF\"},\"showarrow\":false,\"text\":\"14\",\"x\":\"III\",\"xref\":\"x\",\"y\":\"I\",\"yref\":\"y\"},{\"font\":{\"color\":\"#000000\"},\"showarrow\":false,\"text\":\"0\",\"x\":\"IV\",\"xref\":\"x\",\"y\":\"I\",\"yref\":\"y\"}],\"xaxis\":{\"dtick\":1,\"gridcolor\":\"rgb(0, 0, 0)\",\"side\":\"top\",\"ticks\":\"\",\"tickfont\":{\"size\":10},\"title\":{\"text\":\"Predicted label\"}},\"yaxis\":{\"dtick\":1,\"ticks\":\"\",\"ticksuffix\":\"  \",\"tickfont\":{\"size\":10},\"title\":{\"text\":\"True label\"}},\"template\":{\"data\":{\"histogram2dcontour\":[{\"type\":\"histogram2dcontour\",\"colorbar\":{\"outlinewidth\":0,\"ticks\":\"\"},\"colorscale\":[[0.0,\"#0d0887\"],[0.1111111111111111,\"#46039f\"],[0.2222222222222222,\"#7201a8\"],[0.3333333333333333,\"#9c179e\"],[0.4444444444444444,\"#bd3786\"],[0.5555555555555556,\"#d8576b\"],[0.6666666666666666,\"#ed7953\"],[0.7777777777777778,\"#fb9f3a\"],[0.8888888888888888,\"#fdca26\"],[1.0,\"#f0f921\"]]}],\"choropleth\":[{\"type\":\"choropleth\",\"colorbar\":{\"outlinewidth\":0,\"ticks\":\"\"}}],\"histogram2d\":[{\"type\":\"histogram2d\",\"colorbar\":{\"outlinewidth\":0,\"ticks\":\"\"},\"colorscale\":[[0.0,\"#0d0887\"],[0.1111111111111111,\"#46039f\"],[0.2222222222222222,\"#7201a8\"],[0.3333333333333333,\"#9c179e\"],[0.4444444444444444,\"#bd3786\"],[0.5555555555555556,\"#d8576b\"],[0.6666666666666666,\"#ed7953\"],[0.7777777777777778,\"#fb9f3a\"],[0.8888888888888888,\"#fdca26\"],[1.0,\"#f0f921\"]]}],\"heatmap\":[{\"type\":\"heatmap\",\"colorbar\":{\"outlinewidth\":0,\"ticks\":\"\"},\"colorscale\":[[0.0,\"#0d0887\"],[0.1111111111111111,\"#46039f\"],[0.2222222222222222,\"#7201a8\"],[0.3333333333333333,\"#9c179e\"],[0.4444444444444444,\"#bd3786\"],[0.5555555555555556,\"#d8576b\"],[0.6666666666666666,\"#ed7953\"],[0.7777777777777778,\"#fb9f3a\"],[0.8888888888888888,\"#fdca26\"],[1.0,\"#f0f921\"]]}],\"heatmapgl\":[{\"type\":\"heatmapgl\",\"colorbar\":{\"outlinewidth\":0,\"ticks\":\"\"},\"colorscale\":[[0.0,\"#0d0887\"],[0.1111111111111111,\"#46039f\"],[0.2222222222222222,\"#7201a8\"],[0.3333333333333333,\"#9c179e\"],[0.4444444444444444,\"#bd3786\"],[0.5555555555555556,\"#d8576b\"],[0.6666666666666666,\"#ed7953\"],[0.7777777777777778,\"#fb9f3a\"],[0.8888888888888888,\"#fdca26\"],[1.0,\"#f0f921\"]]}],\"contourcarpet\":[{\"type\":\"contourcarpet\",\"colorbar\":{\"outlinewidth\":0,\"ticks\":\"\"}}],\"contour\":[{\"type\":\"contour\",\"colorbar\":{\"outlinewidth\":0,\"ticks\":\"\"},\"colorscale\":[[0.0,\"#0d0887\"],[0.1111111111111111,\"#46039f\"],[0.2222222222222222,\"#7201a8\"],[0.3333333333333333,\"#9c179e\"],[0.4444444444444444,\"#bd3786\"],[0.5555555555555556,\"#d8576b\"],[0.6666666666666666,\"#ed7953\"],[0.7777777777777778,\"#fb9f3a\"],[0.8888888888888888,\"#fdca26\"],[1.0,\"#f0f921\"]]}],\"surface\":[{\"type\":\"surface\",\"colorbar\":{\"outlinewidth\":0,\"ticks\":\"\"},\"colorscale\":[[0.0,\"#0d0887\"],[0.1111111111111111,\"#46039f\"],[0.2222222222222222,\"#7201a8\"],[0.3333333333333333,\"#9c179e\"],[0.4444444444444444,\"#bd3786\"],[0.5555555555555556,\"#d8576b\"],[0.6666666666666666,\"#ed7953\"],[0.7777777777777778,\"#fb9f3a\"],[0.8888888888888888,\"#fdca26\"],[1.0,\"#f0f921\"]]}],\"mesh3d\":[{\"type\":\"mesh3d\",\"colorbar\":{\"outlinewidth\":0,\"ticks\":\"\"}}],\"scatter\":[{\"marker\":{\"line\":{\"color\":\"#283442\"}},\"type\":\"scatter\"}],\"parcoords\":[{\"type\":\"parcoords\",\"line\":{\"colorbar\":{\"outlinewidth\":0,\"ticks\":\"\"}}}],\"scatterpolargl\":[{\"type\":\"scatterpolargl\",\"marker\":{\"colorbar\":{\"outlinewidth\":0,\"ticks\":\"\"}}}],\"bar\":[{\"error_x\":{\"color\":\"#f2f5fa\"},\"error_y\":{\"color\":\"#f2f5fa\"},\"marker\":{\"line\":{\"color\":\"rgb(17,17,17)\",\"width\":0.5},\"pattern\":{\"fillmode\":\"overlay\",\"size\":10,\"solidity\":0.2}},\"type\":\"bar\"}],\"scattergeo\":[{\"type\":\"scattergeo\",\"marker\":{\"colorbar\":{\"outlinewidth\":0,\"ticks\":\"\"}}}],\"scatterpolar\":[{\"type\":\"scatterpolar\",\"marker\":{\"colorbar\":{\"outlinewidth\":0,\"ticks\":\"\"}}}],\"histogram\":[{\"marker\":{\"pattern\":{\"fillmode\":\"overlay\",\"size\":10,\"solidity\":0.2}},\"type\":\"histogram\"}],\"scattergl\":[{\"marker\":{\"line\":{\"color\":\"#283442\"}},\"type\":\"scattergl\"}],\"scatter3d\":[{\"type\":\"scatter3d\",\"line\":{\"colorbar\":{\"outlinewidth\":0,\"ticks\":\"\"}},\"marker\":{\"colorbar\":{\"outlinewidth\":0,\"ticks\":\"\"}}}],\"scattermapbox\":[{\"type\":\"scattermapbox\",\"marker\":{\"colorbar\":{\"outlinewidth\":0,\"ticks\":\"\"}}}],\"scatterternary\":[{\"type\":\"scatterternary\",\"marker\":{\"colorbar\":{\"outlinewidth\":0,\"ticks\":\"\"}}}],\"scattercarpet\":[{\"type\":\"scattercarpet\",\"marker\":{\"colorbar\":{\"outlinewidth\":0,\"ticks\":\"\"}}}],\"carpet\":[{\"aaxis\":{\"endlinecolor\":\"#A2B1C6\",\"gridcolor\":\"#506784\",\"linecolor\":\"#506784\",\"minorgridcolor\":\"#506784\",\"startlinecolor\":\"#A2B1C6\"},\"baxis\":{\"endlinecolor\":\"#A2B1C6\",\"gridcolor\":\"#506784\",\"linecolor\":\"#506784\",\"minorgridcolor\":\"#506784\",\"startlinecolor\":\"#A2B1C6\"},\"type\":\"carpet\"}],\"table\":[{\"cells\":{\"fill\":{\"color\":\"#506784\"},\"line\":{\"color\":\"rgb(17,17,17)\"}},\"header\":{\"fill\":{\"color\":\"#2a3f5f\"},\"line\":{\"color\":\"rgb(17,17,17)\"}},\"type\":\"table\"}],\"barpolar\":[{\"marker\":{\"line\":{\"color\":\"rgb(17,17,17)\",\"width\":0.5},\"pattern\":{\"fillmode\":\"overlay\",\"size\":10,\"solidity\":0.2}},\"type\":\"barpolar\"}],\"pie\":[{\"automargin\":true,\"type\":\"pie\"}]},\"layout\":{\"autotypenumbers\":\"strict\",\"colorway\":[\"#636efa\",\"#EF553B\",\"#00cc96\",\"#ab63fa\",\"#FFA15A\",\"#19d3f3\",\"#FF6692\",\"#B6E880\",\"#FF97FF\",\"#FECB52\"],\"font\":{\"color\":\"#f2f5fa\"},\"hovermode\":\"closest\",\"hoverlabel\":{\"align\":\"left\"},\"paper_bgcolor\":\"rgb(17,17,17)\",\"plot_bgcolor\":\"rgb(17,17,17)\",\"polar\":{\"bgcolor\":\"rgb(17,17,17)\",\"angularaxis\":{\"gridcolor\":\"#506784\",\"linecolor\":\"#506784\",\"ticks\":\"\"},\"radialaxis\":{\"gridcolor\":\"#506784\",\"linecolor\":\"#506784\",\"ticks\":\"\"}},\"ternary\":{\"bgcolor\":\"rgb(17,17,17)\",\"aaxis\":{\"gridcolor\":\"#506784\",\"linecolor\":\"#506784\",\"ticks\":\"\"},\"baxis\":{\"gridcolor\":\"#506784\",\"linecolor\":\"#506784\",\"ticks\":\"\"},\"caxis\":{\"gridcolor\":\"#506784\",\"linecolor\":\"#506784\",\"ticks\":\"\"}},\"coloraxis\":{\"colorbar\":{\"outlinewidth\":0,\"ticks\":\"\"}},\"colorscale\":{\"sequential\":[[0.0,\"#0d0887\"],[0.1111111111111111,\"#46039f\"],[0.2222222222222222,\"#7201a8\"],[0.3333333333333333,\"#9c179e\"],[0.4444444444444444,\"#bd3786\"],[0.5555555555555556,\"#d8576b\"],[0.6666666666666666,\"#ed7953\"],[0.7777777777777778,\"#fb9f3a\"],[0.8888888888888888,\"#fdca26\"],[1.0,\"#f0f921\"]],\"sequentialminus\":[[0.0,\"#0d0887\"],[0.1111111111111111,\"#46039f\"],[0.2222222222222222,\"#7201a8\"],[0.3333333333333333,\"#9c179e\"],[0.4444444444444444,\"#bd3786\"],[0.5555555555555556,\"#d8576b\"],[0.6666666666666666,\"#ed7953\"],[0.7777777777777778,\"#fb9f3a\"],[0.8888888888888888,\"#fdca26\"],[1.0,\"#f0f921\"]],\"diverging\":[[0,\"#8e0152\"],[0.1,\"#c51b7d\"],[0.2,\"#de77ae\"],[0.3,\"#f1b6da\"],[0.4,\"#fde0ef\"],[0.5,\"#f7f7f7\"],[0.6,\"#e6f5d0\"],[0.7,\"#b8e186\"],[0.8,\"#7fbc41\"],[0.9,\"#4d9221\"],[1,\"#276419\"]]},\"xaxis\":{\"gridcolor\":\"#283442\",\"linecolor\":\"#506784\",\"ticks\":\"\",\"title\":{\"standoff\":15},\"zerolinecolor\":\"#283442\",\"automargin\":true,\"zerolinewidth\":2},\"yaxis\":{\"gridcolor\":\"#283442\",\"linecolor\":\"#506784\",\"ticks\":\"\",\"title\":{\"standoff\":15},\"zerolinecolor\":\"#283442\",\"automargin\":true,\"zerolinewidth\":2},\"scene\":{\"xaxis\":{\"backgroundcolor\":\"rgb(17,17,17)\",\"gridcolor\":\"#506784\",\"linecolor\":\"#506784\",\"showbackground\":true,\"ticks\":\"\",\"zerolinecolor\":\"#C8D4E3\",\"gridwidth\":2},\"yaxis\":{\"backgroundcolor\":\"rgb(17,17,17)\",\"gridcolor\":\"#506784\",\"linecolor\":\"#506784\",\"showbackground\":true,\"ticks\":\"\",\"zerolinecolor\":\"#C8D4E3\",\"gridwidth\":2},\"zaxis\":{\"backgroundcolor\":\"rgb(17,17,17)\",\"gridcolor\":\"#506784\",\"linecolor\":\"#506784\",\"showbackground\":true,\"ticks\":\"\",\"zerolinecolor\":\"#C8D4E3\",\"gridwidth\":2}},\"shapedefaults\":{\"line\":{\"color\":\"#f2f5fa\"}},\"annotationdefaults\":{\"arrowcolor\":\"#f2f5fa\",\"arrowhead\":0,\"arrowwidth\":1},\"geo\":{\"bgcolor\":\"rgb(17,17,17)\",\"landcolor\":\"rgb(17,17,17)\",\"subunitcolor\":\"#506784\",\"showland\":true,\"showlakes\":true,\"lakecolor\":\"rgb(17,17,17)\"},\"title\":{\"x\":0.05},\"updatemenudefaults\":{\"bgcolor\":\"#506784\",\"borderwidth\":0},\"sliderdefaults\":{\"bgcolor\":\"#C8D4E3\",\"borderwidth\":1,\"bordercolor\":\"rgb(17,17,17)\",\"tickwidth\":0},\"mapbox\":{\"style\":\"dark\"}}},\"title\":{\"text\":\"Accuracy = 49.06, Weighted F1 = 0.47\",\"x\":0.5,\"y\":0.05},\"paper_bgcolor\":\"rgba(0,0,0,0)\"},                        {\"responsive\": true}                    ).then(function(){\n                            \nvar gd = document.getElementById('09094a24-2771-446b-8d27-fce8cd96f223');\nvar x = new MutationObserver(function (mutations, observer) {{\n        var display = window.getComputedStyle(gd).display;\n        if (!display || display === 'none') {{\n            console.log([gd, 'removed!']);\n            Plotly.purge(gd);\n            observer.disconnect();\n        }}\n}});\n\n// Listen for the removal of the full notebook cells\nvar notebookContainer = gd.closest('#notebook-container');\nif (notebookContainer) {{\n    x.observe(notebookContainer, {childList: true});\n}}\n\n// Listen for the clearing of the current output cell\nvar outputEl = gd.closest('.output');\nif (outputEl) {{\n    x.observe(outputEl, {childList: true});\n}}\n\n                        })                };                });            </script>        </div>"
     },
     "metadata": {},
     "output_type": "display_data"
    }
   ],
   "source": [
    "accuracy = accuracy_score(y_true, y_pred.astype(int))\n",
    "f1 = f1_score(y_true, y_pred.astype(int), average='weighted')\n",
    "cm = confusion_matrix(y_true, y_pred.astype(int))\n",
    "\n",
    "title_dict = {\n",
    "    'text': f'Accuracy = {accuracy*100:.2f}, Weighted F1 = {f1:.2f}',\n",
    "    'x': 0.5,\n",
    "    'y': 0.05\n",
    "}\n",
    "\n",
    "plot_confusion_matrix(cm, labels, title_dict)"
   ],
   "metadata": {
    "collapsed": false,
    "ExecuteTime": {
     "start_time": "2023-04-11T19:48:08.863023Z",
     "end_time": "2023-04-11T19:48:08.935275Z"
    }
   }
  },
  {
   "cell_type": "markdown",
   "source": [
    " ### Glioma"
   ],
   "metadata": {
    "collapsed": false
   }
  },
  {
   "cell_type": "markdown",
   "source": [
    "This cancer type has only samples with I stage"
   ],
   "metadata": {
    "collapsed": false
   }
  },
  {
   "cell_type": "code",
   "execution_count": 78,
   "outputs": [
    {
     "data": {
      "text/plain": "Stage\nI    102\nName: count, dtype: int64"
     },
     "execution_count": 78,
     "metadata": {},
     "output_type": "execute_result"
    }
   ],
   "source": [
    "X_train = train.loc[train['Group'] == 'Glioma']\n",
    "\n",
    "X_train['Stage'].value_counts()"
   ],
   "metadata": {
    "collapsed": false,
    "ExecuteTime": {
     "start_time": "2023-04-11T20:27:40.463733Z",
     "end_time": "2023-04-11T20:27:40.485730Z"
    }
   }
  },
  {
   "cell_type": "markdown",
   "source": [
    "## Only the most numerous types of cancer (each one separately), binary classification (stages: I-III vs IV)"
   ],
   "metadata": {
    "collapsed": false
   }
  },
  {
   "cell_type": "code",
   "execution_count": 80,
   "outputs": [],
   "source": [
    "mapping = {\n",
    "    'I': 'I-III',\n",
    "    'II': 'I-III',\n",
    "    'III': 'I-III',\n",
    "    'IV': 'IV'\n",
    "}\n",
    "\n",
    "labels_encoding = {\n",
    "    'I-III': 0,\n",
    "    'IV': 1\n",
    "}\n",
    "\n",
    "xgb_config = {\n",
    "    'objective': 'binary:logistic',\n",
    "    'random_state': random_state\n",
    "}"
   ],
   "metadata": {
    "collapsed": false,
    "ExecuteTime": {
     "start_time": "2023-04-11T20:29:59.283295Z",
     "end_time": "2023-04-11T20:29:59.303389Z"
    }
   }
  },
  {
   "cell_type": "markdown",
   "source": [
    "### NSCLC"
   ],
   "metadata": {
    "collapsed": false
   }
  },
  {
   "cell_type": "code",
   "execution_count": 81,
   "outputs": [
    {
     "data": {
      "text/plain": "Stage\n1    264\n0     77\nName: count, dtype: int64"
     },
     "execution_count": 81,
     "metadata": {},
     "output_type": "execute_result"
    }
   ],
   "source": [
    "X_train = train.loc[train['Group'] == 'NSCLC']\n",
    "\n",
    "stratification_groups = X_train.loc[:, 'Stage']\n",
    "X_train = X_train.loc[:, ~X_train.columns.isin(['ID', 'Sex', 'Age', 'Group'])]\n",
    "\n",
    "X_train.loc[:, 'Stage'] = X_train['Stage'].map(mapping).map(labels_encoding)\n",
    "X_train['Stage'].value_counts()"
   ],
   "metadata": {
    "collapsed": false,
    "ExecuteTime": {
     "start_time": "2023-04-11T20:31:55.180793Z",
     "end_time": "2023-04-11T20:31:55.240547Z"
    }
   }
  },
  {
   "cell_type": "code",
   "execution_count": 82,
   "outputs": [
    {
     "name": "stderr",
     "output_type": "stream",
     "text": [
      "\u001B[32m[I 2023-04-11 20:32:45,659]\u001B[0m A new study created in memory with name: no-name-a90d0d66-87ef-4dc6-aa09-1183e51cf360\u001B[0m\n",
      "\u001B[32m[I 2023-04-11 20:32:56,076]\u001B[0m Trial 0 finished with value: 0.8889972959121896 and parameters: {'n_estimators': 107, 'max_depth': 3, 'learning_rate': 0.19348809671441597, 'subsample': 0.7380715877768046, 'colsample_bytree': 0.8055865562031641, 'gamma': 0.8825594141597728}. Best is trial 0 with value: 0.8889972959121896.\u001B[0m\n",
      "\u001B[32m[I 2023-04-11 20:32:59,390]\u001B[0m Trial 1 finished with value: 0.8972578639391514 and parameters: {'n_estimators': 21, 'max_depth': 5, 'learning_rate': 0.18734485483066007, 'subsample': 0.7727836364134337, 'colsample_bytree': 0.6224646039504536, 'gamma': 0.3854204674318571}. Best is trial 1 with value: 0.8972578639391514.\u001B[0m\n",
      "\u001B[32m[I 2023-04-11 20:33:12,979]\u001B[0m Trial 2 finished with value: 0.8950676167135692 and parameters: {'n_estimators': 141, 'max_depth': 5, 'learning_rate': 0.26655875082825514, 'subsample': 0.8307506718209435, 'colsample_bytree': 0.9152433703646539, 'gamma': 0.47126720246179643}. Best is trial 1 with value: 0.8972578639391514.\u001B[0m\n",
      "\u001B[32m[I 2023-04-11 20:33:21,363]\u001B[0m Trial 3 finished with value: 0.9034459796357529 and parameters: {'n_estimators': 78, 'max_depth': 6, 'learning_rate': 0.16699266326592968, 'subsample': 0.7739126771439901, 'colsample_bytree': 0.8190103895976941, 'gamma': 0.1553764502651086}. Best is trial 3 with value: 0.9034459796357529.\u001B[0m\n",
      "\u001B[32m[I 2023-04-11 20:33:25,264]\u001B[0m Trial 4 finished with value: 0.8888781700859648 and parameters: {'n_estimators': 22, 'max_depth': 7, 'learning_rate': 0.13092417917787588, 'subsample': 0.7967279906951659, 'colsample_bytree': 0.8644032012243068, 'gamma': 0.7748750337101088}. Best is trial 3 with value: 0.9034459796357529.\u001B[0m\n",
      "\u001B[32m[I 2023-04-11 20:33:35,653]\u001B[0m Trial 5 finished with value: 0.896546803652968 and parameters: {'n_estimators': 120, 'max_depth': 2, 'learning_rate': 0.14815548821396016, 'subsample': 0.6325877659309936, 'colsample_bytree': 0.6145817994003997, 'gamma': 0.5548592815382704}. Best is trial 3 with value: 0.9034459796357529.\u001B[0m\n",
      "\u001B[32m[I 2023-04-11 20:33:48,275]\u001B[0m Trial 6 finished with value: 0.9046430820137716 and parameters: {'n_estimators': 142, 'max_depth': 7, 'learning_rate': 0.15507322173311622, 'subsample': 0.6465378013093257, 'colsample_bytree': 0.625801177318207, 'gamma': 0.09415628684334676}. Best is trial 6 with value: 0.9046430820137716.\u001B[0m\n",
      "\u001B[32m[I 2023-04-11 20:34:01,371]\u001B[0m Trial 7 finished with value: 0.8966370247158425 and parameters: {'n_estimators': 91, 'max_depth': 8, 'learning_rate': 0.01737473766449971, 'subsample': 0.9434495037879469, 'colsample_bytree': 0.7487404777302753, 'gamma': 0.09192221231420805}. Best is trial 6 with value: 0.9046430820137716.\u001B[0m\n",
      "\u001B[32m[I 2023-04-11 20:34:05,680]\u001B[0m Trial 8 finished with value: 0.9066436866959833 and parameters: {'n_estimators': 31, 'max_depth': 5, 'learning_rate': 0.21862035682762615, 'subsample': 0.64523519700152, 'colsample_bytree': 0.8760343204736661, 'gamma': 0.7850342602386131}. Best is trial 8 with value: 0.9066436866959833.\u001B[0m\n",
      "\u001B[32m[I 2023-04-11 20:34:19,304]\u001B[0m Trial 9 finished with value: 0.8958239543807748 and parameters: {'n_estimators': 134, 'max_depth': 7, 'learning_rate': 0.19026290823320316, 'subsample': 0.8012245766384263, 'colsample_bytree': 0.9313453536901576, 'gamma': 0.6000855082349845}. Best is trial 8 with value: 0.9066436866959833.\u001B[0m\n",
      "\u001B[32m[I 2023-04-11 20:34:25,357]\u001B[0m Trial 10 finished with value: 0.8966179653679653 and parameters: {'n_estimators': 53, 'max_depth': 4, 'learning_rate': 0.26612801930050034, 'subsample': 0.6023890088541636, 'colsample_bytree': 0.9793039065062326, 'gamma': 0.9933481905874502}. Best is trial 8 with value: 0.9066436866959833.\u001B[0m\n",
      "\u001B[32m[I 2023-04-11 20:34:31,813]\u001B[0m Trial 11 finished with value: 0.8912005311327971 and parameters: {'n_estimators': 56, 'max_depth': 6, 'learning_rate': 0.24343460572637654, 'subsample': 0.6681124194667265, 'colsample_bytree': 0.7141499877607097, 'gamma': 0.004759650392631154}. Best is trial 8 with value: 0.9066436866959833.\u001B[0m\n",
      "\u001B[32m[I 2023-04-11 20:34:38,747]\u001B[0m Trial 12 finished with value: 0.8984601024317773 and parameters: {'n_estimators': 59, 'max_depth': 8, 'learning_rate': 0.10872867597202382, 'subsample': 0.6826971638652095, 'colsample_bytree': 0.6949761160194965, 'gamma': 0.27510079250659625}. Best is trial 8 with value: 0.9066436866959833.\u001B[0m\n",
      "\u001B[32m[I 2023-04-11 20:34:47,326]\u001B[0m Trial 13 finished with value: 0.8927373815488269 and parameters: {'n_estimators': 86, 'max_depth': 4, 'learning_rate': 0.22004167694415083, 'subsample': 0.6032594978514543, 'colsample_bytree': 0.8457574150418979, 'gamma': 0.7124998641502109}. Best is trial 8 with value: 0.9066436866959833.\u001B[0m\n",
      "\u001B[32m[I 2023-04-11 20:34:52,146]\u001B[0m Trial 14 finished with value: 0.9009301942388356 and parameters: {'n_estimators': 37, 'max_depth': 6, 'learning_rate': 0.2946867545691075, 'subsample': 0.6879911812040189, 'colsample_bytree': 0.7655321190332076, 'gamma': 0.34992906051285777}. Best is trial 8 with value: 0.9066436866959833.\u001B[0m\n",
      "\u001B[32m[I 2023-04-11 20:35:06,525]\u001B[0m Trial 15 finished with value: 0.8996359965154249 and parameters: {'n_estimators': 150, 'max_depth': 4, 'learning_rate': 0.10122466899446719, 'subsample': 0.7121980739818194, 'colsample_bytree': 0.6736069767100225, 'gamma': 0.22967046876662991}. Best is trial 8 with value: 0.9066436866959833.\u001B[0m\n",
      "\u001B[32m[I 2023-04-11 20:35:16,812]\u001B[0m Trial 16 finished with value: 0.8974524261556802 and parameters: {'n_estimators': 107, 'max_depth': 7, 'learning_rate': 0.22597503323052448, 'subsample': 0.6405314322641388, 'colsample_bytree': 0.7708620583450528, 'gamma': 0.4654359443752954}. Best is trial 8 with value: 0.9066436866959833.\u001B[0m\n",
      "\u001B[32m[I 2023-04-11 20:35:25,004]\u001B[0m Trial 17 finished with value: 0.8987954652810581 and parameters: {'n_estimators': 71, 'max_depth': 5, 'learning_rate': 0.08068040567603764, 'subsample': 0.6545173382122762, 'colsample_bytree': 0.6407377983334688, 'gamma': 0.6188727768781206}. Best is trial 8 with value: 0.9066436866959833.\u001B[0m\n",
      "\u001B[32m[I 2023-04-11 20:35:29,703]\u001B[0m Trial 18 finished with value: 0.8870948180112092 and parameters: {'n_estimators': 37, 'max_depth': 6, 'learning_rate': 0.16076200954744546, 'subsample': 0.7203340441998038, 'colsample_bytree': 0.6032650640246348, 'gamma': 0.7384958168480166}. Best is trial 8 with value: 0.9066436866959833.\u001B[0m\n",
      "\u001B[32m[I 2023-04-11 20:35:40,822]\u001B[0m Trial 19 finished with value: 0.8931897447994027 and parameters: {'n_estimators': 123, 'max_depth': 3, 'learning_rate': 0.22072391521194895, 'subsample': 0.6356741608776747, 'colsample_bytree': 0.8660952619645377, 'gamma': 0.34559823324253364}. Best is trial 8 with value: 0.9066436866959833.\u001B[0m\n",
      "\u001B[32m[I 2023-04-11 20:35:51,063]\u001B[0m Trial 20 finished with value: 0.8900070372976776 and parameters: {'n_estimators': 101, 'max_depth': 8, 'learning_rate': 0.13596860911925102, 'subsample': 0.6974020778981734, 'colsample_bytree': 0.7108974070127275, 'gamma': 0.013189144078100845}. Best is trial 8 with value: 0.9066436866959833.\u001B[0m\n",
      "\u001B[32m[I 2023-04-11 20:35:59,179]\u001B[0m Trial 21 finished with value: 0.8905990120939096 and parameters: {'n_estimators': 72, 'max_depth': 6, 'learning_rate': 0.17017569908277055, 'subsample': 0.7385377279609324, 'colsample_bytree': 0.8252622354422746, 'gamma': 0.15084429750634393}. Best is trial 8 with value: 0.9066436866959833.\u001B[0m\n",
      "\u001B[32m[I 2023-04-11 20:36:07,250]\u001B[0m Trial 22 finished with value: 0.8938045161816255 and parameters: {'n_estimators': 73, 'max_depth': 7, 'learning_rate': 0.17972074049621248, 'subsample': 0.85308647770199, 'colsample_bytree': 0.7944587269947805, 'gamma': 0.14478579341449083}. Best is trial 8 with value: 0.9066436866959833.\u001B[0m\n",
      "\u001B[32m[I 2023-04-11 20:36:12,683]\u001B[0m Trial 23 finished with value: 0.8912273242630385 and parameters: {'n_estimators': 43, 'max_depth': 6, 'learning_rate': 0.20448632195463334, 'subsample': 0.6626543695713405, 'colsample_bytree': 0.7399866698143189, 'gamma': 0.23523524530072432}. Best is trial 8 with value: 0.9066436866959833.\u001B[0m\n",
      "\u001B[32m[I 2023-04-11 20:36:24,121]\u001B[0m Trial 24 finished with value: 0.8939344881549836 and parameters: {'n_estimators': 126, 'max_depth': 5, 'learning_rate': 0.16200115890616656, 'subsample': 0.7541878454936527, 'colsample_bytree': 0.6636811779958707, 'gamma': 0.09625176279068529}. Best is trial 8 with value: 0.9066436866959833.\u001B[0m\n",
      "\u001B[32m[I 2023-04-11 20:36:33,468]\u001B[0m Trial 25 finished with value: 0.8946955231625939 and parameters: {'n_estimators': 96, 'max_depth': 7, 'learning_rate': 0.20184611689266235, 'subsample': 0.7052632536381734, 'colsample_bytree': 0.7950665992401567, 'gamma': 0.19109674824301354}. Best is trial 8 with value: 0.9066436866959833.\u001B[0m\n",
      "\u001B[32m[I 2023-04-11 20:36:42,151]\u001B[0m Trial 26 finished with value: 0.8946599616858237 and parameters: {'n_estimators': 80, 'max_depth': 5, 'learning_rate': 0.1677105145526961, 'subsample': 0.6828263006149133, 'colsample_bytree': 0.8899981726629221, 'gamma': 0.28098870555063515}. Best is trial 8 with value: 0.9066436866959833.\u001B[0m\n",
      "\u001B[32m[I 2023-04-11 20:36:53,198]\u001B[0m Trial 27 finished with value: 0.8962113389811783 and parameters: {'n_estimators': 109, 'max_depth': 6, 'learning_rate': 0.14255809586469487, 'subsample': 0.6143197744407054, 'colsample_bytree': 0.8269832956110779, 'gamma': 0.42291520526777215}. Best is trial 8 with value: 0.9066436866959833.\u001B[0m\n",
      "\u001B[32m[I 2023-04-11 20:37:00,139]\u001B[0m Trial 28 finished with value: 0.8862225349910079 and parameters: {'n_estimators': 65, 'max_depth': 4, 'learning_rate': 0.2440426413862924, 'subsample': 0.6569749815586493, 'colsample_bytree': 0.7303516772364245, 'gamma': 0.31334003106960423}. Best is trial 8 with value: 0.9066436866959833.\u001B[0m\n",
      "\u001B[32m[I 2023-04-11 20:37:05,435]\u001B[0m Trial 29 finished with value: 0.8985100771532042 and parameters: {'n_estimators': 44, 'max_depth': 3, 'learning_rate': 0.18706737878131327, 'subsample': 0.7304242980171517, 'colsample_bytree': 0.8133500837892128, 'gamma': 0.8912861739931268}. Best is trial 8 with value: 0.9066436866959833.\u001B[0m\n",
      "\u001B[32m[I 2023-04-11 20:37:16,069]\u001B[0m Trial 30 finished with value: 0.898129559649399 and parameters: {'n_estimators': 113, 'max_depth': 7, 'learning_rate': 0.2045396545871114, 'subsample': 0.6384918877395388, 'colsample_bytree': 0.7790540255723316, 'gamma': 0.5131208340678785}. Best is trial 8 with value: 0.9066436866959833.\u001B[0m\n",
      "\u001B[32m[I 2023-04-11 20:37:20,256]\u001B[0m Trial 31 finished with value: 0.8854511966214094 and parameters: {'n_estimators': 31, 'max_depth': 6, 'learning_rate': 0.2932609388142199, 'subsample': 0.6866245121435953, 'colsample_bytree': 0.7700354952928684, 'gamma': 0.33551331380882216}. Best is trial 8 with value: 0.9066436866959833.\u001B[0m\n",
      "\u001B[32m[I 2023-04-11 20:37:24,090]\u001B[0m Trial 32 finished with value: 0.8994333505870815 and parameters: {'n_estimators': 29, 'max_depth': 5, 'learning_rate': 0.29872165293068503, 'subsample': 0.6987770610557399, 'colsample_bytree': 0.6421986777856891, 'gamma': 0.3868827719710829}. Best is trial 8 with value: 0.9066436866959833.\u001B[0m\n",
      "\u001B[32m[I 2023-04-11 20:37:29,410]\u001B[0m Trial 33 finished with value: 0.886098583840206 and parameters: {'n_estimators': 46, 'max_depth': 6, 'learning_rate': 0.27683779139198605, 'subsample': 0.7589931725768662, 'colsample_bytree': 0.6809960334251046, 'gamma': 0.4156412623941398}. Best is trial 8 with value: 0.9066436866959833.\u001B[0m\n",
      "\u001B[32m[I 2023-04-11 20:37:33,021]\u001B[0m Trial 34 finished with value: 0.8902156607323781 and parameters: {'n_estimators': 23, 'max_depth': 5, 'learning_rate': 0.2584321557758976, 'subsample': 0.6723688612906003, 'colsample_bytree': 0.7510153190222018, 'gamma': 0.21922482796149223}. Best is trial 8 with value: 0.9066436866959833.\u001B[0m\n",
      "\u001B[32m[I 2023-04-11 20:37:37,386]\u001B[0m Trial 35 finished with value: 0.8958765372558476 and parameters: {'n_estimators': 34, 'max_depth': 7, 'learning_rate': 0.2835783754988086, 'subsample': 0.6236860489281036, 'colsample_bytree': 0.6008412041381052, 'gamma': 0.07680832377192402}. Best is trial 8 with value: 0.9066436866959833.\u001B[0m\n",
      "\u001B[32m[I 2023-04-11 20:37:43,374]\u001B[0m Trial 36 finished with value: 0.8912566584438377 and parameters: {'n_estimators': 51, 'max_depth': 6, 'learning_rate': 0.25055069854509676, 'subsample': 0.7308583195563548, 'colsample_bytree': 0.840363791815627, 'gamma': 0.1530161962118015}. Best is trial 8 with value: 0.9066436866959833.\u001B[0m\n",
      "\u001B[32m[I 2023-04-11 20:37:46,711]\u001B[0m Trial 37 finished with value: 0.8937159037160822 and parameters: {'n_estimators': 20, 'max_depth': 8, 'learning_rate': 0.27692316271254763, 'subsample': 0.6511265596369685, 'colsample_bytree': 0.80205151665908, 'gamma': 0.27002369922807334}. Best is trial 8 with value: 0.9066436866959833.\u001B[0m\n",
      "\u001B[32m[I 2023-04-11 20:37:58,432]\u001B[0m Trial 38 finished with value: 0.898268779342723 and parameters: {'n_estimators': 136, 'max_depth': 2, 'learning_rate': 0.2327072987668724, 'subsample': 0.6251426517236647, 'colsample_bytree': 0.8633620519878137, 'gamma': 0.36510694534243504}. Best is trial 8 with value: 0.9066436866959833.\u001B[0m\n",
      "\u001B[32m[I 2023-04-11 20:38:04,946]\u001B[0m Trial 39 finished with value: 0.8892461094026652 and parameters: {'n_estimators': 62, 'max_depth': 5, 'learning_rate': 0.25454361899762745, 'subsample': 0.786252768369654, 'colsample_bytree': 0.6324329508946457, 'gamma': 0.057586686156948175}. Best is trial 8 with value: 0.9066436866959833.\u001B[0m\n",
      "\u001B[32m[I 2023-04-11 20:38:13,786]\u001B[0m Trial 40 finished with value: 0.8910492745557931 and parameters: {'n_estimators': 80, 'max_depth': 7, 'learning_rate': 0.15071946704651445, 'subsample': 0.6759180996547937, 'colsample_bytree': 0.9077753124617493, 'gamma': 0.17982315737029148}. Best is trial 8 with value: 0.9066436866959833.\u001B[0m\n",
      "\u001B[32m[I 2023-04-11 20:38:27,023]\u001B[0m Trial 41 finished with value: 0.899638292741741 and parameters: {'n_estimators': 148, 'max_depth': 4, 'learning_rate': 0.1181210838020078, 'subsample': 0.7121231894368407, 'colsample_bytree': 0.6628827766921023, 'gamma': 0.23040112758325187}. Best is trial 8 with value: 0.9066436866959833.\u001B[0m\n",
      "\u001B[32m[I 2023-04-11 20:38:40,215]\u001B[0m Trial 42 finished with value: 0.8931196342627613 and parameters: {'n_estimators': 149, 'max_depth': 4, 'learning_rate': 0.12370973673235394, 'subsample': 0.7029427551906414, 'colsample_bytree': 0.6556213394548708, 'gamma': 0.1361852728298637}. Best is trial 8 with value: 0.9066436866959833.\u001B[0m\n",
      "\u001B[32m[I 2023-04-11 20:38:51,828]\u001B[0m Trial 43 finished with value: 0.8927476658056865 and parameters: {'n_estimators': 133, 'max_depth': 5, 'learning_rate': 0.17975262544780676, 'subsample': 0.6007907955551021, 'colsample_bytree': 0.6223199102901427, 'gamma': 0.2990725296482362}. Best is trial 8 with value: 0.9066436866959833.\u001B[0m\n",
      "\u001B[32m[I 2023-04-11 20:39:03,640]\u001B[0m Trial 44 finished with value: 0.8974008973586921 and parameters: {'n_estimators': 140, 'max_depth': 3, 'learning_rate': 0.23679662309723792, 'subsample': 0.6594009051465065, 'colsample_bytree': 0.697401493935489, 'gamma': 0.21161783288954572}. Best is trial 8 with value: 0.9066436866959833.\u001B[0m\n",
      "\u001B[32m[I 2023-04-11 20:39:16,119]\u001B[0m Trial 45 finished with value: 0.890402642591496 and parameters: {'n_estimators': 145, 'max_depth': 4, 'learning_rate': 0.21336660229320867, 'subsample': 0.6883850408909085, 'colsample_bytree': 0.6580788515476714, 'gamma': 0.2534452810835252}. Best is trial 8 with value: 0.9066436866959833.\u001B[0m\n",
      "\u001B[32m[I 2023-04-11 20:39:27,090]\u001B[0m Trial 46 finished with value: 0.8862728310502282 and parameters: {'n_estimators': 129, 'max_depth': 6, 'learning_rate': 0.2674552027344087, 'subsample': 0.7174823817798178, 'colsample_bytree': 0.6197201247919334, 'gamma': 0.10372068040345007}. Best is trial 8 with value: 0.9066436866959833.\u001B[0m\n",
      "\u001B[32m[I 2023-04-11 20:39:37,618]\u001B[0m Trial 47 finished with value: 0.8961417892452375 and parameters: {'n_estimators': 117, 'max_depth': 4, 'learning_rate': 0.19114905781379626, 'subsample': 0.6423638806231785, 'colsample_bytree': 0.7218488611603419, 'gamma': 0.19243778288691468}. Best is trial 8 with value: 0.9066436866959833.\u001B[0m\n",
      "\u001B[32m[I 2023-04-11 20:39:42,867]\u001B[0m Trial 48 finished with value: 0.8981201806968405 and parameters: {'n_estimators': 39, 'max_depth': 7, 'learning_rate': 0.1507591967197516, 'subsample': 0.6743702281633649, 'colsample_bytree': 0.6864018392932802, 'gamma': 0.3079793585807345}. Best is trial 8 with value: 0.9066436866959833.\u001B[0m\n",
      "\u001B[32m[I 2023-04-11 20:39:46,677]\u001B[0m Trial 49 finished with value: 0.8946668705426732 and parameters: {'n_estimators': 26, 'max_depth': 5, 'learning_rate': 0.11991154763744212, 'subsample': 0.6235221169753951, 'colsample_bytree': 0.6986813516297943, 'gamma': 0.04316890320731903}. Best is trial 8 with value: 0.9066436866959833.\u001B[0m\n",
      "\u001B[32m[I 2023-04-11 20:39:55,688]\u001B[0m Trial 50 finished with value: 0.8943625703467644 and parameters: {'n_estimators': 92, 'max_depth': 6, 'learning_rate': 0.23277529016750692, 'subsample': 0.7428535868947492, 'colsample_bytree': 0.6732042238564337, 'gamma': 0.6052568923905306}. Best is trial 8 with value: 0.9066436866959833.\u001B[0m\n",
      "\u001B[32m[I 2023-04-11 20:40:09,046]\u001B[0m Trial 51 finished with value: 0.8999977037736839 and parameters: {'n_estimators': 148, 'max_depth': 4, 'learning_rate': 0.10325512382838088, 'subsample': 0.7142352599974156, 'colsample_bytree': 0.6437887630793714, 'gamma': 0.2331968882413729}. Best is trial 8 with value: 0.9066436866959833.\u001B[0m\n",
      "\u001B[32m[I 2023-04-11 20:40:22,263]\u001B[0m Trial 52 finished with value: 0.8926935133831685 and parameters: {'n_estimators': 142, 'max_depth': 4, 'learning_rate': 0.08991625894686242, 'subsample': 0.7147641284534433, 'colsample_bytree': 0.6440062258777891, 'gamma': 0.2456061952863718}. Best is trial 8 with value: 0.9066436866959833.\u001B[0m\n",
      "\u001B[32m[I 2023-04-11 20:40:34,997]\u001B[0m Trial 53 finished with value: 0.8933308071239106 and parameters: {'n_estimators': 149, 'max_depth': 3, 'learning_rate': 0.13059967126450867, 'subsample': 0.6673544278732738, 'colsample_bytree': 0.612091531882946, 'gamma': 0.12063674302139604}. Best is trial 8 with value: 0.9066436866959833.\u001B[0m\n",
      "\u001B[32m[I 2023-04-11 20:40:47,509]\u001B[0m Trial 54 finished with value: 0.896546803652968 and parameters: {'n_estimators': 137, 'max_depth': 4, 'learning_rate': 0.10930184162850483, 'subsample': 0.7704928566339636, 'colsample_bytree': 0.6360741565764754, 'gamma': 0.17035706295732747}. Best is trial 8 with value: 0.9066436866959833.\u001B[0m\n",
      "\u001B[32m[I 2023-04-11 20:40:58,974]\u001B[0m Trial 55 finished with value: 0.8930922935849044 and parameters: {'n_estimators': 130, 'max_depth': 2, 'learning_rate': 0.07187925718001209, 'subsample': 0.722897685879038, 'colsample_bytree': 0.6753500927881481, 'gamma': 0.11648190590265728}. Best is trial 8 with value: 0.9066436866959833.\u001B[0m\n",
      "\u001B[32m[I 2023-04-11 20:41:11,932]\u001B[0m Trial 56 finished with value: 0.9003495686575685 and parameters: {'n_estimators': 145, 'max_depth': 5, 'learning_rate': 0.1373323232754407, 'subsample': 0.6926120786471324, 'colsample_bytree': 0.6569755041766052, 'gamma': 0.2211164294343419}. Best is trial 8 with value: 0.9066436866959833.\u001B[0m\n",
      "\u001B[32m[I 2023-04-11 20:41:21,860]\u001B[0m Trial 57 finished with value: 0.8941850712887894 and parameters: {'n_estimators': 102, 'max_depth': 5, 'learning_rate': 0.14064978320315455, 'subsample': 0.6928676022892056, 'colsample_bytree': 0.712663567620374, 'gamma': 0.2792946769479936}. Best is trial 8 with value: 0.9066436866959833.\u001B[0m\n",
      "\u001B[32m[I 2023-04-11 20:41:27,789]\u001B[0m Trial 58 finished with value: 0.8988399705654582 and parameters: {'n_estimators': 52, 'max_depth': 6, 'learning_rate': 0.1563999753443953, 'subsample': 0.6578493292849192, 'colsample_bytree': 0.6227845936303988, 'gamma': 0.19586953682302782}. Best is trial 8 with value: 0.9066436866959833.\u001B[0m\n",
      "\u001B[32m[I 2023-04-11 20:41:40,446]\u001B[0m Trial 59 finished with value: 0.8919919862124815 and parameters: {'n_estimators': 142, 'max_depth': 5, 'learning_rate': 0.1753238130981697, 'subsample': 0.6448455124446458, 'colsample_bytree': 0.6470746881365027, 'gamma': 0.6594550047440155}. Best is trial 8 with value: 0.9066436866959833.\u001B[0m\n",
      "\u001B[32m[I 2023-04-11 20:41:51,494]\u001B[0m Trial 60 finished with value: 0.8947452622637352 and parameters: {'n_estimators': 122, 'max_depth': 7, 'learning_rate': 0.163795701411257, 'subsample': 0.6844692394236642, 'colsample_bytree': 0.6066422024428156, 'gamma': 0.03712741447158585}. Best is trial 8 with value: 0.9066436866959833.\u001B[0m\n",
      "\u001B[32m[I 2023-04-11 20:42:04,593]\u001B[0m Trial 61 finished with value: 0.8911851152049546 and parameters: {'n_estimators': 146, 'max_depth': 4, 'learning_rate': 0.1293983264293474, 'subsample': 0.7056178404132618, 'colsample_bytree': 0.663974980060618, 'gamma': 0.23828675834590438}. Best is trial 8 with value: 0.9066436866959833.\u001B[0m\n",
      "\u001B[32m[I 2023-04-11 20:42:17,015]\u001B[0m Trial 62 finished with value: 0.8993273249738767 and parameters: {'n_estimators': 138, 'max_depth': 4, 'learning_rate': 0.14206198429637748, 'subsample': 0.7456705536509584, 'colsample_bytree': 0.6304142801260122, 'gamma': 0.08379949902591821}. Best is trial 8 with value: 0.9066436866959833.\u001B[0m\n",
      "\u001B[32m[I 2023-04-11 20:42:29,772]\u001B[0m Trial 63 finished with value: 0.89776785239114 and parameters: {'n_estimators': 145, 'max_depth': 5, 'learning_rate': 0.15482150182489995, 'subsample': 0.7278666986004353, 'colsample_bytree': 0.651322239061492, 'gamma': 0.15889493703018942}. Best is trial 8 with value: 0.9066436866959833.\u001B[0m\n",
      "\u001B[32m[I 2023-04-11 20:42:41,689]\u001B[0m Trial 64 finished with value: 0.8965730462394373 and parameters: {'n_estimators': 133, 'max_depth': 8, 'learning_rate': 0.17737924808989788, 'subsample': 0.7132009581495034, 'colsample_bytree': 0.6632489967971108, 'gamma': 0.22448590705176788}. Best is trial 8 with value: 0.9066436866959833.\u001B[0m\n",
      "\u001B[32m[I 2023-04-11 20:42:54,373]\u001B[0m Trial 65 finished with value: 0.8831314796427152 and parameters: {'n_estimators': 150, 'max_depth': 6, 'learning_rate': 0.21985541400700254, 'subsample': 0.6695727176117334, 'colsample_bytree': 0.6850356797649544, 'gamma': 0.262282122131816}. Best is trial 8 with value: 0.9066436866959833.\u001B[0m\n",
      "\u001B[32m[I 2023-04-11 20:42:59,246]\u001B[0m Trial 66 finished with value: 0.8934209553386572 and parameters: {'n_estimators': 39, 'max_depth': 5, 'learning_rate': 0.1977118405410973, 'subsample': 0.6929564479280046, 'colsample_bytree': 0.7066118364890521, 'gamma': 0.13401404845041948}. Best is trial 8 with value: 0.9066436866959833.\u001B[0m\n",
      "\u001B[32m[I 2023-04-11 20:43:06,173]\u001B[0m Trial 67 finished with value: 0.8854928839745628 and parameters: {'n_estimators': 67, 'max_depth': 3, 'learning_rate': 0.16867874546556472, 'subsample': 0.6476535748551494, 'colsample_bytree': 0.7521849387522156, 'gamma': 0.336983482949507}. Best is trial 8 with value: 0.9066436866959833.\u001B[0m\n",
      "\u001B[32m[I 2023-04-11 20:43:14,481]\u001B[0m Trial 68 finished with value: 0.8916078417668437 and parameters: {'n_estimators': 83, 'max_depth': 6, 'learning_rate': 0.18741298857254596, 'subsample': 0.6998396584802942, 'colsample_bytree': 0.73110895356483, 'gamma': 0.2051945134685353}. Best is trial 8 with value: 0.9066436866959833.\u001B[0m\n",
      "\u001B[32m[I 2023-04-11 20:43:20,888]\u001B[0m Trial 69 finished with value: 0.8970326501620786 and parameters: {'n_estimators': 57, 'max_depth': 5, 'learning_rate': 0.1161258362632576, 'subsample': 0.6798291555388979, 'colsample_bytree': 0.6124267007822067, 'gamma': 0.47994822295010975}. Best is trial 8 with value: 0.9066436866959833.\u001B[0m\n",
      "\u001B[32m[I 2023-04-11 20:43:26,616]\u001B[0m Trial 70 finished with value: 0.8984625124652286 and parameters: {'n_estimators': 48, 'max_depth': 4, 'learning_rate': 0.14315734589993898, 'subsample': 0.6324686236930916, 'colsample_bytree': 0.8143527180832872, 'gamma': 0.17663239017932134}. Best is trial 8 with value: 0.9066436866959833.\u001B[0m\n",
      "\u001B[32m[I 2023-04-11 20:43:39,462]\u001B[0m Trial 71 finished with value: 0.8981059413215766 and parameters: {'n_estimators': 144, 'max_depth': 4, 'learning_rate': 0.13387932180915357, 'subsample': 0.7143529394330349, 'colsample_bytree': 0.6730684776822505, 'gamma': 0.29712231781335124}. Best is trial 8 with value: 0.9066436866959833.\u001B[0m\n",
      "\u001B[32m[I 2023-04-11 20:43:51,523]\u001B[0m Trial 72 finished with value: 0.8962164750957854 and parameters: {'n_estimators': 126, 'max_depth': 4, 'learning_rate': 0.09698499653478, 'subsample': 0.7463303953188077, 'colsample_bytree': 0.6337560861260538, 'gamma': 0.23109417077769784}. Best is trial 8 with value: 0.9066436866959833.\u001B[0m\n",
      "\u001B[32m[I 2023-04-11 20:44:05,197]\u001B[0m Trial 73 finished with value: 0.9011465785172681 and parameters: {'n_estimators': 150, 'max_depth': 5, 'learning_rate': 0.1104762101977525, 'subsample': 0.7294587904006875, 'colsample_bytree': 0.6462944775480987, 'gamma': 0.31816710578543894}. Best is trial 8 with value: 0.9066436866959833.\u001B[0m\n",
      "\u001B[32m[I 2023-04-11 20:44:18,014]\u001B[0m Trial 74 finished with value: 0.8981082375478927 and parameters: {'n_estimators': 140, 'max_depth': 5, 'learning_rate': 0.11462538618475565, 'subsample': 0.7332067208669942, 'colsample_bytree': 0.6489937231071653, 'gamma': 0.35658831110166833}. Best is trial 8 with value: 0.9066436866959833.\u001B[0m\n",
      "\u001B[32m[I 2023-04-11 20:44:31,000]\u001B[0m Trial 75 finished with value: 0.8923318061249096 and parameters: {'n_estimators': 146, 'max_depth': 6, 'learning_rate': 0.12591841111462854, 'subsample': 0.7057062787488092, 'colsample_bytree': 0.6016477230596914, 'gamma': 0.32219521390236483}. Best is trial 8 with value: 0.9066436866959833.\u001B[0m\n",
      "\u001B[32m[I 2023-04-11 20:44:39,481]\u001B[0m Trial 76 finished with value: 0.8981082375478927 and parameters: {'n_estimators': 76, 'max_depth': 5, 'learning_rate': 0.10712550368116813, 'subsample': 0.7252677958178202, 'colsample_bytree': 0.6926588824134181, 'gamma': 0.3811208274991847}. Best is trial 8 with value: 0.9066436866959833.\u001B[0m\n",
      "\u001B[32m[I 2023-04-11 20:44:53,445]\u001B[0m Trial 77 finished with value: 0.9046913096482062 and parameters: {'n_estimators': 150, 'max_depth': 5, 'learning_rate': 0.1355557374289175, 'subsample': 0.7565606829690641, 'colsample_bytree': 0.6613015581224618, 'gamma': 0.42164787424530253}. Best is trial 8 with value: 0.9066436866959833.\u001B[0m\n",
      "\u001B[32m[I 2023-04-11 20:44:58,012]\u001B[0m Trial 78 finished with value: 0.8953471894189892 and parameters: {'n_estimators': 33, 'max_depth': 5, 'learning_rate': 0.1596050194742691, 'subsample': 0.7585389693678695, 'colsample_bytree': 0.6279709134577502, 'gamma': 0.41273605129440616}. Best is trial 8 with value: 0.9066436866959833.\u001B[0m\n",
      "\u001B[32m[I 2023-04-11 20:45:01,930]\u001B[0m Trial 79 finished with value: 0.8942503617072582 and parameters: {'n_estimators': 25, 'max_depth': 6, 'learning_rate': 0.1490386580663977, 'subsample': 0.8049267053966366, 'colsample_bytree': 0.6159511302834801, 'gamma': 0.5637415706078395}. Best is trial 8 with value: 0.9066436866959833.\u001B[0m\n",
      "\u001B[32m[I 2023-04-11 20:45:14,666]\u001B[0m Trial 80 finished with value: 0.8978294369390949 and parameters: {'n_estimators': 134, 'max_depth': 5, 'learning_rate': 0.136283199777564, 'subsample': 0.768827189190889, 'colsample_bytree': 0.6475483124198095, 'gamma': 0.4352717668503293}. Best is trial 8 with value: 0.9066436866959833.\u001B[0m\n",
      "\u001B[32m[I 2023-04-11 20:45:28,514]\u001B[0m Trial 81 finished with value: 0.8896286017949929 and parameters: {'n_estimators': 150, 'max_depth': 5, 'learning_rate': 0.118053379866289, 'subsample': 0.7416769176699393, 'colsample_bytree': 0.655482099229727, 'gamma': 0.282657817081666}. Best is trial 8 with value: 0.9066436866959833.\u001B[0m\n",
      "\u001B[32m[I 2023-04-11 20:45:42,001]\u001B[0m Trial 82 finished with value: 0.8934290705732773 and parameters: {'n_estimators': 147, 'max_depth': 5, 'learning_rate': 0.12373820738983461, 'subsample': 0.6911511779928721, 'colsample_bytree': 0.6404415914338806, 'gamma': 0.3310407689252555}. Best is trial 8 with value: 0.9066436866959833.\u001B[0m\n",
      "\u001B[32m[I 2023-04-11 20:45:54,746]\u001B[0m Trial 83 finished with value: 0.900227579674811 and parameters: {'n_estimators': 144, 'max_depth': 7, 'learning_rate': 0.24272631122976768, 'subsample': 0.7542422138260643, 'colsample_bytree': 0.679569746919922, 'gamma': 0.3710730935320293}. Best is trial 8 with value: 0.9066436866959833.\u001B[0m\n",
      "\u001B[32m[I 2023-04-11 20:46:07,436]\u001B[0m Trial 84 finished with value: 0.8955072999545313 and parameters: {'n_estimators': 142, 'max_depth': 7, 'learning_rate': 0.28675891023776123, 'subsample': 0.7569975487326063, 'colsample_bytree': 0.6713935503659888, 'gamma': 0.3808720234871403}. Best is trial 8 with value: 0.9066436866959833.\u001B[0m\n",
      "\u001B[32m[I 2023-04-11 20:46:19,931]\u001B[0m Trial 85 finished with value: 0.8904078903656851 and parameters: {'n_estimators': 139, 'max_depth': 8, 'learning_rate': 0.2993963540057369, 'subsample': 0.7358544406368003, 'colsample_bytree': 0.6876057643699636, 'gamma': 0.36275787720812463}. Best is trial 8 with value: 0.9066436866959833.\u001B[0m\n",
      "\u001B[32m[I 2023-04-11 20:46:31,968]\u001B[0m Trial 86 finished with value: 0.8977468493313563 and parameters: {'n_estimators': 129, 'max_depth': 7, 'learning_rate': 0.2477676137621449, 'subsample': 0.782145457926524, 'colsample_bytree': 0.789953081518035, 'gamma': 0.4458716912416324}. Best is trial 8 with value: 0.9066436866959833.\u001B[0m\n",
      "\u001B[32m[I 2023-04-11 20:46:42,917]\u001B[0m Trial 87 finished with value: 0.8916053299108836 and parameters: {'n_estimators': 118, 'max_depth': 7, 'learning_rate': 0.2427653097291867, 'subsample': 0.6635268109497454, 'colsample_bytree': 0.6379732110348959, 'gamma': 0.5095028359503823}. Best is trial 8 with value: 0.9066436866959833.\u001B[0m\n",
      "\u001B[32m[I 2023-04-11 20:46:56,290]\u001B[0m Trial 88 finished with value: 0.898989898989899 and parameters: {'n_estimators': 144, 'max_depth': 7, 'learning_rate': 0.20814964103141936, 'subsample': 0.7492627727766572, 'colsample_bytree': 0.6643814545718738, 'gamma': 0.3982198084281904}. Best is trial 8 with value: 0.9066436866959833.\u001B[0m\n",
      "\u001B[32m[I 2023-04-11 20:47:08,326]\u001B[0m Trial 89 finished with value: 0.8970696263830066 and parameters: {'n_estimators': 136, 'max_depth': 6, 'learning_rate': 0.25872701547005095, 'subsample': 0.6790657838769422, 'colsample_bytree': 0.6255224553325314, 'gamma': 0.35624385457983077}. Best is trial 8 with value: 0.9066436866959833.\u001B[0m\n",
      "\u001B[32m[I 2023-04-11 20:47:17,633]\u001B[0m Trial 90 finished with value: 0.8981056132892458 and parameters: {'n_estimators': 102, 'max_depth': 6, 'learning_rate': 0.26634713951393996, 'subsample': 0.7250693038230229, 'colsample_bytree': 0.701741181444686, 'gamma': 0.2935879541071617}. Best is trial 8 with value: 0.9066436866959833.\u001B[0m\n",
      "\u001B[32m[I 2023-04-11 20:47:30,163]\u001B[0m Trial 91 finished with value: 0.8970404322486645 and parameters: {'n_estimators': 147, 'max_depth': 5, 'learning_rate': 0.22936475536643094, 'subsample': 0.7337082462031647, 'colsample_bytree': 0.6573153254660641, 'gamma': 0.32001092176291723}. Best is trial 8 with value: 0.9066436866959833.\u001B[0m\n",
      "\u001B[32m[I 2023-04-11 20:47:42,991]\u001B[0m Trial 92 finished with value: 0.8893380775525319 and parameters: {'n_estimators': 150, 'max_depth': 7, 'learning_rate': 0.22481563119670267, 'subsample': 0.7187519393906319, 'colsample_bytree': 0.6688015207557808, 'gamma': 0.2621812453219502}. Best is trial 8 with value: 0.9066436866959833.\u001B[0m\n",
      "\u001B[32m[I 2023-04-11 20:47:54,842]\u001B[0m Trial 93 finished with value: 0.8896392050935752 and parameters: {'n_estimators': 141, 'max_depth': 4, 'learning_rate': 0.2124450378560797, 'subsample': 0.6988934821181187, 'colsample_bytree': 0.6405368213954442, 'gamma': 0.2039511355387934}. Best is trial 8 with value: 0.9066436866959833.\u001B[0m\n",
      "\u001B[32m[I 2023-04-11 20:48:07,119]\u001B[0m Trial 94 finished with value: 0.8911507780742082 and parameters: {'n_estimators': 143, 'max_depth': 5, 'learning_rate': 0.1983623561871338, 'subsample': 0.6557912112472877, 'colsample_bytree': 0.6812434429912599, 'gamma': 0.1624933820923392}. Best is trial 8 with value: 0.9066436866959833.\u001B[0m\n",
      "\u001B[32m[I 2023-04-11 20:48:20,127]\u001B[0m Trial 95 finished with value: 0.88932300827144 and parameters: {'n_estimators': 147, 'max_depth': 6, 'learning_rate': 0.2391033347786948, 'subsample': 0.705149203909763, 'colsample_bytree': 0.6776112195500266, 'gamma': 0.23781505722643817}. Best is trial 8 with value: 0.9066436866959833.\u001B[0m\n",
      "\u001B[32m[I 2023-04-11 20:48:24,559]\u001B[0m Trial 96 finished with value: 0.8934948979591837 and parameters: {'n_estimators': 29, 'max_depth': 8, 'learning_rate': 0.13709296248098776, 'subsample': 0.7672620765680868, 'colsample_bytree': 0.6518344200013403, 'gamma': 0.2722341747577773}. Best is trial 8 with value: 0.9066436866959833.\u001B[0m\n",
      "\u001B[32m[I 2023-04-11 20:48:36,942]\u001B[0m Trial 97 finished with value: 0.8978318308675451 and parameters: {'n_estimators': 136, 'max_depth': 3, 'learning_rate': 0.1469745436142828, 'subsample': 0.7497824105393066, 'colsample_bytree': 0.6580997498547678, 'gamma': 0.8140486939628222}. Best is trial 8 with value: 0.9066436866959833.\u001B[0m\n",
      "\u001B[32m[I 2023-04-11 20:48:46,058]\u001B[0m Trial 98 finished with value: 0.8903849305428359 and parameters: {'n_estimators': 88, 'max_depth': 5, 'learning_rate': 0.12937725597512942, 'subsample': 0.7098717601074597, 'colsample_bytree': 0.6897313451744764, 'gamma': 0.30247102384943253}. Best is trial 8 with value: 0.9066436866959833.\u001B[0m\n",
      "\u001B[32m[I 2023-04-11 20:48:55,094]\u001B[0m Trial 99 finished with value: 0.8960929058776416 and parameters: {'n_estimators': 96, 'max_depth': 4, 'learning_rate': 0.1645579657868091, 'subsample': 0.6707712107209902, 'colsample_bytree': 0.6264884591397383, 'gamma': 0.21422752934275602}. Best is trial 8 with value: 0.9066436866959833.\u001B[0m\n"
     ]
    }
   ],
   "source": [
    "objective_func = partial(\n",
    "    objective,\n",
    "    X_train=X_train,\n",
    "    stratification_groups=stratification_groups,\n",
    "    xgb_config=xgb_config,\n",
    "    scoring=f1_score\n",
    ")\n",
    "\n",
    "study = optuna.create_study(direction='maximize')\n",
    "study.optimize(objective_func, n_trials=100)"
   ],
   "metadata": {
    "collapsed": false,
    "ExecuteTime": {
     "start_time": "2023-04-11T20:32:45.660884Z",
     "end_time": "2023-04-11T20:48:55.112945Z"
    }
   }
  },
  {
   "cell_type": "code",
   "execution_count": 83,
   "outputs": [],
   "source": [
    "best_params = {\n",
    "    **study.best_params,\n",
    "    **xgb_config\n",
    "}\n",
    "\n",
    "best_xgb = XGBClassifier(**best_params)\n",
    "y_pred = stratified_cross_val_predict(\n",
    "    estimator=best_xgb,\n",
    "    df=X_train,\n",
    "    stratification_groups=stratification_groups,\n",
    "    label_col='Stage',\n",
    "    n_splits=5\n",
    ")\n",
    "y_true = list(X_train['Stage'].values)"
   ],
   "metadata": {
    "collapsed": false,
    "ExecuteTime": {
     "start_time": "2023-04-11T20:48:55.115947Z",
     "end_time": "2023-04-11T20:49:00.902008Z"
    }
   }
  },
  {
   "cell_type": "code",
   "execution_count": 84,
   "outputs": [
    {
     "name": "stdout",
     "output_type": "stream",
     "text": [
      "              precision    recall  f1-score   support\n",
      "\n",
      "       I-III       0.84      0.27      0.41        77\n",
      "          IV       0.82      0.98      0.90       264\n",
      "\n",
      "    accuracy                           0.82       341\n",
      "   macro avg       0.83      0.63      0.65       341\n",
      "weighted avg       0.83      0.82      0.79       341\n",
      "\n"
     ]
    }
   ],
   "source": [
    "labels = list(labels_encoding.keys())\n",
    "\n",
    "report = classification_report(y_true, y_pred.astype(int), target_names=labels)\n",
    "print(report)"
   ],
   "metadata": {
    "collapsed": false,
    "ExecuteTime": {
     "start_time": "2023-04-11T20:49:00.905010Z",
     "end_time": "2023-04-11T20:49:00.918232Z"
    }
   }
  },
  {
   "cell_type": "code",
   "execution_count": 85,
   "outputs": [
    {
     "data": {
      "application/vnd.plotly.v1+json": {
       "data": [
        {
         "colorscale": [
          [
           0.0,
           "rgb(3, 5, 18)"
          ],
          [
           0.09090909090909091,
           "rgb(25, 25, 51)"
          ],
          [
           0.18181818181818182,
           "rgb(44, 42, 87)"
          ],
          [
           0.2727272727272727,
           "rgb(58, 60, 125)"
          ],
          [
           0.36363636363636365,
           "rgb(62, 83, 160)"
          ],
          [
           0.45454545454545453,
           "rgb(62, 109, 178)"
          ],
          [
           0.5454545454545454,
           "rgb(72, 134, 187)"
          ],
          [
           0.6363636363636364,
           "rgb(89, 159, 196)"
          ],
          [
           0.7272727272727273,
           "rgb(114, 184, 205)"
          ],
          [
           0.8181818181818182,
           "rgb(149, 207, 216)"
          ],
          [
           0.9090909090909091,
           "rgb(192, 229, 232)"
          ],
          [
           1.0,
           "rgb(234, 252, 253)"
          ]
         ],
         "reversescale": true,
         "showscale": false,
         "x": [
          "I-III",
          "IV"
         ],
         "y": [
          "IV",
          "I-III"
         ],
         "z": [
          [
           4,
           260
          ],
          [
           21,
           56
          ]
         ],
         "type": "heatmap"
        }
       ],
       "layout": {
        "annotations": [
         {
          "font": {
           "color": "#000000"
          },
          "showarrow": false,
          "text": "4",
          "x": "I-III",
          "xref": "x",
          "y": "IV",
          "yref": "y"
         },
         {
          "font": {
           "color": "#FFFFFF"
          },
          "showarrow": false,
          "text": "260",
          "x": "IV",
          "xref": "x",
          "y": "IV",
          "yref": "y"
         },
         {
          "font": {
           "color": "#000000"
          },
          "showarrow": false,
          "text": "21",
          "x": "I-III",
          "xref": "x",
          "y": "I-III",
          "yref": "y"
         },
         {
          "font": {
           "color": "#000000"
          },
          "showarrow": false,
          "text": "56",
          "x": "IV",
          "xref": "x",
          "y": "I-III",
          "yref": "y"
         }
        ],
        "xaxis": {
         "dtick": 1,
         "gridcolor": "rgb(0, 0, 0)",
         "side": "top",
         "ticks": "",
         "tickfont": {
          "size": 10
         },
         "title": {
          "text": "Predicted label"
         }
        },
        "yaxis": {
         "dtick": 1,
         "ticks": "",
         "ticksuffix": "  ",
         "tickfont": {
          "size": 10
         },
         "title": {
          "text": "True label"
         }
        },
        "template": {
         "data": {
          "histogram2dcontour": [
           {
            "type": "histogram2dcontour",
            "colorbar": {
             "outlinewidth": 0,
             "ticks": ""
            },
            "colorscale": [
             [
              0.0,
              "#0d0887"
             ],
             [
              0.1111111111111111,
              "#46039f"
             ],
             [
              0.2222222222222222,
              "#7201a8"
             ],
             [
              0.3333333333333333,
              "#9c179e"
             ],
             [
              0.4444444444444444,
              "#bd3786"
             ],
             [
              0.5555555555555556,
              "#d8576b"
             ],
             [
              0.6666666666666666,
              "#ed7953"
             ],
             [
              0.7777777777777778,
              "#fb9f3a"
             ],
             [
              0.8888888888888888,
              "#fdca26"
             ],
             [
              1.0,
              "#f0f921"
             ]
            ]
           }
          ],
          "choropleth": [
           {
            "type": "choropleth",
            "colorbar": {
             "outlinewidth": 0,
             "ticks": ""
            }
           }
          ],
          "histogram2d": [
           {
            "type": "histogram2d",
            "colorbar": {
             "outlinewidth": 0,
             "ticks": ""
            },
            "colorscale": [
             [
              0.0,
              "#0d0887"
             ],
             [
              0.1111111111111111,
              "#46039f"
             ],
             [
              0.2222222222222222,
              "#7201a8"
             ],
             [
              0.3333333333333333,
              "#9c179e"
             ],
             [
              0.4444444444444444,
              "#bd3786"
             ],
             [
              0.5555555555555556,
              "#d8576b"
             ],
             [
              0.6666666666666666,
              "#ed7953"
             ],
             [
              0.7777777777777778,
              "#fb9f3a"
             ],
             [
              0.8888888888888888,
              "#fdca26"
             ],
             [
              1.0,
              "#f0f921"
             ]
            ]
           }
          ],
          "heatmap": [
           {
            "type": "heatmap",
            "colorbar": {
             "outlinewidth": 0,
             "ticks": ""
            },
            "colorscale": [
             [
              0.0,
              "#0d0887"
             ],
             [
              0.1111111111111111,
              "#46039f"
             ],
             [
              0.2222222222222222,
              "#7201a8"
             ],
             [
              0.3333333333333333,
              "#9c179e"
             ],
             [
              0.4444444444444444,
              "#bd3786"
             ],
             [
              0.5555555555555556,
              "#d8576b"
             ],
             [
              0.6666666666666666,
              "#ed7953"
             ],
             [
              0.7777777777777778,
              "#fb9f3a"
             ],
             [
              0.8888888888888888,
              "#fdca26"
             ],
             [
              1.0,
              "#f0f921"
             ]
            ]
           }
          ],
          "heatmapgl": [
           {
            "type": "heatmapgl",
            "colorbar": {
             "outlinewidth": 0,
             "ticks": ""
            },
            "colorscale": [
             [
              0.0,
              "#0d0887"
             ],
             [
              0.1111111111111111,
              "#46039f"
             ],
             [
              0.2222222222222222,
              "#7201a8"
             ],
             [
              0.3333333333333333,
              "#9c179e"
             ],
             [
              0.4444444444444444,
              "#bd3786"
             ],
             [
              0.5555555555555556,
              "#d8576b"
             ],
             [
              0.6666666666666666,
              "#ed7953"
             ],
             [
              0.7777777777777778,
              "#fb9f3a"
             ],
             [
              0.8888888888888888,
              "#fdca26"
             ],
             [
              1.0,
              "#f0f921"
             ]
            ]
           }
          ],
          "contourcarpet": [
           {
            "type": "contourcarpet",
            "colorbar": {
             "outlinewidth": 0,
             "ticks": ""
            }
           }
          ],
          "contour": [
           {
            "type": "contour",
            "colorbar": {
             "outlinewidth": 0,
             "ticks": ""
            },
            "colorscale": [
             [
              0.0,
              "#0d0887"
             ],
             [
              0.1111111111111111,
              "#46039f"
             ],
             [
              0.2222222222222222,
              "#7201a8"
             ],
             [
              0.3333333333333333,
              "#9c179e"
             ],
             [
              0.4444444444444444,
              "#bd3786"
             ],
             [
              0.5555555555555556,
              "#d8576b"
             ],
             [
              0.6666666666666666,
              "#ed7953"
             ],
             [
              0.7777777777777778,
              "#fb9f3a"
             ],
             [
              0.8888888888888888,
              "#fdca26"
             ],
             [
              1.0,
              "#f0f921"
             ]
            ]
           }
          ],
          "surface": [
           {
            "type": "surface",
            "colorbar": {
             "outlinewidth": 0,
             "ticks": ""
            },
            "colorscale": [
             [
              0.0,
              "#0d0887"
             ],
             [
              0.1111111111111111,
              "#46039f"
             ],
             [
              0.2222222222222222,
              "#7201a8"
             ],
             [
              0.3333333333333333,
              "#9c179e"
             ],
             [
              0.4444444444444444,
              "#bd3786"
             ],
             [
              0.5555555555555556,
              "#d8576b"
             ],
             [
              0.6666666666666666,
              "#ed7953"
             ],
             [
              0.7777777777777778,
              "#fb9f3a"
             ],
             [
              0.8888888888888888,
              "#fdca26"
             ],
             [
              1.0,
              "#f0f921"
             ]
            ]
           }
          ],
          "mesh3d": [
           {
            "type": "mesh3d",
            "colorbar": {
             "outlinewidth": 0,
             "ticks": ""
            }
           }
          ],
          "scatter": [
           {
            "marker": {
             "line": {
              "color": "#283442"
             }
            },
            "type": "scatter"
           }
          ],
          "parcoords": [
           {
            "type": "parcoords",
            "line": {
             "colorbar": {
              "outlinewidth": 0,
              "ticks": ""
             }
            }
           }
          ],
          "scatterpolargl": [
           {
            "type": "scatterpolargl",
            "marker": {
             "colorbar": {
              "outlinewidth": 0,
              "ticks": ""
             }
            }
           }
          ],
          "bar": [
           {
            "error_x": {
             "color": "#f2f5fa"
            },
            "error_y": {
             "color": "#f2f5fa"
            },
            "marker": {
             "line": {
              "color": "rgb(17,17,17)",
              "width": 0.5
             },
             "pattern": {
              "fillmode": "overlay",
              "size": 10,
              "solidity": 0.2
             }
            },
            "type": "bar"
           }
          ],
          "scattergeo": [
           {
            "type": "scattergeo",
            "marker": {
             "colorbar": {
              "outlinewidth": 0,
              "ticks": ""
             }
            }
           }
          ],
          "scatterpolar": [
           {
            "type": "scatterpolar",
            "marker": {
             "colorbar": {
              "outlinewidth": 0,
              "ticks": ""
             }
            }
           }
          ],
          "histogram": [
           {
            "marker": {
             "pattern": {
              "fillmode": "overlay",
              "size": 10,
              "solidity": 0.2
             }
            },
            "type": "histogram"
           }
          ],
          "scattergl": [
           {
            "marker": {
             "line": {
              "color": "#283442"
             }
            },
            "type": "scattergl"
           }
          ],
          "scatter3d": [
           {
            "type": "scatter3d",
            "line": {
             "colorbar": {
              "outlinewidth": 0,
              "ticks": ""
             }
            },
            "marker": {
             "colorbar": {
              "outlinewidth": 0,
              "ticks": ""
             }
            }
           }
          ],
          "scattermapbox": [
           {
            "type": "scattermapbox",
            "marker": {
             "colorbar": {
              "outlinewidth": 0,
              "ticks": ""
             }
            }
           }
          ],
          "scatterternary": [
           {
            "type": "scatterternary",
            "marker": {
             "colorbar": {
              "outlinewidth": 0,
              "ticks": ""
             }
            }
           }
          ],
          "scattercarpet": [
           {
            "type": "scattercarpet",
            "marker": {
             "colorbar": {
              "outlinewidth": 0,
              "ticks": ""
             }
            }
           }
          ],
          "carpet": [
           {
            "aaxis": {
             "endlinecolor": "#A2B1C6",
             "gridcolor": "#506784",
             "linecolor": "#506784",
             "minorgridcolor": "#506784",
             "startlinecolor": "#A2B1C6"
            },
            "baxis": {
             "endlinecolor": "#A2B1C6",
             "gridcolor": "#506784",
             "linecolor": "#506784",
             "minorgridcolor": "#506784",
             "startlinecolor": "#A2B1C6"
            },
            "type": "carpet"
           }
          ],
          "table": [
           {
            "cells": {
             "fill": {
              "color": "#506784"
             },
             "line": {
              "color": "rgb(17,17,17)"
             }
            },
            "header": {
             "fill": {
              "color": "#2a3f5f"
             },
             "line": {
              "color": "rgb(17,17,17)"
             }
            },
            "type": "table"
           }
          ],
          "barpolar": [
           {
            "marker": {
             "line": {
              "color": "rgb(17,17,17)",
              "width": 0.5
             },
             "pattern": {
              "fillmode": "overlay",
              "size": 10,
              "solidity": 0.2
             }
            },
            "type": "barpolar"
           }
          ],
          "pie": [
           {
            "automargin": true,
            "type": "pie"
           }
          ]
         },
         "layout": {
          "autotypenumbers": "strict",
          "colorway": [
           "#636efa",
           "#EF553B",
           "#00cc96",
           "#ab63fa",
           "#FFA15A",
           "#19d3f3",
           "#FF6692",
           "#B6E880",
           "#FF97FF",
           "#FECB52"
          ],
          "font": {
           "color": "#f2f5fa"
          },
          "hovermode": "closest",
          "hoverlabel": {
           "align": "left"
          },
          "paper_bgcolor": "rgb(17,17,17)",
          "plot_bgcolor": "rgb(17,17,17)",
          "polar": {
           "bgcolor": "rgb(17,17,17)",
           "angularaxis": {
            "gridcolor": "#506784",
            "linecolor": "#506784",
            "ticks": ""
           },
           "radialaxis": {
            "gridcolor": "#506784",
            "linecolor": "#506784",
            "ticks": ""
           }
          },
          "ternary": {
           "bgcolor": "rgb(17,17,17)",
           "aaxis": {
            "gridcolor": "#506784",
            "linecolor": "#506784",
            "ticks": ""
           },
           "baxis": {
            "gridcolor": "#506784",
            "linecolor": "#506784",
            "ticks": ""
           },
           "caxis": {
            "gridcolor": "#506784",
            "linecolor": "#506784",
            "ticks": ""
           }
          },
          "coloraxis": {
           "colorbar": {
            "outlinewidth": 0,
            "ticks": ""
           }
          },
          "colorscale": {
           "sequential": [
            [
             0.0,
             "#0d0887"
            ],
            [
             0.1111111111111111,
             "#46039f"
            ],
            [
             0.2222222222222222,
             "#7201a8"
            ],
            [
             0.3333333333333333,
             "#9c179e"
            ],
            [
             0.4444444444444444,
             "#bd3786"
            ],
            [
             0.5555555555555556,
             "#d8576b"
            ],
            [
             0.6666666666666666,
             "#ed7953"
            ],
            [
             0.7777777777777778,
             "#fb9f3a"
            ],
            [
             0.8888888888888888,
             "#fdca26"
            ],
            [
             1.0,
             "#f0f921"
            ]
           ],
           "sequentialminus": [
            [
             0.0,
             "#0d0887"
            ],
            [
             0.1111111111111111,
             "#46039f"
            ],
            [
             0.2222222222222222,
             "#7201a8"
            ],
            [
             0.3333333333333333,
             "#9c179e"
            ],
            [
             0.4444444444444444,
             "#bd3786"
            ],
            [
             0.5555555555555556,
             "#d8576b"
            ],
            [
             0.6666666666666666,
             "#ed7953"
            ],
            [
             0.7777777777777778,
             "#fb9f3a"
            ],
            [
             0.8888888888888888,
             "#fdca26"
            ],
            [
             1.0,
             "#f0f921"
            ]
           ],
           "diverging": [
            [
             0,
             "#8e0152"
            ],
            [
             0.1,
             "#c51b7d"
            ],
            [
             0.2,
             "#de77ae"
            ],
            [
             0.3,
             "#f1b6da"
            ],
            [
             0.4,
             "#fde0ef"
            ],
            [
             0.5,
             "#f7f7f7"
            ],
            [
             0.6,
             "#e6f5d0"
            ],
            [
             0.7,
             "#b8e186"
            ],
            [
             0.8,
             "#7fbc41"
            ],
            [
             0.9,
             "#4d9221"
            ],
            [
             1,
             "#276419"
            ]
           ]
          },
          "xaxis": {
           "gridcolor": "#283442",
           "linecolor": "#506784",
           "ticks": "",
           "title": {
            "standoff": 15
           },
           "zerolinecolor": "#283442",
           "automargin": true,
           "zerolinewidth": 2
          },
          "yaxis": {
           "gridcolor": "#283442",
           "linecolor": "#506784",
           "ticks": "",
           "title": {
            "standoff": 15
           },
           "zerolinecolor": "#283442",
           "automargin": true,
           "zerolinewidth": 2
          },
          "scene": {
           "xaxis": {
            "backgroundcolor": "rgb(17,17,17)",
            "gridcolor": "#506784",
            "linecolor": "#506784",
            "showbackground": true,
            "ticks": "",
            "zerolinecolor": "#C8D4E3",
            "gridwidth": 2
           },
           "yaxis": {
            "backgroundcolor": "rgb(17,17,17)",
            "gridcolor": "#506784",
            "linecolor": "#506784",
            "showbackground": true,
            "ticks": "",
            "zerolinecolor": "#C8D4E3",
            "gridwidth": 2
           },
           "zaxis": {
            "backgroundcolor": "rgb(17,17,17)",
            "gridcolor": "#506784",
            "linecolor": "#506784",
            "showbackground": true,
            "ticks": "",
            "zerolinecolor": "#C8D4E3",
            "gridwidth": 2
           }
          },
          "shapedefaults": {
           "line": {
            "color": "#f2f5fa"
           }
          },
          "annotationdefaults": {
           "arrowcolor": "#f2f5fa",
           "arrowhead": 0,
           "arrowwidth": 1
          },
          "geo": {
           "bgcolor": "rgb(17,17,17)",
           "landcolor": "rgb(17,17,17)",
           "subunitcolor": "#506784",
           "showland": true,
           "showlakes": true,
           "lakecolor": "rgb(17,17,17)"
          },
          "title": {
           "x": 0.05
          },
          "updatemenudefaults": {
           "bgcolor": "#506784",
           "borderwidth": 0
          },
          "sliderdefaults": {
           "bgcolor": "#C8D4E3",
           "borderwidth": 1,
           "bordercolor": "rgb(17,17,17)",
           "tickwidth": 0
          },
          "mapbox": {
           "style": "dark"
          }
         }
        },
        "title": {
         "text": "Accuracy = 82.40, F1 = 0.90",
         "x": 0.5,
         "y": 0.05
        },
        "paper_bgcolor": "rgba(0,0,0,0)"
       },
       "config": {
        "plotlyServerURL": "https://plot.ly"
       }
      },
      "text/html": "<div>                            <div id=\"46d9b0d9-2ce4-4bd3-990b-ff2b9ce39203\" class=\"plotly-graph-div\" style=\"height:525px; width:100%;\"></div>            <script type=\"text/javascript\">                require([\"plotly\"], function(Plotly) {                    window.PLOTLYENV=window.PLOTLYENV || {};                                    if (document.getElementById(\"46d9b0d9-2ce4-4bd3-990b-ff2b9ce39203\")) {                    Plotly.newPlot(                        \"46d9b0d9-2ce4-4bd3-990b-ff2b9ce39203\",                        [{\"colorscale\":[[0.0,\"rgb(3, 5, 18)\"],[0.09090909090909091,\"rgb(25, 25, 51)\"],[0.18181818181818182,\"rgb(44, 42, 87)\"],[0.2727272727272727,\"rgb(58, 60, 125)\"],[0.36363636363636365,\"rgb(62, 83, 160)\"],[0.45454545454545453,\"rgb(62, 109, 178)\"],[0.5454545454545454,\"rgb(72, 134, 187)\"],[0.6363636363636364,\"rgb(89, 159, 196)\"],[0.7272727272727273,\"rgb(114, 184, 205)\"],[0.8181818181818182,\"rgb(149, 207, 216)\"],[0.9090909090909091,\"rgb(192, 229, 232)\"],[1.0,\"rgb(234, 252, 253)\"]],\"reversescale\":true,\"showscale\":false,\"x\":[\"I-III\",\"IV\"],\"y\":[\"IV\",\"I-III\"],\"z\":[[4,260],[21,56]],\"type\":\"heatmap\"}],                        {\"annotations\":[{\"font\":{\"color\":\"#000000\"},\"showarrow\":false,\"text\":\"4\",\"x\":\"I-III\",\"xref\":\"x\",\"y\":\"IV\",\"yref\":\"y\"},{\"font\":{\"color\":\"#FFFFFF\"},\"showarrow\":false,\"text\":\"260\",\"x\":\"IV\",\"xref\":\"x\",\"y\":\"IV\",\"yref\":\"y\"},{\"font\":{\"color\":\"#000000\"},\"showarrow\":false,\"text\":\"21\",\"x\":\"I-III\",\"xref\":\"x\",\"y\":\"I-III\",\"yref\":\"y\"},{\"font\":{\"color\":\"#000000\"},\"showarrow\":false,\"text\":\"56\",\"x\":\"IV\",\"xref\":\"x\",\"y\":\"I-III\",\"yref\":\"y\"}],\"xaxis\":{\"dtick\":1,\"gridcolor\":\"rgb(0, 0, 0)\",\"side\":\"top\",\"ticks\":\"\",\"tickfont\":{\"size\":10},\"title\":{\"text\":\"Predicted label\"}},\"yaxis\":{\"dtick\":1,\"ticks\":\"\",\"ticksuffix\":\"  \",\"tickfont\":{\"size\":10},\"title\":{\"text\":\"True label\"}},\"template\":{\"data\":{\"histogram2dcontour\":[{\"type\":\"histogram2dcontour\",\"colorbar\":{\"outlinewidth\":0,\"ticks\":\"\"},\"colorscale\":[[0.0,\"#0d0887\"],[0.1111111111111111,\"#46039f\"],[0.2222222222222222,\"#7201a8\"],[0.3333333333333333,\"#9c179e\"],[0.4444444444444444,\"#bd3786\"],[0.5555555555555556,\"#d8576b\"],[0.6666666666666666,\"#ed7953\"],[0.7777777777777778,\"#fb9f3a\"],[0.8888888888888888,\"#fdca26\"],[1.0,\"#f0f921\"]]}],\"choropleth\":[{\"type\":\"choropleth\",\"colorbar\":{\"outlinewidth\":0,\"ticks\":\"\"}}],\"histogram2d\":[{\"type\":\"histogram2d\",\"colorbar\":{\"outlinewidth\":0,\"ticks\":\"\"},\"colorscale\":[[0.0,\"#0d0887\"],[0.1111111111111111,\"#46039f\"],[0.2222222222222222,\"#7201a8\"],[0.3333333333333333,\"#9c179e\"],[0.4444444444444444,\"#bd3786\"],[0.5555555555555556,\"#d8576b\"],[0.6666666666666666,\"#ed7953\"],[0.7777777777777778,\"#fb9f3a\"],[0.8888888888888888,\"#fdca26\"],[1.0,\"#f0f921\"]]}],\"heatmap\":[{\"type\":\"heatmap\",\"colorbar\":{\"outlinewidth\":0,\"ticks\":\"\"},\"colorscale\":[[0.0,\"#0d0887\"],[0.1111111111111111,\"#46039f\"],[0.2222222222222222,\"#7201a8\"],[0.3333333333333333,\"#9c179e\"],[0.4444444444444444,\"#bd3786\"],[0.5555555555555556,\"#d8576b\"],[0.6666666666666666,\"#ed7953\"],[0.7777777777777778,\"#fb9f3a\"],[0.8888888888888888,\"#fdca26\"],[1.0,\"#f0f921\"]]}],\"heatmapgl\":[{\"type\":\"heatmapgl\",\"colorbar\":{\"outlinewidth\":0,\"ticks\":\"\"},\"colorscale\":[[0.0,\"#0d0887\"],[0.1111111111111111,\"#46039f\"],[0.2222222222222222,\"#7201a8\"],[0.3333333333333333,\"#9c179e\"],[0.4444444444444444,\"#bd3786\"],[0.5555555555555556,\"#d8576b\"],[0.6666666666666666,\"#ed7953\"],[0.7777777777777778,\"#fb9f3a\"],[0.8888888888888888,\"#fdca26\"],[1.0,\"#f0f921\"]]}],\"contourcarpet\":[{\"type\":\"contourcarpet\",\"colorbar\":{\"outlinewidth\":0,\"ticks\":\"\"}}],\"contour\":[{\"type\":\"contour\",\"colorbar\":{\"outlinewidth\":0,\"ticks\":\"\"},\"colorscale\":[[0.0,\"#0d0887\"],[0.1111111111111111,\"#46039f\"],[0.2222222222222222,\"#7201a8\"],[0.3333333333333333,\"#9c179e\"],[0.4444444444444444,\"#bd3786\"],[0.5555555555555556,\"#d8576b\"],[0.6666666666666666,\"#ed7953\"],[0.7777777777777778,\"#fb9f3a\"],[0.8888888888888888,\"#fdca26\"],[1.0,\"#f0f921\"]]}],\"surface\":[{\"type\":\"surface\",\"colorbar\":{\"outlinewidth\":0,\"ticks\":\"\"},\"colorscale\":[[0.0,\"#0d0887\"],[0.1111111111111111,\"#46039f\"],[0.2222222222222222,\"#7201a8\"],[0.3333333333333333,\"#9c179e\"],[0.4444444444444444,\"#bd3786\"],[0.5555555555555556,\"#d8576b\"],[0.6666666666666666,\"#ed7953\"],[0.7777777777777778,\"#fb9f3a\"],[0.8888888888888888,\"#fdca26\"],[1.0,\"#f0f921\"]]}],\"mesh3d\":[{\"type\":\"mesh3d\",\"colorbar\":{\"outlinewidth\":0,\"ticks\":\"\"}}],\"scatter\":[{\"marker\":{\"line\":{\"color\":\"#283442\"}},\"type\":\"scatter\"}],\"parcoords\":[{\"type\":\"parcoords\",\"line\":{\"colorbar\":{\"outlinewidth\":0,\"ticks\":\"\"}}}],\"scatterpolargl\":[{\"type\":\"scatterpolargl\",\"marker\":{\"colorbar\":{\"outlinewidth\":0,\"ticks\":\"\"}}}],\"bar\":[{\"error_x\":{\"color\":\"#f2f5fa\"},\"error_y\":{\"color\":\"#f2f5fa\"},\"marker\":{\"line\":{\"color\":\"rgb(17,17,17)\",\"width\":0.5},\"pattern\":{\"fillmode\":\"overlay\",\"size\":10,\"solidity\":0.2}},\"type\":\"bar\"}],\"scattergeo\":[{\"type\":\"scattergeo\",\"marker\":{\"colorbar\":{\"outlinewidth\":0,\"ticks\":\"\"}}}],\"scatterpolar\":[{\"type\":\"scatterpolar\",\"marker\":{\"colorbar\":{\"outlinewidth\":0,\"ticks\":\"\"}}}],\"histogram\":[{\"marker\":{\"pattern\":{\"fillmode\":\"overlay\",\"size\":10,\"solidity\":0.2}},\"type\":\"histogram\"}],\"scattergl\":[{\"marker\":{\"line\":{\"color\":\"#283442\"}},\"type\":\"scattergl\"}],\"scatter3d\":[{\"type\":\"scatter3d\",\"line\":{\"colorbar\":{\"outlinewidth\":0,\"ticks\":\"\"}},\"marker\":{\"colorbar\":{\"outlinewidth\":0,\"ticks\":\"\"}}}],\"scattermapbox\":[{\"type\":\"scattermapbox\",\"marker\":{\"colorbar\":{\"outlinewidth\":0,\"ticks\":\"\"}}}],\"scatterternary\":[{\"type\":\"scatterternary\",\"marker\":{\"colorbar\":{\"outlinewidth\":0,\"ticks\":\"\"}}}],\"scattercarpet\":[{\"type\":\"scattercarpet\",\"marker\":{\"colorbar\":{\"outlinewidth\":0,\"ticks\":\"\"}}}],\"carpet\":[{\"aaxis\":{\"endlinecolor\":\"#A2B1C6\",\"gridcolor\":\"#506784\",\"linecolor\":\"#506784\",\"minorgridcolor\":\"#506784\",\"startlinecolor\":\"#A2B1C6\"},\"baxis\":{\"endlinecolor\":\"#A2B1C6\",\"gridcolor\":\"#506784\",\"linecolor\":\"#506784\",\"minorgridcolor\":\"#506784\",\"startlinecolor\":\"#A2B1C6\"},\"type\":\"carpet\"}],\"table\":[{\"cells\":{\"fill\":{\"color\":\"#506784\"},\"line\":{\"color\":\"rgb(17,17,17)\"}},\"header\":{\"fill\":{\"color\":\"#2a3f5f\"},\"line\":{\"color\":\"rgb(17,17,17)\"}},\"type\":\"table\"}],\"barpolar\":[{\"marker\":{\"line\":{\"color\":\"rgb(17,17,17)\",\"width\":0.5},\"pattern\":{\"fillmode\":\"overlay\",\"size\":10,\"solidity\":0.2}},\"type\":\"barpolar\"}],\"pie\":[{\"automargin\":true,\"type\":\"pie\"}]},\"layout\":{\"autotypenumbers\":\"strict\",\"colorway\":[\"#636efa\",\"#EF553B\",\"#00cc96\",\"#ab63fa\",\"#FFA15A\",\"#19d3f3\",\"#FF6692\",\"#B6E880\",\"#FF97FF\",\"#FECB52\"],\"font\":{\"color\":\"#f2f5fa\"},\"hovermode\":\"closest\",\"hoverlabel\":{\"align\":\"left\"},\"paper_bgcolor\":\"rgb(17,17,17)\",\"plot_bgcolor\":\"rgb(17,17,17)\",\"polar\":{\"bgcolor\":\"rgb(17,17,17)\",\"angularaxis\":{\"gridcolor\":\"#506784\",\"linecolor\":\"#506784\",\"ticks\":\"\"},\"radialaxis\":{\"gridcolor\":\"#506784\",\"linecolor\":\"#506784\",\"ticks\":\"\"}},\"ternary\":{\"bgcolor\":\"rgb(17,17,17)\",\"aaxis\":{\"gridcolor\":\"#506784\",\"linecolor\":\"#506784\",\"ticks\":\"\"},\"baxis\":{\"gridcolor\":\"#506784\",\"linecolor\":\"#506784\",\"ticks\":\"\"},\"caxis\":{\"gridcolor\":\"#506784\",\"linecolor\":\"#506784\",\"ticks\":\"\"}},\"coloraxis\":{\"colorbar\":{\"outlinewidth\":0,\"ticks\":\"\"}},\"colorscale\":{\"sequential\":[[0.0,\"#0d0887\"],[0.1111111111111111,\"#46039f\"],[0.2222222222222222,\"#7201a8\"],[0.3333333333333333,\"#9c179e\"],[0.4444444444444444,\"#bd3786\"],[0.5555555555555556,\"#d8576b\"],[0.6666666666666666,\"#ed7953\"],[0.7777777777777778,\"#fb9f3a\"],[0.8888888888888888,\"#fdca26\"],[1.0,\"#f0f921\"]],\"sequentialminus\":[[0.0,\"#0d0887\"],[0.1111111111111111,\"#46039f\"],[0.2222222222222222,\"#7201a8\"],[0.3333333333333333,\"#9c179e\"],[0.4444444444444444,\"#bd3786\"],[0.5555555555555556,\"#d8576b\"],[0.6666666666666666,\"#ed7953\"],[0.7777777777777778,\"#fb9f3a\"],[0.8888888888888888,\"#fdca26\"],[1.0,\"#f0f921\"]],\"diverging\":[[0,\"#8e0152\"],[0.1,\"#c51b7d\"],[0.2,\"#de77ae\"],[0.3,\"#f1b6da\"],[0.4,\"#fde0ef\"],[0.5,\"#f7f7f7\"],[0.6,\"#e6f5d0\"],[0.7,\"#b8e186\"],[0.8,\"#7fbc41\"],[0.9,\"#4d9221\"],[1,\"#276419\"]]},\"xaxis\":{\"gridcolor\":\"#283442\",\"linecolor\":\"#506784\",\"ticks\":\"\",\"title\":{\"standoff\":15},\"zerolinecolor\":\"#283442\",\"automargin\":true,\"zerolinewidth\":2},\"yaxis\":{\"gridcolor\":\"#283442\",\"linecolor\":\"#506784\",\"ticks\":\"\",\"title\":{\"standoff\":15},\"zerolinecolor\":\"#283442\",\"automargin\":true,\"zerolinewidth\":2},\"scene\":{\"xaxis\":{\"backgroundcolor\":\"rgb(17,17,17)\",\"gridcolor\":\"#506784\",\"linecolor\":\"#506784\",\"showbackground\":true,\"ticks\":\"\",\"zerolinecolor\":\"#C8D4E3\",\"gridwidth\":2},\"yaxis\":{\"backgroundcolor\":\"rgb(17,17,17)\",\"gridcolor\":\"#506784\",\"linecolor\":\"#506784\",\"showbackground\":true,\"ticks\":\"\",\"zerolinecolor\":\"#C8D4E3\",\"gridwidth\":2},\"zaxis\":{\"backgroundcolor\":\"rgb(17,17,17)\",\"gridcolor\":\"#506784\",\"linecolor\":\"#506784\",\"showbackground\":true,\"ticks\":\"\",\"zerolinecolor\":\"#C8D4E3\",\"gridwidth\":2}},\"shapedefaults\":{\"line\":{\"color\":\"#f2f5fa\"}},\"annotationdefaults\":{\"arrowcolor\":\"#f2f5fa\",\"arrowhead\":0,\"arrowwidth\":1},\"geo\":{\"bgcolor\":\"rgb(17,17,17)\",\"landcolor\":\"rgb(17,17,17)\",\"subunitcolor\":\"#506784\",\"showland\":true,\"showlakes\":true,\"lakecolor\":\"rgb(17,17,17)\"},\"title\":{\"x\":0.05},\"updatemenudefaults\":{\"bgcolor\":\"#506784\",\"borderwidth\":0},\"sliderdefaults\":{\"bgcolor\":\"#C8D4E3\",\"borderwidth\":1,\"bordercolor\":\"rgb(17,17,17)\",\"tickwidth\":0},\"mapbox\":{\"style\":\"dark\"}}},\"title\":{\"text\":\"Accuracy = 82.40, F1 = 0.90\",\"x\":0.5,\"y\":0.05},\"paper_bgcolor\":\"rgba(0,0,0,0)\"},                        {\"responsive\": true}                    ).then(function(){\n                            \nvar gd = document.getElementById('46d9b0d9-2ce4-4bd3-990b-ff2b9ce39203');\nvar x = new MutationObserver(function (mutations, observer) {{\n        var display = window.getComputedStyle(gd).display;\n        if (!display || display === 'none') {{\n            console.log([gd, 'removed!']);\n            Plotly.purge(gd);\n            observer.disconnect();\n        }}\n}});\n\n// Listen for the removal of the full notebook cells\nvar notebookContainer = gd.closest('#notebook-container');\nif (notebookContainer) {{\n    x.observe(notebookContainer, {childList: true});\n}}\n\n// Listen for the clearing of the current output cell\nvar outputEl = gd.closest('.output');\nif (outputEl) {{\n    x.observe(outputEl, {childList: true});\n}}\n\n                        })                };                });            </script>        </div>"
     },
     "metadata": {},
     "output_type": "display_data"
    }
   ],
   "source": [
    "accuracy = accuracy_score(y_true, y_pred.astype(int))\n",
    "f1 = f1_score(y_true, y_pred.astype(int))\n",
    "cm = confusion_matrix(y_true, y_pred.astype(int))\n",
    "\n",
    "title_dict = {\n",
    "    'text': f'Accuracy = {accuracy*100:.2f}, F1 = {f1:.2f}',\n",
    "    'x': 0.5,\n",
    "    'y': 0.05\n",
    "}\n",
    "\n",
    "plot_confusion_matrix(cm, labels, title_dict)"
   ],
   "metadata": {
    "collapsed": false,
    "ExecuteTime": {
     "start_time": "2023-04-11T20:49:00.923229Z",
     "end_time": "2023-04-11T20:49:00.980760Z"
    }
   }
  },
  {
   "cell_type": "markdown",
   "source": [
    "### Ovarian cancer"
   ],
   "metadata": {
    "collapsed": false
   }
  },
  {
   "cell_type": "code",
   "execution_count": 86,
   "outputs": [
    {
     "data": {
      "text/plain": "Stage\n0    78\n1    28\nName: count, dtype: int64"
     },
     "execution_count": 86,
     "metadata": {},
     "output_type": "execute_result"
    }
   ],
   "source": [
    "X_train = train.loc[train['Group'] == 'Ovarian cancer']\n",
    "\n",
    "stratification_groups = X_train.loc[:, 'Stage']\n",
    "X_train = X_train.loc[:, ~X_train.columns.isin(['ID', 'Sex', 'Age', 'Group'])]\n",
    "\n",
    "X_train.loc[:, 'Stage'] = X_train['Stage'].map(mapping).map(labels_encoding)\n",
    "X_train['Stage'].value_counts()"
   ],
   "metadata": {
    "collapsed": false,
    "ExecuteTime": {
     "start_time": "2023-04-11T20:51:56.826403Z",
     "end_time": "2023-04-11T20:51:56.892925Z"
    }
   }
  },
  {
   "cell_type": "code",
   "execution_count": 87,
   "outputs": [
    {
     "name": "stderr",
     "output_type": "stream",
     "text": [
      "\u001B[32m[I 2023-04-11 20:52:09,193]\u001B[0m A new study created in memory with name: no-name-02631223-fe03-4529-acad-b9a41d1f2ec3\u001B[0m\n",
      "\u001B[32m[I 2023-04-11 20:52:16,963]\u001B[0m Trial 0 finished with value: 0.7205128205128205 and parameters: {'n_estimators': 99, 'max_depth': 5, 'learning_rate': 0.23398440482701321, 'subsample': 0.9165288931886627, 'colsample_bytree': 0.6000065504192383, 'gamma': 0.7189339517765465}. Best is trial 0 with value: 0.7205128205128205.\u001B[0m\n",
      "\u001B[32m[I 2023-04-11 20:52:24,444]\u001B[0m Trial 1 finished with value: 0.664957264957265 and parameters: {'n_estimators': 91, 'max_depth': 4, 'learning_rate': 0.2321216596265116, 'subsample': 0.8757242056497063, 'colsample_bytree': 0.7652855316503839, 'gamma': 0.5623622415278761}. Best is trial 0 with value: 0.7205128205128205.\u001B[0m\n",
      "\u001B[32m[I 2023-04-11 20:52:31,712]\u001B[0m Trial 2 finished with value: 0.7773310023310023 and parameters: {'n_estimators': 91, 'max_depth': 6, 'learning_rate': 0.1677982760305576, 'subsample': 0.9309454154680619, 'colsample_bytree': 0.6325009140548452, 'gamma': 0.9577411980546721}. Best is trial 2 with value: 0.7773310023310023.\u001B[0m\n",
      "\u001B[32m[I 2023-04-11 20:52:41,891]\u001B[0m Trial 3 finished with value: 0.6113636363636363 and parameters: {'n_estimators': 130, 'max_depth': 7, 'learning_rate': 0.19103713002790107, 'subsample': 0.8384301476758339, 'colsample_bytree': 0.9785902636040209, 'gamma': 0.7833998655497857}. Best is trial 2 with value: 0.7773310023310023.\u001B[0m\n",
      "\u001B[32m[I 2023-04-11 20:52:49,757]\u001B[0m Trial 4 finished with value: 0.7038461538461539 and parameters: {'n_estimators': 93, 'max_depth': 4, 'learning_rate': 0.10907448143420985, 'subsample': 0.6576844569315253, 'colsample_bytree': 0.6741719393327223, 'gamma': 0.05437518366675376}. Best is trial 2 with value: 0.7773310023310023.\u001B[0m\n",
      "\u001B[32m[I 2023-04-11 20:52:57,206]\u001B[0m Trial 5 finished with value: 0.7038461538461539 and parameters: {'n_estimators': 96, 'max_depth': 2, 'learning_rate': 0.17483136948066727, 'subsample': 0.670034392235952, 'colsample_bytree': 0.7945019233817796, 'gamma': 0.724829652896694}. Best is trial 2 with value: 0.7773310023310023.\u001B[0m\n",
      "\u001B[32m[I 2023-04-11 20:53:01,758]\u001B[0m Trial 6 finished with value: 0.7755411255411255 and parameters: {'n_estimators': 51, 'max_depth': 4, 'learning_rate': 0.22076628933477985, 'subsample': 0.744305928178212, 'colsample_bytree': 0.9798561700862366, 'gamma': 0.5310899964065153}. Best is trial 2 with value: 0.7773310023310023.\u001B[0m\n",
      "\u001B[32m[I 2023-04-11 20:53:11,193]\u001B[0m Trial 7 finished with value: 0.6801087801087802 and parameters: {'n_estimators': 128, 'max_depth': 4, 'learning_rate': 0.21147029206654105, 'subsample': 0.645252856307556, 'colsample_bytree': 0.6879282811114062, 'gamma': 0.8472681212791823}. Best is trial 2 with value: 0.7773310023310023.\u001B[0m\n",
      "\u001B[32m[I 2023-04-11 20:53:19,125]\u001B[0m Trial 8 finished with value: 0.8068181818181819 and parameters: {'n_estimators': 90, 'max_depth': 8, 'learning_rate': 0.012547827546234496, 'subsample': 0.9524441223195073, 'colsample_bytree': 0.9203076885188091, 'gamma': 0.43580415869010514}. Best is trial 8 with value: 0.8068181818181819.\u001B[0m\n",
      "\u001B[32m[I 2023-04-11 20:53:23,785]\u001B[0m Trial 9 finished with value: 0.7317682317682317 and parameters: {'n_estimators': 53, 'max_depth': 3, 'learning_rate': 0.23619210738932553, 'subsample': 0.6032379513104084, 'colsample_bytree': 0.9620875641305473, 'gamma': 0.03342742507265817}. Best is trial 8 with value: 0.8068181818181819.\u001B[0m\n",
      "\u001B[32m[I 2023-04-11 20:53:26,475]\u001B[0m Trial 10 finished with value: 0.7916666666666666 and parameters: {'n_estimators': 20, 'max_depth': 8, 'learning_rate': 0.009391325381516158, 'subsample': 0.9782732940717006, 'colsample_bytree': 0.8963430916639226, 'gamma': 0.31963341208012563}. Best is trial 8 with value: 0.8068181818181819.\u001B[0m\n",
      "\u001B[32m[I 2023-04-11 20:53:29,334]\u001B[0m Trial 11 finished with value: 0.8068181818181819 and parameters: {'n_estimators': 22, 'max_depth': 8, 'learning_rate': 0.00442596496037838, 'subsample': 0.9950596375711614, 'colsample_bytree': 0.8892729561595325, 'gamma': 0.2994005861382331}. Best is trial 8 with value: 0.8068181818181819.\u001B[0m\n",
      "\u001B[32m[I 2023-04-11 20:53:35,148]\u001B[0m Trial 12 finished with value: 0.8068181818181819 and parameters: {'n_estimators': 62, 'max_depth': 8, 'learning_rate': 0.012705502872217084, 'subsample': 0.9732743123049411, 'colsample_bytree': 0.8795874454910064, 'gamma': 0.33937402295178143}. Best is trial 8 with value: 0.8068181818181819.\u001B[0m\n",
      "\u001B[32m[I 2023-04-11 20:53:38,909]\u001B[0m Trial 13 finished with value: 0.8068181818181819 and parameters: {'n_estimators': 34, 'max_depth': 7, 'learning_rate': 0.06217492210084617, 'subsample': 0.9736864577772972, 'colsample_bytree': 0.881950573546848, 'gamma': 0.3337103806301124}. Best is trial 8 with value: 0.8068181818181819.\u001B[0m\n",
      "\u001B[32m[I 2023-04-11 20:53:44,549]\u001B[0m Trial 14 finished with value: 0.7053613053613054 and parameters: {'n_estimators': 68, 'max_depth': 7, 'learning_rate': 0.29670563218588486, 'subsample': 0.9053820468630143, 'colsample_bytree': 0.8398343208994908, 'gamma': 0.2239903742417736}. Best is trial 8 with value: 0.8068181818181819.\u001B[0m\n",
      "\u001B[32m[I 2023-04-11 20:53:53,797]\u001B[0m Trial 15 finished with value: 0.775 and parameters: {'n_estimators': 113, 'max_depth': 8, 'learning_rate': 0.052300202979047104, 'subsample': 0.9987801286427808, 'colsample_bytree': 0.9185688414233646, 'gamma': 0.46206162022162933}. Best is trial 8 with value: 0.8068181818181819.\u001B[0m\n",
      "\u001B[32m[I 2023-04-11 20:54:04,551]\u001B[0m Trial 16 finished with value: 0.7499999999999999 and parameters: {'n_estimators': 145, 'max_depth': 6, 'learning_rate': 0.11481621744711624, 'subsample': 0.8351378190880967, 'colsample_bytree': 0.9377509525139369, 'gamma': 0.1651070997459746}. Best is trial 8 with value: 0.8068181818181819.\u001B[0m\n",
      "\u001B[32m[I 2023-04-11 20:54:11,144]\u001B[0m Trial 17 finished with value: 0.8068181818181819 and parameters: {'n_estimators': 74, 'max_depth': 6, 'learning_rate': 0.041052473160480496, 'subsample': 0.940012318500688, 'colsample_bytree': 0.8454658073261204, 'gamma': 0.43367166288627945}. Best is trial 8 with value: 0.8068181818181819.\u001B[0m\n",
      "\u001B[32m[I 2023-04-11 20:54:15,331]\u001B[0m Trial 18 finished with value: 0.7788461538461539 and parameters: {'n_estimators': 38, 'max_depth': 8, 'learning_rate': 0.006205739341121663, 'subsample': 0.9974818251535735, 'colsample_bytree': 0.9944001331397567, 'gamma': 0.582014615831731}. Best is trial 8 with value: 0.8068181818181819.\u001B[0m\n",
      "\u001B[32m[I 2023-04-11 20:54:24,188]\u001B[0m Trial 19 finished with value: 0.7788461538461539 and parameters: {'n_estimators': 112, 'max_depth': 7, 'learning_rate': 0.08749808183488256, 'subsample': 0.8791134170174437, 'colsample_bytree': 0.9248985057685276, 'gamma': 0.4160176685839386}. Best is trial 8 with value: 0.8068181818181819.\u001B[0m\n",
      "\u001B[32m[I 2023-04-11 20:54:31,255]\u001B[0m Trial 20 finished with value: 0.8068181818181819 and parameters: {'n_estimators': 78, 'max_depth': 5, 'learning_rate': 0.03494659701133405, 'subsample': 0.9412071739017172, 'colsample_bytree': 0.943838609052343, 'gamma': 0.21608327621096124}. Best is trial 8 with value: 0.8068181818181819.\u001B[0m\n",
      "\u001B[32m[I 2023-04-11 20:54:36,904]\u001B[0m Trial 21 finished with value: 0.8068181818181819 and parameters: {'n_estimators': 58, 'max_depth': 8, 'learning_rate': 0.0011770278196531012, 'subsample': 0.9545800957469475, 'colsample_bytree': 0.8774132299358235, 'gamma': 0.31710107816994126}. Best is trial 8 with value: 0.8068181818181819.\u001B[0m\n",
      "\u001B[32m[I 2023-04-11 20:54:39,990]\u001B[0m Trial 22 finished with value: 0.8068181818181819 and parameters: {'n_estimators': 24, 'max_depth': 8, 'learning_rate': 0.02286465383194923, 'subsample': 0.9656906220463919, 'colsample_bytree': 0.8572864377069885, 'gamma': 0.3800015823055876}. Best is trial 8 with value: 0.8068181818181819.\u001B[0m\n",
      "\u001B[32m[I 2023-04-11 20:54:44,493]\u001B[0m Trial 23 finished with value: 0.8068181818181819 and parameters: {'n_estimators': 45, 'max_depth': 7, 'learning_rate': 0.06760321771176221, 'subsample': 0.9971335098452672, 'colsample_bytree': 0.9030685016202936, 'gamma': 0.5186283902732503}. Best is trial 8 with value: 0.8068181818181819.\u001B[0m\n",
      "\u001B[32m[I 2023-04-11 20:54:50,112]\u001B[0m Trial 24 finished with value: 0.8068181818181819 and parameters: {'n_estimators': 59, 'max_depth': 8, 'learning_rate': 0.036082253158054446, 'subsample': 0.9041512164084686, 'colsample_bytree': 0.948168851330685, 'gamma': 0.2488071668520201}. Best is trial 8 with value: 0.8068181818181819.\u001B[0m\n",
      "\u001B[32m[I 2023-04-11 20:54:56,213]\u001B[0m Trial 25 finished with value: 0.8068181818181819 and parameters: {'n_estimators': 66, 'max_depth': 6, 'learning_rate': 0.023026863755016114, 'subsample': 0.9559901439587064, 'colsample_bytree': 0.8142781207827734, 'gamma': 0.3978823513771169}. Best is trial 8 with value: 0.8068181818181819.\u001B[0m\n",
      "\u001B[32m[I 2023-04-11 20:55:04,911]\u001B[0m Trial 26 finished with value: 0.7621794871794872 and parameters: {'n_estimators': 108, 'max_depth': 7, 'learning_rate': 0.06964514867098384, 'subsample': 0.9622558520840631, 'colsample_bytree': 0.904933336414806, 'gamma': 0.14641353907411592}. Best is trial 8 with value: 0.8068181818181819.\u001B[0m\n",
      "\u001B[32m[I 2023-04-11 20:55:12,036]\u001B[0m Trial 27 finished with value: 0.8068181818181819 and parameters: {'n_estimators': 81, 'max_depth': 8, 'learning_rate': 0.0013922400871064916, 'subsample': 0.9249237644917926, 'colsample_bytree': 0.873762662205891, 'gamma': 0.284285424897381}. Best is trial 8 with value: 0.8068181818181819.\u001B[0m\n",
      "\u001B[32m[I 2023-04-11 20:55:15,957]\u001B[0m Trial 28 finished with value: 0.8068181818181819 and parameters: {'n_estimators': 36, 'max_depth': 7, 'learning_rate': 0.030349304306285466, 'subsample': 0.8849157550550554, 'colsample_bytree': 0.9210689209994132, 'gamma': 0.47639290640114035}. Best is trial 8 with value: 0.8068181818181819.\u001B[0m\n",
      "\u001B[32m[I 2023-04-11 20:55:22,267]\u001B[0m Trial 29 finished with value: 0.7803030303030303 and parameters: {'n_estimators': 69, 'max_depth': 6, 'learning_rate': 0.05492080592443978, 'subsample': 0.9171521887080263, 'colsample_bytree': 0.954178020957997, 'gamma': 0.6192446960051382}. Best is trial 8 with value: 0.8068181818181819.\u001B[0m\n",
      "\u001B[32m[I 2023-04-11 20:55:30,485]\u001B[0m Trial 30 finished with value: 0.7939976689976691 and parameters: {'n_estimators': 103, 'max_depth': 8, 'learning_rate': 0.08833799116515254, 'subsample': 0.9401609703074275, 'colsample_bytree': 0.8951568628736802, 'gamma': 0.36465187442794966}. Best is trial 8 with value: 0.8068181818181819.\u001B[0m\n",
      "\u001B[32m[I 2023-04-11 20:55:34,069]\u001B[0m Trial 31 finished with value: 0.8068181818181819 and parameters: {'n_estimators': 31, 'max_depth': 7, 'learning_rate': 0.021981147832275172, 'subsample': 0.9766242408031718, 'colsample_bytree': 0.8784784494029255, 'gamma': 0.3475243857845717}. Best is trial 8 with value: 0.8068181818181819.\u001B[0m\n",
      "\u001B[32m[I 2023-04-11 20:55:37,508]\u001B[0m Trial 32 finished with value: 0.8068181818181819 and parameters: {'n_estimators': 28, 'max_depth': 8, 'learning_rate': 0.050861054831996454, 'subsample': 0.9779797652589058, 'colsample_bytree': 0.8331357503895778, 'gamma': 0.2941353758705958}. Best is trial 8 with value: 0.8068181818181819.\u001B[0m\n",
      "\u001B[32m[I 2023-04-11 20:55:41,963]\u001B[0m Trial 33 finished with value: 0.7916666666666666 and parameters: {'n_estimators': 42, 'max_depth': 7, 'learning_rate': 0.01655523532018298, 'subsample': 0.9981836833842627, 'colsample_bytree': 0.8685662985897581, 'gamma': 0.48578569847546266}. Best is trial 8 with value: 0.8068181818181819.\u001B[0m\n",
      "\u001B[32m[I 2023-04-11 20:55:49,294]\u001B[0m Trial 34 finished with value: 0.8068181818181819 and parameters: {'n_estimators': 85, 'max_depth': 8, 'learning_rate': 0.03822196952674758, 'subsample': 0.9310192005647565, 'colsample_bytree': 0.8557011336873905, 'gamma': 0.41987799546672244}. Best is trial 8 with value: 0.8068181818181819.\u001B[0m\n",
      "\u001B[32m[I 2023-04-11 20:55:52,037]\u001B[0m Trial 35 finished with value: 0.8068181818181819 and parameters: {'n_estimators': 20, 'max_depth': 7, 'learning_rate': 0.02015026846111974, 'subsample': 0.9553376485034659, 'colsample_bytree': 0.8119039569671276, 'gamma': 0.36128285055290427}. Best is trial 8 with value: 0.8068181818181819.\u001B[0m\n",
      "\u001B[32m[I 2023-04-11 20:55:55,740]\u001B[0m Trial 36 finished with value: 0.8068181818181819 and parameters: {'n_estimators': 33, 'max_depth': 6, 'learning_rate': 0.0033737296182375434, 'subsample': 0.8955538035434621, 'colsample_bytree': 0.8936719890094557, 'gamma': 0.2829343267872749}. Best is trial 8 with value: 0.8068181818181819.\u001B[0m\n",
      "\u001B[32m[I 2023-04-11 20:56:00,222]\u001B[0m Trial 37 finished with value: 0.8068181818181819 and parameters: {'n_estimators': 46, 'max_depth': 8, 'learning_rate': 0.06619154377266892, 'subsample': 0.866886935922052, 'colsample_bytree': 0.789678738758444, 'gamma': 0.16069078879098542}. Best is trial 8 with value: 0.8068181818181819.\u001B[0m\n",
      "\u001B[32m[I 2023-04-11 20:56:07,562]\u001B[0m Trial 38 finished with value: 0.7674825174825175 and parameters: {'n_estimators': 89, 'max_depth': 2, 'learning_rate': 0.042442062407432264, 'subsample': 0.9259174081258157, 'colsample_bytree': 0.9734491576996647, 'gamma': 0.6202287652347046}. Best is trial 8 with value: 0.8068181818181819.\u001B[0m\n",
      "\u001B[32m[I 2023-04-11 20:56:13,191]\u001B[0m Trial 39 finished with value: 0.8068181818181819 and parameters: {'n_estimators': 59, 'max_depth': 5, 'learning_rate': 0.016670013885292673, 'subsample': 0.9740945122784391, 'colsample_bytree': 0.9271651631584714, 'gamma': 0.45581626155874994}. Best is trial 8 with value: 0.8068181818181819.\u001B[0m\n",
      "\u001B[32m[I 2023-04-11 20:56:17,944]\u001B[0m Trial 40 finished with value: 0.8068181818181819 and parameters: {'n_estimators': 51, 'max_depth': 3, 'learning_rate': 0.025629610413557706, 'subsample': 0.9103405435434003, 'colsample_bytree': 0.7543240334529993, 'gamma': 0.35679604561416056}. Best is trial 8 with value: 0.8068181818181819.\u001B[0m\n",
      "\u001B[32m[I 2023-04-11 20:56:24,631]\u001B[0m Trial 41 finished with value: 0.8068181818181819 and parameters: {'n_estimators': 76, 'max_depth': 6, 'learning_rate': 0.048438149037405336, 'subsample': 0.9474252999185526, 'colsample_bytree': 0.8514554019684999, 'gamma': 0.4135942713769661}. Best is trial 8 with value: 0.8068181818181819.\u001B[0m\n",
      "\u001B[32m[I 2023-04-11 20:56:31,182]\u001B[0m Trial 42 finished with value: 0.8068181818181819 and parameters: {'n_estimators': 73, 'max_depth': 7, 'learning_rate': 0.03666445496902094, 'subsample': 0.9376935225736562, 'colsample_bytree': 0.884265391642215, 'gamma': 0.44634706525095147}. Best is trial 8 with value: 0.8068181818181819.\u001B[0m\n",
      "\u001B[32m[I 2023-04-11 20:56:39,772]\u001B[0m Trial 43 finished with value: 0.7788461538461539 and parameters: {'n_estimators': 98, 'max_depth': 6, 'learning_rate': 0.013406756605263189, 'subsample': 0.9771118996873164, 'colsample_bytree': 0.9126666602316602, 'gamma': 0.5398653677104118}. Best is trial 8 with value: 0.8068181818181819.\u001B[0m\n",
      "\u001B[32m[I 2023-04-11 20:56:47,012]\u001B[0m Trial 44 finished with value: 0.775 and parameters: {'n_estimators': 85, 'max_depth': 7, 'learning_rate': 0.05660808377589413, 'subsample': 0.9622852064254365, 'colsample_bytree': 0.8636543631687151, 'gamma': 0.33098049710408034}. Best is trial 8 with value: 0.8068181818181819.\u001B[0m\n",
      "\u001B[32m[I 2023-04-11 20:56:56,975]\u001B[0m Trial 45 finished with value: 0.8068181818181819 and parameters: {'n_estimators': 123, 'max_depth': 8, 'learning_rate': 0.0356824084677969, 'subsample': 0.9874674954709152, 'colsample_bytree': 0.8903120759406515, 'gamma': 0.48469913704459666}. Best is trial 8 with value: 0.8068181818181819.\u001B[0m\n",
      "\u001B[32m[I 2023-04-11 20:57:00,176]\u001B[0m Trial 46 finished with value: 0.7916666666666666 and parameters: {'n_estimators': 27, 'max_depth': 7, 'learning_rate': 0.011625455941511858, 'subsample': 0.9824405794774059, 'colsample_bytree': 0.9361160939658472, 'gamma': 0.3930550350244528}. Best is trial 8 with value: 0.8068181818181819.\u001B[0m\n",
      "\u001B[32m[I 2023-04-11 20:57:05,724]\u001B[0m Trial 47 finished with value: 0.7788461538461539 and parameters: {'n_estimators': 64, 'max_depth': 6, 'learning_rate': 0.13875063519020214, 'subsample': 0.9428122127752918, 'colsample_bytree': 0.8380059754418456, 'gamma': 0.2561584195672828}. Best is trial 8 with value: 0.8068181818181819.\u001B[0m\n",
      "\u001B[32m[I 2023-04-11 20:57:09,928]\u001B[0m Trial 48 finished with value: 0.8068181818181819 and parameters: {'n_estimators': 41, 'max_depth': 8, 'learning_rate': 0.07755461642126185, 'subsample': 0.9127377230607789, 'colsample_bytree': 0.911591768119422, 'gamma': 0.3075974588285869}. Best is trial 8 with value: 0.8068181818181819.\u001B[0m\n",
      "\u001B[32m[I 2023-04-11 20:57:17,751]\u001B[0m Trial 49 finished with value: 0.8068181818181819 and parameters: {'n_estimators': 93, 'max_depth': 7, 'learning_rate': 0.04852996658437951, 'subsample': 0.9577309532016925, 'colsample_bytree': 0.9636544895819608, 'gamma': 0.19254827440727385}. Best is trial 8 with value: 0.8068181818181819.\u001B[0m\n",
      "\u001B[32m[I 2023-04-11 20:57:22,517]\u001B[0m Trial 50 finished with value: 0.8068181818181819 and parameters: {'n_estimators': 49, 'max_depth': 8, 'learning_rate': 0.029099782373487454, 'subsample': 0.8581574580190034, 'colsample_bytree': 0.8831309277025963, 'gamma': 0.43251938791255984}. Best is trial 8 with value: 0.8068181818181819.\u001B[0m\n",
      "\u001B[32m[I 2023-04-11 20:57:29,662]\u001B[0m Trial 51 finished with value: 0.8068181818181819 and parameters: {'n_estimators': 79, 'max_depth': 5, 'learning_rate': 0.03612076074212181, 'subsample': 0.940076423563365, 'colsample_bytree': 0.9424084038256422, 'gamma': 0.2243903460886637}. Best is trial 8 with value: 0.8068181818181819.\u001B[0m\n",
      "\u001B[32m[I 2023-04-11 20:57:36,198]\u001B[0m Trial 52 finished with value: 0.8068181818181819 and parameters: {'n_estimators': 71, 'max_depth': 4, 'learning_rate': 0.0030253954973587863, 'subsample': 0.9677751117754683, 'colsample_bytree': 0.9314390698742886, 'gamma': 0.1202301886929027}. Best is trial 8 with value: 0.8068181818181819.\u001B[0m\n",
      "\u001B[32m[I 2023-04-11 20:57:43,445]\u001B[0m Trial 53 finished with value: 0.7788461538461539 and parameters: {'n_estimators': 81, 'max_depth': 5, 'learning_rate': 0.011925841437456574, 'subsample': 0.9888970457518429, 'colsample_bytree': 0.9043897168905247, 'gamma': 0.2499274053950547}. Best is trial 8 with value: 0.8068181818181819.\u001B[0m\n",
      "\u001B[32m[I 2023-04-11 20:57:48,696]\u001B[0m Trial 54 finished with value: 0.8068181818181819 and parameters: {'n_estimators': 55, 'max_depth': 5, 'learning_rate': 0.04382824281833624, 'subsample': 0.9205455664063618, 'colsample_bytree': 0.9569032310851303, 'gamma': 0.329996341313027}. Best is trial 8 with value: 0.8068181818181819.\u001B[0m\n",
      "\u001B[32m[I 2023-04-11 20:57:54,459]\u001B[0m Trial 55 finished with value: 0.8068181818181819 and parameters: {'n_estimators': 62, 'max_depth': 4, 'learning_rate': 0.026815907843694635, 'subsample': 0.9505446966121469, 'colsample_bytree': 0.9154734868818835, 'gamma': 0.38882755152031}. Best is trial 8 with value: 0.8068181818181819.\u001B[0m\n",
      "\u001B[32m[I 2023-04-11 20:58:01,992]\u001B[0m Trial 56 finished with value: 0.775 and parameters: {'n_estimators': 90, 'max_depth': 6, 'learning_rate': 0.060425014410835434, 'subsample': 0.9880088529437665, 'colsample_bytree': 0.8717555583665906, 'gamma': 0.27985449631241915}. Best is trial 8 with value: 0.8068181818181819.\u001B[0m\n",
      "\u001B[32m[I 2023-04-11 20:58:09,556]\u001B[0m Trial 57 finished with value: 0.8068181818181819 and parameters: {'n_estimators': 85, 'max_depth': 8, 'learning_rate': 0.011139665541190686, 'subsample': 0.9298212314682976, 'colsample_bytree': 0.9385118046726487, 'gamma': 0.334830694179322}. Best is trial 8 with value: 0.8068181818181819.\u001B[0m\n",
      "\u001B[32m[I 2023-04-11 20:58:16,022]\u001B[0m Trial 58 finished with value: 0.7939976689976691 and parameters: {'n_estimators': 75, 'max_depth': 7, 'learning_rate': 0.07516753599277372, 'subsample': 0.8947874036219245, 'colsample_bytree': 0.8921563064723703, 'gamma': 0.21744255235368812}. Best is trial 8 with value: 0.8068181818181819.\u001B[0m\n",
      "\u001B[32m[I 2023-04-11 20:58:19,111]\u001B[0m Trial 59 finished with value: 0.8068181818181819 and parameters: {'n_estimators': 24, 'max_depth': 5, 'learning_rate': 0.0436238754593986, 'subsample': 0.9677775668227991, 'colsample_bytree': 0.9872339859417011, 'gamma': 0.367644548156128}. Best is trial 8 with value: 0.8068181818181819.\u001B[0m\n",
      "\u001B[32m[I 2023-04-11 20:58:27,913]\u001B[0m Trial 60 finished with value: 0.775 and parameters: {'n_estimators': 103, 'max_depth': 8, 'learning_rate': 0.059642003023497925, 'subsample': 0.9990135972869547, 'colsample_bytree': 0.9978512947867751, 'gamma': 0.4375973927864274}. Best is trial 8 with value: 0.8068181818181819.\u001B[0m\n",
      "\u001B[32m[I 2023-04-11 20:58:33,221]\u001B[0m Trial 61 finished with value: 0.8068181818181819 and parameters: {'n_estimators': 56, 'max_depth': 8, 'learning_rate': 0.003244074220398817, 'subsample': 0.9518443245240633, 'colsample_bytree': 0.878049708096556, 'gamma': 0.311140792338898}. Best is trial 8 with value: 0.8068181818181819.\u001B[0m\n",
      "\u001B[32m[I 2023-04-11 20:58:39,507]\u001B[0m Trial 62 finished with value: 0.8068181818181819 and parameters: {'n_estimators': 68, 'max_depth': 8, 'learning_rate': 0.027738486216827146, 'subsample': 0.9630826398676652, 'colsample_bytree': 0.8532646499182174, 'gamma': 0.2729594385688439}. Best is trial 8 with value: 0.8068181818181819.\u001B[0m\n",
      "\u001B[32m[I 2023-04-11 20:58:45,252]\u001B[0m Trial 63 finished with value: 0.8068181818181819 and parameters: {'n_estimators': 60, 'max_depth': 8, 'learning_rate': 0.020149224473589203, 'subsample': 0.9377168102909141, 'colsample_bytree': 0.9000195729868481, 'gamma': 0.30401907987628857}. Best is trial 8 with value: 0.8068181818181819.\u001B[0m\n",
      "\u001B[32m[I 2023-04-11 20:58:49,158]\u001B[0m Trial 64 finished with value: 0.8068181818181819 and parameters: {'n_estimators': 35, 'max_depth': 8, 'learning_rate': 0.011799638263843535, 'subsample': 0.9732322839910328, 'colsample_bytree': 0.9204084734817058, 'gamma': 0.38874895863227116}. Best is trial 8 with value: 0.8068181818181819.\u001B[0m\n",
      "\u001B[32m[I 2023-04-11 20:58:56,142]\u001B[0m Trial 65 finished with value: 0.8068181818181819 and parameters: {'n_estimators': 78, 'max_depth': 7, 'learning_rate': 0.0017085559202579766, 'subsample': 0.9234096835862594, 'colsample_bytree': 0.8435882194953015, 'gamma': 0.3443074190699269}. Best is trial 8 with value: 0.8068181818181819.\u001B[0m\n",
      "\u001B[32m[I 2023-04-11 20:59:00,336]\u001B[0m Trial 66 finished with value: 0.8068181818181819 and parameters: {'n_estimators': 39, 'max_depth': 8, 'learning_rate': 0.03130618827388434, 'subsample': 0.9516932891458562, 'colsample_bytree': 0.8628709358489901, 'gamma': 0.5024272831257671}. Best is trial 8 with value: 0.8068181818181819.\u001B[0m\n",
      "\u001B[32m[I 2023-04-11 20:59:06,418]\u001B[0m Trial 67 finished with value: 0.8068181818181819 and parameters: {'n_estimators': 65, 'max_depth': 7, 'learning_rate': 0.021956356803316195, 'subsample': 0.9873197437661154, 'colsample_bytree': 0.8734695348407276, 'gamma': 0.23515871962448462}. Best is trial 8 with value: 0.8068181818181819.\u001B[0m\n",
      "\u001B[32m[I 2023-04-11 20:59:11,022]\u001B[0m Trial 68 finished with value: 0.8068181818181819 and parameters: {'n_estimators': 46, 'max_depth': 6, 'learning_rate': 0.0419156609621482, 'subsample': 0.903413546416301, 'colsample_bytree': 0.907935767889938, 'gamma': 0.20211668989751375}. Best is trial 8 with value: 0.8068181818181819.\u001B[0m\n",
      "\u001B[32m[I 2023-04-11 20:59:14,506]\u001B[0m Trial 69 finished with value: 0.8068181818181819 and parameters: {'n_estimators': 30, 'max_depth': 8, 'learning_rate': 0.01883802475103836, 'subsample': 0.9339939203348702, 'colsample_bytree': 0.949183167558936, 'gamma': 0.41576340749821605}. Best is trial 8 with value: 0.8068181818181819.\u001B[0m\n",
      "\u001B[32m[I 2023-04-11 20:59:17,284]\u001B[0m Trial 70 finished with value: 0.8068181818181819 and parameters: {'n_estimators': 20, 'max_depth': 7, 'learning_rate': 0.031556246257760726, 'subsample': 0.9664623397123093, 'colsample_bytree': 0.886448746034314, 'gamma': 0.2603179645737759}. Best is trial 8 with value: 0.8068181818181819.\u001B[0m\n",
      "\u001B[32m[I 2023-04-11 20:59:23,818]\u001B[0m Trial 71 finished with value: 0.8068181818181819 and parameters: {'n_estimators': 71, 'max_depth': 8, 'learning_rate': 0.0010639526240814024, 'subsample': 0.9483307491396803, 'colsample_bytree': 0.8299235357618188, 'gamma': 0.3716283290744812}. Best is trial 8 with value: 0.8068181818181819.\u001B[0m\n",
      "\u001B[32m[I 2023-04-11 20:59:27,070]\u001B[0m Trial 72 finished with value: 0.8068181818181819 and parameters: {'n_estimators': 27, 'max_depth': 8, 'learning_rate': 0.017948727681821687, 'subsample': 0.97475725996961, 'colsample_bytree': 0.8579576992813895, 'gamma': 0.45416169598857203}. Best is trial 8 with value: 0.8068181818181819.\u001B[0m\n",
      "\u001B[32m[I 2023-04-11 20:59:29,927]\u001B[0m Trial 73 finished with value: 0.8068181818181819 and parameters: {'n_estimators': 22, 'max_depth': 8, 'learning_rate': 0.05110427599573605, 'subsample': 0.9586994880189282, 'colsample_bytree': 0.8700539717987792, 'gamma': 0.31404945634527115}. Best is trial 8 with value: 0.8068181818181819.\u001B[0m\n",
      "\u001B[32m[I 2023-04-11 20:59:33,037]\u001B[0m Trial 74 finished with value: 0.7916666666666666 and parameters: {'n_estimators': 25, 'max_depth': 7, 'learning_rate': 0.009933759983041232, 'subsample': 0.986619511525172, 'colsample_bytree': 0.8982289812143207, 'gamma': 0.38990045526118}. Best is trial 8 with value: 0.8068181818181819.\u001B[0m\n",
      "\u001B[32m[I 2023-04-11 20:59:36,631]\u001B[0m Trial 75 finished with value: 0.8068181818181819 and parameters: {'n_estimators': 32, 'max_depth': 8, 'learning_rate': 0.023504739868237506, 'subsample': 0.9165564493766941, 'colsample_bytree': 0.9231420979479235, 'gamma': 0.2861137069718729}. Best is trial 8 with value: 0.8068181818181819.\u001B[0m\n",
      "\u001B[32m[I 2023-04-11 20:59:44,787]\u001B[0m Trial 76 finished with value: 0.8068181818181819 and parameters: {'n_estimators': 96, 'max_depth': 8, 'learning_rate': 0.03240769957685953, 'subsample': 0.9995964966346775, 'colsample_bytree': 0.8472910736222146, 'gamma': 0.3510473154845826}. Best is trial 8 with value: 0.8068181818181819.\u001B[0m\n",
      "\u001B[32m[I 2023-04-11 20:59:52,033]\u001B[0m Trial 77 finished with value: 0.8068181818181819 and parameters: {'n_estimators': 83, 'max_depth': 8, 'learning_rate': 0.03857210687542629, 'subsample': 0.9720864883638263, 'colsample_bytree': 0.8824975197461692, 'gamma': 0.4201499226093278}. Best is trial 8 with value: 0.8068181818181819.\u001B[0m\n",
      "\u001B[32m[I 2023-04-11 20:59:56,071]\u001B[0m Trial 78 finished with value: 0.8068181818181819 and parameters: {'n_estimators': 38, 'max_depth': 7, 'learning_rate': 0.008382454586898208, 'subsample': 0.9390406083149048, 'colsample_bytree': 0.8619839921207751, 'gamma': 0.4583756769367063}. Best is trial 8 with value: 0.8068181818181819.\u001B[0m\n",
      "\u001B[32m[I 2023-04-11 21:00:00,869]\u001B[0m Trial 79 finished with value: 0.8068181818181819 and parameters: {'n_estimators': 49, 'max_depth': 6, 'learning_rate': 0.018100453234641302, 'subsample': 0.9566262596268683, 'colsample_bytree': 0.8261199653863363, 'gamma': 0.3245571731389344}. Best is trial 8 with value: 0.8068181818181819.\u001B[0m\n",
      "\u001B[32m[I 2023-04-11 21:00:05,219]\u001B[0m Trial 80 finished with value: 0.8068181818181819 and parameters: {'n_estimators': 43, 'max_depth': 7, 'learning_rate': 0.04844894048225602, 'subsample': 0.9269966365722938, 'colsample_bytree': 0.9073946747870987, 'gamma': 0.4811653890645005}. Best is trial 8 with value: 0.8068181818181819.\u001B[0m\n",
      "\u001B[32m[I 2023-04-11 21:00:10,363]\u001B[0m Trial 81 finished with value: 0.8068181818181819 and parameters: {'n_estimators': 55, 'max_depth': 5, 'learning_rate': 0.06167489197805887, 'subsample': 0.9816402737210511, 'colsample_bytree': 0.9301419933821641, 'gamma': 0.5249621422608022}. Best is trial 8 with value: 0.8068181818181819.\u001B[0m\n",
      "\u001B[32m[I 2023-04-11 21:00:14,126]\u001B[0m Trial 82 finished with value: 0.8068181818181819 and parameters: {'n_estimators': 34, 'max_depth': 7, 'learning_rate': 0.054700106575261496, 'subsample': 0.9930466231864283, 'colsample_bytree': 0.8982625652140149, 'gamma': 0.37803416704149273}. Best is trial 8 with value: 0.8068181818181819.\u001B[0m\n",
      "\u001B[32m[I 2023-04-11 21:00:21,650]\u001B[0m Trial 83 finished with value: 0.8068181818181819 and parameters: {'n_estimators': 87, 'max_depth': 8, 'learning_rate': 0.02661596830505046, 'subsample': 0.979300444226429, 'colsample_bytree': 0.888933312374045, 'gamma': 0.4030620384557201}. Best is trial 8 with value: 0.8068181818181819.\u001B[0m\n",
      "\u001B[32m[I 2023-04-11 21:00:33,376]\u001B[0m Trial 84 finished with value: 0.8068181818181819 and parameters: {'n_estimators': 149, 'max_depth': 5, 'learning_rate': 0.038168626158875556, 'subsample': 0.9639663374461206, 'colsample_bytree': 0.8753898173848239, 'gamma': 0.3569590555352468}. Best is trial 8 with value: 0.8068181818181819.\u001B[0m\n",
      "\u001B[32m[I 2023-04-11 21:00:37,735]\u001B[0m Trial 85 finished with value: 0.8068181818181819 and parameters: {'n_estimators': 45, 'max_depth': 3, 'learning_rate': 0.06781089872371432, 'subsample': 0.945868304216678, 'colsample_bytree': 0.8493730920657467, 'gamma': 0.29856285350791434}. Best is trial 8 with value: 0.8068181818181819.\u001B[0m\n",
      "\u001B[32m[I 2023-04-11 21:00:42,693]\u001B[0m Trial 86 finished with value: 0.7916666666666666 and parameters: {'n_estimators': 51, 'max_depth': 6, 'learning_rate': 0.010947284332650475, 'subsample': 0.9940216351536381, 'colsample_bytree': 0.8635547581984442, 'gamma': 0.426921532888396}. Best is trial 8 with value: 0.8068181818181819.\u001B[0m\n",
      "\u001B[32m[I 2023-04-11 21:00:46,000]\u001B[0m Trial 87 finished with value: 0.8068181818181819 and parameters: {'n_estimators': 28, 'max_depth': 7, 'learning_rate': 0.04508747526424724, 'subsample': 0.9789954809327548, 'colsample_bytree': 0.9142362961982591, 'gamma': 0.2645747565009333}. Best is trial 8 with value: 0.8068181818181819.\u001B[0m\n",
      "\u001B[32m[I 2023-04-11 21:00:52,578]\u001B[0m Trial 88 finished with value: 0.8068181818181819 and parameters: {'n_estimators': 73, 'max_depth': 8, 'learning_rate': 0.026152819928423922, 'subsample': 0.9666631490154766, 'colsample_bytree': 0.9028314455946675, 'gamma': 0.3368735547497239}. Best is trial 8 with value: 0.8068181818181819.\u001B[0m\n",
      "\u001B[32m[I 2023-04-11 21:00:58,328]\u001B[0m Trial 89 finished with value: 0.7916666666666666 and parameters: {'n_estimators': 61, 'max_depth': 8, 'learning_rate': 0.016304439055120773, 'subsample': 0.9995064069548107, 'colsample_bytree': 0.8843428619277405, 'gamma': 0.5085118381719399}. Best is trial 8 with value: 0.8068181818181819.\u001B[0m\n",
      "\u001B[32m[I 2023-04-11 21:01:01,386]\u001B[0m Trial 90 finished with value: 0.8068181818181819 and parameters: {'n_estimators': 24, 'max_depth': 8, 'learning_rate': 0.006516919105709077, 'subsample': 0.9572785400630054, 'colsample_bytree': 0.9425901700608083, 'gamma': 0.5670494318602441}. Best is trial 8 with value: 0.8068181818181819.\u001B[0m\n",
      "\u001B[32m[I 2023-04-11 21:01:07,403]\u001B[0m Trial 91 finished with value: 0.8068181818181819 and parameters: {'n_estimators': 66, 'max_depth': 8, 'learning_rate': 0.03492622216985129, 'subsample': 0.9412112614236412, 'colsample_bytree': 0.9288385969422293, 'gamma': 0.24721278632018837}. Best is trial 8 with value: 0.8068181818181819.\u001B[0m\n",
      "\u001B[32m[I 2023-04-11 21:01:12,993]\u001B[0m Trial 92 finished with value: 0.8068181818181819 and parameters: {'n_estimators': 59, 'max_depth': 8, 'learning_rate': 0.04058909322184344, 'subsample': 0.9328477127465852, 'colsample_bytree': 0.9652451993262823, 'gamma': 0.28268478733848745}. Best is trial 8 with value: 0.8068181818181819.\u001B[0m\n",
      "\u001B[32m[I 2023-04-11 21:01:19,114]\u001B[0m Trial 93 finished with value: 0.8068181818181819 and parameters: {'n_estimators': 69, 'max_depth': 8, 'learning_rate': 0.05308092821631822, 'subsample': 0.9480053088383583, 'colsample_bytree': 0.9200886499270414, 'gamma': 0.4008850670882062}. Best is trial 8 with value: 0.8068181818181819.\u001B[0m\n",
      "\u001B[32m[I 2023-04-11 21:01:24,615]\u001B[0m Trial 94 finished with value: 0.8068181818181819 and parameters: {'n_estimators': 58, 'max_depth': 7, 'learning_rate': 0.023251181371039806, 'subsample': 0.9842576535765618, 'colsample_bytree': 0.8924852179936853, 'gamma': 0.23810867059163232}. Best is trial 8 with value: 0.8068181818181819.\u001B[0m\n",
      "\u001B[32m[I 2023-04-11 21:01:30,466]\u001B[0m Trial 95 finished with value: 0.8068181818181819 and parameters: {'n_estimators': 63, 'max_depth': 6, 'learning_rate': 0.033749528153521786, 'subsample': 0.9749510164989165, 'colsample_bytree': 0.9475409937438144, 'gamma': 0.3160935400953108}. Best is trial 8 with value: 0.8068181818181819.\u001B[0m\n",
      "\u001B[32m[I 2023-04-11 21:01:34,395]\u001B[0m Trial 96 finished with value: 0.8068181818181819 and parameters: {'n_estimators': 37, 'max_depth': 8, 'learning_rate': 0.01575949163888016, 'subsample': 0.9675134956011382, 'colsample_bytree': 0.8730334547877898, 'gamma': 0.3732934548725792}. Best is trial 8 with value: 0.8068181818181819.\u001B[0m\n",
      "\u001B[32m[I 2023-04-11 21:01:41,250]\u001B[0m Trial 97 finished with value: 0.8068181818181819 and parameters: {'n_estimators': 77, 'max_depth': 8, 'learning_rate': 0.007508711468062936, 'subsample': 0.9227822913061294, 'colsample_bytree': 0.9109221506794338, 'gamma': 0.47117960413498894}. Best is trial 8 with value: 0.8068181818181819.\u001B[0m\n",
      "\u001B[32m[I 2023-04-11 21:01:46,189]\u001B[0m Trial 98 finished with value: 0.8068181818181819 and parameters: {'n_estimators': 52, 'max_depth': 5, 'learning_rate': 0.08572040126206289, 'subsample': 0.9893155240481989, 'colsample_bytree': 0.9323873104098038, 'gamma': 0.18345133499865934}. Best is trial 8 with value: 0.8068181818181819.\u001B[0m\n",
      "\u001B[32m[I 2023-04-11 21:01:49,619]\u001B[0m Trial 99 finished with value: 0.8068181818181819 and parameters: {'n_estimators': 30, 'max_depth': 7, 'learning_rate': 0.06334281080402007, 'subsample': 0.9108839426098588, 'colsample_bytree': 0.8402968569072584, 'gamma': 0.21327243145710303}. Best is trial 8 with value: 0.8068181818181819.\u001B[0m\n"
     ]
    }
   ],
   "source": [
    "objective_func = partial(\n",
    "    objective,\n",
    "    X_train=X_train,\n",
    "    stratification_groups=stratification_groups,\n",
    "    xgb_config=xgb_config,\n",
    "    scoring=f1_score\n",
    ")\n",
    "\n",
    "study = optuna.create_study(direction='maximize')\n",
    "study.optimize(objective_func, n_trials=100)"
   ],
   "metadata": {
    "collapsed": false,
    "ExecuteTime": {
     "start_time": "2023-04-11T20:52:09.196149Z",
     "end_time": "2023-04-11T21:01:49.625381Z"
    }
   }
  },
  {
   "cell_type": "code",
   "execution_count": 88,
   "outputs": [],
   "source": [
    "best_params = {\n",
    "    **study.best_params,\n",
    "    **xgb_config\n",
    "}\n",
    "\n",
    "best_xgb = XGBClassifier(**best_params)\n",
    "y_pred = stratified_cross_val_predict(\n",
    "    estimator=best_xgb,\n",
    "    df=X_train,\n",
    "    stratification_groups=stratification_groups,\n",
    "    label_col='Stage',\n",
    "    n_splits=5\n",
    ")\n",
    "y_true = list(X_train['Stage'].values)"
   ],
   "metadata": {
    "collapsed": false,
    "ExecuteTime": {
     "start_time": "2023-04-11T21:01:49.629389Z",
     "end_time": "2023-04-11T21:01:59.651970Z"
    }
   }
  },
  {
   "cell_type": "code",
   "execution_count": 89,
   "outputs": [
    {
     "name": "stdout",
     "output_type": "stream",
     "text": [
      "              precision    recall  f1-score   support\n",
      "\n",
      "       I-III       0.91      0.95      0.93        78\n",
      "          IV       0.84      0.75      0.79        28\n",
      "\n",
      "    accuracy                           0.90       106\n",
      "   macro avg       0.88      0.85      0.86       106\n",
      "weighted avg       0.89      0.90      0.89       106\n",
      "\n"
     ]
    }
   ],
   "source": [
    "labels = list(labels_encoding.keys())\n",
    "\n",
    "report = classification_report(y_true, y_pred.astype(int), target_names=labels)\n",
    "print(report)"
   ],
   "metadata": {
    "collapsed": false,
    "ExecuteTime": {
     "start_time": "2023-04-11T21:01:59.652970Z",
     "end_time": "2023-04-11T21:01:59.667969Z"
    }
   }
  },
  {
   "cell_type": "code",
   "execution_count": 90,
   "outputs": [
    {
     "data": {
      "application/vnd.plotly.v1+json": {
       "data": [
        {
         "colorscale": [
          [
           0.0,
           "rgb(3, 5, 18)"
          ],
          [
           0.09090909090909091,
           "rgb(25, 25, 51)"
          ],
          [
           0.18181818181818182,
           "rgb(44, 42, 87)"
          ],
          [
           0.2727272727272727,
           "rgb(58, 60, 125)"
          ],
          [
           0.36363636363636365,
           "rgb(62, 83, 160)"
          ],
          [
           0.45454545454545453,
           "rgb(62, 109, 178)"
          ],
          [
           0.5454545454545454,
           "rgb(72, 134, 187)"
          ],
          [
           0.6363636363636364,
           "rgb(89, 159, 196)"
          ],
          [
           0.7272727272727273,
           "rgb(114, 184, 205)"
          ],
          [
           0.8181818181818182,
           "rgb(149, 207, 216)"
          ],
          [
           0.9090909090909091,
           "rgb(192, 229, 232)"
          ],
          [
           1.0,
           "rgb(234, 252, 253)"
          ]
         ],
         "reversescale": true,
         "showscale": false,
         "x": [
          "I-III",
          "IV"
         ],
         "y": [
          "IV",
          "I-III"
         ],
         "z": [
          [
           7,
           21
          ],
          [
           74,
           4
          ]
         ],
         "type": "heatmap"
        }
       ],
       "layout": {
        "annotations": [
         {
          "font": {
           "color": "#000000"
          },
          "showarrow": false,
          "text": "7",
          "x": "I-III",
          "xref": "x",
          "y": "IV",
          "yref": "y"
         },
         {
          "font": {
           "color": "#000000"
          },
          "showarrow": false,
          "text": "21",
          "x": "IV",
          "xref": "x",
          "y": "IV",
          "yref": "y"
         },
         {
          "font": {
           "color": "#FFFFFF"
          },
          "showarrow": false,
          "text": "74",
          "x": "I-III",
          "xref": "x",
          "y": "I-III",
          "yref": "y"
         },
         {
          "font": {
           "color": "#000000"
          },
          "showarrow": false,
          "text": "4",
          "x": "IV",
          "xref": "x",
          "y": "I-III",
          "yref": "y"
         }
        ],
        "xaxis": {
         "dtick": 1,
         "gridcolor": "rgb(0, 0, 0)",
         "side": "top",
         "ticks": "",
         "tickfont": {
          "size": 10
         },
         "title": {
          "text": "Predicted label"
         }
        },
        "yaxis": {
         "dtick": 1,
         "ticks": "",
         "ticksuffix": "  ",
         "tickfont": {
          "size": 10
         },
         "title": {
          "text": "True label"
         }
        },
        "template": {
         "data": {
          "histogram2dcontour": [
           {
            "type": "histogram2dcontour",
            "colorbar": {
             "outlinewidth": 0,
             "ticks": ""
            },
            "colorscale": [
             [
              0.0,
              "#0d0887"
             ],
             [
              0.1111111111111111,
              "#46039f"
             ],
             [
              0.2222222222222222,
              "#7201a8"
             ],
             [
              0.3333333333333333,
              "#9c179e"
             ],
             [
              0.4444444444444444,
              "#bd3786"
             ],
             [
              0.5555555555555556,
              "#d8576b"
             ],
             [
              0.6666666666666666,
              "#ed7953"
             ],
             [
              0.7777777777777778,
              "#fb9f3a"
             ],
             [
              0.8888888888888888,
              "#fdca26"
             ],
             [
              1.0,
              "#f0f921"
             ]
            ]
           }
          ],
          "choropleth": [
           {
            "type": "choropleth",
            "colorbar": {
             "outlinewidth": 0,
             "ticks": ""
            }
           }
          ],
          "histogram2d": [
           {
            "type": "histogram2d",
            "colorbar": {
             "outlinewidth": 0,
             "ticks": ""
            },
            "colorscale": [
             [
              0.0,
              "#0d0887"
             ],
             [
              0.1111111111111111,
              "#46039f"
             ],
             [
              0.2222222222222222,
              "#7201a8"
             ],
             [
              0.3333333333333333,
              "#9c179e"
             ],
             [
              0.4444444444444444,
              "#bd3786"
             ],
             [
              0.5555555555555556,
              "#d8576b"
             ],
             [
              0.6666666666666666,
              "#ed7953"
             ],
             [
              0.7777777777777778,
              "#fb9f3a"
             ],
             [
              0.8888888888888888,
              "#fdca26"
             ],
             [
              1.0,
              "#f0f921"
             ]
            ]
           }
          ],
          "heatmap": [
           {
            "type": "heatmap",
            "colorbar": {
             "outlinewidth": 0,
             "ticks": ""
            },
            "colorscale": [
             [
              0.0,
              "#0d0887"
             ],
             [
              0.1111111111111111,
              "#46039f"
             ],
             [
              0.2222222222222222,
              "#7201a8"
             ],
             [
              0.3333333333333333,
              "#9c179e"
             ],
             [
              0.4444444444444444,
              "#bd3786"
             ],
             [
              0.5555555555555556,
              "#d8576b"
             ],
             [
              0.6666666666666666,
              "#ed7953"
             ],
             [
              0.7777777777777778,
              "#fb9f3a"
             ],
             [
              0.8888888888888888,
              "#fdca26"
             ],
             [
              1.0,
              "#f0f921"
             ]
            ]
           }
          ],
          "heatmapgl": [
           {
            "type": "heatmapgl",
            "colorbar": {
             "outlinewidth": 0,
             "ticks": ""
            },
            "colorscale": [
             [
              0.0,
              "#0d0887"
             ],
             [
              0.1111111111111111,
              "#46039f"
             ],
             [
              0.2222222222222222,
              "#7201a8"
             ],
             [
              0.3333333333333333,
              "#9c179e"
             ],
             [
              0.4444444444444444,
              "#bd3786"
             ],
             [
              0.5555555555555556,
              "#d8576b"
             ],
             [
              0.6666666666666666,
              "#ed7953"
             ],
             [
              0.7777777777777778,
              "#fb9f3a"
             ],
             [
              0.8888888888888888,
              "#fdca26"
             ],
             [
              1.0,
              "#f0f921"
             ]
            ]
           }
          ],
          "contourcarpet": [
           {
            "type": "contourcarpet",
            "colorbar": {
             "outlinewidth": 0,
             "ticks": ""
            }
           }
          ],
          "contour": [
           {
            "type": "contour",
            "colorbar": {
             "outlinewidth": 0,
             "ticks": ""
            },
            "colorscale": [
             [
              0.0,
              "#0d0887"
             ],
             [
              0.1111111111111111,
              "#46039f"
             ],
             [
              0.2222222222222222,
              "#7201a8"
             ],
             [
              0.3333333333333333,
              "#9c179e"
             ],
             [
              0.4444444444444444,
              "#bd3786"
             ],
             [
              0.5555555555555556,
              "#d8576b"
             ],
             [
              0.6666666666666666,
              "#ed7953"
             ],
             [
              0.7777777777777778,
              "#fb9f3a"
             ],
             [
              0.8888888888888888,
              "#fdca26"
             ],
             [
              1.0,
              "#f0f921"
             ]
            ]
           }
          ],
          "surface": [
           {
            "type": "surface",
            "colorbar": {
             "outlinewidth": 0,
             "ticks": ""
            },
            "colorscale": [
             [
              0.0,
              "#0d0887"
             ],
             [
              0.1111111111111111,
              "#46039f"
             ],
             [
              0.2222222222222222,
              "#7201a8"
             ],
             [
              0.3333333333333333,
              "#9c179e"
             ],
             [
              0.4444444444444444,
              "#bd3786"
             ],
             [
              0.5555555555555556,
              "#d8576b"
             ],
             [
              0.6666666666666666,
              "#ed7953"
             ],
             [
              0.7777777777777778,
              "#fb9f3a"
             ],
             [
              0.8888888888888888,
              "#fdca26"
             ],
             [
              1.0,
              "#f0f921"
             ]
            ]
           }
          ],
          "mesh3d": [
           {
            "type": "mesh3d",
            "colorbar": {
             "outlinewidth": 0,
             "ticks": ""
            }
           }
          ],
          "scatter": [
           {
            "marker": {
             "line": {
              "color": "#283442"
             }
            },
            "type": "scatter"
           }
          ],
          "parcoords": [
           {
            "type": "parcoords",
            "line": {
             "colorbar": {
              "outlinewidth": 0,
              "ticks": ""
             }
            }
           }
          ],
          "scatterpolargl": [
           {
            "type": "scatterpolargl",
            "marker": {
             "colorbar": {
              "outlinewidth": 0,
              "ticks": ""
             }
            }
           }
          ],
          "bar": [
           {
            "error_x": {
             "color": "#f2f5fa"
            },
            "error_y": {
             "color": "#f2f5fa"
            },
            "marker": {
             "line": {
              "color": "rgb(17,17,17)",
              "width": 0.5
             },
             "pattern": {
              "fillmode": "overlay",
              "size": 10,
              "solidity": 0.2
             }
            },
            "type": "bar"
           }
          ],
          "scattergeo": [
           {
            "type": "scattergeo",
            "marker": {
             "colorbar": {
              "outlinewidth": 0,
              "ticks": ""
             }
            }
           }
          ],
          "scatterpolar": [
           {
            "type": "scatterpolar",
            "marker": {
             "colorbar": {
              "outlinewidth": 0,
              "ticks": ""
             }
            }
           }
          ],
          "histogram": [
           {
            "marker": {
             "pattern": {
              "fillmode": "overlay",
              "size": 10,
              "solidity": 0.2
             }
            },
            "type": "histogram"
           }
          ],
          "scattergl": [
           {
            "marker": {
             "line": {
              "color": "#283442"
             }
            },
            "type": "scattergl"
           }
          ],
          "scatter3d": [
           {
            "type": "scatter3d",
            "line": {
             "colorbar": {
              "outlinewidth": 0,
              "ticks": ""
             }
            },
            "marker": {
             "colorbar": {
              "outlinewidth": 0,
              "ticks": ""
             }
            }
           }
          ],
          "scattermapbox": [
           {
            "type": "scattermapbox",
            "marker": {
             "colorbar": {
              "outlinewidth": 0,
              "ticks": ""
             }
            }
           }
          ],
          "scatterternary": [
           {
            "type": "scatterternary",
            "marker": {
             "colorbar": {
              "outlinewidth": 0,
              "ticks": ""
             }
            }
           }
          ],
          "scattercarpet": [
           {
            "type": "scattercarpet",
            "marker": {
             "colorbar": {
              "outlinewidth": 0,
              "ticks": ""
             }
            }
           }
          ],
          "carpet": [
           {
            "aaxis": {
             "endlinecolor": "#A2B1C6",
             "gridcolor": "#506784",
             "linecolor": "#506784",
             "minorgridcolor": "#506784",
             "startlinecolor": "#A2B1C6"
            },
            "baxis": {
             "endlinecolor": "#A2B1C6",
             "gridcolor": "#506784",
             "linecolor": "#506784",
             "minorgridcolor": "#506784",
             "startlinecolor": "#A2B1C6"
            },
            "type": "carpet"
           }
          ],
          "table": [
           {
            "cells": {
             "fill": {
              "color": "#506784"
             },
             "line": {
              "color": "rgb(17,17,17)"
             }
            },
            "header": {
             "fill": {
              "color": "#2a3f5f"
             },
             "line": {
              "color": "rgb(17,17,17)"
             }
            },
            "type": "table"
           }
          ],
          "barpolar": [
           {
            "marker": {
             "line": {
              "color": "rgb(17,17,17)",
              "width": 0.5
             },
             "pattern": {
              "fillmode": "overlay",
              "size": 10,
              "solidity": 0.2
             }
            },
            "type": "barpolar"
           }
          ],
          "pie": [
           {
            "automargin": true,
            "type": "pie"
           }
          ]
         },
         "layout": {
          "autotypenumbers": "strict",
          "colorway": [
           "#636efa",
           "#EF553B",
           "#00cc96",
           "#ab63fa",
           "#FFA15A",
           "#19d3f3",
           "#FF6692",
           "#B6E880",
           "#FF97FF",
           "#FECB52"
          ],
          "font": {
           "color": "#f2f5fa"
          },
          "hovermode": "closest",
          "hoverlabel": {
           "align": "left"
          },
          "paper_bgcolor": "rgb(17,17,17)",
          "plot_bgcolor": "rgb(17,17,17)",
          "polar": {
           "bgcolor": "rgb(17,17,17)",
           "angularaxis": {
            "gridcolor": "#506784",
            "linecolor": "#506784",
            "ticks": ""
           },
           "radialaxis": {
            "gridcolor": "#506784",
            "linecolor": "#506784",
            "ticks": ""
           }
          },
          "ternary": {
           "bgcolor": "rgb(17,17,17)",
           "aaxis": {
            "gridcolor": "#506784",
            "linecolor": "#506784",
            "ticks": ""
           },
           "baxis": {
            "gridcolor": "#506784",
            "linecolor": "#506784",
            "ticks": ""
           },
           "caxis": {
            "gridcolor": "#506784",
            "linecolor": "#506784",
            "ticks": ""
           }
          },
          "coloraxis": {
           "colorbar": {
            "outlinewidth": 0,
            "ticks": ""
           }
          },
          "colorscale": {
           "sequential": [
            [
             0.0,
             "#0d0887"
            ],
            [
             0.1111111111111111,
             "#46039f"
            ],
            [
             0.2222222222222222,
             "#7201a8"
            ],
            [
             0.3333333333333333,
             "#9c179e"
            ],
            [
             0.4444444444444444,
             "#bd3786"
            ],
            [
             0.5555555555555556,
             "#d8576b"
            ],
            [
             0.6666666666666666,
             "#ed7953"
            ],
            [
             0.7777777777777778,
             "#fb9f3a"
            ],
            [
             0.8888888888888888,
             "#fdca26"
            ],
            [
             1.0,
             "#f0f921"
            ]
           ],
           "sequentialminus": [
            [
             0.0,
             "#0d0887"
            ],
            [
             0.1111111111111111,
             "#46039f"
            ],
            [
             0.2222222222222222,
             "#7201a8"
            ],
            [
             0.3333333333333333,
             "#9c179e"
            ],
            [
             0.4444444444444444,
             "#bd3786"
            ],
            [
             0.5555555555555556,
             "#d8576b"
            ],
            [
             0.6666666666666666,
             "#ed7953"
            ],
            [
             0.7777777777777778,
             "#fb9f3a"
            ],
            [
             0.8888888888888888,
             "#fdca26"
            ],
            [
             1.0,
             "#f0f921"
            ]
           ],
           "diverging": [
            [
             0,
             "#8e0152"
            ],
            [
             0.1,
             "#c51b7d"
            ],
            [
             0.2,
             "#de77ae"
            ],
            [
             0.3,
             "#f1b6da"
            ],
            [
             0.4,
             "#fde0ef"
            ],
            [
             0.5,
             "#f7f7f7"
            ],
            [
             0.6,
             "#e6f5d0"
            ],
            [
             0.7,
             "#b8e186"
            ],
            [
             0.8,
             "#7fbc41"
            ],
            [
             0.9,
             "#4d9221"
            ],
            [
             1,
             "#276419"
            ]
           ]
          },
          "xaxis": {
           "gridcolor": "#283442",
           "linecolor": "#506784",
           "ticks": "",
           "title": {
            "standoff": 15
           },
           "zerolinecolor": "#283442",
           "automargin": true,
           "zerolinewidth": 2
          },
          "yaxis": {
           "gridcolor": "#283442",
           "linecolor": "#506784",
           "ticks": "",
           "title": {
            "standoff": 15
           },
           "zerolinecolor": "#283442",
           "automargin": true,
           "zerolinewidth": 2
          },
          "scene": {
           "xaxis": {
            "backgroundcolor": "rgb(17,17,17)",
            "gridcolor": "#506784",
            "linecolor": "#506784",
            "showbackground": true,
            "ticks": "",
            "zerolinecolor": "#C8D4E3",
            "gridwidth": 2
           },
           "yaxis": {
            "backgroundcolor": "rgb(17,17,17)",
            "gridcolor": "#506784",
            "linecolor": "#506784",
            "showbackground": true,
            "ticks": "",
            "zerolinecolor": "#C8D4E3",
            "gridwidth": 2
           },
           "zaxis": {
            "backgroundcolor": "rgb(17,17,17)",
            "gridcolor": "#506784",
            "linecolor": "#506784",
            "showbackground": true,
            "ticks": "",
            "zerolinecolor": "#C8D4E3",
            "gridwidth": 2
           }
          },
          "shapedefaults": {
           "line": {
            "color": "#f2f5fa"
           }
          },
          "annotationdefaults": {
           "arrowcolor": "#f2f5fa",
           "arrowhead": 0,
           "arrowwidth": 1
          },
          "geo": {
           "bgcolor": "rgb(17,17,17)",
           "landcolor": "rgb(17,17,17)",
           "subunitcolor": "#506784",
           "showland": true,
           "showlakes": true,
           "lakecolor": "rgb(17,17,17)"
          },
          "title": {
           "x": 0.05
          },
          "updatemenudefaults": {
           "bgcolor": "#506784",
           "borderwidth": 0
          },
          "sliderdefaults": {
           "bgcolor": "#C8D4E3",
           "borderwidth": 1,
           "bordercolor": "rgb(17,17,17)",
           "tickwidth": 0
          },
          "mapbox": {
           "style": "dark"
          }
         }
        },
        "title": {
         "text": "Accuracy = 89.62, F1 = 0.79",
         "x": 0.5,
         "y": 0.05
        },
        "paper_bgcolor": "rgba(0,0,0,0)"
       },
       "config": {
        "plotlyServerURL": "https://plot.ly"
       }
      },
      "text/html": "<div>                            <div id=\"b3450e9e-40ef-4836-98ae-907301099078\" class=\"plotly-graph-div\" style=\"height:525px; width:100%;\"></div>            <script type=\"text/javascript\">                require([\"plotly\"], function(Plotly) {                    window.PLOTLYENV=window.PLOTLYENV || {};                                    if (document.getElementById(\"b3450e9e-40ef-4836-98ae-907301099078\")) {                    Plotly.newPlot(                        \"b3450e9e-40ef-4836-98ae-907301099078\",                        [{\"colorscale\":[[0.0,\"rgb(3, 5, 18)\"],[0.09090909090909091,\"rgb(25, 25, 51)\"],[0.18181818181818182,\"rgb(44, 42, 87)\"],[0.2727272727272727,\"rgb(58, 60, 125)\"],[0.36363636363636365,\"rgb(62, 83, 160)\"],[0.45454545454545453,\"rgb(62, 109, 178)\"],[0.5454545454545454,\"rgb(72, 134, 187)\"],[0.6363636363636364,\"rgb(89, 159, 196)\"],[0.7272727272727273,\"rgb(114, 184, 205)\"],[0.8181818181818182,\"rgb(149, 207, 216)\"],[0.9090909090909091,\"rgb(192, 229, 232)\"],[1.0,\"rgb(234, 252, 253)\"]],\"reversescale\":true,\"showscale\":false,\"x\":[\"I-III\",\"IV\"],\"y\":[\"IV\",\"I-III\"],\"z\":[[7,21],[74,4]],\"type\":\"heatmap\"}],                        {\"annotations\":[{\"font\":{\"color\":\"#000000\"},\"showarrow\":false,\"text\":\"7\",\"x\":\"I-III\",\"xref\":\"x\",\"y\":\"IV\",\"yref\":\"y\"},{\"font\":{\"color\":\"#000000\"},\"showarrow\":false,\"text\":\"21\",\"x\":\"IV\",\"xref\":\"x\",\"y\":\"IV\",\"yref\":\"y\"},{\"font\":{\"color\":\"#FFFFFF\"},\"showarrow\":false,\"text\":\"74\",\"x\":\"I-III\",\"xref\":\"x\",\"y\":\"I-III\",\"yref\":\"y\"},{\"font\":{\"color\":\"#000000\"},\"showarrow\":false,\"text\":\"4\",\"x\":\"IV\",\"xref\":\"x\",\"y\":\"I-III\",\"yref\":\"y\"}],\"xaxis\":{\"dtick\":1,\"gridcolor\":\"rgb(0, 0, 0)\",\"side\":\"top\",\"ticks\":\"\",\"tickfont\":{\"size\":10},\"title\":{\"text\":\"Predicted label\"}},\"yaxis\":{\"dtick\":1,\"ticks\":\"\",\"ticksuffix\":\"  \",\"tickfont\":{\"size\":10},\"title\":{\"text\":\"True label\"}},\"template\":{\"data\":{\"histogram2dcontour\":[{\"type\":\"histogram2dcontour\",\"colorbar\":{\"outlinewidth\":0,\"ticks\":\"\"},\"colorscale\":[[0.0,\"#0d0887\"],[0.1111111111111111,\"#46039f\"],[0.2222222222222222,\"#7201a8\"],[0.3333333333333333,\"#9c179e\"],[0.4444444444444444,\"#bd3786\"],[0.5555555555555556,\"#d8576b\"],[0.6666666666666666,\"#ed7953\"],[0.7777777777777778,\"#fb9f3a\"],[0.8888888888888888,\"#fdca26\"],[1.0,\"#f0f921\"]]}],\"choropleth\":[{\"type\":\"choropleth\",\"colorbar\":{\"outlinewidth\":0,\"ticks\":\"\"}}],\"histogram2d\":[{\"type\":\"histogram2d\",\"colorbar\":{\"outlinewidth\":0,\"ticks\":\"\"},\"colorscale\":[[0.0,\"#0d0887\"],[0.1111111111111111,\"#46039f\"],[0.2222222222222222,\"#7201a8\"],[0.3333333333333333,\"#9c179e\"],[0.4444444444444444,\"#bd3786\"],[0.5555555555555556,\"#d8576b\"],[0.6666666666666666,\"#ed7953\"],[0.7777777777777778,\"#fb9f3a\"],[0.8888888888888888,\"#fdca26\"],[1.0,\"#f0f921\"]]}],\"heatmap\":[{\"type\":\"heatmap\",\"colorbar\":{\"outlinewidth\":0,\"ticks\":\"\"},\"colorscale\":[[0.0,\"#0d0887\"],[0.1111111111111111,\"#46039f\"],[0.2222222222222222,\"#7201a8\"],[0.3333333333333333,\"#9c179e\"],[0.4444444444444444,\"#bd3786\"],[0.5555555555555556,\"#d8576b\"],[0.6666666666666666,\"#ed7953\"],[0.7777777777777778,\"#fb9f3a\"],[0.8888888888888888,\"#fdca26\"],[1.0,\"#f0f921\"]]}],\"heatmapgl\":[{\"type\":\"heatmapgl\",\"colorbar\":{\"outlinewidth\":0,\"ticks\":\"\"},\"colorscale\":[[0.0,\"#0d0887\"],[0.1111111111111111,\"#46039f\"],[0.2222222222222222,\"#7201a8\"],[0.3333333333333333,\"#9c179e\"],[0.4444444444444444,\"#bd3786\"],[0.5555555555555556,\"#d8576b\"],[0.6666666666666666,\"#ed7953\"],[0.7777777777777778,\"#fb9f3a\"],[0.8888888888888888,\"#fdca26\"],[1.0,\"#f0f921\"]]}],\"contourcarpet\":[{\"type\":\"contourcarpet\",\"colorbar\":{\"outlinewidth\":0,\"ticks\":\"\"}}],\"contour\":[{\"type\":\"contour\",\"colorbar\":{\"outlinewidth\":0,\"ticks\":\"\"},\"colorscale\":[[0.0,\"#0d0887\"],[0.1111111111111111,\"#46039f\"],[0.2222222222222222,\"#7201a8\"],[0.3333333333333333,\"#9c179e\"],[0.4444444444444444,\"#bd3786\"],[0.5555555555555556,\"#d8576b\"],[0.6666666666666666,\"#ed7953\"],[0.7777777777777778,\"#fb9f3a\"],[0.8888888888888888,\"#fdca26\"],[1.0,\"#f0f921\"]]}],\"surface\":[{\"type\":\"surface\",\"colorbar\":{\"outlinewidth\":0,\"ticks\":\"\"},\"colorscale\":[[0.0,\"#0d0887\"],[0.1111111111111111,\"#46039f\"],[0.2222222222222222,\"#7201a8\"],[0.3333333333333333,\"#9c179e\"],[0.4444444444444444,\"#bd3786\"],[0.5555555555555556,\"#d8576b\"],[0.6666666666666666,\"#ed7953\"],[0.7777777777777778,\"#fb9f3a\"],[0.8888888888888888,\"#fdca26\"],[1.0,\"#f0f921\"]]}],\"mesh3d\":[{\"type\":\"mesh3d\",\"colorbar\":{\"outlinewidth\":0,\"ticks\":\"\"}}],\"scatter\":[{\"marker\":{\"line\":{\"color\":\"#283442\"}},\"type\":\"scatter\"}],\"parcoords\":[{\"type\":\"parcoords\",\"line\":{\"colorbar\":{\"outlinewidth\":0,\"ticks\":\"\"}}}],\"scatterpolargl\":[{\"type\":\"scatterpolargl\",\"marker\":{\"colorbar\":{\"outlinewidth\":0,\"ticks\":\"\"}}}],\"bar\":[{\"error_x\":{\"color\":\"#f2f5fa\"},\"error_y\":{\"color\":\"#f2f5fa\"},\"marker\":{\"line\":{\"color\":\"rgb(17,17,17)\",\"width\":0.5},\"pattern\":{\"fillmode\":\"overlay\",\"size\":10,\"solidity\":0.2}},\"type\":\"bar\"}],\"scattergeo\":[{\"type\":\"scattergeo\",\"marker\":{\"colorbar\":{\"outlinewidth\":0,\"ticks\":\"\"}}}],\"scatterpolar\":[{\"type\":\"scatterpolar\",\"marker\":{\"colorbar\":{\"outlinewidth\":0,\"ticks\":\"\"}}}],\"histogram\":[{\"marker\":{\"pattern\":{\"fillmode\":\"overlay\",\"size\":10,\"solidity\":0.2}},\"type\":\"histogram\"}],\"scattergl\":[{\"marker\":{\"line\":{\"color\":\"#283442\"}},\"type\":\"scattergl\"}],\"scatter3d\":[{\"type\":\"scatter3d\",\"line\":{\"colorbar\":{\"outlinewidth\":0,\"ticks\":\"\"}},\"marker\":{\"colorbar\":{\"outlinewidth\":0,\"ticks\":\"\"}}}],\"scattermapbox\":[{\"type\":\"scattermapbox\",\"marker\":{\"colorbar\":{\"outlinewidth\":0,\"ticks\":\"\"}}}],\"scatterternary\":[{\"type\":\"scatterternary\",\"marker\":{\"colorbar\":{\"outlinewidth\":0,\"ticks\":\"\"}}}],\"scattercarpet\":[{\"type\":\"scattercarpet\",\"marker\":{\"colorbar\":{\"outlinewidth\":0,\"ticks\":\"\"}}}],\"carpet\":[{\"aaxis\":{\"endlinecolor\":\"#A2B1C6\",\"gridcolor\":\"#506784\",\"linecolor\":\"#506784\",\"minorgridcolor\":\"#506784\",\"startlinecolor\":\"#A2B1C6\"},\"baxis\":{\"endlinecolor\":\"#A2B1C6\",\"gridcolor\":\"#506784\",\"linecolor\":\"#506784\",\"minorgridcolor\":\"#506784\",\"startlinecolor\":\"#A2B1C6\"},\"type\":\"carpet\"}],\"table\":[{\"cells\":{\"fill\":{\"color\":\"#506784\"},\"line\":{\"color\":\"rgb(17,17,17)\"}},\"header\":{\"fill\":{\"color\":\"#2a3f5f\"},\"line\":{\"color\":\"rgb(17,17,17)\"}},\"type\":\"table\"}],\"barpolar\":[{\"marker\":{\"line\":{\"color\":\"rgb(17,17,17)\",\"width\":0.5},\"pattern\":{\"fillmode\":\"overlay\",\"size\":10,\"solidity\":0.2}},\"type\":\"barpolar\"}],\"pie\":[{\"automargin\":true,\"type\":\"pie\"}]},\"layout\":{\"autotypenumbers\":\"strict\",\"colorway\":[\"#636efa\",\"#EF553B\",\"#00cc96\",\"#ab63fa\",\"#FFA15A\",\"#19d3f3\",\"#FF6692\",\"#B6E880\",\"#FF97FF\",\"#FECB52\"],\"font\":{\"color\":\"#f2f5fa\"},\"hovermode\":\"closest\",\"hoverlabel\":{\"align\":\"left\"},\"paper_bgcolor\":\"rgb(17,17,17)\",\"plot_bgcolor\":\"rgb(17,17,17)\",\"polar\":{\"bgcolor\":\"rgb(17,17,17)\",\"angularaxis\":{\"gridcolor\":\"#506784\",\"linecolor\":\"#506784\",\"ticks\":\"\"},\"radialaxis\":{\"gridcolor\":\"#506784\",\"linecolor\":\"#506784\",\"ticks\":\"\"}},\"ternary\":{\"bgcolor\":\"rgb(17,17,17)\",\"aaxis\":{\"gridcolor\":\"#506784\",\"linecolor\":\"#506784\",\"ticks\":\"\"},\"baxis\":{\"gridcolor\":\"#506784\",\"linecolor\":\"#506784\",\"ticks\":\"\"},\"caxis\":{\"gridcolor\":\"#506784\",\"linecolor\":\"#506784\",\"ticks\":\"\"}},\"coloraxis\":{\"colorbar\":{\"outlinewidth\":0,\"ticks\":\"\"}},\"colorscale\":{\"sequential\":[[0.0,\"#0d0887\"],[0.1111111111111111,\"#46039f\"],[0.2222222222222222,\"#7201a8\"],[0.3333333333333333,\"#9c179e\"],[0.4444444444444444,\"#bd3786\"],[0.5555555555555556,\"#d8576b\"],[0.6666666666666666,\"#ed7953\"],[0.7777777777777778,\"#fb9f3a\"],[0.8888888888888888,\"#fdca26\"],[1.0,\"#f0f921\"]],\"sequentialminus\":[[0.0,\"#0d0887\"],[0.1111111111111111,\"#46039f\"],[0.2222222222222222,\"#7201a8\"],[0.3333333333333333,\"#9c179e\"],[0.4444444444444444,\"#bd3786\"],[0.5555555555555556,\"#d8576b\"],[0.6666666666666666,\"#ed7953\"],[0.7777777777777778,\"#fb9f3a\"],[0.8888888888888888,\"#fdca26\"],[1.0,\"#f0f921\"]],\"diverging\":[[0,\"#8e0152\"],[0.1,\"#c51b7d\"],[0.2,\"#de77ae\"],[0.3,\"#f1b6da\"],[0.4,\"#fde0ef\"],[0.5,\"#f7f7f7\"],[0.6,\"#e6f5d0\"],[0.7,\"#b8e186\"],[0.8,\"#7fbc41\"],[0.9,\"#4d9221\"],[1,\"#276419\"]]},\"xaxis\":{\"gridcolor\":\"#283442\",\"linecolor\":\"#506784\",\"ticks\":\"\",\"title\":{\"standoff\":15},\"zerolinecolor\":\"#283442\",\"automargin\":true,\"zerolinewidth\":2},\"yaxis\":{\"gridcolor\":\"#283442\",\"linecolor\":\"#506784\",\"ticks\":\"\",\"title\":{\"standoff\":15},\"zerolinecolor\":\"#283442\",\"automargin\":true,\"zerolinewidth\":2},\"scene\":{\"xaxis\":{\"backgroundcolor\":\"rgb(17,17,17)\",\"gridcolor\":\"#506784\",\"linecolor\":\"#506784\",\"showbackground\":true,\"ticks\":\"\",\"zerolinecolor\":\"#C8D4E3\",\"gridwidth\":2},\"yaxis\":{\"backgroundcolor\":\"rgb(17,17,17)\",\"gridcolor\":\"#506784\",\"linecolor\":\"#506784\",\"showbackground\":true,\"ticks\":\"\",\"zerolinecolor\":\"#C8D4E3\",\"gridwidth\":2},\"zaxis\":{\"backgroundcolor\":\"rgb(17,17,17)\",\"gridcolor\":\"#506784\",\"linecolor\":\"#506784\",\"showbackground\":true,\"ticks\":\"\",\"zerolinecolor\":\"#C8D4E3\",\"gridwidth\":2}},\"shapedefaults\":{\"line\":{\"color\":\"#f2f5fa\"}},\"annotationdefaults\":{\"arrowcolor\":\"#f2f5fa\",\"arrowhead\":0,\"arrowwidth\":1},\"geo\":{\"bgcolor\":\"rgb(17,17,17)\",\"landcolor\":\"rgb(17,17,17)\",\"subunitcolor\":\"#506784\",\"showland\":true,\"showlakes\":true,\"lakecolor\":\"rgb(17,17,17)\"},\"title\":{\"x\":0.05},\"updatemenudefaults\":{\"bgcolor\":\"#506784\",\"borderwidth\":0},\"sliderdefaults\":{\"bgcolor\":\"#C8D4E3\",\"borderwidth\":1,\"bordercolor\":\"rgb(17,17,17)\",\"tickwidth\":0},\"mapbox\":{\"style\":\"dark\"}}},\"title\":{\"text\":\"Accuracy = 89.62, F1 = 0.79\",\"x\":0.5,\"y\":0.05},\"paper_bgcolor\":\"rgba(0,0,0,0)\"},                        {\"responsive\": true}                    ).then(function(){\n                            \nvar gd = document.getElementById('b3450e9e-40ef-4836-98ae-907301099078');\nvar x = new MutationObserver(function (mutations, observer) {{\n        var display = window.getComputedStyle(gd).display;\n        if (!display || display === 'none') {{\n            console.log([gd, 'removed!']);\n            Plotly.purge(gd);\n            observer.disconnect();\n        }}\n}});\n\n// Listen for the removal of the full notebook cells\nvar notebookContainer = gd.closest('#notebook-container');\nif (notebookContainer) {{\n    x.observe(notebookContainer, {childList: true});\n}}\n\n// Listen for the clearing of the current output cell\nvar outputEl = gd.closest('.output');\nif (outputEl) {{\n    x.observe(outputEl, {childList: true});\n}}\n\n                        })                };                });            </script>        </div>"
     },
     "metadata": {},
     "output_type": "display_data"
    }
   ],
   "source": [
    "accuracy = accuracy_score(y_true, y_pred.astype(int))\n",
    "f1 = f1_score(y_true, y_pred.astype(int))\n",
    "cm = confusion_matrix(y_true, y_pred.astype(int))\n",
    "\n",
    "title_dict = {\n",
    "    'text': f'Accuracy = {accuracy*100:.2f}, F1 = {f1:.2f}',\n",
    "    'x': 0.5,\n",
    "    'y': 0.05\n",
    "}\n",
    "\n",
    "plot_confusion_matrix(cm, labels, title_dict)"
   ],
   "metadata": {
    "collapsed": false,
    "ExecuteTime": {
     "start_time": "2023-04-11T21:01:59.670972Z",
     "end_time": "2023-04-11T21:01:59.740163Z"
    }
   }
  }
 ],
 "metadata": {
  "kernelspec": {
   "display_name": "Python 3",
   "language": "python",
   "name": "python3"
  },
  "language_info": {
   "codemirror_mode": {
    "name": "ipython",
    "version": 2
   },
   "file_extension": ".py",
   "mimetype": "text/x-python",
   "name": "python",
   "nbconvert_exporter": "python",
   "pygments_lexer": "ipython2",
   "version": "2.7.6"
  }
 },
 "nbformat": 4,
 "nbformat_minor": 0
}
