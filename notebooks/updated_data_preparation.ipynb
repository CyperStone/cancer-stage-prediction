{
 "cells": [
  {
   "cell_type": "markdown",
   "id": "090f0d7b",
   "metadata": {},
   "source": [
    "# Data preparation (updated data)\n",
    "\n",
    "Notebook with basic preparation of updated data and train/test split for future experiments"
   ]
  },
  {
   "cell_type": "code",
   "execution_count": 1,
   "id": "cd3d64fa",
   "metadata": {},
   "outputs": [],
   "source": [
    "import os\n",
    "import pandas as pd\n",
    "from sklearn.model_selection import train_test_split"
   ]
  },
  {
   "cell_type": "code",
   "execution_count": 2,
   "id": "657efa9f",
   "metadata": {},
   "outputs": [],
   "source": [
    "random_state = 42"
   ]
  },
  {
   "cell_type": "code",
   "execution_count": 3,
   "id": "ea514c69",
   "metadata": {},
   "outputs": [],
   "source": [
    "raw_data_path = '../data/raw/updated/'\n",
    "cleaned_data_path = '../data/cleaned/updated/all_features'\n",
    "cleaned_filtered_data_path = '../data/cleaned/updated/stable_features'"
   ]
  },
  {
   "cell_type": "markdown",
   "id": "6b0276d7",
   "metadata": {},
   "source": [
    "## Data loading and preparation"
   ]
  },
  {
   "cell_type": "markdown",
   "id": "4ce63900",
   "metadata": {},
   "source": [
    "File with information about patients"
   ]
  },
  {
   "cell_type": "code",
   "execution_count": 4,
   "id": "a05f7006",
   "metadata": {},
   "outputs": [
    {
     "name": "stdout",
     "output_type": "stream",
     "text": [
      "<class 'pandas.core.frame.DataFrame'>\n",
      "Int64Index: 1161 entries, 331 to 2313\n",
      "Data columns (total 12 columns):\n",
      " #   Column               Non-Null Count  Dtype  \n",
      "---  ------               --------------  -----  \n",
      " 0   ID                   1161 non-null   object \n",
      " 1   Group                1161 non-null   object \n",
      " 2   Age                  1161 non-null   object \n",
      " 3   Stage                1161 non-null   object \n",
      " 4   Sex                  1161 non-null   object \n",
      " 5   RealLocation         1161 non-null   object \n",
      " 6   isTraining           1161 non-null   int64  \n",
      " 7   isValidation         1161 non-null   int64  \n",
      " 8   isTest               1161 non-null   int64  \n",
      " 9   lib.size             1161 non-null   int64  \n",
      " 10  originalScoreBinary  1161 non-null   float64\n",
      " 11  GroupAlternative     1161 non-null   object \n",
      "dtypes: float64(1), int64(4), object(7)\n",
      "memory usage: 117.9+ KB\n"
     ]
    }
   ],
   "source": [
    "patients = pd.read_csv(os.path.join(raw_data_path, 'samplesStage.csv'), sep='\\t')\n",
    "patients = patients.drop(columns=['X', 'Group', 'stage'])\n",
    "patients = patients.rename(columns={'id': 'ID', 'StageGroupped': 'Stage', 'ori_patientgroup': 'Group'})\n",
    "\n",
    "patients.info()"
   ]
  },
  {
   "cell_type": "code",
   "execution_count": 5,
   "id": "42916817",
   "metadata": {},
   "outputs": [
    {
     "data": {
      "text/plain": [
       "IV     720\n",
       "III    197\n",
       "II     151\n",
       "I       93\n",
       "Name: Stage, dtype: int64"
      ]
     },
     "execution_count": 5,
     "metadata": {},
     "output_type": "execute_result"
    }
   ],
   "source": [
    "patients['Stage'].value_counts(dropna=False)"
   ]
  },
  {
   "cell_type": "code",
   "execution_count": 6,
   "id": "d66930c4",
   "metadata": {},
   "outputs": [
    {
     "data": {
      "text/plain": [
       "NSCLC                  345\n",
       "ovarianCancer          129\n",
       "PDAC                   125\n",
       "headAndNeck            101\n",
       "breastCancer            91\n",
       "Cholangiocarcinoma      82\n",
       "CRC                     67\n",
       "Melanoma                66\n",
       "endometrialCancer       36\n",
       "renalCellCarcinoma      28\n",
       "urothelialCarcinoma     28\n",
       "hodgkinLymphoma         18\n",
       "prostateCancer          15\n",
       "HCC                     15\n",
       "esophagus               12\n",
       "Sarcoma                  2\n",
       "chronPancreatitis        1\n",
       "Name: Group, dtype: int64"
      ]
     },
     "execution_count": 6,
     "metadata": {},
     "output_type": "execute_result"
    }
   ],
   "source": [
    "patients['Group'].value_counts(dropna=False)"
   ]
  },
  {
   "cell_type": "code",
   "execution_count": 7,
   "id": "b0d6ee44",
   "metadata": {},
   "outputs": [
    {
     "name": "stdout",
     "output_type": "stream",
     "text": [
      "<class 'pandas.core.frame.DataFrame'>\n",
      "Int64Index: 1161 entries, 331 to 2313\n",
      "Data columns (total 5 columns):\n",
      " #   Column  Non-Null Count  Dtype  \n",
      "---  ------  --------------  -----  \n",
      " 0   ID      1161 non-null   object \n",
      " 1   Group   1161 non-null   object \n",
      " 2   Sex     1161 non-null   object \n",
      " 3   Age     1160 non-null   float64\n",
      " 4   Stage   1161 non-null   object \n",
      "dtypes: float64(1), object(4)\n",
      "memory usage: 54.4+ KB\n"
     ]
    }
   ],
   "source": [
    "patients['Age'] = pd.to_numeric(patients['Age'], errors='coerce')\n",
    "\n",
    "cols = [\n",
    "    'ID',\n",
    "    'Group',\n",
    "    'Sex',\n",
    "    'Age',\n",
    "    'Stage'\n",
    "]\n",
    "patients = patients.loc[:, cols]\n",
    "patients.info()"
   ]
  },
  {
   "cell_type": "markdown",
   "id": "e6ac9905",
   "metadata": {},
   "source": [
    "List of prefiltered columns"
   ]
  },
  {
   "cell_type": "code",
   "execution_count": 8,
   "id": "bc4f0c70",
   "metadata": {},
   "outputs": [
    {
     "name": "stdout",
     "output_type": "stream",
     "text": [
      "<class 'pandas.core.series.Series'>\n",
      "RangeIndex: 757 entries, 0 to 756\n",
      "Series name: feature_names\n",
      "Non-Null Count  Dtype \n",
      "--------------  ----- \n",
      "757 non-null    object\n",
      "dtypes: object(1)\n",
      "memory usage: 6.0+ KB\n"
     ]
    }
   ],
   "source": [
    "stable_features = pd.read_csv(os.path.join(raw_data_path, 'features_stable.csv'), sep='\\t', names=['feature_names'])\n",
    "stable_features = stable_features['feature_names']\n",
    "\n",
    "stable_features.info()"
   ]
  },
  {
   "cell_type": "markdown",
   "id": "a58ce0b8",
   "metadata": {},
   "source": [
    "File with marker values"
   ]
  },
  {
   "cell_type": "code",
   "execution_count": 9,
   "id": "da8fa9aa",
   "metadata": {},
   "outputs": [
    {
     "name": "stdout",
     "output_type": "stream",
     "text": [
      "<class 'pandas.core.frame.DataFrame'>\n",
      "RangeIndex: 1161 entries, 0 to 1160\n",
      "Columns: 5327 entries, ID to CASC15\n",
      "dtypes: float64(5326), object(1)\n",
      "memory usage: 47.2+ MB\n"
     ]
    }
   ],
   "source": [
    "markers = pd.read_csv(os.path.join(raw_data_path, 'countsStage.csv'), sep='\\t')\n",
    "markers = markers.T.reset_index(names='ID')\n",
    "\n",
    "markers.info()"
   ]
  },
  {
   "cell_type": "code",
   "execution_count": 10,
   "id": "45dd1021",
   "metadata": {},
   "outputs": [
    {
     "name": "stdout",
     "output_type": "stream",
     "text": [
      "<class 'pandas.core.frame.DataFrame'>\n",
      "RangeIndex: 1161 entries, 0 to 1160\n",
      "Columns: 758 entries, MEST to ID\n",
      "dtypes: float64(757), object(1)\n",
      "memory usage: 6.7+ MB\n"
     ]
    }
   ],
   "source": [
    "features_to_keep = stable_features.values.tolist() + ['ID']\n",
    "markers_filtered = markers.loc[:, features_to_keep]\n",
    "\n",
    "markers_filtered.info()"
   ]
  },
  {
   "cell_type": "code",
   "execution_count": 11,
   "id": "30a0dc46",
   "metadata": {},
   "outputs": [],
   "source": [
    "df = patients.merge(markers, on='ID', how='inner')\n",
    "df.to_csv(os.path.join(cleaned_data_path, 'dataset.csv'), index=False, sep=';')"
   ]
  },
  {
   "cell_type": "code",
   "execution_count": 12,
   "id": "5d790ff2",
   "metadata": {},
   "outputs": [],
   "source": [
    "df_filtered = patients.merge(markers_filtered, on='ID', how='inner')\n",
    "df_filtered.to_csv(os.path.join(cleaned_filtered_data_path, 'dataset.csv'), index=False, sep=';')"
   ]
  },
  {
   "cell_type": "markdown",
   "id": "5d17de15",
   "metadata": {},
   "source": [
    "## Train test split"
   ]
  },
  {
   "cell_type": "code",
   "execution_count": 13,
   "id": "ead81b2a",
   "metadata": {},
   "outputs": [],
   "source": [
    "groups_and_stages = patients.apply(lambda row: f\"{row['Group'].replace(' ', '_')}_{row['Stage']}\", axis=1)\n",
    "groups_and_stages_counts = groups_and_stages.value_counts()\n",
    "groups_and_stages[groups_and_stages.isin(groups_and_stages_counts[groups_and_stages_counts == 1].index)] = 'temp'\n",
    "\n",
    "train_patients, test_patients = train_test_split(patients, test_size=0.25, stratify=groups_and_stages, random_state=random_state)"
   ]
  },
  {
   "cell_type": "code",
   "execution_count": 14,
   "id": "6409d099",
   "metadata": {},
   "outputs": [
    {
     "data": {
      "text/plain": [
       "NSCLC_IV                   0.252874\n",
       "PDAC_II                    0.056322\n",
       "headAndNeck_IV             0.051724\n",
       "CRC_IV                     0.049425\n",
       "breastCancer_IV            0.049425\n",
       "Melanoma_IV                0.049425\n",
       "ovarianCancer_III          0.041379\n",
       "Cholangiocarcinoma_IV      0.039080\n",
       "NSCLC_III                  0.031034\n",
       "ovarianCancer_IV           0.029885\n",
       "PDAC_III                   0.026437\n",
       "headAndNeck_III            0.025287\n",
       "ovarianCancer_I            0.025287\n",
       "renalCellCarcinoma_IV      0.024138\n",
       "urothelialCarcinoma_IV     0.021839\n",
       "PDAC_IV                    0.021839\n",
       "endometrialCancer_I        0.020690\n",
       "Cholangiocarcinoma_II      0.018391\n",
       "breastCancer_II            0.014943\n",
       "ovarianCancer_II           0.013793\n",
       "prostateCancer_IV          0.012644\n",
       "breastCancer_I             0.010345\n",
       "HCC_IV                     0.009195\n",
       "esophagus_III              0.008046\n",
       "Cholangiocarcinoma_III     0.008046\n",
       "NSCLC_I                    0.008046\n",
       "endometrialCancer_III      0.006897\n",
       "NSCLC_II                   0.005747\n",
       "Cholangiocarcinoma_I       0.005747\n",
       "Melanoma_III               0.005747\n",
       "hodgkinLymphoma_IV         0.005747\n",
       "headAndNeck_II             0.005747\n",
       "hodgkinLymphoma_II         0.004598\n",
       "CRC_III                    0.004598\n",
       "hodgkinLymphoma_III        0.004598\n",
       "breastCancer_III           0.003448\n",
       "headAndNeck_I              0.003448\n",
       "endometrialCancer_II       0.003448\n",
       "Melanoma_II                0.002299\n",
       "CRC_II                     0.002299\n",
       "HCC_III                    0.002299\n",
       "PDAC_I                     0.002299\n",
       "urothelialCarcinoma_III    0.002299\n",
       "hodgkinLymphoma_I          0.002299\n",
       "Sarcoma_III                0.001149\n",
       "esophagus_IV               0.001149\n",
       "HCC_II                     0.001149\n",
       "CRC_I                      0.001149\n",
       "Sarcoma_IV                 0.001149\n",
       "esophagus_II               0.001149\n",
       "dtype: float64"
      ]
     },
     "execution_count": 14,
     "metadata": {},
     "output_type": "execute_result"
    }
   ],
   "source": [
    "train_patients.apply(lambda row: f\"{row['Group'].replace(' ', '_')}_{row['Stage']}\", axis=1).value_counts(normalize=True)"
   ]
  },
  {
   "cell_type": "code",
   "execution_count": 16,
   "id": "b740d70f",
   "metadata": {},
   "outputs": [
    {
     "data": {
      "text/plain": [
       "NSCLC_IV                  0.250859\n",
       "PDAC_II                   0.058419\n",
       "CRC_IV                    0.051546\n",
       "Melanoma_IV               0.051546\n",
       "headAndNeck_IV            0.051546\n",
       "breastCancer_IV           0.048110\n",
       "ovarianCancer_III         0.041237\n",
       "Cholangiocarcinoma_IV     0.037801\n",
       "ovarianCancer_IV          0.030928\n",
       "NSCLC_III                 0.030928\n",
       "ovarianCancer_I           0.027491\n",
       "headAndNeck_III           0.027491\n",
       "PDAC_III                  0.027491\n",
       "renalCellCarcinoma_IV     0.024055\n",
       "urothelialCarcinoma_IV    0.024055\n",
       "Cholangiocarcinoma_II     0.020619\n",
       "endometrialCancer_I       0.020619\n",
       "PDAC_IV                   0.020619\n",
       "breastCancer_II           0.017182\n",
       "prostateCancer_IV         0.013746\n",
       "ovarianCancer_II          0.013746\n",
       "esophagus_III             0.010309\n",
       "breastCancer_I            0.010309\n",
       "NSCLC_I                   0.010309\n",
       "HCC_IV                    0.010309\n",
       "headAndNeck_II            0.006873\n",
       "endometrialCancer_III     0.006873\n",
       "Cholangiocarcinoma_III    0.006873\n",
       "endometrialCancer_II      0.003436\n",
       "CRC_II                    0.003436\n",
       "headAndNeck_I             0.003436\n",
       "hodgkinLymphoma_II        0.003436\n",
       "PDAC_I                    0.003436\n",
       "NSCLC_II                  0.003436\n",
       "chronPancreatitis_IV      0.003436\n",
       "hodgkinLymphoma_IV        0.003436\n",
       "Cholangiocarcinoma_I      0.003436\n",
       "CRC_III                   0.003436\n",
       "hodgkinLymphoma_III       0.003436\n",
       "breastCancer_III          0.003436\n",
       "Melanoma_III              0.003436\n",
       "HCC_I                     0.003436\n",
       "dtype: float64"
      ]
     },
     "execution_count": 16,
     "metadata": {},
     "output_type": "execute_result"
    }
   ],
   "source": [
    "test_patients.apply(lambda row: f\"{row['Group'].replace(' ', '_')}_{row['Stage']}\", axis=1).value_counts(normalize=True)"
   ]
  },
  {
   "cell_type": "code",
   "execution_count": 17,
   "id": "7ef448d8",
   "metadata": {},
   "outputs": [
    {
     "name": "stdout",
     "output_type": "stream",
     "text": [
      "Train set size: 870\n",
      "Test set size: 291\n"
     ]
    }
   ],
   "source": [
    "print(f'Train set size: {len(train_patients)}')\n",
    "print(f'Test set size: {len(test_patients)}')"
   ]
  },
  {
   "cell_type": "code",
   "execution_count": 18,
   "id": "7f609c38",
   "metadata": {},
   "outputs": [],
   "source": [
    "train = train_patients.merge(markers, on='ID', how='inner')\n",
    "test = test_patients.merge(markers, on='ID', how='inner')\n",
    "\n",
    "train.to_csv(os.path.join(cleaned_data_path, 'train.csv'), index=False, sep=';')\n",
    "test.to_csv(os.path.join(cleaned_data_path, 'test.csv'), index=False, sep=';')"
   ]
  },
  {
   "cell_type": "code",
   "execution_count": 19,
   "id": "ee48ff4d",
   "metadata": {},
   "outputs": [],
   "source": [
    "train_filtered = train_patients.merge(markers_filtered, on='ID', how='inner')\n",
    "test_filtered = test_patients.merge(markers_filtered, on='ID', how='inner')\n",
    "\n",
    "train_filtered.to_csv(os.path.join(cleaned_filtered_data_path, 'train.csv'), index=False, sep=';')\n",
    "test_filtered.to_csv(os.path.join(cleaned_filtered_data_path, 'test.csv'), index=False, sep=';')"
   ]
  },
  {
   "cell_type": "markdown",
   "id": "083b3df2",
   "metadata": {},
   "source": [
    "### Split samples with the most numerous types of cancer to separate datasets"
   ]
  },
  {
   "cell_type": "code",
   "execution_count": 6,
   "id": "09de660d",
   "metadata": {},
   "outputs": [],
   "source": [
    "train = pd.read_csv(os.path.join(cleaned_data_path, 'train.csv'), sep=';')\n",
    "test = pd.read_csv(os.path.join(cleaned_data_path, 'test.csv'), sep=';')"
   ]
  },
  {
   "cell_type": "code",
   "execution_count": 10,
   "id": "2c675f92",
   "metadata": {},
   "outputs": [
    {
     "data": {
      "text/plain": [
       "NSCLC            259\n",
       "ovarianCancer     96\n",
       "PDAC              93\n",
       "Name: Group, dtype: int64"
      ]
     },
     "execution_count": 10,
     "metadata": {},
     "output_type": "execute_result"
    }
   ],
   "source": [
    "group_counts = train['Group'].value_counts()\n",
    "top_groups = group_counts[group_counts > 80]\n",
    "top_groups"
   ]
  },
  {
   "cell_type": "code",
   "execution_count": 13,
   "id": "874216b3",
   "metadata": {},
   "outputs": [],
   "source": [
    "for group_name in top_groups.index:\n",
    "    train_group = train.loc[train['Group'] == group_name]\n",
    "    test_group = test.loc[test['Group'] == group_name]\n",
    "    \n",
    "    group_dataset_path = os.path.join(cleaned_data_path, group_name)\n",
    "    if not os.path.isdir(group_dataset_path):\n",
    "        os.mkdir(group_dataset_path)\n",
    "    \n",
    "    train_group.to_csv(os.path.join(group_dataset_path, 'train.csv'), index=False, sep=';')\n",
    "    test_group.to_csv(os.path.join(group_dataset_path, 'test.csv'), index=False, sep=';')"
   ]
  }
 ],
 "metadata": {
  "kernelspec": {
   "display_name": "Python 3 (ipykernel)",
   "language": "python",
   "name": "python3"
  },
  "language_info": {
   "codemirror_mode": {
    "name": "ipython",
    "version": 3
   },
   "file_extension": ".py",
   "mimetype": "text/x-python",
   "name": "python",
   "nbconvert_exporter": "python",
   "pygments_lexer": "ipython3",
   "version": "3.10.10"
  }
 },
 "nbformat": 4,
 "nbformat_minor": 5
}
