{
 "cells": [
  {
   "cell_type": "markdown",
   "metadata": {},
   "source": [
    "# Data preparation\n",
    "\n",
    "Notebook with basic data preparation and train/test split for future experiments"
   ]
  },
  {
   "cell_type": "code",
   "execution_count": 1,
   "metadata": {
    "ExecuteTime": {
     "end_time": "2023-04-16T15:35:26.447571Z",
     "start_time": "2023-04-16T15:35:25.300503Z"
    }
   },
   "outputs": [],
   "source": [
    "import os\n",
    "import pandas as pd\n",
    "from sklearn.model_selection import train_test_split"
   ]
  },
  {
   "cell_type": "markdown",
   "metadata": {},
   "source": [
    "## Data loading and preparation"
   ]
  },
  {
   "cell_type": "markdown",
   "metadata": {},
   "source": [
    "Load raw data (has to be placed in \"raw_data_path\" directory)"
   ]
  },
  {
   "cell_type": "code",
   "execution_count": 2,
   "metadata": {
    "ExecuteTime": {
     "end_time": "2023-04-16T15:35:29.723939Z",
     "start_time": "2023-04-16T15:35:29.692763Z"
    }
   },
   "outputs": [
    {
     "name": "stdout",
     "output_type": "stream",
     "text": [
      "<class 'pandas.core.frame.DataFrame'>\n",
      "RangeIndex: 1916 entries, 0 to 1915\n",
      "Data columns (total 16 columns):\n",
      " #   Column           Non-Null Count  Dtype  \n",
      "---  ------           --------------  -----  \n",
      " 0   Sample.ID        1916 non-null   object \n",
      " 1   Group            1916 non-null   object \n",
      " 2   Stage            1648 non-null   object \n",
      " 3   Sex              1898 non-null   object \n",
      " 4   Age              1898 non-null   object \n",
      " 5   Lib.size         1916 non-null   int64  \n",
      " 6   Description      107 non-null    object \n",
      " 7   Comments         0 non-null      float64\n",
      " 8   IsNew            1916 non-null   object \n",
      " 9   PotentialIssues  36 non-null     object \n",
      " 10  TR               1916 non-null   object \n",
      " 11  RealLocation     1916 non-null   object \n",
      " 12  MultiGroup       1916 non-null   object \n",
      " 13  MultiGroup2      1916 non-null   object \n",
      " 14  MultiGroup3      1916 non-null   object \n",
      " 15  TrainTest        1916 non-null   object \n",
      "dtypes: float64(1), int64(1), object(14)\n",
      "memory usage: 239.6+ KB\n"
     ]
    }
   ],
   "source": [
    "raw_data_path = '../data/raw'\n",
    "\n",
    "patients = pd.read_csv(os.path.join(raw_data_path, 'SampleInfo_short_multiclass_2022-10-14.tsv'), sep='\\t')\n",
    "patients = patients.reset_index(drop=True)\n",
    "\n",
    "patients.info()"
   ]
  },
  {
   "cell_type": "markdown",
   "metadata": {},
   "source": [
    "Check for different Stage and Group values"
   ]
  },
  {
   "cell_type": "code",
   "execution_count": 3,
   "metadata": {
    "ExecuteTime": {
     "end_time": "2023-04-16T15:35:37.044206Z",
     "start_time": "2023-04-16T15:35:37.028624Z"
    }
   },
   "outputs": [
    {
     "data": {
      "text/plain": [
       "n.a.    794\n",
       "IV      497\n",
       "NaN     268\n",
       "III     152\n",
       "II      125\n",
       "I        80\n",
       "Name: Stage, dtype: int64"
      ]
     },
     "execution_count": 3,
     "metadata": {},
     "output_type": "execute_result"
    }
   ],
   "source": [
    "patients['Stage'].value_counts(dropna=False)"
   ]
  },
  {
   "cell_type": "code",
   "execution_count": 4,
   "metadata": {
    "ExecuteTime": {
     "end_time": "2023-04-16T15:36:07.247941Z",
     "start_time": "2023-04-16T15:36:07.232331Z"
    }
   },
   "outputs": [
    {
     "data": {
      "text/plain": [
       "NSCLC                             567\n",
       "Asymptomatic controls             405\n",
       "Pulmonary Hypertension            175\n",
       "Ovarian cancer                    133\n",
       "Glioma                            128\n",
       "Pancreatic cancer                 123\n",
       "Cholangiocarcinoma                 83\n",
       "Multiple sclerosis                 83\n",
       "Colorectal cancer                  80\n",
       "Medically-intractable epilepsy     43\n",
       "Endometrial cancer                 38\n",
       "Angina pectoris                    26\n",
       "Hepatocellular carcinoma           22\n",
       "Esophageal carcinoma               10\n",
       "Name: Group, dtype: int64"
      ]
     },
     "execution_count": 4,
     "metadata": {},
     "output_type": "execute_result"
    }
   ],
   "source": [
    "patients['Group'].value_counts(dropna=False)"
   ]
  },
  {
   "cell_type": "markdown",
   "metadata": {},
   "source": [
    "Filter out the \"Asymptomatic control\" values of Group and cases with undefined Stage"
   ]
  },
  {
   "cell_type": "code",
   "execution_count": 5,
   "metadata": {
    "ExecuteTime": {
     "end_time": "2023-04-16T15:37:32.472604Z",
     "start_time": "2023-04-16T15:37:32.456986Z"
    }
   },
   "outputs": [
    {
     "data": {
      "text/plain": [
       "IV     497\n",
       "III    152\n",
       "II     125\n",
       "I       80\n",
       "Name: Stage, dtype: int64"
      ]
     },
     "execution_count": 5,
     "metadata": {},
     "output_type": "execute_result"
    }
   ],
   "source": [
    "valid_stages = ('I', 'II', 'III', 'IV')\n",
    "patients = patients.loc[patients['Stage'].isin(valid_stages)]\n",
    "\n",
    "patients['Stage'].value_counts(dropna=False)"
   ]
  },
  {
   "cell_type": "code",
   "execution_count": 6,
   "metadata": {
    "ExecuteTime": {
     "end_time": "2023-04-16T15:37:40.909755Z",
     "start_time": "2023-04-16T15:37:40.894130Z"
    }
   },
   "outputs": [
    {
     "data": {
      "text/plain": [
       "NSCLC                       404\n",
       "Ovarian cancer              126\n",
       "Pancreatic cancer           122\n",
       "Cholangiocarcinoma           80\n",
       "Colorectal cancer            63\n",
       "Endometrial cancer           36\n",
       "Hepatocellular carcinoma     14\n",
       "Esophageal carcinoma          9\n",
       "Name: Group, dtype: int64"
      ]
     },
     "execution_count": 6,
     "metadata": {},
     "output_type": "execute_result"
    }
   ],
   "source": [
    "patients['Group'].value_counts(dropna=False)"
   ]
  },
  {
   "cell_type": "markdown",
   "metadata": {},
   "source": [
    "Change data type of Age column to numeric\n",
    "\n",
    "Change missing value markers to None\n",
    "\n",
    "Rename column with patient IDs\n",
    "\n",
    "Select only subset of available columns"
   ]
  },
  {
   "cell_type": "code",
   "execution_count": 7,
   "metadata": {
    "ExecuteTime": {
     "end_time": "2023-04-16T15:37:54.089767Z",
     "start_time": "2023-04-16T15:37:54.042780Z"
    }
   },
   "outputs": [
    {
     "name": "stdout",
     "output_type": "stream",
     "text": [
      "<class 'pandas.core.frame.DataFrame'>\n",
      "Int64Index: 854 entries, 328 to 1755\n",
      "Data columns (total 5 columns):\n",
      " #   Column  Non-Null Count  Dtype  \n",
      "---  ------  --------------  -----  \n",
      " 0   ID      854 non-null    object \n",
      " 1   Group   854 non-null    object \n",
      " 2   Sex     854 non-null    object \n",
      " 3   Age     853 non-null    float64\n",
      " 4   Stage   854 non-null    object \n",
      "dtypes: float64(1), object(4)\n",
      "memory usage: 40.0+ KB\n"
     ]
    }
   ],
   "source": [
    "patients['Age'] = pd.to_numeric(patients['Age'], errors='coerce')\n",
    "patients.loc[patients['Sex'] == 'n.a.', 'Sex'] = None\n",
    "patients = patients.rename(columns={'Sample.ID': 'ID'})\n",
    "\n",
    "cols = [\n",
    "    'ID',\n",
    "    'Group',\n",
    "    'Sex',\n",
    "    'Age',\n",
    "    'Stage'\n",
    "]\n",
    "patients = patients.loc[:, cols]\n",
    "patients.info()"
   ]
  },
  {
   "cell_type": "markdown",
   "metadata": {},
   "source": [
    "Load and transpose a dataframe with marker values"
   ]
  },
  {
   "cell_type": "code",
   "execution_count": 8,
   "metadata": {
    "ExecuteTime": {
     "end_time": "2023-04-16T15:37:59.609721Z",
     "start_time": "2023-04-16T15:37:58.698851Z"
    }
   },
   "outputs": [
    {
     "data": {
      "text/html": [
       "<div>\n",
       "<style scoped>\n",
       "    .dataframe tbody tr th:only-of-type {\n",
       "        vertical-align: middle;\n",
       "    }\n",
       "\n",
       "    .dataframe tbody tr th {\n",
       "        vertical-align: top;\n",
       "    }\n",
       "\n",
       "    .dataframe thead th {\n",
       "        text-align: right;\n",
       "    }\n",
       "</style>\n",
       "<table border=\"1\" class=\"dataframe\">\n",
       "  <thead>\n",
       "    <tr style=\"text-align: right;\">\n",
       "      <th></th>\n",
       "      <th>ID</th>\n",
       "      <th>ENSG00000000419</th>\n",
       "      <th>ENSG00000000938</th>\n",
       "      <th>ENSG00000001036</th>\n",
       "      <th>ENSG00000001461</th>\n",
       "      <th>ENSG00000001629</th>\n",
       "      <th>ENSG00000001631</th>\n",
       "      <th>ENSG00000002330</th>\n",
       "      <th>ENSG00000002549</th>\n",
       "      <th>ENSG00000002586</th>\n",
       "      <th>...</th>\n",
       "      <th>ENSG00000257267</th>\n",
       "      <th>ENSG00000257923</th>\n",
       "      <th>ENSG00000258890</th>\n",
       "      <th>ENSG00000263563</th>\n",
       "      <th>ENSG00000264538</th>\n",
       "      <th>ENSG00000266356</th>\n",
       "      <th>ENSG00000266714</th>\n",
       "      <th>ENSG00000269028</th>\n",
       "      <th>ENSG00000271043</th>\n",
       "      <th>ENSG00000272168</th>\n",
       "    </tr>\n",
       "  </thead>\n",
       "  <tbody>\n",
       "    <tr>\n",
       "      <th>0</th>\n",
       "      <td>Vumc-HD-101-TR922</td>\n",
       "      <td>3.064289</td>\n",
       "      <td>3.834176</td>\n",
       "      <td>4.171537</td>\n",
       "      <td>4.737304</td>\n",
       "      <td>4.272177</td>\n",
       "      <td>3.940969</td>\n",
       "      <td>4.418057</td>\n",
       "      <td>4.668012</td>\n",
       "      <td>10.759357</td>\n",
       "      <td>...</td>\n",
       "      <td>6.788573</td>\n",
       "      <td>8.077838</td>\n",
       "      <td>3.546347</td>\n",
       "      <td>4.328872</td>\n",
       "      <td>4.328872</td>\n",
       "      <td>4.803181</td>\n",
       "      <td>3.128490</td>\n",
       "      <td>7.739557</td>\n",
       "      <td>6.582879</td>\n",
       "      <td>4.418057</td>\n",
       "    </tr>\n",
       "    <tr>\n",
       "      <th>1</th>\n",
       "      <td>Vumc-HD-103-TR923</td>\n",
       "      <td>5.194380</td>\n",
       "      <td>6.964049</td>\n",
       "      <td>4.644469</td>\n",
       "      <td>3.838500</td>\n",
       "      <td>3.951551</td>\n",
       "      <td>5.386353</td>\n",
       "      <td>4.537357</td>\n",
       "      <td>5.478881</td>\n",
       "      <td>10.215786</td>\n",
       "      <td>...</td>\n",
       "      <td>6.073116</td>\n",
       "      <td>6.388674</td>\n",
       "      <td>5.337690</td>\n",
       "      <td>4.444854</td>\n",
       "      <td>3.877458</td>\n",
       "      <td>5.152584</td>\n",
       "      <td>5.686621</td>\n",
       "      <td>7.055870</td>\n",
       "      <td>5.815763</td>\n",
       "      <td>3.951551</td>\n",
       "    </tr>\n",
       "    <tr>\n",
       "      <th>2</th>\n",
       "      <td>Vumc-HD-108-TR924</td>\n",
       "      <td>5.387337</td>\n",
       "      <td>7.608523</td>\n",
       "      <td>4.097419</td>\n",
       "      <td>3.871438</td>\n",
       "      <td>5.966998</td>\n",
       "      <td>4.877867</td>\n",
       "      <td>4.097419</td>\n",
       "      <td>5.992483</td>\n",
       "      <td>9.772417</td>\n",
       "      <td>...</td>\n",
       "      <td>5.789179</td>\n",
       "      <td>7.257840</td>\n",
       "      <td>4.932819</td>\n",
       "      <td>4.490325</td>\n",
       "      <td>3.807177</td>\n",
       "      <td>4.932819</td>\n",
       "      <td>6.549959</td>\n",
       "      <td>7.091888</td>\n",
       "      <td>6.042124</td>\n",
       "      <td>3.871438</td>\n",
       "    </tr>\n",
       "    <tr>\n",
       "      <th>3</th>\n",
       "      <td>Vumc-HD-127-TR925</td>\n",
       "      <td>6.584300</td>\n",
       "      <td>5.626849</td>\n",
       "      <td>5.076153</td>\n",
       "      <td>3.865364</td>\n",
       "      <td>4.355678</td>\n",
       "      <td>5.188931</td>\n",
       "      <td>4.745318</td>\n",
       "      <td>5.215744</td>\n",
       "      <td>9.867106</td>\n",
       "      <td>...</td>\n",
       "      <td>6.150602</td>\n",
       "      <td>5.586682</td>\n",
       "      <td>5.390227</td>\n",
       "      <td>4.627846</td>\n",
       "      <td>4.707302</td>\n",
       "      <td>5.342562</td>\n",
       "      <td>6.746681</td>\n",
       "      <td>7.691876</td>\n",
       "      <td>6.080439</td>\n",
       "      <td>4.920776</td>\n",
       "    </tr>\n",
       "    <tr>\n",
       "      <th>4</th>\n",
       "      <td>Vumc-HD-130-TR926</td>\n",
       "      <td>5.684044</td>\n",
       "      <td>5.990387</td>\n",
       "      <td>4.338011</td>\n",
       "      <td>4.072761</td>\n",
       "      <td>4.029651</td>\n",
       "      <td>4.994614</td>\n",
       "      <td>4.693579</td>\n",
       "      <td>5.862317</td>\n",
       "      <td>9.949440</td>\n",
       "      <td>...</td>\n",
       "      <td>6.760555</td>\n",
       "      <td>5.605931</td>\n",
       "      <td>5.292285</td>\n",
       "      <td>4.527899</td>\n",
       "      <td>3.839155</td>\n",
       "      <td>5.188022</td>\n",
       "      <td>3.786024</td>\n",
       "      <td>8.199582</td>\n",
       "      <td>6.456418</td>\n",
       "      <td>5.275442</td>\n",
       "    </tr>\n",
       "  </tbody>\n",
       "</table>\n",
       "<p>5 rows × 4394 columns</p>\n",
       "</div>"
      ],
      "text/plain": [
       "                  ID  ENSG00000000419  ENSG00000000938  ENSG00000001036  \\\n",
       "0  Vumc-HD-101-TR922         3.064289         3.834176         4.171537   \n",
       "1  Vumc-HD-103-TR923         5.194380         6.964049         4.644469   \n",
       "2  Vumc-HD-108-TR924         5.387337         7.608523         4.097419   \n",
       "3  Vumc-HD-127-TR925         6.584300         5.626849         5.076153   \n",
       "4  Vumc-HD-130-TR926         5.684044         5.990387         4.338011   \n",
       "\n",
       "   ENSG00000001461  ENSG00000001629  ENSG00000001631  ENSG00000002330  \\\n",
       "0         4.737304         4.272177         3.940969         4.418057   \n",
       "1         3.838500         3.951551         5.386353         4.537357   \n",
       "2         3.871438         5.966998         4.877867         4.097419   \n",
       "3         3.865364         4.355678         5.188931         4.745318   \n",
       "4         4.072761         4.029651         4.994614         4.693579   \n",
       "\n",
       "   ENSG00000002549  ENSG00000002586  ...  ENSG00000257267  ENSG00000257923  \\\n",
       "0         4.668012        10.759357  ...         6.788573         8.077838   \n",
       "1         5.478881        10.215786  ...         6.073116         6.388674   \n",
       "2         5.992483         9.772417  ...         5.789179         7.257840   \n",
       "3         5.215744         9.867106  ...         6.150602         5.586682   \n",
       "4         5.862317         9.949440  ...         6.760555         5.605931   \n",
       "\n",
       "   ENSG00000258890  ENSG00000263563  ENSG00000264538  ENSG00000266356  \\\n",
       "0         3.546347         4.328872         4.328872         4.803181   \n",
       "1         5.337690         4.444854         3.877458         5.152584   \n",
       "2         4.932819         4.490325         3.807177         4.932819   \n",
       "3         5.390227         4.627846         4.707302         5.342562   \n",
       "4         5.292285         4.527899         3.839155         5.188022   \n",
       "\n",
       "   ENSG00000266714  ENSG00000269028  ENSG00000271043  ENSG00000272168  \n",
       "0         3.128490         7.739557         6.582879         4.418057  \n",
       "1         5.686621         7.055870         5.815763         3.951551  \n",
       "2         6.549959         7.091888         6.042124         3.871438  \n",
       "3         6.746681         7.691876         6.080439         4.920776  \n",
       "4         3.786024         8.199582         6.456418         5.275442  \n",
       "\n",
       "[5 rows x 4394 columns]"
      ]
     },
     "execution_count": 8,
     "metadata": {},
     "output_type": "execute_result"
    }
   ],
   "source": [
    "markers = pd.read_csv(os.path.join(raw_data_path, 'Counts_prefiltered_multiclass_2022-10-14.tsv'), sep='\\t')\n",
    "markers = markers.T.reset_index(names='ID')\n",
    "\n",
    "markers.head()"
   ]
  },
  {
   "cell_type": "markdown",
   "metadata": {},
   "source": [
    "Merge patients with their markers values"
   ]
  },
  {
   "cell_type": "code",
   "execution_count": 9,
   "metadata": {
    "ExecuteTime": {
     "end_time": "2023-04-16T15:38:05.271213Z",
     "start_time": "2023-04-16T15:38:05.129758Z"
    }
   },
   "outputs": [
    {
     "name": "stdout",
     "output_type": "stream",
     "text": [
      "<class 'pandas.core.frame.DataFrame'>\n",
      "Int64Index: 854 entries, 0 to 853\n",
      "Columns: 4398 entries, ID to ENSG00000272168\n",
      "dtypes: float64(4394), object(4)\n",
      "memory usage: 28.7+ MB\n"
     ]
    }
   ],
   "source": [
    "df = patients.merge(markers, on='ID', how='inner')\n",
    "df.info()"
   ]
  },
  {
   "cell_type": "markdown",
   "metadata": {},
   "source": [
    "Save merged dataframe to file"
   ]
  },
  {
   "cell_type": "code",
   "execution_count": 10,
   "metadata": {
    "ExecuteTime": {
     "end_time": "2023-04-16T15:38:13.205235Z",
     "start_time": "2023-04-16T15:38:10.865673Z"
    }
   },
   "outputs": [],
   "source": [
    "cleaned_data_path = '../data/cleaned'\n",
    "\n",
    "df.to_csv(os.path.join(cleaned_data_path, 'dataset.csv'), index=False, sep=';')"
   ]
  },
  {
   "cell_type": "markdown",
   "metadata": {},
   "source": [
    "## Train test split"
   ]
  },
  {
   "cell_type": "markdown",
   "metadata": {},
   "source": [
    "The dataset will be split to train/test sets in a stratified fashion based on two columns: Group and Stage.\n",
    "\n",
    "Some types of cancer have only one sample with a specific stage, so it's impossible to split them in a stratified way - they will be randomly placed in a train or test set."
   ]
  },
  {
   "cell_type": "code",
   "execution_count": 10,
   "metadata": {
    "ExecuteTime": {
     "end_time": "2023-04-16T15:39:28.448605Z",
     "start_time": "2023-04-16T15:39:28.299489Z"
    }
   },
   "outputs": [],
   "source": [
    "groups_and_stages = df.apply(lambda row: f\"{row['Group'].replace(' ', '_')}_{row['Stage']}\", axis=1)\n",
    "groups_and_stages_counts = groups_and_stages.value_counts()\n",
    "groups_and_stages[groups_and_stages.isin(groups_and_stages_counts[groups_and_stages_counts == 1].index)] = 'temp'\n",
    "\n",
    "train, test = train_test_split(df, test_size=0.25, stratify=groups_and_stages)"
   ]
  },
  {
   "cell_type": "markdown",
   "metadata": {},
   "source": [
    "Now both train and test sets are representative of (almost) every cancer/stage pairs available in the dataset."
   ]
  },
  {
   "cell_type": "code",
   "execution_count": 11,
   "metadata": {
    "ExecuteTime": {
     "end_time": "2023-04-16T15:39:31.325890Z",
     "start_time": "2023-04-16T15:39:31.232128Z"
    }
   },
   "outputs": [
    {
     "data": {
      "text/plain": [
       "NSCLC_IV                        0.385937\n",
       "Pancreatic_cancer_II            0.075000\n",
       "Colorectal_cancer_IV            0.062500\n",
       "NSCLC_III                       0.053125\n",
       "Cholangiocarcinoma_IV           0.051562\n",
       "Ovarian_cancer_III              0.050000\n",
       "Ovarian_cancer_IV               0.040625\n",
       "Pancreatic_cancer_III           0.035937\n",
       "Ovarian_cancer_I                0.035937\n",
       "Pancreatic_cancer_IV            0.028125\n",
       "Endometrial_cancer_I            0.028125\n",
       "Cholangiocarcinoma_II           0.026562\n",
       "Ovarian_cancer_II               0.020313\n",
       "NSCLC_I                         0.017188\n",
       "NSCLC_II                        0.015625\n",
       "Hepatocellular_carcinoma_IV     0.012500\n",
       "Cholangiocarcinoma_III          0.010937\n",
       "Esophageal_carcinoma_III        0.009375\n",
       "Endometrial_cancer_III          0.009375\n",
       "Cholangiocarcinoma_I            0.006250\n",
       "Colorectal_cancer_III           0.006250\n",
       "Endometrial_cancer_II           0.004687\n",
       "Colorectal_cancer_II            0.003125\n",
       "Hepatocellular_carcinoma_III    0.003125\n",
       "Pancreatic_cancer_I             0.003125\n",
       "Esophageal_carcinoma_II         0.001563\n",
       "Hepatocellular_carcinoma_II     0.001563\n",
       "Hepatocellular_carcinoma_I      0.001563\n",
       "dtype: float64"
      ]
     },
     "execution_count": 11,
     "metadata": {},
     "output_type": "execute_result"
    }
   ],
   "source": [
    "train.apply(lambda row: f\"{row['Group'].replace(' ', '_')}_{row['Stage']}\", axis=1).value_counts(normalize=True)"
   ]
  },
  {
   "cell_type": "code",
   "execution_count": 12,
   "metadata": {
    "ExecuteTime": {
     "end_time": "2023-04-16T15:39:37.646926Z",
     "start_time": "2023-04-16T15:39:37.600000Z"
    }
   },
   "outputs": [
    {
     "data": {
      "text/plain": [
       "NSCLC_IV                       0.387850\n",
       "Pancreatic_cancer_II           0.074766\n",
       "Colorectal_cancer_IV           0.065421\n",
       "NSCLC_III                      0.056075\n",
       "Cholangiocarcinoma_IV          0.051402\n",
       "Ovarian_cancer_III             0.051402\n",
       "Ovarian_cancer_IV              0.042056\n",
       "Pancreatic_cancer_III          0.037383\n",
       "Ovarian_cancer_I               0.037383\n",
       "Endometrial_cancer_I           0.028037\n",
       "Pancreatic_cancer_IV           0.028037\n",
       "Cholangiocarcinoma_II          0.023364\n",
       "NSCLC_I                        0.018692\n",
       "Ovarian_cancer_II              0.018692\n",
       "NSCLC_II                       0.014019\n",
       "Endometrial_cancer_III         0.009346\n",
       "Hepatocellular_carcinoma_IV    0.009346\n",
       "Esophageal_carcinoma_III       0.009346\n",
       "Cholangiocarcinoma_III         0.009346\n",
       "Cholangiocarcinoma_I           0.004673\n",
       "Pancreatic_cancer_I            0.004673\n",
       "Colorectal_cancer_I            0.004673\n",
       "Colorectal_cancer_II           0.004673\n",
       "Endometrial_cancer_II          0.004673\n",
       "Colorectal_cancer_III          0.004673\n",
       "dtype: float64"
      ]
     },
     "execution_count": 12,
     "metadata": {},
     "output_type": "execute_result"
    }
   ],
   "source": [
    "test.apply(lambda row: f\"{row['Group'].replace(' ', '_')}_{row['Stage']}\", axis=1).value_counts(normalize=True)"
   ]
  },
  {
   "cell_type": "code",
   "execution_count": 13,
   "metadata": {
    "ExecuteTime": {
     "end_time": "2023-04-16T15:40:02.343174Z",
     "start_time": "2023-04-16T15:40:02.327537Z"
    }
   },
   "outputs": [
    {
     "name": "stdout",
     "output_type": "stream",
     "text": [
      "Train set size: 640\n",
      "Test set size: 214\n"
     ]
    }
   ],
   "source": [
    "print(f'Train set size: {len(train)}')\n",
    "print(f'Test set size: {len(test)}')"
   ]
  },
  {
   "cell_type": "markdown",
   "metadata": {},
   "source": [
    "Save train/test sets to files"
   ]
  },
  {
   "cell_type": "code",
   "execution_count": 16,
   "metadata": {
    "ExecuteTime": {
     "end_time": "2023-04-16T15:40:11.314542Z",
     "start_time": "2023-04-16T15:40:08.920330Z"
    }
   },
   "outputs": [],
   "source": [
    "train.to_csv(os.path.join(cleaned_data_path, 'train.csv'), index=False, sep=';')\n",
    "test.to_csv(os.path.join(cleaned_data_path, 'test.csv'), index=False, sep=';')"
   ]
  }
 ],
 "metadata": {
  "kernelspec": {
   "display_name": "Python 3 (ipykernel)",
   "language": "python",
   "name": "python3"
  },
  "language_info": {
   "codemirror_mode": {
    "name": "ipython",
    "version": 3
   },
   "file_extension": ".py",
   "mimetype": "text/x-python",
   "name": "python",
   "nbconvert_exporter": "python",
   "pygments_lexer": "ipython3",
   "version": "3.10.10"
  }
 },
 "nbformat": 4,
 "nbformat_minor": 1
}
