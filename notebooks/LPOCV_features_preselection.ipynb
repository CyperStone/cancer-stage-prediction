{
 "cells": [
  {
   "cell_type": "markdown",
   "id": "3afc14e7",
   "metadata": {},
   "source": [
    "# Leave-pair-out cross-validation with features preselection\n",
    "\n",
    "Notebook contains the final validation of an approach developed during previous experiments using LPOCV method. The subset of input features is reduced based on the feature importances obtained from experiments placed in **leave_pair_out_validation.ipynb** notebook."
   ]
  },
  {
   "cell_type": "code",
   "execution_count": 1,
   "id": "8d7665d5",
   "metadata": {},
   "outputs": [],
   "source": [
    "import os\n",
    "import optuna\n",
    "import warnings\n",
    "import numpy as np\n",
    "import pandas as pd\n",
    "import seaborn as sns\n",
    "import matplotlib.pyplot as plt\n",
    "from tqdm import tqdm\n",
    "from functools import partial\n",
    "from xgboost.sklearn import XGBClassifier\n",
    "from sklearn.model_selection import StratifiedShuffleSplit\n",
    "from sklearn.metrics import f1_score, accuracy_score, confusion_matrix, balanced_accuracy_score\n",
    "\n",
    "warnings.filterwarnings('ignore')\n",
    "optuna.logging.set_verbosity(optuna.logging.ERROR)"
   ]
  },
  {
   "cell_type": "markdown",
   "id": "453951e5",
   "metadata": {},
   "source": [
    "Define random seed to allow reproducibility"
   ]
  },
  {
   "cell_type": "code",
   "execution_count": 2,
   "id": "5f0df764",
   "metadata": {},
   "outputs": [],
   "source": [
    "random_state = 42\n",
    "np.random.seed(random_state)"
   ]
  },
  {
   "cell_type": "markdown",
   "id": "cc5bb8de",
   "metadata": {},
   "source": [
    "Define directory path to save results"
   ]
  },
  {
   "cell_type": "code",
   "execution_count": 3,
   "id": "e267647b",
   "metadata": {},
   "outputs": [],
   "source": [
    "output_dir = '../results/updated_data/all_features/ovarianCancer/LPO_validation/feature_preselection/binary/random_oversampler_default/top15'"
   ]
  },
  {
   "cell_type": "markdown",
   "id": "9a5ecd32",
   "metadata": {},
   "source": [
    "Load dataset"
   ]
  },
  {
   "cell_type": "code",
   "execution_count": 4,
   "id": "1892a797",
   "metadata": {},
   "outputs": [
    {
     "name": "stdout",
     "output_type": "stream",
     "text": [
      "<class 'pandas.core.frame.DataFrame'>\n",
      "RangeIndex: 129 entries, 0 to 128\n",
      "Columns: 5331 entries, ID to CASC15\n",
      "dtypes: float64(5327), object(4)\n",
      "memory usage: 5.2+ MB\n"
     ]
    }
   ],
   "source": [
    "data_path = '../data/cleaned/updated/all_features/ovarianCancer/'\n",
    "\n",
    "dataset = pd.read_csv(os.path.join(data_path, 'dataset.csv'), sep=';')\n",
    "dataset.info()"
   ]
  },
  {
   "cell_type": "markdown",
   "id": "8534cb2c",
   "metadata": {},
   "source": [
    "Load feature importances obtained from previous experiment"
   ]
  },
  {
   "cell_type": "code",
   "execution_count": 5,
   "id": "c553e3b4",
   "metadata": {},
   "outputs": [
    {
     "data": {
      "text/plain": [
       "KSR1       0.143307\n",
       "HDAC8      0.084665\n",
       "DDX11L5    0.029182\n",
       "TAOK1      0.029065\n",
       "CHD1       0.026318\n",
       "             ...   \n",
       "HSDL2      0.000000\n",
       "RBM18      0.000000\n",
       "PPP6C      0.000000\n",
       "NEK6       0.000000\n",
       "CASC15     0.000000\n",
       "Length: 5326, dtype: float64"
      ]
     },
     "execution_count": 5,
     "metadata": {},
     "output_type": "execute_result"
    }
   ],
   "source": [
    "previous_feature_importances_path = '../results/updated_data/all_features/ovarianCancer/LPO_validation/backward_elimination/binary/random_oversampler_default/feature_importances.csv'\n",
    "\n",
    "previous_feature_importances = pd.read_csv(previous_feature_importances_path, sep=';')\n",
    "mean_importances_sorted = previous_feature_importances.mean(axis=0).sort_values(ascending=False)\n",
    "\n",
    "mean_importances_sorted"
   ]
  },
  {
   "cell_type": "markdown",
   "id": "4774d615",
   "metadata": {},
   "source": [
    "Prepare data for validation"
   ]
  },
  {
   "cell_type": "code",
   "execution_count": 6,
   "id": "9b731596",
   "metadata": {},
   "outputs": [
    {
     "name": "stdout",
     "output_type": "stream",
     "text": [
      "<class 'pandas.core.frame.DataFrame'>\n",
      "RangeIndex: 129 entries, 0 to 128\n",
      "Data columns (total 16 columns):\n",
      " #   Column    Non-Null Count  Dtype  \n",
      "---  ------    --------------  -----  \n",
      " 0   Stage     129 non-null    int64  \n",
      " 1   PNN       129 non-null    float64\n",
      " 2   MAP3K8    129 non-null    float64\n",
      " 3   USP5      129 non-null    float64\n",
      " 4   RAP1B     129 non-null    float64\n",
      " 5   CNOT6L    129 non-null    float64\n",
      " 6   KSR1      129 non-null    float64\n",
      " 7   HDAC8     129 non-null    float64\n",
      " 8   CHD1      129 non-null    float64\n",
      " 9   TAOK1     129 non-null    float64\n",
      " 10  NEMF      129 non-null    float64\n",
      " 11  UQCRH     129 non-null    float64\n",
      " 12  CTNNBIP1  129 non-null    float64\n",
      " 13  DDX11L10  129 non-null    float64\n",
      " 14  CLEC2L    129 non-null    float64\n",
      " 15  DDX11L5   129 non-null    float64\n",
      "dtypes: float64(15), int64(1)\n",
      "memory usage: 16.2 KB\n"
     ]
    }
   ],
   "source": [
    "dataset_binary = dataset.copy(deep=True)\n",
    "\n",
    "binary_mapping = {\n",
    "    'I': 'I-III',\n",
    "    'II': 'I-III',\n",
    "    'III': 'I-III',\n",
    "    'IV': 'IV'\n",
    "}\n",
    "dataset_binary.loc[:, 'Stage'] = dataset_binary['Stage'].map(binary_mapping)\n",
    "sample_ids = dataset_binary.loc[:, 'ID']\n",
    "dataset_binary = dataset_binary.loc[:, ~dataset_binary.columns.isin(['ID', 'Sex', 'Age', 'Group'])]\n",
    "\n",
    "labels_encoding_binary = {\n",
    "    'I-III': 0,\n",
    "    'IV': 1\n",
    "}\n",
    "dataset_binary.loc[:, 'Stage'] = dataset_binary['Stage'].map(labels_encoding_binary)\n",
    "\n",
    "top_N_features = 15\n",
    "cols_to_drop = mean_importances_sorted.iloc[top_N_features:].index\n",
    "dataset_binary = dataset_binary.drop(columns=cols_to_drop)\n",
    "\n",
    "dataset_binary.info()"
   ]
  },
  {
   "cell_type": "markdown",
   "id": "d988fe07",
   "metadata": {},
   "source": [
    "Define functions and classes neccassary to run experiment"
   ]
  },
  {
   "cell_type": "code",
   "execution_count": 7,
   "id": "864e7dd8",
   "metadata": {},
   "outputs": [],
   "source": [
    "def stratified_shuffle_cross_val_score(\n",
    "        estimator,\n",
    "        X,\n",
    "        y,\n",
    "        scoring,\n",
    "        n_splits=2\n",
    "):\n",
    "    scores = np.zeros(n_splits)\n",
    "    ss = StratifiedShuffleSplit(n_splits=n_splits, test_size=0.2)\n",
    "\n",
    "    for i, (train_index, test_index) in enumerate(ss.split(X, y)):\n",
    "        estimator.fit(X=X.iloc[train_index], y=y.iloc[train_index], verbose=False)\n",
    "\n",
    "        y_true = y.iloc[test_index]\n",
    "        y_pred = estimator.predict(X.iloc[test_index])\n",
    "        scores[i] = scoring(list(y_true), y_pred)\n",
    "\n",
    "    return scores"
   ]
  },
  {
   "cell_type": "code",
   "execution_count": 8,
   "id": "83666445",
   "metadata": {},
   "outputs": [],
   "source": [
    "def objective(trial: optuna.Trial, X_train, y_train, xgb_config, scoring, baseline_params=None):\n",
    "    if baseline_params is None:\n",
    "        params = {\n",
    "            'n_estimators': trial.suggest_int('n_estimators', 10, 120),\n",
    "            'max_depth': trial.suggest_int('max_depth', 2, 8),\n",
    "            'learning_rate': trial.suggest_float('learning_rate', 0.002, 0.3),\n",
    "            'subsample': trial.suggest_float('subsample', 0.5, 0.9),\n",
    "            'colsample_bytree': trial.suggest_float('colsample_bytree', 0.5, 0.9),\n",
    "            'gamma': trial.suggest_float('gamma', 0.0, 5.0),\n",
    "            **xgb_config\n",
    "        }\n",
    "        \n",
    "    else:\n",
    "        params = {\n",
    "            'n_estimators': trial.suggest_int(\n",
    "                'n_estimators',\n",
    "                int(np.floor(baseline_params['n_estimators'] * 0.9)),\n",
    "                int(np.floor(baseline_params['n_estimators'] * 1.1))\n",
    "            ),\n",
    "            'max_depth': trial.suggest_int(\n",
    "                'max_depth',\n",
    "                int(np.floor(baseline_params['max_depth'] * 0.9)),\n",
    "                int(np.floor(baseline_params['max_depth'] * 1.1))\n",
    "            ),\n",
    "            'learning_rate': trial.suggest_float(\n",
    "                'learning_rate',\n",
    "                baseline_params['learning_rate'] * 0.9,\n",
    "                baseline_params['learning_rate'] * 1.1\n",
    "            ),\n",
    "            'subsample': trial.suggest_float(\n",
    "                'subsample',\n",
    "                baseline_params['subsample'] * 0.9,\n",
    "                baseline_params['subsample'] * 1.1\n",
    "            ),\n",
    "            'colsample_bytree': trial.suggest_float(\n",
    "                'colsample_bytree',\n",
    "                baseline_params['colsample_bytree'] * 0.9,\n",
    "                baseline_params['colsample_bytree'] * 1.1\n",
    "            ),\n",
    "            'gamma': trial.suggest_float(\n",
    "                'gamma',\n",
    "                baseline_params['gamma'] * 0.9,\n",
    "                baseline_params['gamma'] * 1.1\n",
    "            ),\n",
    "            **xgb_config\n",
    "        }\n",
    "\n",
    "    xgb = XGBClassifier(**params)\n",
    "\n",
    "    scores = stratified_shuffle_cross_val_score(\n",
    "        estimator=xgb,\n",
    "        X=X_train,\n",
    "        y=y_train,\n",
    "        scoring=scoring,\n",
    "        n_splits=2\n",
    "    )\n",
    "\n",
    "    return scores.mean()"
   ]
  },
  {
   "cell_type": "code",
   "execution_count": 9,
   "id": "a449edef",
   "metadata": {},
   "outputs": [],
   "source": [
    "class NoisyOverSampler:\n",
    "    \n",
    "    def __init__(self, n_new_samples, noise_range, equal_noise_value=False, equalize_imbalance=False):\n",
    "        self.n_new_samples = n_new_samples\n",
    "        self.noise_range = noise_range\n",
    "        self.equal_noise_value = equal_noise_value\n",
    "        self.equalize_imbalance = equalize_imbalance\n",
    "        \n",
    "    def _get_n_new_samples_per_class(self, y):\n",
    "        if not self.equalize_imbalance:\n",
    "            n_new_samples_per_class = {class_: self.n_new_samples for class_ in y.unique()}\n",
    "            return n_new_samples_per_class\n",
    "        \n",
    "        else:\n",
    "            class_counts = y.value_counts()\n",
    "            max_counts = class_counts.max()\n",
    "            \n",
    "            n_new_samples_per_class = {class_: (max_counts / counts) * self.n_new_samples + (max_counts - counts) / counts\n",
    "                                       for class_, counts in class_counts.items()}\n",
    "                \n",
    "            return n_new_samples_per_class\n",
    "    \n",
    "    def _generate_new_samples(self, x_sample, n_new_samples):\n",
    "        if self.equal_noise_value:\n",
    "            x_new_samples = np.array([x_sample + np.full(x_sample.size, np.random.uniform(-self.noise_range, self.noise_range, 1)[0])\n",
    "                                    for _ in range(n_new_samples)])\n",
    "            return x_new_samples\n",
    "        \n",
    "        else:\n",
    "            x_new_samples = np.array([x_sample + np.random.uniform(-self.noise_range, self.noise_range, x_sample.size)\n",
    "                                      for _ in range(n_new_samples)])\n",
    "            return x_new_samples\n",
    "            \n",
    "    \n",
    "    def fit_resample(self, X, y):\n",
    "        n_new_samples_per_class = self._get_n_new_samples_per_class(y)\n",
    "        \n",
    "        X_resampled = X.values.copy()\n",
    "        y_resampled = y.values.copy()\n",
    "        \n",
    "        for x_sample, y_sample in zip(X.values, y.values):\n",
    "            n_new_samples = int(n_new_samples_per_class[y_sample])\n",
    "            \n",
    "            if np.random.random() < n_new_samples_per_class[y_sample] % 1:\n",
    "                n_new_samples += 1\n",
    "            \n",
    "            y_new_samples = np.full(n_new_samples, fill_value=y_sample)\n",
    "            x_new_samples = self._generate_new_samples(x_sample, n_new_samples)\n",
    "            \n",
    "            y_resampled = np.concatenate((y_resampled, y_new_samples))\n",
    "            X_resampled = np.concatenate((X_resampled, x_new_samples))\n",
    "        \n",
    "        return X_resampled, y_resampled"
   ]
  },
  {
   "cell_type": "code",
   "execution_count": 10,
   "id": "4a3421a5",
   "metadata": {},
   "outputs": [],
   "source": [
    "def leave_pair_out_folds(y: np.array):\n",
    "    all_indices = np.arange(y.size)\n",
    "    positive_indices = np.flatnonzero(y == 1)\n",
    "    negative_indices = np.flatnonzero(y == 0)\n",
    "    \n",
    "    for positive_idx in positive_indices:\n",
    "        for negative_idx in negative_indices:\n",
    "            test_indices = np.array([positive_idx, negative_idx])\n",
    "            train_indices = np.setdiff1d(all_indices, test_indices)\n",
    "            \n",
    "            yield train_indices, test_indices\n",
    "\n",
    "def get_n_leave_pair_out_splits(y: np.array):\n",
    "    n_positive = y[y == 1].size\n",
    "    n_negative = y[y == 0].size\n",
    "    \n",
    "    return n_positive * n_negative"
   ]
  },
  {
   "cell_type": "code",
   "execution_count": 11,
   "id": "c675134f",
   "metadata": {},
   "outputs": [],
   "source": [
    "def plot_confusion_matrix(cm, labels, title, scores_subtitle, output_path=None):\n",
    "    df_cm = pd.DataFrame(cm, index=labels, columns=labels) * 100\n",
    "    df_annots = df_cm.applymap(lambda x: f'{x:.2f}%')\n",
    "    fig, ax = plt.subplots(figsize=(10, 6))\n",
    "    sns.heatmap(cm, annot=df_annots, cmap='Blues', fmt='', linewidths=1, cbar_kws={'label': 'Percentage of all tested samples'})\n",
    "    plt.setp(plt.gca().get_xticklabels(), ha='right', rotation=45)\n",
    "    ax.set_ylabel('True Label')\n",
    "    ax.set_xlabel('Predicted Label')\n",
    "    ax.xaxis.set_ticks_position('top')\n",
    "    ax.xaxis.set_label_position('top')\n",
    "    plt.title(title, y=1.12, fontsize=12)\n",
    "    plt.suptitle(scores_subtitle, y=0.08, fontsize=12)\n",
    "\n",
    "    fig.show()\n",
    "    \n",
    "    if output_path is not None:\n",
    "        fig.savefig(output_path, bbox_inches='tight')"
   ]
  },
  {
   "cell_type": "code",
   "execution_count": 12,
   "id": "6e0909b8",
   "metadata": {},
   "outputs": [],
   "source": [
    "def plot_feature_importances(feature_importances_history, feature_names, top_n=25, output_path=None):\n",
    "    mean_importance_scores = np.mean(feature_importances_history, axis=0)\n",
    "    top_feature_indices = np.argsort(mean_importance_scores)[-1:-top_n-1:-1]\n",
    "    \n",
    "    top_feature_importances = feature_importances_history[:, top_feature_indices]\n",
    "    top_feature_names = feature_names[top_feature_indices]\n",
    "    \n",
    "    sns.set_style('darkgrid')\n",
    "    fig, ax = plt.subplots(figsize=(10, 6))\n",
    "    ax_bar = sns.barplot(x=mean_importance_scores[top_feature_indices], y=top_feature_names, color='#00b4d8')\n",
    "    ax_box = ax_bar.twinx()\n",
    "    sns.boxplot(data=top_feature_importances, orient='h', color='#051923', fill=False, linewidth=0.7, fliersize=1.5, ax=ax_box)\n",
    "    ax.set_ylabel('Feature Name')\n",
    "    ax.set_xlabel('Importance Score')\n",
    "    plt.title(f'Top {top_n} most important features from leave-pair-out cross-validation (by mean score)', y=1.02, fontsize=14)\n",
    "    ax_box.set_yticks([])\n",
    "\n",
    "    fig.show()\n",
    "    \n",
    "    if output_path is not None:\n",
    "        fig.savefig(output_path, bbox_inches='tight')"
   ]
  },
  {
   "cell_type": "markdown",
   "id": "1200abf8",
   "metadata": {},
   "source": [
    "### Leave-pair-out cross-validation"
   ]
  },
  {
   "cell_type": "code",
   "execution_count": 13,
   "id": "7fa9541c",
   "metadata": {},
   "outputs": [],
   "source": [
    "y = dataset_binary.loc[:, 'Stage']\n",
    "X = dataset_binary.drop(columns=['Stage'])\n",
    "\n",
    "oversampler = NoisyOverSampler(n_new_samples=3, noise_range=0.5)\n",
    "\n",
    "n_splits = get_n_leave_pair_out_splits(y.values)\n",
    "true_labels = np.zeros(n_splits * 2, dtype=int)\n",
    "predictions = np.zeros(n_splits * 2, dtype=int)\n",
    "sample_names = np.empty(n_splits * 2, dtype=object)\n",
    "feature_importances_history = np.zeros((n_splits, len(X.columns)))\n",
    "\n",
    "baseline_params = None\n",
    "\n",
    "xgb_config = {\n",
    "    'objective': 'binary:logistic',\n",
    "    'random_state': random_state,\n",
    "    'tree_method': 'gpu_hist',\n",
    "    'gpu_id': 0,\n",
    "}\n",
    "study_storage = f'sqlite:///{output_dir}/xgb_hyperparameters_study.db'"
   ]
  },
  {
   "cell_type": "code",
   "execution_count": 14,
   "id": "5a81d4f5",
   "metadata": {
    "scrolled": true
   },
   "outputs": [
    {
     "name": "stderr",
     "output_type": "stream",
     "text": [
      "100%|████████████████████████████████████████████████████████████████████████████| 3290/3290 [4:42:07<00:00,  5.15s/it]\n"
     ]
    }
   ],
   "source": [
    "for i, (train_indices, test_indices) in tqdm(enumerate(leave_pair_out_folds(y.values)), total=n_splits):\n",
    "    X_train = X.iloc[train_indices]\n",
    "    y_train = y.iloc[train_indices]\n",
    "    X_test = X.iloc[test_indices]\n",
    "    y_test = y.iloc[test_indices]\n",
    "    sample_names_test = sample_ids.iloc[test_indices].values\n",
    "    \n",
    "    X_train_augmented, y_train_augmented = oversampler.fit_resample(X_train, y_train)\n",
    "    X_train_augmented = pd.DataFrame(X_train_augmented, columns=X_train.columns)\n",
    "    y_train_augmented = pd.Series(y_train_augmented)\n",
    "    \n",
    "    n_trials = 500 if i == 0 else 10\n",
    "        \n",
    "    objective_func = partial(\n",
    "        objective,\n",
    "        X_train=X_train_augmented,\n",
    "        y_train=y_train_augmented,\n",
    "        xgb_config=xgb_config,\n",
    "        scoring=balanced_accuracy_score,\n",
    "        baseline_params=baseline_params\n",
    "    )  \n",
    "    study = optuna.create_study(study_name=f'{i}_it', storage=study_storage, direction='maximize', load_if_exists=False)\n",
    "    study.optimize(objective_func, n_trials=n_trials)\n",
    "    best_params = {**study.best_params, **xgb_config}\n",
    "    \n",
    "    if i == 0:\n",
    "        baseline_params = study.best_params\n",
    "    \n",
    "    classifier = XGBClassifier(**best_params)\n",
    "    classifier.fit(X=X_train_augmented, y=y_train_augmented, verbose=False)\n",
    "    feature_importances_history[i, :] = classifier.feature_importances_\n",
    "    \n",
    "    y_pred = classifier.predict(X_test)\n",
    "    predictions[i*2:i*2+2] = y_pred\n",
    "    true_labels[i*2:i*2+2] = y_test.values\n",
    "    sample_names[i*2:i*2+2] = sample_names_test"
   ]
  },
  {
   "cell_type": "code",
   "execution_count": 15,
   "id": "c60eb011",
   "metadata": {},
   "outputs": [],
   "source": [
    "df_feature_importances = pd.DataFrame(\n",
    "    data=feature_importances_history,\n",
    "    columns=X.columns\n",
    ")\n",
    "\n",
    "df_feature_importances.to_csv(os.path.join(output_dir, 'feature_importances.csv'), sep=';', index=False)"
   ]
  },
  {
   "cell_type": "code",
   "execution_count": 16,
   "id": "670419ba",
   "metadata": {},
   "outputs": [],
   "source": [
    "df_predictions = pd.DataFrame(data={\n",
    "    'id': sample_names,\n",
    "    'y_true': true_labels,\n",
    "    'y_pred': predictions\n",
    "})\n",
    "\n",
    "accuracy_per_sample = df_predictions.groupby('id', as_index=False).apply(\n",
    "    lambda subdf: pd.Series({\n",
    "        'n_tests': len(subdf),\n",
    "        'accuracy': accuracy_score(subdf['y_true'], subdf['y_pred'])\n",
    "    }))\n",
    "accuracy_per_sample['n_tests'] = accuracy_per_sample['n_tests'].astype(int)\n",
    "\n",
    "df_predictions.to_csv(os.path.join(output_dir, 'predictions.csv'), sep=';', index=False)\n",
    "accuracy_per_sample.to_csv(os.path.join(output_dir, 'accuracy_per_sample.csv'), sep=';', index=False)"
   ]
  },
  {
   "cell_type": "code",
   "execution_count": 17,
   "id": "d40394be",
   "metadata": {},
   "outputs": [
    {
     "data": {
      "image/png": "[encoded data removed]",
      "text/plain": [
       "<Figure size 1000x600 with 2 Axes>"
      ]
     },
     "metadata": {},
     "output_type": "display_data"
    }
   ],
   "source": [
    "labels = list(labels_encoding_binary.keys())\n",
    "\n",
    "accuracy = accuracy_score(true_labels, predictions)\n",
    "f1 = f1_score(true_labels, predictions)\n",
    "cm = confusion_matrix(true_labels, predictions, normalize='all')\n",
    "\n",
    "title = f'Leave-pair-out cross-validation results'\n",
    "scores_subtitle = f'Accuracy = {accuracy*100:.2f}%, F1 = {f1:.2f}'\n",
    "filename = f'LPOCV_results.png'\n",
    "\n",
    "plot_confusion_matrix(cm, labels, title, scores_subtitle, output_path=os.path.join(output_dir, filename))"
   ]
  },
  {
   "cell_type": "code",
   "execution_count": 19,
   "id": "15ac0e2d",
   "metadata": {},
   "outputs": [
    {
     "data": {
      "image/png": "[encoded data removed]",
      "text/plain": [
       "<Figure size 1000x600 with 2 Axes>"
      ]
     },
     "metadata": {},
     "output_type": "display_data"
    }
   ],
   "source": [
    "top_n = 15\n",
    "filename = f'top_{top_n}_most_important_features.png'\n",
    "\n",
    "plot_feature_importances(feature_importances_history, X.columns.to_numpy(), top_n=top_n, output_path=os.path.join(output_dir, filename))"
   ]
  }
 ],
 "metadata": {
  "kernelspec": {
   "display_name": "Python 3 (ipykernel)",
   "language": "python",
   "name": "python3"
  },
  "language_info": {
   "codemirror_mode": {
    "name": "ipython",
    "version": 3
   },
   "file_extension": ".py",
   "mimetype": "text/x-python",
   "name": "python",
   "nbconvert_exporter": "python",
   "pygments_lexer": "ipython3",
   "version": "3.10.10"
  }
 },
 "nbformat": 4,
 "nbformat_minor": 5
}
